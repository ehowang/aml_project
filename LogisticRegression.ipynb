{
 "cells": [
  {
   "cell_type": "code",
   "execution_count": 1,
   "id": "714188f1",
   "metadata": {},
   "outputs": [
    {
     "name": "stdout",
     "output_type": "stream",
     "text": [
      "SEEDS: [42, 100, 1, 10, 20]\n"
     ]
    }
   ],
   "source": [
    "with open('seeds.txt', 'r') as f:\n",
    "    SEEDS = [int(line.strip()) for line in f.readlines()]\n",
    "    \n",
    "print(\"SEEDS:\", SEEDS)\n",
    "\n",
    "batch_sizes = [200, 500, 1000, 1500, 2000]"
   ]
  },
  {
   "cell_type": "code",
   "execution_count": 2,
   "id": "2ce5b9bf-9eec-413c-ba28-081beb11f831",
   "metadata": {},
   "outputs": [],
   "source": [
    "# Active Learning: IF + Uncertainty Sampling + Logistic Regression"
   ]
  },
  {
   "cell_type": "code",
   "execution_count": 4,
   "id": "62146c15-e4d5-43a6-b9ae-b74266e6fcbd",
   "metadata": {},
   "outputs": [
    {
     "name": "stdout",
     "output_type": "stream",
     "text": [
      "\n",
      "=== Run 1/5 ===\n",
      "[Run 1] Iter 1 F1-illicit: 0.1939\n",
      "[Run 1] Iter 2 F1-illicit: 0.2597\n"
     ]
    },
    {
     "name": "stderr",
     "output_type": "stream",
     "text": [
      "/var/folders/2v/617m0pq96qq942zr8nbfyzch0000gn/T/ipykernel_29924/2909400616.py:51: FutureWarning: The behavior of DataFrame concatenation with empty or all-NA entries is deprecated. In a future version, this will no longer exclude empty or all-NA columns when determining the result dtypes. To retain the old behavior, exclude the relevant entries before the concat operation.\n",
      "  labeled_pool = pd.concat([labeled_pool, batch], ignore_index=True)\n",
      "/Users/yudhistiraonggowarsito/Documents/SMU/Courses/CS610 - Applied Machine Learning/Project/aml_project/.venv/lib/python3.12/site-packages/sklearn/utils/extmath.py:203: RuntimeWarning: divide by zero encountered in matmul\n",
      "  ret = a @ b\n",
      "/Users/yudhistiraonggowarsito/Documents/SMU/Courses/CS610 - Applied Machine Learning/Project/aml_project/.venv/lib/python3.12/site-packages/sklearn/utils/extmath.py:203: RuntimeWarning: overflow encountered in matmul\n",
      "  ret = a @ b\n",
      "/Users/yudhistiraonggowarsito/Documents/SMU/Courses/CS610 - Applied Machine Learning/Project/aml_project/.venv/lib/python3.12/site-packages/sklearn/utils/extmath.py:203: RuntimeWarning: invalid value encountered in matmul\n",
      "  ret = a @ b\n",
      "/Users/yudhistiraonggowarsito/Documents/SMU/Courses/CS610 - Applied Machine Learning/Project/aml_project/.venv/lib/python3.12/site-packages/sklearn/utils/extmath.py:203: RuntimeWarning: divide by zero encountered in matmul\n",
      "  ret = a @ b\n",
      "/Users/yudhistiraonggowarsito/Documents/SMU/Courses/CS610 - Applied Machine Learning/Project/aml_project/.venv/lib/python3.12/site-packages/sklearn/utils/extmath.py:203: RuntimeWarning: overflow encountered in matmul\n",
      "  ret = a @ b\n",
      "/Users/yudhistiraonggowarsito/Documents/SMU/Courses/CS610 - Applied Machine Learning/Project/aml_project/.venv/lib/python3.12/site-packages/sklearn/utils/extmath.py:203: RuntimeWarning: invalid value encountered in matmul\n",
      "  ret = a @ b\n",
      "/Users/yudhistiraonggowarsito/Documents/SMU/Courses/CS610 - Applied Machine Learning/Project/aml_project/.venv/lib/python3.12/site-packages/sklearn/utils/extmath.py:203: RuntimeWarning: divide by zero encountered in matmul\n",
      "  ret = a @ b\n",
      "/Users/yudhistiraonggowarsito/Documents/SMU/Courses/CS610 - Applied Machine Learning/Project/aml_project/.venv/lib/python3.12/site-packages/sklearn/utils/extmath.py:203: RuntimeWarning: overflow encountered in matmul\n",
      "  ret = a @ b\n",
      "/Users/yudhistiraonggowarsito/Documents/SMU/Courses/CS610 - Applied Machine Learning/Project/aml_project/.venv/lib/python3.12/site-packages/sklearn/utils/extmath.py:203: RuntimeWarning: invalid value encountered in matmul\n",
      "  ret = a @ b\n",
      "/Users/yudhistiraonggowarsito/Documents/SMU/Courses/CS610 - Applied Machine Learning/Project/aml_project/.venv/lib/python3.12/site-packages/sklearn/utils/extmath.py:203: RuntimeWarning: divide by zero encountered in matmul\n",
      "  ret = a @ b\n",
      "/Users/yudhistiraonggowarsito/Documents/SMU/Courses/CS610 - Applied Machine Learning/Project/aml_project/.venv/lib/python3.12/site-packages/sklearn/utils/extmath.py:203: RuntimeWarning: overflow encountered in matmul\n",
      "  ret = a @ b\n",
      "/Users/yudhistiraonggowarsito/Documents/SMU/Courses/CS610 - Applied Machine Learning/Project/aml_project/.venv/lib/python3.12/site-packages/sklearn/utils/extmath.py:203: RuntimeWarning: invalid value encountered in matmul\n",
      "  ret = a @ b\n",
      "/Users/yudhistiraonggowarsito/Documents/SMU/Courses/CS610 - Applied Machine Learning/Project/aml_project/.venv/lib/python3.12/site-packages/sklearn/utils/extmath.py:203: RuntimeWarning: divide by zero encountered in matmul\n",
      "  ret = a @ b\n",
      "/Users/yudhistiraonggowarsito/Documents/SMU/Courses/CS610 - Applied Machine Learning/Project/aml_project/.venv/lib/python3.12/site-packages/sklearn/utils/extmath.py:203: RuntimeWarning: overflow encountered in matmul\n",
      "  ret = a @ b\n",
      "/Users/yudhistiraonggowarsito/Documents/SMU/Courses/CS610 - Applied Machine Learning/Project/aml_project/.venv/lib/python3.12/site-packages/sklearn/utils/extmath.py:203: RuntimeWarning: invalid value encountered in matmul\n",
      "  ret = a @ b\n",
      "/Users/yudhistiraonggowarsito/Documents/SMU/Courses/CS610 - Applied Machine Learning/Project/aml_project/.venv/lib/python3.12/site-packages/sklearn/utils/extmath.py:203: RuntimeWarning: divide by zero encountered in matmul\n",
      "  ret = a @ b\n",
      "/Users/yudhistiraonggowarsito/Documents/SMU/Courses/CS610 - Applied Machine Learning/Project/aml_project/.venv/lib/python3.12/site-packages/sklearn/utils/extmath.py:203: RuntimeWarning: overflow encountered in matmul\n",
      "  ret = a @ b\n",
      "/Users/yudhistiraonggowarsito/Documents/SMU/Courses/CS610 - Applied Machine Learning/Project/aml_project/.venv/lib/python3.12/site-packages/sklearn/utils/extmath.py:203: RuntimeWarning: invalid value encountered in matmul\n",
      "  ret = a @ b\n"
     ]
    },
    {
     "name": "stdout",
     "output_type": "stream",
     "text": [
      "[Run 1] Iter 3 F1-illicit: 0.3325\n",
      "[Run 1] Iter 4 F1-illicit: 0.3805\n",
      "[Run 1] Iter 5 F1-illicit: 0.4188\n"
     ]
    },
    {
     "name": "stderr",
     "output_type": "stream",
     "text": [
      "/Users/yudhistiraonggowarsito/Documents/SMU/Courses/CS610 - Applied Machine Learning/Project/aml_project/.venv/lib/python3.12/site-packages/sklearn/utils/extmath.py:203: RuntimeWarning: divide by zero encountered in matmul\n",
      "  ret = a @ b\n",
      "/Users/yudhistiraonggowarsito/Documents/SMU/Courses/CS610 - Applied Machine Learning/Project/aml_project/.venv/lib/python3.12/site-packages/sklearn/utils/extmath.py:203: RuntimeWarning: overflow encountered in matmul\n",
      "  ret = a @ b\n",
      "/Users/yudhistiraonggowarsito/Documents/SMU/Courses/CS610 - Applied Machine Learning/Project/aml_project/.venv/lib/python3.12/site-packages/sklearn/utils/extmath.py:203: RuntimeWarning: invalid value encountered in matmul\n",
      "  ret = a @ b\n",
      "/Users/yudhistiraonggowarsito/Documents/SMU/Courses/CS610 - Applied Machine Learning/Project/aml_project/.venv/lib/python3.12/site-packages/sklearn/utils/extmath.py:203: RuntimeWarning: divide by zero encountered in matmul\n",
      "  ret = a @ b\n",
      "/Users/yudhistiraonggowarsito/Documents/SMU/Courses/CS610 - Applied Machine Learning/Project/aml_project/.venv/lib/python3.12/site-packages/sklearn/utils/extmath.py:203: RuntimeWarning: overflow encountered in matmul\n",
      "  ret = a @ b\n",
      "/Users/yudhistiraonggowarsito/Documents/SMU/Courses/CS610 - Applied Machine Learning/Project/aml_project/.venv/lib/python3.12/site-packages/sklearn/utils/extmath.py:203: RuntimeWarning: invalid value encountered in matmul\n",
      "  ret = a @ b\n",
      "/Users/yudhistiraonggowarsito/Documents/SMU/Courses/CS610 - Applied Machine Learning/Project/aml_project/.venv/lib/python3.12/site-packages/sklearn/utils/extmath.py:203: RuntimeWarning: divide by zero encountered in matmul\n",
      "  ret = a @ b\n",
      "/Users/yudhistiraonggowarsito/Documents/SMU/Courses/CS610 - Applied Machine Learning/Project/aml_project/.venv/lib/python3.12/site-packages/sklearn/utils/extmath.py:203: RuntimeWarning: overflow encountered in matmul\n",
      "  ret = a @ b\n",
      "/Users/yudhistiraonggowarsito/Documents/SMU/Courses/CS610 - Applied Machine Learning/Project/aml_project/.venv/lib/python3.12/site-packages/sklearn/utils/extmath.py:203: RuntimeWarning: invalid value encountered in matmul\n",
      "  ret = a @ b\n",
      "/Users/yudhistiraonggowarsito/Documents/SMU/Courses/CS610 - Applied Machine Learning/Project/aml_project/.venv/lib/python3.12/site-packages/sklearn/utils/extmath.py:203: RuntimeWarning: divide by zero encountered in matmul\n",
      "  ret = a @ b\n",
      "/Users/yudhistiraonggowarsito/Documents/SMU/Courses/CS610 - Applied Machine Learning/Project/aml_project/.venv/lib/python3.12/site-packages/sklearn/utils/extmath.py:203: RuntimeWarning: overflow encountered in matmul\n",
      "  ret = a @ b\n",
      "/Users/yudhistiraonggowarsito/Documents/SMU/Courses/CS610 - Applied Machine Learning/Project/aml_project/.venv/lib/python3.12/site-packages/sklearn/utils/extmath.py:203: RuntimeWarning: invalid value encountered in matmul\n",
      "  ret = a @ b\n",
      "/Users/yudhistiraonggowarsito/Documents/SMU/Courses/CS610 - Applied Machine Learning/Project/aml_project/.venv/lib/python3.12/site-packages/sklearn/utils/extmath.py:203: RuntimeWarning: divide by zero encountered in matmul\n",
      "  ret = a @ b\n",
      "/Users/yudhistiraonggowarsito/Documents/SMU/Courses/CS610 - Applied Machine Learning/Project/aml_project/.venv/lib/python3.12/site-packages/sklearn/utils/extmath.py:203: RuntimeWarning: overflow encountered in matmul\n",
      "  ret = a @ b\n",
      "/Users/yudhistiraonggowarsito/Documents/SMU/Courses/CS610 - Applied Machine Learning/Project/aml_project/.venv/lib/python3.12/site-packages/sklearn/utils/extmath.py:203: RuntimeWarning: invalid value encountered in matmul\n",
      "  ret = a @ b\n"
     ]
    },
    {
     "name": "stdout",
     "output_type": "stream",
     "text": [
      "[Run 1] Iter 6 F1-illicit: 0.4797\n",
      "[Run 1] Iter 7 F1-illicit: 0.5044\n"
     ]
    },
    {
     "name": "stderr",
     "output_type": "stream",
     "text": [
      "/Users/yudhistiraonggowarsito/Documents/SMU/Courses/CS610 - Applied Machine Learning/Project/aml_project/.venv/lib/python3.12/site-packages/sklearn/utils/extmath.py:203: RuntimeWarning: divide by zero encountered in matmul\n",
      "  ret = a @ b\n",
      "/Users/yudhistiraonggowarsito/Documents/SMU/Courses/CS610 - Applied Machine Learning/Project/aml_project/.venv/lib/python3.12/site-packages/sklearn/utils/extmath.py:203: RuntimeWarning: overflow encountered in matmul\n",
      "  ret = a @ b\n",
      "/Users/yudhistiraonggowarsito/Documents/SMU/Courses/CS610 - Applied Machine Learning/Project/aml_project/.venv/lib/python3.12/site-packages/sklearn/utils/extmath.py:203: RuntimeWarning: invalid value encountered in matmul\n",
      "  ret = a @ b\n",
      "/Users/yudhistiraonggowarsito/Documents/SMU/Courses/CS610 - Applied Machine Learning/Project/aml_project/.venv/lib/python3.12/site-packages/sklearn/utils/extmath.py:203: RuntimeWarning: divide by zero encountered in matmul\n",
      "  ret = a @ b\n",
      "/Users/yudhistiraonggowarsito/Documents/SMU/Courses/CS610 - Applied Machine Learning/Project/aml_project/.venv/lib/python3.12/site-packages/sklearn/utils/extmath.py:203: RuntimeWarning: overflow encountered in matmul\n",
      "  ret = a @ b\n",
      "/Users/yudhistiraonggowarsito/Documents/SMU/Courses/CS610 - Applied Machine Learning/Project/aml_project/.venv/lib/python3.12/site-packages/sklearn/utils/extmath.py:203: RuntimeWarning: invalid value encountered in matmul\n",
      "  ret = a @ b\n",
      "/Users/yudhistiraonggowarsito/Documents/SMU/Courses/CS610 - Applied Machine Learning/Project/aml_project/.venv/lib/python3.12/site-packages/sklearn/utils/extmath.py:203: RuntimeWarning: divide by zero encountered in matmul\n",
      "  ret = a @ b\n",
      "/Users/yudhistiraonggowarsito/Documents/SMU/Courses/CS610 - Applied Machine Learning/Project/aml_project/.venv/lib/python3.12/site-packages/sklearn/utils/extmath.py:203: RuntimeWarning: overflow encountered in matmul\n",
      "  ret = a @ b\n",
      "/Users/yudhistiraonggowarsito/Documents/SMU/Courses/CS610 - Applied Machine Learning/Project/aml_project/.venv/lib/python3.12/site-packages/sklearn/utils/extmath.py:203: RuntimeWarning: invalid value encountered in matmul\n",
      "  ret = a @ b\n",
      "/Users/yudhistiraonggowarsito/Documents/SMU/Courses/CS610 - Applied Machine Learning/Project/aml_project/.venv/lib/python3.12/site-packages/sklearn/utils/extmath.py:203: RuntimeWarning: divide by zero encountered in matmul\n",
      "  ret = a @ b\n",
      "/Users/yudhistiraonggowarsito/Documents/SMU/Courses/CS610 - Applied Machine Learning/Project/aml_project/.venv/lib/python3.12/site-packages/sklearn/utils/extmath.py:203: RuntimeWarning: overflow encountered in matmul\n",
      "  ret = a @ b\n",
      "/Users/yudhistiraonggowarsito/Documents/SMU/Courses/CS610 - Applied Machine Learning/Project/aml_project/.venv/lib/python3.12/site-packages/sklearn/utils/extmath.py:203: RuntimeWarning: invalid value encountered in matmul\n",
      "  ret = a @ b\n",
      "/Users/yudhistiraonggowarsito/Documents/SMU/Courses/CS610 - Applied Machine Learning/Project/aml_project/.venv/lib/python3.12/site-packages/sklearn/utils/extmath.py:203: RuntimeWarning: divide by zero encountered in matmul\n",
      "  ret = a @ b\n",
      "/Users/yudhistiraonggowarsito/Documents/SMU/Courses/CS610 - Applied Machine Learning/Project/aml_project/.venv/lib/python3.12/site-packages/sklearn/utils/extmath.py:203: RuntimeWarning: overflow encountered in matmul\n",
      "  ret = a @ b\n",
      "/Users/yudhistiraonggowarsito/Documents/SMU/Courses/CS610 - Applied Machine Learning/Project/aml_project/.venv/lib/python3.12/site-packages/sklearn/utils/extmath.py:203: RuntimeWarning: invalid value encountered in matmul\n",
      "  ret = a @ b\n",
      "/Users/yudhistiraonggowarsito/Documents/SMU/Courses/CS610 - Applied Machine Learning/Project/aml_project/.venv/lib/python3.12/site-packages/sklearn/utils/extmath.py:203: RuntimeWarning: divide by zero encountered in matmul\n",
      "  ret = a @ b\n",
      "/Users/yudhistiraonggowarsito/Documents/SMU/Courses/CS610 - Applied Machine Learning/Project/aml_project/.venv/lib/python3.12/site-packages/sklearn/utils/extmath.py:203: RuntimeWarning: overflow encountered in matmul\n",
      "  ret = a @ b\n",
      "/Users/yudhistiraonggowarsito/Documents/SMU/Courses/CS610 - Applied Machine Learning/Project/aml_project/.venv/lib/python3.12/site-packages/sklearn/utils/extmath.py:203: RuntimeWarning: invalid value encountered in matmul\n",
      "  ret = a @ b\n",
      "/Users/yudhistiraonggowarsito/Documents/SMU/Courses/CS610 - Applied Machine Learning/Project/aml_project/.venv/lib/python3.12/site-packages/sklearn/utils/extmath.py:203: RuntimeWarning: divide by zero encountered in matmul\n",
      "  ret = a @ b\n",
      "/Users/yudhistiraonggowarsito/Documents/SMU/Courses/CS610 - Applied Machine Learning/Project/aml_project/.venv/lib/python3.12/site-packages/sklearn/utils/extmath.py:203: RuntimeWarning: overflow encountered in matmul\n",
      "  ret = a @ b\n",
      "/Users/yudhistiraonggowarsito/Documents/SMU/Courses/CS610 - Applied Machine Learning/Project/aml_project/.venv/lib/python3.12/site-packages/sklearn/utils/extmath.py:203: RuntimeWarning: invalid value encountered in matmul\n",
      "  ret = a @ b\n"
     ]
    },
    {
     "name": "stdout",
     "output_type": "stream",
     "text": [
      "[Run 1] Iter 8 F1-illicit: 0.5028\n",
      "[Run 1] Iter 9 F1-illicit: 0.5078\n"
     ]
    },
    {
     "name": "stderr",
     "output_type": "stream",
     "text": [
      "/Users/yudhistiraonggowarsito/Documents/SMU/Courses/CS610 - Applied Machine Learning/Project/aml_project/.venv/lib/python3.12/site-packages/sklearn/utils/extmath.py:203: RuntimeWarning: divide by zero encountered in matmul\n",
      "  ret = a @ b\n",
      "/Users/yudhistiraonggowarsito/Documents/SMU/Courses/CS610 - Applied Machine Learning/Project/aml_project/.venv/lib/python3.12/site-packages/sklearn/utils/extmath.py:203: RuntimeWarning: overflow encountered in matmul\n",
      "  ret = a @ b\n",
      "/Users/yudhistiraonggowarsito/Documents/SMU/Courses/CS610 - Applied Machine Learning/Project/aml_project/.venv/lib/python3.12/site-packages/sklearn/utils/extmath.py:203: RuntimeWarning: invalid value encountered in matmul\n",
      "  ret = a @ b\n",
      "/Users/yudhistiraonggowarsito/Documents/SMU/Courses/CS610 - Applied Machine Learning/Project/aml_project/.venv/lib/python3.12/site-packages/sklearn/utils/extmath.py:203: RuntimeWarning: divide by zero encountered in matmul\n",
      "  ret = a @ b\n",
      "/Users/yudhistiraonggowarsito/Documents/SMU/Courses/CS610 - Applied Machine Learning/Project/aml_project/.venv/lib/python3.12/site-packages/sklearn/utils/extmath.py:203: RuntimeWarning: overflow encountered in matmul\n",
      "  ret = a @ b\n",
      "/Users/yudhistiraonggowarsito/Documents/SMU/Courses/CS610 - Applied Machine Learning/Project/aml_project/.venv/lib/python3.12/site-packages/sklearn/utils/extmath.py:203: RuntimeWarning: invalid value encountered in matmul\n",
      "  ret = a @ b\n",
      "/Users/yudhistiraonggowarsito/Documents/SMU/Courses/CS610 - Applied Machine Learning/Project/aml_project/.venv/lib/python3.12/site-packages/sklearn/utils/extmath.py:203: RuntimeWarning: divide by zero encountered in matmul\n",
      "  ret = a @ b\n",
      "/Users/yudhistiraonggowarsito/Documents/SMU/Courses/CS610 - Applied Machine Learning/Project/aml_project/.venv/lib/python3.12/site-packages/sklearn/utils/extmath.py:203: RuntimeWarning: overflow encountered in matmul\n",
      "  ret = a @ b\n",
      "/Users/yudhistiraonggowarsito/Documents/SMU/Courses/CS610 - Applied Machine Learning/Project/aml_project/.venv/lib/python3.12/site-packages/sklearn/utils/extmath.py:203: RuntimeWarning: invalid value encountered in matmul\n",
      "  ret = a @ b\n",
      "/Users/yudhistiraonggowarsito/Documents/SMU/Courses/CS610 - Applied Machine Learning/Project/aml_project/.venv/lib/python3.12/site-packages/sklearn/utils/extmath.py:203: RuntimeWarning: divide by zero encountered in matmul\n",
      "  ret = a @ b\n",
      "/Users/yudhistiraonggowarsito/Documents/SMU/Courses/CS610 - Applied Machine Learning/Project/aml_project/.venv/lib/python3.12/site-packages/sklearn/utils/extmath.py:203: RuntimeWarning: overflow encountered in matmul\n",
      "  ret = a @ b\n",
      "/Users/yudhistiraonggowarsito/Documents/SMU/Courses/CS610 - Applied Machine Learning/Project/aml_project/.venv/lib/python3.12/site-packages/sklearn/utils/extmath.py:203: RuntimeWarning: invalid value encountered in matmul\n",
      "  ret = a @ b\n"
     ]
    },
    {
     "name": "stdout",
     "output_type": "stream",
     "text": [
      "[Run 1] Iter 10 F1-illicit: 0.4983\n",
      "[Run 1] Iter 11 F1-illicit: 0.5048\n"
     ]
    },
    {
     "name": "stderr",
     "output_type": "stream",
     "text": [
      "/Users/yudhistiraonggowarsito/Documents/SMU/Courses/CS610 - Applied Machine Learning/Project/aml_project/.venv/lib/python3.12/site-packages/sklearn/utils/extmath.py:203: RuntimeWarning: divide by zero encountered in matmul\n",
      "  ret = a @ b\n",
      "/Users/yudhistiraonggowarsito/Documents/SMU/Courses/CS610 - Applied Machine Learning/Project/aml_project/.venv/lib/python3.12/site-packages/sklearn/utils/extmath.py:203: RuntimeWarning: overflow encountered in matmul\n",
      "  ret = a @ b\n",
      "/Users/yudhistiraonggowarsito/Documents/SMU/Courses/CS610 - Applied Machine Learning/Project/aml_project/.venv/lib/python3.12/site-packages/sklearn/utils/extmath.py:203: RuntimeWarning: invalid value encountered in matmul\n",
      "  ret = a @ b\n",
      "/Users/yudhistiraonggowarsito/Documents/SMU/Courses/CS610 - Applied Machine Learning/Project/aml_project/.venv/lib/python3.12/site-packages/sklearn/utils/extmath.py:203: RuntimeWarning: divide by zero encountered in matmul\n",
      "  ret = a @ b\n",
      "/Users/yudhistiraonggowarsito/Documents/SMU/Courses/CS610 - Applied Machine Learning/Project/aml_project/.venv/lib/python3.12/site-packages/sklearn/utils/extmath.py:203: RuntimeWarning: overflow encountered in matmul\n",
      "  ret = a @ b\n",
      "/Users/yudhistiraonggowarsito/Documents/SMU/Courses/CS610 - Applied Machine Learning/Project/aml_project/.venv/lib/python3.12/site-packages/sklearn/utils/extmath.py:203: RuntimeWarning: invalid value encountered in matmul\n",
      "  ret = a @ b\n"
     ]
    },
    {
     "name": "stdout",
     "output_type": "stream",
     "text": [
      "[Run 1] Iter 12 F1-illicit: 0.5114\n"
     ]
    },
    {
     "name": "stderr",
     "output_type": "stream",
     "text": [
      "/Users/yudhistiraonggowarsito/Documents/SMU/Courses/CS610 - Applied Machine Learning/Project/aml_project/.venv/lib/python3.12/site-packages/sklearn/utils/extmath.py:203: RuntimeWarning: divide by zero encountered in matmul\n",
      "  ret = a @ b\n",
      "/Users/yudhistiraonggowarsito/Documents/SMU/Courses/CS610 - Applied Machine Learning/Project/aml_project/.venv/lib/python3.12/site-packages/sklearn/utils/extmath.py:203: RuntimeWarning: overflow encountered in matmul\n",
      "  ret = a @ b\n",
      "/Users/yudhistiraonggowarsito/Documents/SMU/Courses/CS610 - Applied Machine Learning/Project/aml_project/.venv/lib/python3.12/site-packages/sklearn/utils/extmath.py:203: RuntimeWarning: invalid value encountered in matmul\n",
      "  ret = a @ b\n",
      "/Users/yudhistiraonggowarsito/Documents/SMU/Courses/CS610 - Applied Machine Learning/Project/aml_project/.venv/lib/python3.12/site-packages/sklearn/utils/extmath.py:203: RuntimeWarning: divide by zero encountered in matmul\n",
      "  ret = a @ b\n",
      "/Users/yudhistiraonggowarsito/Documents/SMU/Courses/CS610 - Applied Machine Learning/Project/aml_project/.venv/lib/python3.12/site-packages/sklearn/utils/extmath.py:203: RuntimeWarning: overflow encountered in matmul\n",
      "  ret = a @ b\n",
      "/Users/yudhistiraonggowarsito/Documents/SMU/Courses/CS610 - Applied Machine Learning/Project/aml_project/.venv/lib/python3.12/site-packages/sklearn/utils/extmath.py:203: RuntimeWarning: invalid value encountered in matmul\n",
      "  ret = a @ b\n"
     ]
    },
    {
     "name": "stdout",
     "output_type": "stream",
     "text": [
      "[Run 1] Iter 13 F1-illicit: 0.4855\n"
     ]
    },
    {
     "name": "stderr",
     "output_type": "stream",
     "text": [
      "/Users/yudhistiraonggowarsito/Documents/SMU/Courses/CS610 - Applied Machine Learning/Project/aml_project/.venv/lib/python3.12/site-packages/sklearn/utils/extmath.py:203: RuntimeWarning: divide by zero encountered in matmul\n",
      "  ret = a @ b\n",
      "/Users/yudhistiraonggowarsito/Documents/SMU/Courses/CS610 - Applied Machine Learning/Project/aml_project/.venv/lib/python3.12/site-packages/sklearn/utils/extmath.py:203: RuntimeWarning: overflow encountered in matmul\n",
      "  ret = a @ b\n",
      "/Users/yudhistiraonggowarsito/Documents/SMU/Courses/CS610 - Applied Machine Learning/Project/aml_project/.venv/lib/python3.12/site-packages/sklearn/utils/extmath.py:203: RuntimeWarning: invalid value encountered in matmul\n",
      "  ret = a @ b\n",
      "/Users/yudhistiraonggowarsito/Documents/SMU/Courses/CS610 - Applied Machine Learning/Project/aml_project/.venv/lib/python3.12/site-packages/sklearn/utils/extmath.py:203: RuntimeWarning: divide by zero encountered in matmul\n",
      "  ret = a @ b\n",
      "/Users/yudhistiraonggowarsito/Documents/SMU/Courses/CS610 - Applied Machine Learning/Project/aml_project/.venv/lib/python3.12/site-packages/sklearn/utils/extmath.py:203: RuntimeWarning: overflow encountered in matmul\n",
      "  ret = a @ b\n",
      "/Users/yudhistiraonggowarsito/Documents/SMU/Courses/CS610 - Applied Machine Learning/Project/aml_project/.venv/lib/python3.12/site-packages/sklearn/utils/extmath.py:203: RuntimeWarning: invalid value encountered in matmul\n",
      "  ret = a @ b\n"
     ]
    },
    {
     "name": "stdout",
     "output_type": "stream",
     "text": [
      "[Run 1] Iter 14 F1-illicit: 0.4800\n"
     ]
    },
    {
     "name": "stderr",
     "output_type": "stream",
     "text": [
      "/Users/yudhistiraonggowarsito/Documents/SMU/Courses/CS610 - Applied Machine Learning/Project/aml_project/.venv/lib/python3.12/site-packages/sklearn/utils/extmath.py:203: RuntimeWarning: divide by zero encountered in matmul\n",
      "  ret = a @ b\n",
      "/Users/yudhistiraonggowarsito/Documents/SMU/Courses/CS610 - Applied Machine Learning/Project/aml_project/.venv/lib/python3.12/site-packages/sklearn/utils/extmath.py:203: RuntimeWarning: overflow encountered in matmul\n",
      "  ret = a @ b\n",
      "/Users/yudhistiraonggowarsito/Documents/SMU/Courses/CS610 - Applied Machine Learning/Project/aml_project/.venv/lib/python3.12/site-packages/sklearn/utils/extmath.py:203: RuntimeWarning: invalid value encountered in matmul\n",
      "  ret = a @ b\n",
      "/Users/yudhistiraonggowarsito/Documents/SMU/Courses/CS610 - Applied Machine Learning/Project/aml_project/.venv/lib/python3.12/site-packages/sklearn/utils/extmath.py:203: RuntimeWarning: divide by zero encountered in matmul\n",
      "  ret = a @ b\n",
      "/Users/yudhistiraonggowarsito/Documents/SMU/Courses/CS610 - Applied Machine Learning/Project/aml_project/.venv/lib/python3.12/site-packages/sklearn/utils/extmath.py:203: RuntimeWarning: overflow encountered in matmul\n",
      "  ret = a @ b\n",
      "/Users/yudhistiraonggowarsito/Documents/SMU/Courses/CS610 - Applied Machine Learning/Project/aml_project/.venv/lib/python3.12/site-packages/sklearn/utils/extmath.py:203: RuntimeWarning: invalid value encountered in matmul\n",
      "  ret = a @ b\n"
     ]
    },
    {
     "name": "stdout",
     "output_type": "stream",
     "text": [
      "[Run 1] Iter 15 F1-illicit: 0.4907\n"
     ]
    },
    {
     "name": "stderr",
     "output_type": "stream",
     "text": [
      "/Users/yudhistiraonggowarsito/Documents/SMU/Courses/CS610 - Applied Machine Learning/Project/aml_project/.venv/lib/python3.12/site-packages/sklearn/utils/extmath.py:203: RuntimeWarning: divide by zero encountered in matmul\n",
      "  ret = a @ b\n",
      "/Users/yudhistiraonggowarsito/Documents/SMU/Courses/CS610 - Applied Machine Learning/Project/aml_project/.venv/lib/python3.12/site-packages/sklearn/utils/extmath.py:203: RuntimeWarning: overflow encountered in matmul\n",
      "  ret = a @ b\n",
      "/Users/yudhistiraonggowarsito/Documents/SMU/Courses/CS610 - Applied Machine Learning/Project/aml_project/.venv/lib/python3.12/site-packages/sklearn/utils/extmath.py:203: RuntimeWarning: invalid value encountered in matmul\n",
      "  ret = a @ b\n",
      "/Users/yudhistiraonggowarsito/Documents/SMU/Courses/CS610 - Applied Machine Learning/Project/aml_project/.venv/lib/python3.12/site-packages/sklearn/utils/extmath.py:203: RuntimeWarning: divide by zero encountered in matmul\n",
      "  ret = a @ b\n",
      "/Users/yudhistiraonggowarsito/Documents/SMU/Courses/CS610 - Applied Machine Learning/Project/aml_project/.venv/lib/python3.12/site-packages/sklearn/utils/extmath.py:203: RuntimeWarning: overflow encountered in matmul\n",
      "  ret = a @ b\n",
      "/Users/yudhistiraonggowarsito/Documents/SMU/Courses/CS610 - Applied Machine Learning/Project/aml_project/.venv/lib/python3.12/site-packages/sklearn/utils/extmath.py:203: RuntimeWarning: invalid value encountered in matmul\n",
      "  ret = a @ b\n"
     ]
    },
    {
     "name": "stdout",
     "output_type": "stream",
     "text": [
      "[Run 1] Iter 16 F1-illicit: 0.4794\n"
     ]
    },
    {
     "name": "stderr",
     "output_type": "stream",
     "text": [
      "/Users/yudhistiraonggowarsito/Documents/SMU/Courses/CS610 - Applied Machine Learning/Project/aml_project/.venv/lib/python3.12/site-packages/sklearn/utils/extmath.py:203: RuntimeWarning: divide by zero encountered in matmul\n",
      "  ret = a @ b\n",
      "/Users/yudhistiraonggowarsito/Documents/SMU/Courses/CS610 - Applied Machine Learning/Project/aml_project/.venv/lib/python3.12/site-packages/sklearn/utils/extmath.py:203: RuntimeWarning: overflow encountered in matmul\n",
      "  ret = a @ b\n",
      "/Users/yudhistiraonggowarsito/Documents/SMU/Courses/CS610 - Applied Machine Learning/Project/aml_project/.venv/lib/python3.12/site-packages/sklearn/utils/extmath.py:203: RuntimeWarning: invalid value encountered in matmul\n",
      "  ret = a @ b\n",
      "/Users/yudhistiraonggowarsito/Documents/SMU/Courses/CS610 - Applied Machine Learning/Project/aml_project/.venv/lib/python3.12/site-packages/sklearn/utils/extmath.py:203: RuntimeWarning: divide by zero encountered in matmul\n",
      "  ret = a @ b\n",
      "/Users/yudhistiraonggowarsito/Documents/SMU/Courses/CS610 - Applied Machine Learning/Project/aml_project/.venv/lib/python3.12/site-packages/sklearn/utils/extmath.py:203: RuntimeWarning: overflow encountered in matmul\n",
      "  ret = a @ b\n",
      "/Users/yudhistiraonggowarsito/Documents/SMU/Courses/CS610 - Applied Machine Learning/Project/aml_project/.venv/lib/python3.12/site-packages/sklearn/utils/extmath.py:203: RuntimeWarning: invalid value encountered in matmul\n",
      "  ret = a @ b\n"
     ]
    },
    {
     "name": "stdout",
     "output_type": "stream",
     "text": [
      "[Run 1] Iter 17 F1-illicit: 0.4824\n"
     ]
    },
    {
     "name": "stderr",
     "output_type": "stream",
     "text": [
      "/Users/yudhistiraonggowarsito/Documents/SMU/Courses/CS610 - Applied Machine Learning/Project/aml_project/.venv/lib/python3.12/site-packages/sklearn/utils/extmath.py:203: RuntimeWarning: divide by zero encountered in matmul\n",
      "  ret = a @ b\n",
      "/Users/yudhistiraonggowarsito/Documents/SMU/Courses/CS610 - Applied Machine Learning/Project/aml_project/.venv/lib/python3.12/site-packages/sklearn/utils/extmath.py:203: RuntimeWarning: overflow encountered in matmul\n",
      "  ret = a @ b\n",
      "/Users/yudhistiraonggowarsito/Documents/SMU/Courses/CS610 - Applied Machine Learning/Project/aml_project/.venv/lib/python3.12/site-packages/sklearn/utils/extmath.py:203: RuntimeWarning: invalid value encountered in matmul\n",
      "  ret = a @ b\n",
      "/Users/yudhistiraonggowarsito/Documents/SMU/Courses/CS610 - Applied Machine Learning/Project/aml_project/.venv/lib/python3.12/site-packages/sklearn/utils/extmath.py:203: RuntimeWarning: divide by zero encountered in matmul\n",
      "  ret = a @ b\n",
      "/Users/yudhistiraonggowarsito/Documents/SMU/Courses/CS610 - Applied Machine Learning/Project/aml_project/.venv/lib/python3.12/site-packages/sklearn/utils/extmath.py:203: RuntimeWarning: overflow encountered in matmul\n",
      "  ret = a @ b\n",
      "/Users/yudhistiraonggowarsito/Documents/SMU/Courses/CS610 - Applied Machine Learning/Project/aml_project/.venv/lib/python3.12/site-packages/sklearn/utils/extmath.py:203: RuntimeWarning: invalid value encountered in matmul\n",
      "  ret = a @ b\n"
     ]
    },
    {
     "name": "stdout",
     "output_type": "stream",
     "text": [
      "[Run 1] Iter 18 F1-illicit: 0.4727\n"
     ]
    },
    {
     "name": "stderr",
     "output_type": "stream",
     "text": [
      "/Users/yudhistiraonggowarsito/Documents/SMU/Courses/CS610 - Applied Machine Learning/Project/aml_project/.venv/lib/python3.12/site-packages/sklearn/utils/extmath.py:203: RuntimeWarning: divide by zero encountered in matmul\n",
      "  ret = a @ b\n",
      "/Users/yudhistiraonggowarsito/Documents/SMU/Courses/CS610 - Applied Machine Learning/Project/aml_project/.venv/lib/python3.12/site-packages/sklearn/utils/extmath.py:203: RuntimeWarning: overflow encountered in matmul\n",
      "  ret = a @ b\n",
      "/Users/yudhistiraonggowarsito/Documents/SMU/Courses/CS610 - Applied Machine Learning/Project/aml_project/.venv/lib/python3.12/site-packages/sklearn/utils/extmath.py:203: RuntimeWarning: invalid value encountered in matmul\n",
      "  ret = a @ b\n",
      "/Users/yudhistiraonggowarsito/Documents/SMU/Courses/CS610 - Applied Machine Learning/Project/aml_project/.venv/lib/python3.12/site-packages/sklearn/utils/extmath.py:203: RuntimeWarning: divide by zero encountered in matmul\n",
      "  ret = a @ b\n",
      "/Users/yudhistiraonggowarsito/Documents/SMU/Courses/CS610 - Applied Machine Learning/Project/aml_project/.venv/lib/python3.12/site-packages/sklearn/utils/extmath.py:203: RuntimeWarning: overflow encountered in matmul\n",
      "  ret = a @ b\n",
      "/Users/yudhistiraonggowarsito/Documents/SMU/Courses/CS610 - Applied Machine Learning/Project/aml_project/.venv/lib/python3.12/site-packages/sklearn/utils/extmath.py:203: RuntimeWarning: invalid value encountered in matmul\n",
      "  ret = a @ b\n"
     ]
    },
    {
     "name": "stdout",
     "output_type": "stream",
     "text": [
      "[Run 1] Iter 19 F1-illicit: 0.4689\n"
     ]
    },
    {
     "name": "stderr",
     "output_type": "stream",
     "text": [
      "/Users/yudhistiraonggowarsito/Documents/SMU/Courses/CS610 - Applied Machine Learning/Project/aml_project/.venv/lib/python3.12/site-packages/sklearn/utils/extmath.py:203: RuntimeWarning: divide by zero encountered in matmul\n",
      "  ret = a @ b\n",
      "/Users/yudhistiraonggowarsito/Documents/SMU/Courses/CS610 - Applied Machine Learning/Project/aml_project/.venv/lib/python3.12/site-packages/sklearn/utils/extmath.py:203: RuntimeWarning: overflow encountered in matmul\n",
      "  ret = a @ b\n",
      "/Users/yudhistiraonggowarsito/Documents/SMU/Courses/CS610 - Applied Machine Learning/Project/aml_project/.venv/lib/python3.12/site-packages/sklearn/utils/extmath.py:203: RuntimeWarning: invalid value encountered in matmul\n",
      "  ret = a @ b\n",
      "/Users/yudhistiraonggowarsito/Documents/SMU/Courses/CS610 - Applied Machine Learning/Project/aml_project/.venv/lib/python3.12/site-packages/sklearn/utils/extmath.py:203: RuntimeWarning: divide by zero encountered in matmul\n",
      "  ret = a @ b\n",
      "/Users/yudhistiraonggowarsito/Documents/SMU/Courses/CS610 - Applied Machine Learning/Project/aml_project/.venv/lib/python3.12/site-packages/sklearn/utils/extmath.py:203: RuntimeWarning: overflow encountered in matmul\n",
      "  ret = a @ b\n",
      "/Users/yudhistiraonggowarsito/Documents/SMU/Courses/CS610 - Applied Machine Learning/Project/aml_project/.venv/lib/python3.12/site-packages/sklearn/utils/extmath.py:203: RuntimeWarning: invalid value encountered in matmul\n",
      "  ret = a @ b\n"
     ]
    },
    {
     "name": "stdout",
     "output_type": "stream",
     "text": [
      "[Run 1] Iter 20 F1-illicit: 0.4671\n"
     ]
    },
    {
     "name": "stderr",
     "output_type": "stream",
     "text": [
      "/Users/yudhistiraonggowarsito/Documents/SMU/Courses/CS610 - Applied Machine Learning/Project/aml_project/.venv/lib/python3.12/site-packages/sklearn/utils/extmath.py:203: RuntimeWarning: divide by zero encountered in matmul\n",
      "  ret = a @ b\n",
      "/Users/yudhistiraonggowarsito/Documents/SMU/Courses/CS610 - Applied Machine Learning/Project/aml_project/.venv/lib/python3.12/site-packages/sklearn/utils/extmath.py:203: RuntimeWarning: overflow encountered in matmul\n",
      "  ret = a @ b\n",
      "/Users/yudhistiraonggowarsito/Documents/SMU/Courses/CS610 - Applied Machine Learning/Project/aml_project/.venv/lib/python3.12/site-packages/sklearn/utils/extmath.py:203: RuntimeWarning: invalid value encountered in matmul\n",
      "  ret = a @ b\n",
      "/Users/yudhistiraonggowarsito/Documents/SMU/Courses/CS610 - Applied Machine Learning/Project/aml_project/.venv/lib/python3.12/site-packages/sklearn/utils/extmath.py:203: RuntimeWarning: divide by zero encountered in matmul\n",
      "  ret = a @ b\n",
      "/Users/yudhistiraonggowarsito/Documents/SMU/Courses/CS610 - Applied Machine Learning/Project/aml_project/.venv/lib/python3.12/site-packages/sklearn/utils/extmath.py:203: RuntimeWarning: overflow encountered in matmul\n",
      "  ret = a @ b\n",
      "/Users/yudhistiraonggowarsito/Documents/SMU/Courses/CS610 - Applied Machine Learning/Project/aml_project/.venv/lib/python3.12/site-packages/sklearn/utils/extmath.py:203: RuntimeWarning: invalid value encountered in matmul\n",
      "  ret = a @ b\n"
     ]
    },
    {
     "name": "stdout",
     "output_type": "stream",
     "text": [
      "[Run 1] Iter 21 F1-illicit: 0.4643\n"
     ]
    },
    {
     "name": "stderr",
     "output_type": "stream",
     "text": [
      "/Users/yudhistiraonggowarsito/Documents/SMU/Courses/CS610 - Applied Machine Learning/Project/aml_project/.venv/lib/python3.12/site-packages/sklearn/utils/extmath.py:203: RuntimeWarning: divide by zero encountered in matmul\n",
      "  ret = a @ b\n",
      "/Users/yudhistiraonggowarsito/Documents/SMU/Courses/CS610 - Applied Machine Learning/Project/aml_project/.venv/lib/python3.12/site-packages/sklearn/utils/extmath.py:203: RuntimeWarning: overflow encountered in matmul\n",
      "  ret = a @ b\n",
      "/Users/yudhistiraonggowarsito/Documents/SMU/Courses/CS610 - Applied Machine Learning/Project/aml_project/.venv/lib/python3.12/site-packages/sklearn/utils/extmath.py:203: RuntimeWarning: invalid value encountered in matmul\n",
      "  ret = a @ b\n",
      "/Users/yudhistiraonggowarsito/Documents/SMU/Courses/CS610 - Applied Machine Learning/Project/aml_project/.venv/lib/python3.12/site-packages/sklearn/utils/extmath.py:203: RuntimeWarning: divide by zero encountered in matmul\n",
      "  ret = a @ b\n",
      "/Users/yudhistiraonggowarsito/Documents/SMU/Courses/CS610 - Applied Machine Learning/Project/aml_project/.venv/lib/python3.12/site-packages/sklearn/utils/extmath.py:203: RuntimeWarning: overflow encountered in matmul\n",
      "  ret = a @ b\n",
      "/Users/yudhistiraonggowarsito/Documents/SMU/Courses/CS610 - Applied Machine Learning/Project/aml_project/.venv/lib/python3.12/site-packages/sklearn/utils/extmath.py:203: RuntimeWarning: invalid value encountered in matmul\n",
      "  ret = a @ b\n"
     ]
    },
    {
     "name": "stdout",
     "output_type": "stream",
     "text": [
      "[Run 1] Iter 22 F1-illicit: 0.4647\n"
     ]
    },
    {
     "name": "stderr",
     "output_type": "stream",
     "text": [
      "/Users/yudhistiraonggowarsito/Documents/SMU/Courses/CS610 - Applied Machine Learning/Project/aml_project/.venv/lib/python3.12/site-packages/sklearn/utils/extmath.py:203: RuntimeWarning: divide by zero encountered in matmul\n",
      "  ret = a @ b\n",
      "/Users/yudhistiraonggowarsito/Documents/SMU/Courses/CS610 - Applied Machine Learning/Project/aml_project/.venv/lib/python3.12/site-packages/sklearn/utils/extmath.py:203: RuntimeWarning: overflow encountered in matmul\n",
      "  ret = a @ b\n",
      "/Users/yudhistiraonggowarsito/Documents/SMU/Courses/CS610 - Applied Machine Learning/Project/aml_project/.venv/lib/python3.12/site-packages/sklearn/utils/extmath.py:203: RuntimeWarning: invalid value encountered in matmul\n",
      "  ret = a @ b\n",
      "/Users/yudhistiraonggowarsito/Documents/SMU/Courses/CS610 - Applied Machine Learning/Project/aml_project/.venv/lib/python3.12/site-packages/sklearn/utils/extmath.py:203: RuntimeWarning: divide by zero encountered in matmul\n",
      "  ret = a @ b\n",
      "/Users/yudhistiraonggowarsito/Documents/SMU/Courses/CS610 - Applied Machine Learning/Project/aml_project/.venv/lib/python3.12/site-packages/sklearn/utils/extmath.py:203: RuntimeWarning: overflow encountered in matmul\n",
      "  ret = a @ b\n",
      "/Users/yudhistiraonggowarsito/Documents/SMU/Courses/CS610 - Applied Machine Learning/Project/aml_project/.venv/lib/python3.12/site-packages/sklearn/utils/extmath.py:203: RuntimeWarning: invalid value encountered in matmul\n",
      "  ret = a @ b\n"
     ]
    },
    {
     "name": "stdout",
     "output_type": "stream",
     "text": [
      "[Run 1] Iter 23 F1-illicit: 0.4619\n"
     ]
    },
    {
     "name": "stderr",
     "output_type": "stream",
     "text": [
      "/Users/yudhistiraonggowarsito/Documents/SMU/Courses/CS610 - Applied Machine Learning/Project/aml_project/.venv/lib/python3.12/site-packages/sklearn/utils/extmath.py:203: RuntimeWarning: divide by zero encountered in matmul\n",
      "  ret = a @ b\n",
      "/Users/yudhistiraonggowarsito/Documents/SMU/Courses/CS610 - Applied Machine Learning/Project/aml_project/.venv/lib/python3.12/site-packages/sklearn/utils/extmath.py:203: RuntimeWarning: overflow encountered in matmul\n",
      "  ret = a @ b\n",
      "/Users/yudhistiraonggowarsito/Documents/SMU/Courses/CS610 - Applied Machine Learning/Project/aml_project/.venv/lib/python3.12/site-packages/sklearn/utils/extmath.py:203: RuntimeWarning: invalid value encountered in matmul\n",
      "  ret = a @ b\n",
      "/Users/yudhistiraonggowarsito/Documents/SMU/Courses/CS610 - Applied Machine Learning/Project/aml_project/.venv/lib/python3.12/site-packages/sklearn/utils/extmath.py:203: RuntimeWarning: divide by zero encountered in matmul\n",
      "  ret = a @ b\n",
      "/Users/yudhistiraonggowarsito/Documents/SMU/Courses/CS610 - Applied Machine Learning/Project/aml_project/.venv/lib/python3.12/site-packages/sklearn/utils/extmath.py:203: RuntimeWarning: overflow encountered in matmul\n",
      "  ret = a @ b\n",
      "/Users/yudhistiraonggowarsito/Documents/SMU/Courses/CS610 - Applied Machine Learning/Project/aml_project/.venv/lib/python3.12/site-packages/sklearn/utils/extmath.py:203: RuntimeWarning: invalid value encountered in matmul\n",
      "  ret = a @ b\n"
     ]
    },
    {
     "name": "stdout",
     "output_type": "stream",
     "text": [
      "[Run 1] Iter 24 F1-illicit: 0.4584\n"
     ]
    },
    {
     "name": "stderr",
     "output_type": "stream",
     "text": [
      "/Users/yudhistiraonggowarsito/Documents/SMU/Courses/CS610 - Applied Machine Learning/Project/aml_project/.venv/lib/python3.12/site-packages/sklearn/utils/extmath.py:203: RuntimeWarning: divide by zero encountered in matmul\n",
      "  ret = a @ b\n",
      "/Users/yudhistiraonggowarsito/Documents/SMU/Courses/CS610 - Applied Machine Learning/Project/aml_project/.venv/lib/python3.12/site-packages/sklearn/utils/extmath.py:203: RuntimeWarning: overflow encountered in matmul\n",
      "  ret = a @ b\n",
      "/Users/yudhistiraonggowarsito/Documents/SMU/Courses/CS610 - Applied Machine Learning/Project/aml_project/.venv/lib/python3.12/site-packages/sklearn/utils/extmath.py:203: RuntimeWarning: invalid value encountered in matmul\n",
      "  ret = a @ b\n",
      "/Users/yudhistiraonggowarsito/Documents/SMU/Courses/CS610 - Applied Machine Learning/Project/aml_project/.venv/lib/python3.12/site-packages/sklearn/utils/extmath.py:203: RuntimeWarning: divide by zero encountered in matmul\n",
      "  ret = a @ b\n",
      "/Users/yudhistiraonggowarsito/Documents/SMU/Courses/CS610 - Applied Machine Learning/Project/aml_project/.venv/lib/python3.12/site-packages/sklearn/utils/extmath.py:203: RuntimeWarning: overflow encountered in matmul\n",
      "  ret = a @ b\n",
      "/Users/yudhistiraonggowarsito/Documents/SMU/Courses/CS610 - Applied Machine Learning/Project/aml_project/.venv/lib/python3.12/site-packages/sklearn/utils/extmath.py:203: RuntimeWarning: invalid value encountered in matmul\n",
      "  ret = a @ b\n"
     ]
    },
    {
     "name": "stdout",
     "output_type": "stream",
     "text": [
      "[Run 1] Iter 25 F1-illicit: 0.4575\n"
     ]
    },
    {
     "name": "stderr",
     "output_type": "stream",
     "text": [
      "/Users/yudhistiraonggowarsito/Documents/SMU/Courses/CS610 - Applied Machine Learning/Project/aml_project/.venv/lib/python3.12/site-packages/sklearn/utils/extmath.py:203: RuntimeWarning: divide by zero encountered in matmul\n",
      "  ret = a @ b\n",
      "/Users/yudhistiraonggowarsito/Documents/SMU/Courses/CS610 - Applied Machine Learning/Project/aml_project/.venv/lib/python3.12/site-packages/sklearn/utils/extmath.py:203: RuntimeWarning: overflow encountered in matmul\n",
      "  ret = a @ b\n",
      "/Users/yudhistiraonggowarsito/Documents/SMU/Courses/CS610 - Applied Machine Learning/Project/aml_project/.venv/lib/python3.12/site-packages/sklearn/utils/extmath.py:203: RuntimeWarning: invalid value encountered in matmul\n",
      "  ret = a @ b\n",
      "/Users/yudhistiraonggowarsito/Documents/SMU/Courses/CS610 - Applied Machine Learning/Project/aml_project/.venv/lib/python3.12/site-packages/sklearn/utils/extmath.py:203: RuntimeWarning: divide by zero encountered in matmul\n",
      "  ret = a @ b\n",
      "/Users/yudhistiraonggowarsito/Documents/SMU/Courses/CS610 - Applied Machine Learning/Project/aml_project/.venv/lib/python3.12/site-packages/sklearn/utils/extmath.py:203: RuntimeWarning: overflow encountered in matmul\n",
      "  ret = a @ b\n",
      "/Users/yudhistiraonggowarsito/Documents/SMU/Courses/CS610 - Applied Machine Learning/Project/aml_project/.venv/lib/python3.12/site-packages/sklearn/utils/extmath.py:203: RuntimeWarning: invalid value encountered in matmul\n",
      "  ret = a @ b\n"
     ]
    },
    {
     "name": "stdout",
     "output_type": "stream",
     "text": [
      "[Run 1] Iter 26 F1-illicit: 0.4529\n"
     ]
    },
    {
     "name": "stderr",
     "output_type": "stream",
     "text": [
      "/Users/yudhistiraonggowarsito/Documents/SMU/Courses/CS610 - Applied Machine Learning/Project/aml_project/.venv/lib/python3.12/site-packages/sklearn/utils/extmath.py:203: RuntimeWarning: divide by zero encountered in matmul\n",
      "  ret = a @ b\n",
      "/Users/yudhistiraonggowarsito/Documents/SMU/Courses/CS610 - Applied Machine Learning/Project/aml_project/.venv/lib/python3.12/site-packages/sklearn/utils/extmath.py:203: RuntimeWarning: overflow encountered in matmul\n",
      "  ret = a @ b\n",
      "/Users/yudhistiraonggowarsito/Documents/SMU/Courses/CS610 - Applied Machine Learning/Project/aml_project/.venv/lib/python3.12/site-packages/sklearn/utils/extmath.py:203: RuntimeWarning: invalid value encountered in matmul\n",
      "  ret = a @ b\n",
      "/Users/yudhistiraonggowarsito/Documents/SMU/Courses/CS610 - Applied Machine Learning/Project/aml_project/.venv/lib/python3.12/site-packages/sklearn/utils/extmath.py:203: RuntimeWarning: divide by zero encountered in matmul\n",
      "  ret = a @ b\n",
      "/Users/yudhistiraonggowarsito/Documents/SMU/Courses/CS610 - Applied Machine Learning/Project/aml_project/.venv/lib/python3.12/site-packages/sklearn/utils/extmath.py:203: RuntimeWarning: overflow encountered in matmul\n",
      "  ret = a @ b\n",
      "/Users/yudhistiraonggowarsito/Documents/SMU/Courses/CS610 - Applied Machine Learning/Project/aml_project/.venv/lib/python3.12/site-packages/sklearn/utils/extmath.py:203: RuntimeWarning: invalid value encountered in matmul\n",
      "  ret = a @ b\n"
     ]
    },
    {
     "name": "stdout",
     "output_type": "stream",
     "text": [
      "[Run 1] Iter 27 F1-illicit: 0.4499\n"
     ]
    },
    {
     "name": "stderr",
     "output_type": "stream",
     "text": [
      "/Users/yudhistiraonggowarsito/Documents/SMU/Courses/CS610 - Applied Machine Learning/Project/aml_project/.venv/lib/python3.12/site-packages/sklearn/utils/extmath.py:203: RuntimeWarning: divide by zero encountered in matmul\n",
      "  ret = a @ b\n",
      "/Users/yudhistiraonggowarsito/Documents/SMU/Courses/CS610 - Applied Machine Learning/Project/aml_project/.venv/lib/python3.12/site-packages/sklearn/utils/extmath.py:203: RuntimeWarning: overflow encountered in matmul\n",
      "  ret = a @ b\n",
      "/Users/yudhistiraonggowarsito/Documents/SMU/Courses/CS610 - Applied Machine Learning/Project/aml_project/.venv/lib/python3.12/site-packages/sklearn/utils/extmath.py:203: RuntimeWarning: invalid value encountered in matmul\n",
      "  ret = a @ b\n",
      "/Users/yudhistiraonggowarsito/Documents/SMU/Courses/CS610 - Applied Machine Learning/Project/aml_project/.venv/lib/python3.12/site-packages/sklearn/utils/extmath.py:203: RuntimeWarning: divide by zero encountered in matmul\n",
      "  ret = a @ b\n",
      "/Users/yudhistiraonggowarsito/Documents/SMU/Courses/CS610 - Applied Machine Learning/Project/aml_project/.venv/lib/python3.12/site-packages/sklearn/utils/extmath.py:203: RuntimeWarning: overflow encountered in matmul\n",
      "  ret = a @ b\n",
      "/Users/yudhistiraonggowarsito/Documents/SMU/Courses/CS610 - Applied Machine Learning/Project/aml_project/.venv/lib/python3.12/site-packages/sklearn/utils/extmath.py:203: RuntimeWarning: invalid value encountered in matmul\n",
      "  ret = a @ b\n"
     ]
    },
    {
     "name": "stdout",
     "output_type": "stream",
     "text": [
      "[Run 1] Iter 28 F1-illicit: 0.4491\n"
     ]
    },
    {
     "name": "stderr",
     "output_type": "stream",
     "text": [
      "/Users/yudhistiraonggowarsito/Documents/SMU/Courses/CS610 - Applied Machine Learning/Project/aml_project/.venv/lib/python3.12/site-packages/sklearn/utils/extmath.py:203: RuntimeWarning: divide by zero encountered in matmul\n",
      "  ret = a @ b\n",
      "/Users/yudhistiraonggowarsito/Documents/SMU/Courses/CS610 - Applied Machine Learning/Project/aml_project/.venv/lib/python3.12/site-packages/sklearn/utils/extmath.py:203: RuntimeWarning: overflow encountered in matmul\n",
      "  ret = a @ b\n",
      "/Users/yudhistiraonggowarsito/Documents/SMU/Courses/CS610 - Applied Machine Learning/Project/aml_project/.venv/lib/python3.12/site-packages/sklearn/utils/extmath.py:203: RuntimeWarning: invalid value encountered in matmul\n",
      "  ret = a @ b\n",
      "/Users/yudhistiraonggowarsito/Documents/SMU/Courses/CS610 - Applied Machine Learning/Project/aml_project/.venv/lib/python3.12/site-packages/sklearn/utils/extmath.py:203: RuntimeWarning: divide by zero encountered in matmul\n",
      "  ret = a @ b\n",
      "/Users/yudhistiraonggowarsito/Documents/SMU/Courses/CS610 - Applied Machine Learning/Project/aml_project/.venv/lib/python3.12/site-packages/sklearn/utils/extmath.py:203: RuntimeWarning: overflow encountered in matmul\n",
      "  ret = a @ b\n",
      "/Users/yudhistiraonggowarsito/Documents/SMU/Courses/CS610 - Applied Machine Learning/Project/aml_project/.venv/lib/python3.12/site-packages/sklearn/utils/extmath.py:203: RuntimeWarning: invalid value encountered in matmul\n",
      "  ret = a @ b\n"
     ]
    },
    {
     "name": "stdout",
     "output_type": "stream",
     "text": [
      "[Run 1] Iter 29 F1-illicit: 0.4465\n"
     ]
    },
    {
     "name": "stderr",
     "output_type": "stream",
     "text": [
      "/Users/yudhistiraonggowarsito/Documents/SMU/Courses/CS610 - Applied Machine Learning/Project/aml_project/.venv/lib/python3.12/site-packages/sklearn/utils/extmath.py:203: RuntimeWarning: divide by zero encountered in matmul\n",
      "  ret = a @ b\n",
      "/Users/yudhistiraonggowarsito/Documents/SMU/Courses/CS610 - Applied Machine Learning/Project/aml_project/.venv/lib/python3.12/site-packages/sklearn/utils/extmath.py:203: RuntimeWarning: overflow encountered in matmul\n",
      "  ret = a @ b\n",
      "/Users/yudhistiraonggowarsito/Documents/SMU/Courses/CS610 - Applied Machine Learning/Project/aml_project/.venv/lib/python3.12/site-packages/sklearn/utils/extmath.py:203: RuntimeWarning: invalid value encountered in matmul\n",
      "  ret = a @ b\n",
      "/Users/yudhistiraonggowarsito/Documents/SMU/Courses/CS610 - Applied Machine Learning/Project/aml_project/.venv/lib/python3.12/site-packages/sklearn/utils/extmath.py:203: RuntimeWarning: divide by zero encountered in matmul\n",
      "  ret = a @ b\n",
      "/Users/yudhistiraonggowarsito/Documents/SMU/Courses/CS610 - Applied Machine Learning/Project/aml_project/.venv/lib/python3.12/site-packages/sklearn/utils/extmath.py:203: RuntimeWarning: overflow encountered in matmul\n",
      "  ret = a @ b\n",
      "/Users/yudhistiraonggowarsito/Documents/SMU/Courses/CS610 - Applied Machine Learning/Project/aml_project/.venv/lib/python3.12/site-packages/sklearn/utils/extmath.py:203: RuntimeWarning: invalid value encountered in matmul\n",
      "  ret = a @ b\n",
      "/var/folders/2v/617m0pq96qq942zr8nbfyzch0000gn/T/ipykernel_29924/2909400616.py:51: FutureWarning: The behavior of DataFrame concatenation with empty or all-NA entries is deprecated. In a future version, this will no longer exclude empty or all-NA columns when determining the result dtypes. To retain the old behavior, exclude the relevant entries before the concat operation.\n",
      "  labeled_pool = pd.concat([labeled_pool, batch], ignore_index=True)\n",
      "/Users/yudhistiraonggowarsito/Documents/SMU/Courses/CS610 - Applied Machine Learning/Project/aml_project/.venv/lib/python3.12/site-packages/sklearn/utils/extmath.py:203: RuntimeWarning: divide by zero encountered in matmul\n",
      "  ret = a @ b\n",
      "/Users/yudhistiraonggowarsito/Documents/SMU/Courses/CS610 - Applied Machine Learning/Project/aml_project/.venv/lib/python3.12/site-packages/sklearn/utils/extmath.py:203: RuntimeWarning: overflow encountered in matmul\n",
      "  ret = a @ b\n",
      "/Users/yudhistiraonggowarsito/Documents/SMU/Courses/CS610 - Applied Machine Learning/Project/aml_project/.venv/lib/python3.12/site-packages/sklearn/utils/extmath.py:203: RuntimeWarning: invalid value encountered in matmul\n",
      "  ret = a @ b\n",
      "/Users/yudhistiraonggowarsito/Documents/SMU/Courses/CS610 - Applied Machine Learning/Project/aml_project/.venv/lib/python3.12/site-packages/sklearn/utils/extmath.py:203: RuntimeWarning: divide by zero encountered in matmul\n",
      "  ret = a @ b\n",
      "/Users/yudhistiraonggowarsito/Documents/SMU/Courses/CS610 - Applied Machine Learning/Project/aml_project/.venv/lib/python3.12/site-packages/sklearn/utils/extmath.py:203: RuntimeWarning: overflow encountered in matmul\n",
      "  ret = a @ b\n",
      "/Users/yudhistiraonggowarsito/Documents/SMU/Courses/CS610 - Applied Machine Learning/Project/aml_project/.venv/lib/python3.12/site-packages/sklearn/utils/extmath.py:203: RuntimeWarning: invalid value encountered in matmul\n",
      "  ret = a @ b\n"
     ]
    },
    {
     "name": "stdout",
     "output_type": "stream",
     "text": [
      "[Run 1] Iter 30 F1-illicit: 0.4412\n",
      "\n",
      "=== Run 2/5 ===\n",
      "[Run 2] Iter 1 F1-illicit: 0.2232\n"
     ]
    },
    {
     "name": "stderr",
     "output_type": "stream",
     "text": [
      "/Users/yudhistiraonggowarsito/Documents/SMU/Courses/CS610 - Applied Machine Learning/Project/aml_project/.venv/lib/python3.12/site-packages/sklearn/utils/extmath.py:203: RuntimeWarning: divide by zero encountered in matmul\n",
      "  ret = a @ b\n",
      "/Users/yudhistiraonggowarsito/Documents/SMU/Courses/CS610 - Applied Machine Learning/Project/aml_project/.venv/lib/python3.12/site-packages/sklearn/utils/extmath.py:203: RuntimeWarning: overflow encountered in matmul\n",
      "  ret = a @ b\n",
      "/Users/yudhistiraonggowarsito/Documents/SMU/Courses/CS610 - Applied Machine Learning/Project/aml_project/.venv/lib/python3.12/site-packages/sklearn/utils/extmath.py:203: RuntimeWarning: invalid value encountered in matmul\n",
      "  ret = a @ b\n",
      "/Users/yudhistiraonggowarsito/Documents/SMU/Courses/CS610 - Applied Machine Learning/Project/aml_project/.venv/lib/python3.12/site-packages/sklearn/utils/extmath.py:203: RuntimeWarning: divide by zero encountered in matmul\n",
      "  ret = a @ b\n",
      "/Users/yudhistiraonggowarsito/Documents/SMU/Courses/CS610 - Applied Machine Learning/Project/aml_project/.venv/lib/python3.12/site-packages/sklearn/utils/extmath.py:203: RuntimeWarning: overflow encountered in matmul\n",
      "  ret = a @ b\n",
      "/Users/yudhistiraonggowarsito/Documents/SMU/Courses/CS610 - Applied Machine Learning/Project/aml_project/.venv/lib/python3.12/site-packages/sklearn/utils/extmath.py:203: RuntimeWarning: invalid value encountered in matmul\n",
      "  ret = a @ b\n",
      "/Users/yudhistiraonggowarsito/Documents/SMU/Courses/CS610 - Applied Machine Learning/Project/aml_project/.venv/lib/python3.12/site-packages/sklearn/utils/extmath.py:203: RuntimeWarning: divide by zero encountered in matmul\n",
      "  ret = a @ b\n",
      "/Users/yudhistiraonggowarsito/Documents/SMU/Courses/CS610 - Applied Machine Learning/Project/aml_project/.venv/lib/python3.12/site-packages/sklearn/utils/extmath.py:203: RuntimeWarning: overflow encountered in matmul\n",
      "  ret = a @ b\n",
      "/Users/yudhistiraonggowarsito/Documents/SMU/Courses/CS610 - Applied Machine Learning/Project/aml_project/.venv/lib/python3.12/site-packages/sklearn/utils/extmath.py:203: RuntimeWarning: invalid value encountered in matmul\n",
      "  ret = a @ b\n",
      "/Users/yudhistiraonggowarsito/Documents/SMU/Courses/CS610 - Applied Machine Learning/Project/aml_project/.venv/lib/python3.12/site-packages/sklearn/utils/extmath.py:203: RuntimeWarning: divide by zero encountered in matmul\n",
      "  ret = a @ b\n",
      "/Users/yudhistiraonggowarsito/Documents/SMU/Courses/CS610 - Applied Machine Learning/Project/aml_project/.venv/lib/python3.12/site-packages/sklearn/utils/extmath.py:203: RuntimeWarning: overflow encountered in matmul\n",
      "  ret = a @ b\n",
      "/Users/yudhistiraonggowarsito/Documents/SMU/Courses/CS610 - Applied Machine Learning/Project/aml_project/.venv/lib/python3.12/site-packages/sklearn/utils/extmath.py:203: RuntimeWarning: invalid value encountered in matmul\n",
      "  ret = a @ b\n",
      "/Users/yudhistiraonggowarsito/Documents/SMU/Courses/CS610 - Applied Machine Learning/Project/aml_project/.venv/lib/python3.12/site-packages/sklearn/utils/extmath.py:203: RuntimeWarning: divide by zero encountered in matmul\n",
      "  ret = a @ b\n",
      "/Users/yudhistiraonggowarsito/Documents/SMU/Courses/CS610 - Applied Machine Learning/Project/aml_project/.venv/lib/python3.12/site-packages/sklearn/utils/extmath.py:203: RuntimeWarning: overflow encountered in matmul\n",
      "  ret = a @ b\n",
      "/Users/yudhistiraonggowarsito/Documents/SMU/Courses/CS610 - Applied Machine Learning/Project/aml_project/.venv/lib/python3.12/site-packages/sklearn/utils/extmath.py:203: RuntimeWarning: invalid value encountered in matmul\n",
      "  ret = a @ b\n",
      "/Users/yudhistiraonggowarsito/Documents/SMU/Courses/CS610 - Applied Machine Learning/Project/aml_project/.venv/lib/python3.12/site-packages/sklearn/utils/extmath.py:203: RuntimeWarning: divide by zero encountered in matmul\n",
      "  ret = a @ b\n",
      "/Users/yudhistiraonggowarsito/Documents/SMU/Courses/CS610 - Applied Machine Learning/Project/aml_project/.venv/lib/python3.12/site-packages/sklearn/utils/extmath.py:203: RuntimeWarning: overflow encountered in matmul\n",
      "  ret = a @ b\n",
      "/Users/yudhistiraonggowarsito/Documents/SMU/Courses/CS610 - Applied Machine Learning/Project/aml_project/.venv/lib/python3.12/site-packages/sklearn/utils/extmath.py:203: RuntimeWarning: invalid value encountered in matmul\n",
      "  ret = a @ b\n"
     ]
    },
    {
     "name": "stdout",
     "output_type": "stream",
     "text": [
      "[Run 2] Iter 2 F1-illicit: 0.3175\n",
      "[Run 2] Iter 3 F1-illicit: 0.3504\n",
      "[Run 2] Iter 4 F1-illicit: 0.4267\n"
     ]
    },
    {
     "name": "stderr",
     "output_type": "stream",
     "text": [
      "/Users/yudhistiraonggowarsito/Documents/SMU/Courses/CS610 - Applied Machine Learning/Project/aml_project/.venv/lib/python3.12/site-packages/sklearn/utils/extmath.py:203: RuntimeWarning: divide by zero encountered in matmul\n",
      "  ret = a @ b\n",
      "/Users/yudhistiraonggowarsito/Documents/SMU/Courses/CS610 - Applied Machine Learning/Project/aml_project/.venv/lib/python3.12/site-packages/sklearn/utils/extmath.py:203: RuntimeWarning: overflow encountered in matmul\n",
      "  ret = a @ b\n",
      "/Users/yudhistiraonggowarsito/Documents/SMU/Courses/CS610 - Applied Machine Learning/Project/aml_project/.venv/lib/python3.12/site-packages/sklearn/utils/extmath.py:203: RuntimeWarning: invalid value encountered in matmul\n",
      "  ret = a @ b\n",
      "/Users/yudhistiraonggowarsito/Documents/SMU/Courses/CS610 - Applied Machine Learning/Project/aml_project/.venv/lib/python3.12/site-packages/sklearn/utils/extmath.py:203: RuntimeWarning: divide by zero encountered in matmul\n",
      "  ret = a @ b\n",
      "/Users/yudhistiraonggowarsito/Documents/SMU/Courses/CS610 - Applied Machine Learning/Project/aml_project/.venv/lib/python3.12/site-packages/sklearn/utils/extmath.py:203: RuntimeWarning: overflow encountered in matmul\n",
      "  ret = a @ b\n",
      "/Users/yudhistiraonggowarsito/Documents/SMU/Courses/CS610 - Applied Machine Learning/Project/aml_project/.venv/lib/python3.12/site-packages/sklearn/utils/extmath.py:203: RuntimeWarning: invalid value encountered in matmul\n",
      "  ret = a @ b\n",
      "/Users/yudhistiraonggowarsito/Documents/SMU/Courses/CS610 - Applied Machine Learning/Project/aml_project/.venv/lib/python3.12/site-packages/sklearn/utils/extmath.py:203: RuntimeWarning: divide by zero encountered in matmul\n",
      "  ret = a @ b\n",
      "/Users/yudhistiraonggowarsito/Documents/SMU/Courses/CS610 - Applied Machine Learning/Project/aml_project/.venv/lib/python3.12/site-packages/sklearn/utils/extmath.py:203: RuntimeWarning: overflow encountered in matmul\n",
      "  ret = a @ b\n",
      "/Users/yudhistiraonggowarsito/Documents/SMU/Courses/CS610 - Applied Machine Learning/Project/aml_project/.venv/lib/python3.12/site-packages/sklearn/utils/extmath.py:203: RuntimeWarning: invalid value encountered in matmul\n",
      "  ret = a @ b\n",
      "/Users/yudhistiraonggowarsito/Documents/SMU/Courses/CS610 - Applied Machine Learning/Project/aml_project/.venv/lib/python3.12/site-packages/sklearn/utils/extmath.py:203: RuntimeWarning: divide by zero encountered in matmul\n",
      "  ret = a @ b\n",
      "/Users/yudhistiraonggowarsito/Documents/SMU/Courses/CS610 - Applied Machine Learning/Project/aml_project/.venv/lib/python3.12/site-packages/sklearn/utils/extmath.py:203: RuntimeWarning: overflow encountered in matmul\n",
      "  ret = a @ b\n",
      "/Users/yudhistiraonggowarsito/Documents/SMU/Courses/CS610 - Applied Machine Learning/Project/aml_project/.venv/lib/python3.12/site-packages/sklearn/utils/extmath.py:203: RuntimeWarning: invalid value encountered in matmul\n",
      "  ret = a @ b\n"
     ]
    },
    {
     "name": "stdout",
     "output_type": "stream",
     "text": [
      "[Run 2] Iter 5 F1-illicit: 0.4780\n",
      "[Run 2] Iter 6 F1-illicit: 0.5610\n"
     ]
    },
    {
     "name": "stderr",
     "output_type": "stream",
     "text": [
      "/Users/yudhistiraonggowarsito/Documents/SMU/Courses/CS610 - Applied Machine Learning/Project/aml_project/.venv/lib/python3.12/site-packages/sklearn/utils/extmath.py:203: RuntimeWarning: divide by zero encountered in matmul\n",
      "  ret = a @ b\n",
      "/Users/yudhistiraonggowarsito/Documents/SMU/Courses/CS610 - Applied Machine Learning/Project/aml_project/.venv/lib/python3.12/site-packages/sklearn/utils/extmath.py:203: RuntimeWarning: overflow encountered in matmul\n",
      "  ret = a @ b\n",
      "/Users/yudhistiraonggowarsito/Documents/SMU/Courses/CS610 - Applied Machine Learning/Project/aml_project/.venv/lib/python3.12/site-packages/sklearn/utils/extmath.py:203: RuntimeWarning: invalid value encountered in matmul\n",
      "  ret = a @ b\n",
      "/Users/yudhistiraonggowarsito/Documents/SMU/Courses/CS610 - Applied Machine Learning/Project/aml_project/.venv/lib/python3.12/site-packages/sklearn/utils/extmath.py:203: RuntimeWarning: divide by zero encountered in matmul\n",
      "  ret = a @ b\n",
      "/Users/yudhistiraonggowarsito/Documents/SMU/Courses/CS610 - Applied Machine Learning/Project/aml_project/.venv/lib/python3.12/site-packages/sklearn/utils/extmath.py:203: RuntimeWarning: overflow encountered in matmul\n",
      "  ret = a @ b\n",
      "/Users/yudhistiraonggowarsito/Documents/SMU/Courses/CS610 - Applied Machine Learning/Project/aml_project/.venv/lib/python3.12/site-packages/sklearn/utils/extmath.py:203: RuntimeWarning: invalid value encountered in matmul\n",
      "  ret = a @ b\n",
      "/Users/yudhistiraonggowarsito/Documents/SMU/Courses/CS610 - Applied Machine Learning/Project/aml_project/.venv/lib/python3.12/site-packages/sklearn/utils/extmath.py:203: RuntimeWarning: divide by zero encountered in matmul\n",
      "  ret = a @ b\n",
      "/Users/yudhistiraonggowarsito/Documents/SMU/Courses/CS610 - Applied Machine Learning/Project/aml_project/.venv/lib/python3.12/site-packages/sklearn/utils/extmath.py:203: RuntimeWarning: overflow encountered in matmul\n",
      "  ret = a @ b\n",
      "/Users/yudhistiraonggowarsito/Documents/SMU/Courses/CS610 - Applied Machine Learning/Project/aml_project/.venv/lib/python3.12/site-packages/sklearn/utils/extmath.py:203: RuntimeWarning: invalid value encountered in matmul\n",
      "  ret = a @ b\n",
      "/Users/yudhistiraonggowarsito/Documents/SMU/Courses/CS610 - Applied Machine Learning/Project/aml_project/.venv/lib/python3.12/site-packages/sklearn/utils/extmath.py:203: RuntimeWarning: divide by zero encountered in matmul\n",
      "  ret = a @ b\n",
      "/Users/yudhistiraonggowarsito/Documents/SMU/Courses/CS610 - Applied Machine Learning/Project/aml_project/.venv/lib/python3.12/site-packages/sklearn/utils/extmath.py:203: RuntimeWarning: overflow encountered in matmul\n",
      "  ret = a @ b\n",
      "/Users/yudhistiraonggowarsito/Documents/SMU/Courses/CS610 - Applied Machine Learning/Project/aml_project/.venv/lib/python3.12/site-packages/sklearn/utils/extmath.py:203: RuntimeWarning: invalid value encountered in matmul\n",
      "  ret = a @ b\n"
     ]
    },
    {
     "name": "stdout",
     "output_type": "stream",
     "text": [
      "[Run 2] Iter 7 F1-illicit: 0.6132\n",
      "[Run 2] Iter 8 F1-illicit: 0.6132\n"
     ]
    },
    {
     "name": "stderr",
     "output_type": "stream",
     "text": [
      "/Users/yudhistiraonggowarsito/Documents/SMU/Courses/CS610 - Applied Machine Learning/Project/aml_project/.venv/lib/python3.12/site-packages/sklearn/utils/extmath.py:203: RuntimeWarning: divide by zero encountered in matmul\n",
      "  ret = a @ b\n",
      "/Users/yudhistiraonggowarsito/Documents/SMU/Courses/CS610 - Applied Machine Learning/Project/aml_project/.venv/lib/python3.12/site-packages/sklearn/utils/extmath.py:203: RuntimeWarning: overflow encountered in matmul\n",
      "  ret = a @ b\n",
      "/Users/yudhistiraonggowarsito/Documents/SMU/Courses/CS610 - Applied Machine Learning/Project/aml_project/.venv/lib/python3.12/site-packages/sklearn/utils/extmath.py:203: RuntimeWarning: invalid value encountered in matmul\n",
      "  ret = a @ b\n",
      "/Users/yudhistiraonggowarsito/Documents/SMU/Courses/CS610 - Applied Machine Learning/Project/aml_project/.venv/lib/python3.12/site-packages/sklearn/utils/extmath.py:203: RuntimeWarning: divide by zero encountered in matmul\n",
      "  ret = a @ b\n",
      "/Users/yudhistiraonggowarsito/Documents/SMU/Courses/CS610 - Applied Machine Learning/Project/aml_project/.venv/lib/python3.12/site-packages/sklearn/utils/extmath.py:203: RuntimeWarning: overflow encountered in matmul\n",
      "  ret = a @ b\n",
      "/Users/yudhistiraonggowarsito/Documents/SMU/Courses/CS610 - Applied Machine Learning/Project/aml_project/.venv/lib/python3.12/site-packages/sklearn/utils/extmath.py:203: RuntimeWarning: invalid value encountered in matmul\n",
      "  ret = a @ b\n",
      "/Users/yudhistiraonggowarsito/Documents/SMU/Courses/CS610 - Applied Machine Learning/Project/aml_project/.venv/lib/python3.12/site-packages/sklearn/utils/extmath.py:203: RuntimeWarning: divide by zero encountered in matmul\n",
      "  ret = a @ b\n",
      "/Users/yudhistiraonggowarsito/Documents/SMU/Courses/CS610 - Applied Machine Learning/Project/aml_project/.venv/lib/python3.12/site-packages/sklearn/utils/extmath.py:203: RuntimeWarning: overflow encountered in matmul\n",
      "  ret = a @ b\n",
      "/Users/yudhistiraonggowarsito/Documents/SMU/Courses/CS610 - Applied Machine Learning/Project/aml_project/.venv/lib/python3.12/site-packages/sklearn/utils/extmath.py:203: RuntimeWarning: invalid value encountered in matmul\n",
      "  ret = a @ b\n",
      "/Users/yudhistiraonggowarsito/Documents/SMU/Courses/CS610 - Applied Machine Learning/Project/aml_project/.venv/lib/python3.12/site-packages/sklearn/utils/extmath.py:203: RuntimeWarning: divide by zero encountered in matmul\n",
      "  ret = a @ b\n",
      "/Users/yudhistiraonggowarsito/Documents/SMU/Courses/CS610 - Applied Machine Learning/Project/aml_project/.venv/lib/python3.12/site-packages/sklearn/utils/extmath.py:203: RuntimeWarning: overflow encountered in matmul\n",
      "  ret = a @ b\n",
      "/Users/yudhistiraonggowarsito/Documents/SMU/Courses/CS610 - Applied Machine Learning/Project/aml_project/.venv/lib/python3.12/site-packages/sklearn/utils/extmath.py:203: RuntimeWarning: invalid value encountered in matmul\n",
      "  ret = a @ b\n"
     ]
    },
    {
     "name": "stdout",
     "output_type": "stream",
     "text": [
      "[Run 2] Iter 9 F1-illicit: 0.6256\n",
      "[Run 2] Iter 10 F1-illicit: 0.6266\n"
     ]
    },
    {
     "name": "stderr",
     "output_type": "stream",
     "text": [
      "/Users/yudhistiraonggowarsito/Documents/SMU/Courses/CS610 - Applied Machine Learning/Project/aml_project/.venv/lib/python3.12/site-packages/sklearn/utils/extmath.py:203: RuntimeWarning: divide by zero encountered in matmul\n",
      "  ret = a @ b\n",
      "/Users/yudhistiraonggowarsito/Documents/SMU/Courses/CS610 - Applied Machine Learning/Project/aml_project/.venv/lib/python3.12/site-packages/sklearn/utils/extmath.py:203: RuntimeWarning: overflow encountered in matmul\n",
      "  ret = a @ b\n",
      "/Users/yudhistiraonggowarsito/Documents/SMU/Courses/CS610 - Applied Machine Learning/Project/aml_project/.venv/lib/python3.12/site-packages/sklearn/utils/extmath.py:203: RuntimeWarning: invalid value encountered in matmul\n",
      "  ret = a @ b\n",
      "/Users/yudhistiraonggowarsito/Documents/SMU/Courses/CS610 - Applied Machine Learning/Project/aml_project/.venv/lib/python3.12/site-packages/sklearn/utils/extmath.py:203: RuntimeWarning: divide by zero encountered in matmul\n",
      "  ret = a @ b\n",
      "/Users/yudhistiraonggowarsito/Documents/SMU/Courses/CS610 - Applied Machine Learning/Project/aml_project/.venv/lib/python3.12/site-packages/sklearn/utils/extmath.py:203: RuntimeWarning: overflow encountered in matmul\n",
      "  ret = a @ b\n",
      "/Users/yudhistiraonggowarsito/Documents/SMU/Courses/CS610 - Applied Machine Learning/Project/aml_project/.venv/lib/python3.12/site-packages/sklearn/utils/extmath.py:203: RuntimeWarning: invalid value encountered in matmul\n",
      "  ret = a @ b\n"
     ]
    },
    {
     "name": "stdout",
     "output_type": "stream",
     "text": [
      "[Run 2] Iter 11 F1-illicit: 0.6112\n"
     ]
    },
    {
     "name": "stderr",
     "output_type": "stream",
     "text": [
      "/Users/yudhistiraonggowarsito/Documents/SMU/Courses/CS610 - Applied Machine Learning/Project/aml_project/.venv/lib/python3.12/site-packages/sklearn/utils/extmath.py:203: RuntimeWarning: divide by zero encountered in matmul\n",
      "  ret = a @ b\n",
      "/Users/yudhistiraonggowarsito/Documents/SMU/Courses/CS610 - Applied Machine Learning/Project/aml_project/.venv/lib/python3.12/site-packages/sklearn/utils/extmath.py:203: RuntimeWarning: overflow encountered in matmul\n",
      "  ret = a @ b\n",
      "/Users/yudhistiraonggowarsito/Documents/SMU/Courses/CS610 - Applied Machine Learning/Project/aml_project/.venv/lib/python3.12/site-packages/sklearn/utils/extmath.py:203: RuntimeWarning: invalid value encountered in matmul\n",
      "  ret = a @ b\n",
      "/Users/yudhistiraonggowarsito/Documents/SMU/Courses/CS610 - Applied Machine Learning/Project/aml_project/.venv/lib/python3.12/site-packages/sklearn/utils/extmath.py:203: RuntimeWarning: divide by zero encountered in matmul\n",
      "  ret = a @ b\n",
      "/Users/yudhistiraonggowarsito/Documents/SMU/Courses/CS610 - Applied Machine Learning/Project/aml_project/.venv/lib/python3.12/site-packages/sklearn/utils/extmath.py:203: RuntimeWarning: overflow encountered in matmul\n",
      "  ret = a @ b\n",
      "/Users/yudhistiraonggowarsito/Documents/SMU/Courses/CS610 - Applied Machine Learning/Project/aml_project/.venv/lib/python3.12/site-packages/sklearn/utils/extmath.py:203: RuntimeWarning: invalid value encountered in matmul\n",
      "  ret = a @ b\n"
     ]
    },
    {
     "name": "stdout",
     "output_type": "stream",
     "text": [
      "[Run 2] Iter 12 F1-illicit: 0.6051\n"
     ]
    },
    {
     "name": "stderr",
     "output_type": "stream",
     "text": [
      "/Users/yudhistiraonggowarsito/Documents/SMU/Courses/CS610 - Applied Machine Learning/Project/aml_project/.venv/lib/python3.12/site-packages/sklearn/utils/extmath.py:203: RuntimeWarning: divide by zero encountered in matmul\n",
      "  ret = a @ b\n",
      "/Users/yudhistiraonggowarsito/Documents/SMU/Courses/CS610 - Applied Machine Learning/Project/aml_project/.venv/lib/python3.12/site-packages/sklearn/utils/extmath.py:203: RuntimeWarning: overflow encountered in matmul\n",
      "  ret = a @ b\n",
      "/Users/yudhistiraonggowarsito/Documents/SMU/Courses/CS610 - Applied Machine Learning/Project/aml_project/.venv/lib/python3.12/site-packages/sklearn/utils/extmath.py:203: RuntimeWarning: invalid value encountered in matmul\n",
      "  ret = a @ b\n",
      "/Users/yudhistiraonggowarsito/Documents/SMU/Courses/CS610 - Applied Machine Learning/Project/aml_project/.venv/lib/python3.12/site-packages/sklearn/utils/extmath.py:203: RuntimeWarning: divide by zero encountered in matmul\n",
      "  ret = a @ b\n",
      "/Users/yudhistiraonggowarsito/Documents/SMU/Courses/CS610 - Applied Machine Learning/Project/aml_project/.venv/lib/python3.12/site-packages/sklearn/utils/extmath.py:203: RuntimeWarning: overflow encountered in matmul\n",
      "  ret = a @ b\n",
      "/Users/yudhistiraonggowarsito/Documents/SMU/Courses/CS610 - Applied Machine Learning/Project/aml_project/.venv/lib/python3.12/site-packages/sklearn/utils/extmath.py:203: RuntimeWarning: invalid value encountered in matmul\n",
      "  ret = a @ b\n"
     ]
    },
    {
     "name": "stdout",
     "output_type": "stream",
     "text": [
      "[Run 2] Iter 13 F1-illicit: 0.6195\n"
     ]
    },
    {
     "name": "stderr",
     "output_type": "stream",
     "text": [
      "/Users/yudhistiraonggowarsito/Documents/SMU/Courses/CS610 - Applied Machine Learning/Project/aml_project/.venv/lib/python3.12/site-packages/sklearn/utils/extmath.py:203: RuntimeWarning: divide by zero encountered in matmul\n",
      "  ret = a @ b\n",
      "/Users/yudhistiraonggowarsito/Documents/SMU/Courses/CS610 - Applied Machine Learning/Project/aml_project/.venv/lib/python3.12/site-packages/sklearn/utils/extmath.py:203: RuntimeWarning: overflow encountered in matmul\n",
      "  ret = a @ b\n",
      "/Users/yudhistiraonggowarsito/Documents/SMU/Courses/CS610 - Applied Machine Learning/Project/aml_project/.venv/lib/python3.12/site-packages/sklearn/utils/extmath.py:203: RuntimeWarning: invalid value encountered in matmul\n",
      "  ret = a @ b\n",
      "/Users/yudhistiraonggowarsito/Documents/SMU/Courses/CS610 - Applied Machine Learning/Project/aml_project/.venv/lib/python3.12/site-packages/sklearn/utils/extmath.py:203: RuntimeWarning: divide by zero encountered in matmul\n",
      "  ret = a @ b\n",
      "/Users/yudhistiraonggowarsito/Documents/SMU/Courses/CS610 - Applied Machine Learning/Project/aml_project/.venv/lib/python3.12/site-packages/sklearn/utils/extmath.py:203: RuntimeWarning: overflow encountered in matmul\n",
      "  ret = a @ b\n",
      "/Users/yudhistiraonggowarsito/Documents/SMU/Courses/CS610 - Applied Machine Learning/Project/aml_project/.venv/lib/python3.12/site-packages/sklearn/utils/extmath.py:203: RuntimeWarning: invalid value encountered in matmul\n",
      "  ret = a @ b\n"
     ]
    },
    {
     "name": "stdout",
     "output_type": "stream",
     "text": [
      "[Run 2] Iter 14 F1-illicit: 0.6039\n"
     ]
    },
    {
     "name": "stderr",
     "output_type": "stream",
     "text": [
      "/Users/yudhistiraonggowarsito/Documents/SMU/Courses/CS610 - Applied Machine Learning/Project/aml_project/.venv/lib/python3.12/site-packages/sklearn/utils/extmath.py:203: RuntimeWarning: divide by zero encountered in matmul\n",
      "  ret = a @ b\n",
      "/Users/yudhistiraonggowarsito/Documents/SMU/Courses/CS610 - Applied Machine Learning/Project/aml_project/.venv/lib/python3.12/site-packages/sklearn/utils/extmath.py:203: RuntimeWarning: overflow encountered in matmul\n",
      "  ret = a @ b\n",
      "/Users/yudhistiraonggowarsito/Documents/SMU/Courses/CS610 - Applied Machine Learning/Project/aml_project/.venv/lib/python3.12/site-packages/sklearn/utils/extmath.py:203: RuntimeWarning: invalid value encountered in matmul\n",
      "  ret = a @ b\n",
      "/Users/yudhistiraonggowarsito/Documents/SMU/Courses/CS610 - Applied Machine Learning/Project/aml_project/.venv/lib/python3.12/site-packages/sklearn/utils/extmath.py:203: RuntimeWarning: divide by zero encountered in matmul\n",
      "  ret = a @ b\n",
      "/Users/yudhistiraonggowarsito/Documents/SMU/Courses/CS610 - Applied Machine Learning/Project/aml_project/.venv/lib/python3.12/site-packages/sklearn/utils/extmath.py:203: RuntimeWarning: overflow encountered in matmul\n",
      "  ret = a @ b\n",
      "/Users/yudhistiraonggowarsito/Documents/SMU/Courses/CS610 - Applied Machine Learning/Project/aml_project/.venv/lib/python3.12/site-packages/sklearn/utils/extmath.py:203: RuntimeWarning: invalid value encountered in matmul\n",
      "  ret = a @ b\n"
     ]
    },
    {
     "name": "stdout",
     "output_type": "stream",
     "text": [
      "[Run 2] Iter 15 F1-illicit: 0.6109\n"
     ]
    },
    {
     "name": "stderr",
     "output_type": "stream",
     "text": [
      "/Users/yudhistiraonggowarsito/Documents/SMU/Courses/CS610 - Applied Machine Learning/Project/aml_project/.venv/lib/python3.12/site-packages/sklearn/utils/extmath.py:203: RuntimeWarning: divide by zero encountered in matmul\n",
      "  ret = a @ b\n",
      "/Users/yudhistiraonggowarsito/Documents/SMU/Courses/CS610 - Applied Machine Learning/Project/aml_project/.venv/lib/python3.12/site-packages/sklearn/utils/extmath.py:203: RuntimeWarning: overflow encountered in matmul\n",
      "  ret = a @ b\n",
      "/Users/yudhistiraonggowarsito/Documents/SMU/Courses/CS610 - Applied Machine Learning/Project/aml_project/.venv/lib/python3.12/site-packages/sklearn/utils/extmath.py:203: RuntimeWarning: invalid value encountered in matmul\n",
      "  ret = a @ b\n",
      "/Users/yudhistiraonggowarsito/Documents/SMU/Courses/CS610 - Applied Machine Learning/Project/aml_project/.venv/lib/python3.12/site-packages/sklearn/utils/extmath.py:203: RuntimeWarning: divide by zero encountered in matmul\n",
      "  ret = a @ b\n",
      "/Users/yudhistiraonggowarsito/Documents/SMU/Courses/CS610 - Applied Machine Learning/Project/aml_project/.venv/lib/python3.12/site-packages/sklearn/utils/extmath.py:203: RuntimeWarning: overflow encountered in matmul\n",
      "  ret = a @ b\n",
      "/Users/yudhistiraonggowarsito/Documents/SMU/Courses/CS610 - Applied Machine Learning/Project/aml_project/.venv/lib/python3.12/site-packages/sklearn/utils/extmath.py:203: RuntimeWarning: invalid value encountered in matmul\n",
      "  ret = a @ b\n"
     ]
    },
    {
     "name": "stdout",
     "output_type": "stream",
     "text": [
      "[Run 2] Iter 16 F1-illicit: 0.6084\n"
     ]
    },
    {
     "name": "stderr",
     "output_type": "stream",
     "text": [
      "/Users/yudhistiraonggowarsito/Documents/SMU/Courses/CS610 - Applied Machine Learning/Project/aml_project/.venv/lib/python3.12/site-packages/sklearn/utils/extmath.py:203: RuntimeWarning: divide by zero encountered in matmul\n",
      "  ret = a @ b\n",
      "/Users/yudhistiraonggowarsito/Documents/SMU/Courses/CS610 - Applied Machine Learning/Project/aml_project/.venv/lib/python3.12/site-packages/sklearn/utils/extmath.py:203: RuntimeWarning: overflow encountered in matmul\n",
      "  ret = a @ b\n",
      "/Users/yudhistiraonggowarsito/Documents/SMU/Courses/CS610 - Applied Machine Learning/Project/aml_project/.venv/lib/python3.12/site-packages/sklearn/utils/extmath.py:203: RuntimeWarning: invalid value encountered in matmul\n",
      "  ret = a @ b\n",
      "/Users/yudhistiraonggowarsito/Documents/SMU/Courses/CS610 - Applied Machine Learning/Project/aml_project/.venv/lib/python3.12/site-packages/sklearn/utils/extmath.py:203: RuntimeWarning: divide by zero encountered in matmul\n",
      "  ret = a @ b\n",
      "/Users/yudhistiraonggowarsito/Documents/SMU/Courses/CS610 - Applied Machine Learning/Project/aml_project/.venv/lib/python3.12/site-packages/sklearn/utils/extmath.py:203: RuntimeWarning: overflow encountered in matmul\n",
      "  ret = a @ b\n",
      "/Users/yudhistiraonggowarsito/Documents/SMU/Courses/CS610 - Applied Machine Learning/Project/aml_project/.venv/lib/python3.12/site-packages/sklearn/utils/extmath.py:203: RuntimeWarning: invalid value encountered in matmul\n",
      "  ret = a @ b\n"
     ]
    },
    {
     "name": "stdout",
     "output_type": "stream",
     "text": [
      "[Run 2] Iter 17 F1-illicit: 0.6001\n"
     ]
    },
    {
     "name": "stderr",
     "output_type": "stream",
     "text": [
      "/Users/yudhistiraonggowarsito/Documents/SMU/Courses/CS610 - Applied Machine Learning/Project/aml_project/.venv/lib/python3.12/site-packages/sklearn/utils/extmath.py:203: RuntimeWarning: divide by zero encountered in matmul\n",
      "  ret = a @ b\n",
      "/Users/yudhistiraonggowarsito/Documents/SMU/Courses/CS610 - Applied Machine Learning/Project/aml_project/.venv/lib/python3.12/site-packages/sklearn/utils/extmath.py:203: RuntimeWarning: overflow encountered in matmul\n",
      "  ret = a @ b\n",
      "/Users/yudhistiraonggowarsito/Documents/SMU/Courses/CS610 - Applied Machine Learning/Project/aml_project/.venv/lib/python3.12/site-packages/sklearn/utils/extmath.py:203: RuntimeWarning: invalid value encountered in matmul\n",
      "  ret = a @ b\n",
      "/Users/yudhistiraonggowarsito/Documents/SMU/Courses/CS610 - Applied Machine Learning/Project/aml_project/.venv/lib/python3.12/site-packages/sklearn/utils/extmath.py:203: RuntimeWarning: divide by zero encountered in matmul\n",
      "  ret = a @ b\n",
      "/Users/yudhistiraonggowarsito/Documents/SMU/Courses/CS610 - Applied Machine Learning/Project/aml_project/.venv/lib/python3.12/site-packages/sklearn/utils/extmath.py:203: RuntimeWarning: overflow encountered in matmul\n",
      "  ret = a @ b\n",
      "/Users/yudhistiraonggowarsito/Documents/SMU/Courses/CS610 - Applied Machine Learning/Project/aml_project/.venv/lib/python3.12/site-packages/sklearn/utils/extmath.py:203: RuntimeWarning: invalid value encountered in matmul\n",
      "  ret = a @ b\n"
     ]
    },
    {
     "name": "stdout",
     "output_type": "stream",
     "text": [
      "[Run 2] Iter 18 F1-illicit: 0.5959\n"
     ]
    },
    {
     "name": "stderr",
     "output_type": "stream",
     "text": [
      "/Users/yudhistiraonggowarsito/Documents/SMU/Courses/CS610 - Applied Machine Learning/Project/aml_project/.venv/lib/python3.12/site-packages/sklearn/utils/extmath.py:203: RuntimeWarning: divide by zero encountered in matmul\n",
      "  ret = a @ b\n",
      "/Users/yudhistiraonggowarsito/Documents/SMU/Courses/CS610 - Applied Machine Learning/Project/aml_project/.venv/lib/python3.12/site-packages/sklearn/utils/extmath.py:203: RuntimeWarning: overflow encountered in matmul\n",
      "  ret = a @ b\n",
      "/Users/yudhistiraonggowarsito/Documents/SMU/Courses/CS610 - Applied Machine Learning/Project/aml_project/.venv/lib/python3.12/site-packages/sklearn/utils/extmath.py:203: RuntimeWarning: invalid value encountered in matmul\n",
      "  ret = a @ b\n",
      "/Users/yudhistiraonggowarsito/Documents/SMU/Courses/CS610 - Applied Machine Learning/Project/aml_project/.venv/lib/python3.12/site-packages/sklearn/utils/extmath.py:203: RuntimeWarning: divide by zero encountered in matmul\n",
      "  ret = a @ b\n",
      "/Users/yudhistiraonggowarsito/Documents/SMU/Courses/CS610 - Applied Machine Learning/Project/aml_project/.venv/lib/python3.12/site-packages/sklearn/utils/extmath.py:203: RuntimeWarning: overflow encountered in matmul\n",
      "  ret = a @ b\n",
      "/Users/yudhistiraonggowarsito/Documents/SMU/Courses/CS610 - Applied Machine Learning/Project/aml_project/.venv/lib/python3.12/site-packages/sklearn/utils/extmath.py:203: RuntimeWarning: invalid value encountered in matmul\n",
      "  ret = a @ b\n"
     ]
    },
    {
     "name": "stdout",
     "output_type": "stream",
     "text": [
      "[Run 2] Iter 19 F1-illicit: 0.5832\n"
     ]
    },
    {
     "name": "stderr",
     "output_type": "stream",
     "text": [
      "/Users/yudhistiraonggowarsito/Documents/SMU/Courses/CS610 - Applied Machine Learning/Project/aml_project/.venv/lib/python3.12/site-packages/sklearn/utils/extmath.py:203: RuntimeWarning: divide by zero encountered in matmul\n",
      "  ret = a @ b\n",
      "/Users/yudhistiraonggowarsito/Documents/SMU/Courses/CS610 - Applied Machine Learning/Project/aml_project/.venv/lib/python3.12/site-packages/sklearn/utils/extmath.py:203: RuntimeWarning: overflow encountered in matmul\n",
      "  ret = a @ b\n",
      "/Users/yudhistiraonggowarsito/Documents/SMU/Courses/CS610 - Applied Machine Learning/Project/aml_project/.venv/lib/python3.12/site-packages/sklearn/utils/extmath.py:203: RuntimeWarning: invalid value encountered in matmul\n",
      "  ret = a @ b\n",
      "/Users/yudhistiraonggowarsito/Documents/SMU/Courses/CS610 - Applied Machine Learning/Project/aml_project/.venv/lib/python3.12/site-packages/sklearn/utils/extmath.py:203: RuntimeWarning: divide by zero encountered in matmul\n",
      "  ret = a @ b\n",
      "/Users/yudhistiraonggowarsito/Documents/SMU/Courses/CS610 - Applied Machine Learning/Project/aml_project/.venv/lib/python3.12/site-packages/sklearn/utils/extmath.py:203: RuntimeWarning: overflow encountered in matmul\n",
      "  ret = a @ b\n",
      "/Users/yudhistiraonggowarsito/Documents/SMU/Courses/CS610 - Applied Machine Learning/Project/aml_project/.venv/lib/python3.12/site-packages/sklearn/utils/extmath.py:203: RuntimeWarning: invalid value encountered in matmul\n",
      "  ret = a @ b\n"
     ]
    },
    {
     "name": "stdout",
     "output_type": "stream",
     "text": [
      "[Run 2] Iter 20 F1-illicit: 0.5805\n"
     ]
    },
    {
     "name": "stderr",
     "output_type": "stream",
     "text": [
      "/Users/yudhistiraonggowarsito/Documents/SMU/Courses/CS610 - Applied Machine Learning/Project/aml_project/.venv/lib/python3.12/site-packages/sklearn/utils/extmath.py:203: RuntimeWarning: divide by zero encountered in matmul\n",
      "  ret = a @ b\n",
      "/Users/yudhistiraonggowarsito/Documents/SMU/Courses/CS610 - Applied Machine Learning/Project/aml_project/.venv/lib/python3.12/site-packages/sklearn/utils/extmath.py:203: RuntimeWarning: overflow encountered in matmul\n",
      "  ret = a @ b\n",
      "/Users/yudhistiraonggowarsito/Documents/SMU/Courses/CS610 - Applied Machine Learning/Project/aml_project/.venv/lib/python3.12/site-packages/sklearn/utils/extmath.py:203: RuntimeWarning: invalid value encountered in matmul\n",
      "  ret = a @ b\n",
      "/Users/yudhistiraonggowarsito/Documents/SMU/Courses/CS610 - Applied Machine Learning/Project/aml_project/.venv/lib/python3.12/site-packages/sklearn/utils/extmath.py:203: RuntimeWarning: divide by zero encountered in matmul\n",
      "  ret = a @ b\n",
      "/Users/yudhistiraonggowarsito/Documents/SMU/Courses/CS610 - Applied Machine Learning/Project/aml_project/.venv/lib/python3.12/site-packages/sklearn/utils/extmath.py:203: RuntimeWarning: overflow encountered in matmul\n",
      "  ret = a @ b\n",
      "/Users/yudhistiraonggowarsito/Documents/SMU/Courses/CS610 - Applied Machine Learning/Project/aml_project/.venv/lib/python3.12/site-packages/sklearn/utils/extmath.py:203: RuntimeWarning: invalid value encountered in matmul\n",
      "  ret = a @ b\n"
     ]
    },
    {
     "name": "stdout",
     "output_type": "stream",
     "text": [
      "[Run 2] Iter 21 F1-illicit: 0.5758\n"
     ]
    },
    {
     "name": "stderr",
     "output_type": "stream",
     "text": [
      "/Users/yudhistiraonggowarsito/Documents/SMU/Courses/CS610 - Applied Machine Learning/Project/aml_project/.venv/lib/python3.12/site-packages/sklearn/utils/extmath.py:203: RuntimeWarning: divide by zero encountered in matmul\n",
      "  ret = a @ b\n",
      "/Users/yudhistiraonggowarsito/Documents/SMU/Courses/CS610 - Applied Machine Learning/Project/aml_project/.venv/lib/python3.12/site-packages/sklearn/utils/extmath.py:203: RuntimeWarning: overflow encountered in matmul\n",
      "  ret = a @ b\n",
      "/Users/yudhistiraonggowarsito/Documents/SMU/Courses/CS610 - Applied Machine Learning/Project/aml_project/.venv/lib/python3.12/site-packages/sklearn/utils/extmath.py:203: RuntimeWarning: invalid value encountered in matmul\n",
      "  ret = a @ b\n",
      "/Users/yudhistiraonggowarsito/Documents/SMU/Courses/CS610 - Applied Machine Learning/Project/aml_project/.venv/lib/python3.12/site-packages/sklearn/utils/extmath.py:203: RuntimeWarning: divide by zero encountered in matmul\n",
      "  ret = a @ b\n",
      "/Users/yudhistiraonggowarsito/Documents/SMU/Courses/CS610 - Applied Machine Learning/Project/aml_project/.venv/lib/python3.12/site-packages/sklearn/utils/extmath.py:203: RuntimeWarning: overflow encountered in matmul\n",
      "  ret = a @ b\n",
      "/Users/yudhistiraonggowarsito/Documents/SMU/Courses/CS610 - Applied Machine Learning/Project/aml_project/.venv/lib/python3.12/site-packages/sklearn/utils/extmath.py:203: RuntimeWarning: invalid value encountered in matmul\n",
      "  ret = a @ b\n"
     ]
    },
    {
     "name": "stdout",
     "output_type": "stream",
     "text": [
      "[Run 2] Iter 22 F1-illicit: 0.5783\n"
     ]
    },
    {
     "name": "stderr",
     "output_type": "stream",
     "text": [
      "/Users/yudhistiraonggowarsito/Documents/SMU/Courses/CS610 - Applied Machine Learning/Project/aml_project/.venv/lib/python3.12/site-packages/sklearn/utils/extmath.py:203: RuntimeWarning: divide by zero encountered in matmul\n",
      "  ret = a @ b\n",
      "/Users/yudhistiraonggowarsito/Documents/SMU/Courses/CS610 - Applied Machine Learning/Project/aml_project/.venv/lib/python3.12/site-packages/sklearn/utils/extmath.py:203: RuntimeWarning: overflow encountered in matmul\n",
      "  ret = a @ b\n",
      "/Users/yudhistiraonggowarsito/Documents/SMU/Courses/CS610 - Applied Machine Learning/Project/aml_project/.venv/lib/python3.12/site-packages/sklearn/utils/extmath.py:203: RuntimeWarning: invalid value encountered in matmul\n",
      "  ret = a @ b\n",
      "/Users/yudhistiraonggowarsito/Documents/SMU/Courses/CS610 - Applied Machine Learning/Project/aml_project/.venv/lib/python3.12/site-packages/sklearn/utils/extmath.py:203: RuntimeWarning: divide by zero encountered in matmul\n",
      "  ret = a @ b\n",
      "/Users/yudhistiraonggowarsito/Documents/SMU/Courses/CS610 - Applied Machine Learning/Project/aml_project/.venv/lib/python3.12/site-packages/sklearn/utils/extmath.py:203: RuntimeWarning: overflow encountered in matmul\n",
      "  ret = a @ b\n",
      "/Users/yudhistiraonggowarsito/Documents/SMU/Courses/CS610 - Applied Machine Learning/Project/aml_project/.venv/lib/python3.12/site-packages/sklearn/utils/extmath.py:203: RuntimeWarning: invalid value encountered in matmul\n",
      "  ret = a @ b\n"
     ]
    },
    {
     "name": "stdout",
     "output_type": "stream",
     "text": [
      "[Run 2] Iter 23 F1-illicit: 0.5727\n"
     ]
    },
    {
     "name": "stderr",
     "output_type": "stream",
     "text": [
      "/Users/yudhistiraonggowarsito/Documents/SMU/Courses/CS610 - Applied Machine Learning/Project/aml_project/.venv/lib/python3.12/site-packages/sklearn/utils/extmath.py:203: RuntimeWarning: divide by zero encountered in matmul\n",
      "  ret = a @ b\n",
      "/Users/yudhistiraonggowarsito/Documents/SMU/Courses/CS610 - Applied Machine Learning/Project/aml_project/.venv/lib/python3.12/site-packages/sklearn/utils/extmath.py:203: RuntimeWarning: overflow encountered in matmul\n",
      "  ret = a @ b\n",
      "/Users/yudhistiraonggowarsito/Documents/SMU/Courses/CS610 - Applied Machine Learning/Project/aml_project/.venv/lib/python3.12/site-packages/sklearn/utils/extmath.py:203: RuntimeWarning: invalid value encountered in matmul\n",
      "  ret = a @ b\n",
      "/Users/yudhistiraonggowarsito/Documents/SMU/Courses/CS610 - Applied Machine Learning/Project/aml_project/.venv/lib/python3.12/site-packages/sklearn/utils/extmath.py:203: RuntimeWarning: divide by zero encountered in matmul\n",
      "  ret = a @ b\n",
      "/Users/yudhistiraonggowarsito/Documents/SMU/Courses/CS610 - Applied Machine Learning/Project/aml_project/.venv/lib/python3.12/site-packages/sklearn/utils/extmath.py:203: RuntimeWarning: overflow encountered in matmul\n",
      "  ret = a @ b\n",
      "/Users/yudhistiraonggowarsito/Documents/SMU/Courses/CS610 - Applied Machine Learning/Project/aml_project/.venv/lib/python3.12/site-packages/sklearn/utils/extmath.py:203: RuntimeWarning: invalid value encountered in matmul\n",
      "  ret = a @ b\n"
     ]
    },
    {
     "name": "stdout",
     "output_type": "stream",
     "text": [
      "[Run 2] Iter 24 F1-illicit: 0.5721\n"
     ]
    },
    {
     "name": "stderr",
     "output_type": "stream",
     "text": [
      "/Users/yudhistiraonggowarsito/Documents/SMU/Courses/CS610 - Applied Machine Learning/Project/aml_project/.venv/lib/python3.12/site-packages/sklearn/utils/extmath.py:203: RuntimeWarning: divide by zero encountered in matmul\n",
      "  ret = a @ b\n",
      "/Users/yudhistiraonggowarsito/Documents/SMU/Courses/CS610 - Applied Machine Learning/Project/aml_project/.venv/lib/python3.12/site-packages/sklearn/utils/extmath.py:203: RuntimeWarning: overflow encountered in matmul\n",
      "  ret = a @ b\n",
      "/Users/yudhistiraonggowarsito/Documents/SMU/Courses/CS610 - Applied Machine Learning/Project/aml_project/.venv/lib/python3.12/site-packages/sklearn/utils/extmath.py:203: RuntimeWarning: invalid value encountered in matmul\n",
      "  ret = a @ b\n",
      "/Users/yudhistiraonggowarsito/Documents/SMU/Courses/CS610 - Applied Machine Learning/Project/aml_project/.venv/lib/python3.12/site-packages/sklearn/utils/extmath.py:203: RuntimeWarning: divide by zero encountered in matmul\n",
      "  ret = a @ b\n",
      "/Users/yudhistiraonggowarsito/Documents/SMU/Courses/CS610 - Applied Machine Learning/Project/aml_project/.venv/lib/python3.12/site-packages/sklearn/utils/extmath.py:203: RuntimeWarning: overflow encountered in matmul\n",
      "  ret = a @ b\n",
      "/Users/yudhistiraonggowarsito/Documents/SMU/Courses/CS610 - Applied Machine Learning/Project/aml_project/.venv/lib/python3.12/site-packages/sklearn/utils/extmath.py:203: RuntimeWarning: invalid value encountered in matmul\n",
      "  ret = a @ b\n"
     ]
    },
    {
     "name": "stdout",
     "output_type": "stream",
     "text": [
      "[Run 2] Iter 25 F1-illicit: 0.5664\n"
     ]
    },
    {
     "name": "stderr",
     "output_type": "stream",
     "text": [
      "/Users/yudhistiraonggowarsito/Documents/SMU/Courses/CS610 - Applied Machine Learning/Project/aml_project/.venv/lib/python3.12/site-packages/sklearn/utils/extmath.py:203: RuntimeWarning: divide by zero encountered in matmul\n",
      "  ret = a @ b\n",
      "/Users/yudhistiraonggowarsito/Documents/SMU/Courses/CS610 - Applied Machine Learning/Project/aml_project/.venv/lib/python3.12/site-packages/sklearn/utils/extmath.py:203: RuntimeWarning: overflow encountered in matmul\n",
      "  ret = a @ b\n",
      "/Users/yudhistiraonggowarsito/Documents/SMU/Courses/CS610 - Applied Machine Learning/Project/aml_project/.venv/lib/python3.12/site-packages/sklearn/utils/extmath.py:203: RuntimeWarning: invalid value encountered in matmul\n",
      "  ret = a @ b\n",
      "/Users/yudhistiraonggowarsito/Documents/SMU/Courses/CS610 - Applied Machine Learning/Project/aml_project/.venv/lib/python3.12/site-packages/sklearn/utils/extmath.py:203: RuntimeWarning: divide by zero encountered in matmul\n",
      "  ret = a @ b\n",
      "/Users/yudhistiraonggowarsito/Documents/SMU/Courses/CS610 - Applied Machine Learning/Project/aml_project/.venv/lib/python3.12/site-packages/sklearn/utils/extmath.py:203: RuntimeWarning: overflow encountered in matmul\n",
      "  ret = a @ b\n",
      "/Users/yudhistiraonggowarsito/Documents/SMU/Courses/CS610 - Applied Machine Learning/Project/aml_project/.venv/lib/python3.12/site-packages/sklearn/utils/extmath.py:203: RuntimeWarning: invalid value encountered in matmul\n",
      "  ret = a @ b\n"
     ]
    },
    {
     "name": "stdout",
     "output_type": "stream",
     "text": [
      "[Run 2] Iter 26 F1-illicit: 0.5700\n"
     ]
    },
    {
     "name": "stderr",
     "output_type": "stream",
     "text": [
      "/Users/yudhistiraonggowarsito/Documents/SMU/Courses/CS610 - Applied Machine Learning/Project/aml_project/.venv/lib/python3.12/site-packages/sklearn/utils/extmath.py:203: RuntimeWarning: divide by zero encountered in matmul\n",
      "  ret = a @ b\n",
      "/Users/yudhistiraonggowarsito/Documents/SMU/Courses/CS610 - Applied Machine Learning/Project/aml_project/.venv/lib/python3.12/site-packages/sklearn/utils/extmath.py:203: RuntimeWarning: overflow encountered in matmul\n",
      "  ret = a @ b\n",
      "/Users/yudhistiraonggowarsito/Documents/SMU/Courses/CS610 - Applied Machine Learning/Project/aml_project/.venv/lib/python3.12/site-packages/sklearn/utils/extmath.py:203: RuntimeWarning: invalid value encountered in matmul\n",
      "  ret = a @ b\n",
      "/Users/yudhistiraonggowarsito/Documents/SMU/Courses/CS610 - Applied Machine Learning/Project/aml_project/.venv/lib/python3.12/site-packages/sklearn/utils/extmath.py:203: RuntimeWarning: divide by zero encountered in matmul\n",
      "  ret = a @ b\n",
      "/Users/yudhistiraonggowarsito/Documents/SMU/Courses/CS610 - Applied Machine Learning/Project/aml_project/.venv/lib/python3.12/site-packages/sklearn/utils/extmath.py:203: RuntimeWarning: overflow encountered in matmul\n",
      "  ret = a @ b\n",
      "/Users/yudhistiraonggowarsito/Documents/SMU/Courses/CS610 - Applied Machine Learning/Project/aml_project/.venv/lib/python3.12/site-packages/sklearn/utils/extmath.py:203: RuntimeWarning: invalid value encountered in matmul\n",
      "  ret = a @ b\n"
     ]
    },
    {
     "name": "stdout",
     "output_type": "stream",
     "text": [
      "[Run 2] Iter 27 F1-illicit: 0.5650\n"
     ]
    },
    {
     "name": "stderr",
     "output_type": "stream",
     "text": [
      "/Users/yudhistiraonggowarsito/Documents/SMU/Courses/CS610 - Applied Machine Learning/Project/aml_project/.venv/lib/python3.12/site-packages/sklearn/utils/extmath.py:203: RuntimeWarning: divide by zero encountered in matmul\n",
      "  ret = a @ b\n",
      "/Users/yudhistiraonggowarsito/Documents/SMU/Courses/CS610 - Applied Machine Learning/Project/aml_project/.venv/lib/python3.12/site-packages/sklearn/utils/extmath.py:203: RuntimeWarning: overflow encountered in matmul\n",
      "  ret = a @ b\n",
      "/Users/yudhistiraonggowarsito/Documents/SMU/Courses/CS610 - Applied Machine Learning/Project/aml_project/.venv/lib/python3.12/site-packages/sklearn/utils/extmath.py:203: RuntimeWarning: invalid value encountered in matmul\n",
      "  ret = a @ b\n",
      "/Users/yudhistiraonggowarsito/Documents/SMU/Courses/CS610 - Applied Machine Learning/Project/aml_project/.venv/lib/python3.12/site-packages/sklearn/utils/extmath.py:203: RuntimeWarning: divide by zero encountered in matmul\n",
      "  ret = a @ b\n",
      "/Users/yudhistiraonggowarsito/Documents/SMU/Courses/CS610 - Applied Machine Learning/Project/aml_project/.venv/lib/python3.12/site-packages/sklearn/utils/extmath.py:203: RuntimeWarning: overflow encountered in matmul\n",
      "  ret = a @ b\n",
      "/Users/yudhistiraonggowarsito/Documents/SMU/Courses/CS610 - Applied Machine Learning/Project/aml_project/.venv/lib/python3.12/site-packages/sklearn/utils/extmath.py:203: RuntimeWarning: invalid value encountered in matmul\n",
      "  ret = a @ b\n"
     ]
    },
    {
     "name": "stdout",
     "output_type": "stream",
     "text": [
      "[Run 2] Iter 28 F1-illicit: 0.5601\n"
     ]
    },
    {
     "name": "stderr",
     "output_type": "stream",
     "text": [
      "/Users/yudhistiraonggowarsito/Documents/SMU/Courses/CS610 - Applied Machine Learning/Project/aml_project/.venv/lib/python3.12/site-packages/sklearn/utils/extmath.py:203: RuntimeWarning: divide by zero encountered in matmul\n",
      "  ret = a @ b\n",
      "/Users/yudhistiraonggowarsito/Documents/SMU/Courses/CS610 - Applied Machine Learning/Project/aml_project/.venv/lib/python3.12/site-packages/sklearn/utils/extmath.py:203: RuntimeWarning: overflow encountered in matmul\n",
      "  ret = a @ b\n",
      "/Users/yudhistiraonggowarsito/Documents/SMU/Courses/CS610 - Applied Machine Learning/Project/aml_project/.venv/lib/python3.12/site-packages/sklearn/utils/extmath.py:203: RuntimeWarning: invalid value encountered in matmul\n",
      "  ret = a @ b\n",
      "/Users/yudhistiraonggowarsito/Documents/SMU/Courses/CS610 - Applied Machine Learning/Project/aml_project/.venv/lib/python3.12/site-packages/sklearn/utils/extmath.py:203: RuntimeWarning: divide by zero encountered in matmul\n",
      "  ret = a @ b\n",
      "/Users/yudhistiraonggowarsito/Documents/SMU/Courses/CS610 - Applied Machine Learning/Project/aml_project/.venv/lib/python3.12/site-packages/sklearn/utils/extmath.py:203: RuntimeWarning: overflow encountered in matmul\n",
      "  ret = a @ b\n",
      "/Users/yudhistiraonggowarsito/Documents/SMU/Courses/CS610 - Applied Machine Learning/Project/aml_project/.venv/lib/python3.12/site-packages/sklearn/utils/extmath.py:203: RuntimeWarning: invalid value encountered in matmul\n",
      "  ret = a @ b\n"
     ]
    },
    {
     "name": "stdout",
     "output_type": "stream",
     "text": [
      "[Run 2] Iter 29 F1-illicit: 0.5490\n"
     ]
    },
    {
     "name": "stderr",
     "output_type": "stream",
     "text": [
      "/Users/yudhistiraonggowarsito/Documents/SMU/Courses/CS610 - Applied Machine Learning/Project/aml_project/.venv/lib/python3.12/site-packages/sklearn/utils/extmath.py:203: RuntimeWarning: divide by zero encountered in matmul\n",
      "  ret = a @ b\n",
      "/Users/yudhistiraonggowarsito/Documents/SMU/Courses/CS610 - Applied Machine Learning/Project/aml_project/.venv/lib/python3.12/site-packages/sklearn/utils/extmath.py:203: RuntimeWarning: overflow encountered in matmul\n",
      "  ret = a @ b\n",
      "/Users/yudhistiraonggowarsito/Documents/SMU/Courses/CS610 - Applied Machine Learning/Project/aml_project/.venv/lib/python3.12/site-packages/sklearn/utils/extmath.py:203: RuntimeWarning: invalid value encountered in matmul\n",
      "  ret = a @ b\n",
      "/Users/yudhistiraonggowarsito/Documents/SMU/Courses/CS610 - Applied Machine Learning/Project/aml_project/.venv/lib/python3.12/site-packages/sklearn/utils/extmath.py:203: RuntimeWarning: divide by zero encountered in matmul\n",
      "  ret = a @ b\n",
      "/Users/yudhistiraonggowarsito/Documents/SMU/Courses/CS610 - Applied Machine Learning/Project/aml_project/.venv/lib/python3.12/site-packages/sklearn/utils/extmath.py:203: RuntimeWarning: overflow encountered in matmul\n",
      "  ret = a @ b\n",
      "/Users/yudhistiraonggowarsito/Documents/SMU/Courses/CS610 - Applied Machine Learning/Project/aml_project/.venv/lib/python3.12/site-packages/sklearn/utils/extmath.py:203: RuntimeWarning: invalid value encountered in matmul\n",
      "  ret = a @ b\n",
      "/var/folders/2v/617m0pq96qq942zr8nbfyzch0000gn/T/ipykernel_29924/2909400616.py:51: FutureWarning: The behavior of DataFrame concatenation with empty or all-NA entries is deprecated. In a future version, this will no longer exclude empty or all-NA columns when determining the result dtypes. To retain the old behavior, exclude the relevant entries before the concat operation.\n",
      "  labeled_pool = pd.concat([labeled_pool, batch], ignore_index=True)\n",
      "/Users/yudhistiraonggowarsito/Documents/SMU/Courses/CS610 - Applied Machine Learning/Project/aml_project/.venv/lib/python3.12/site-packages/sklearn/utils/extmath.py:203: RuntimeWarning: divide by zero encountered in matmul\n",
      "  ret = a @ b\n",
      "/Users/yudhistiraonggowarsito/Documents/SMU/Courses/CS610 - Applied Machine Learning/Project/aml_project/.venv/lib/python3.12/site-packages/sklearn/utils/extmath.py:203: RuntimeWarning: overflow encountered in matmul\n",
      "  ret = a @ b\n",
      "/Users/yudhistiraonggowarsito/Documents/SMU/Courses/CS610 - Applied Machine Learning/Project/aml_project/.venv/lib/python3.12/site-packages/sklearn/utils/extmath.py:203: RuntimeWarning: invalid value encountered in matmul\n",
      "  ret = a @ b\n",
      "/Users/yudhistiraonggowarsito/Documents/SMU/Courses/CS610 - Applied Machine Learning/Project/aml_project/.venv/lib/python3.12/site-packages/sklearn/utils/extmath.py:203: RuntimeWarning: divide by zero encountered in matmul\n",
      "  ret = a @ b\n",
      "/Users/yudhistiraonggowarsito/Documents/SMU/Courses/CS610 - Applied Machine Learning/Project/aml_project/.venv/lib/python3.12/site-packages/sklearn/utils/extmath.py:203: RuntimeWarning: overflow encountered in matmul\n",
      "  ret = a @ b\n",
      "/Users/yudhistiraonggowarsito/Documents/SMU/Courses/CS610 - Applied Machine Learning/Project/aml_project/.venv/lib/python3.12/site-packages/sklearn/utils/extmath.py:203: RuntimeWarning: invalid value encountered in matmul\n",
      "  ret = a @ b\n",
      "/Users/yudhistiraonggowarsito/Documents/SMU/Courses/CS610 - Applied Machine Learning/Project/aml_project/.venv/lib/python3.12/site-packages/sklearn/utils/extmath.py:203: RuntimeWarning: divide by zero encountered in matmul\n",
      "  ret = a @ b\n",
      "/Users/yudhistiraonggowarsito/Documents/SMU/Courses/CS610 - Applied Machine Learning/Project/aml_project/.venv/lib/python3.12/site-packages/sklearn/utils/extmath.py:203: RuntimeWarning: overflow encountered in matmul\n",
      "  ret = a @ b\n",
      "/Users/yudhistiraonggowarsito/Documents/SMU/Courses/CS610 - Applied Machine Learning/Project/aml_project/.venv/lib/python3.12/site-packages/sklearn/utils/extmath.py:203: RuntimeWarning: invalid value encountered in matmul\n",
      "  ret = a @ b\n",
      "/Users/yudhistiraonggowarsito/Documents/SMU/Courses/CS610 - Applied Machine Learning/Project/aml_project/.venv/lib/python3.12/site-packages/sklearn/utils/extmath.py:203: RuntimeWarning: divide by zero encountered in matmul\n",
      "  ret = a @ b\n",
      "/Users/yudhistiraonggowarsito/Documents/SMU/Courses/CS610 - Applied Machine Learning/Project/aml_project/.venv/lib/python3.12/site-packages/sklearn/utils/extmath.py:203: RuntimeWarning: overflow encountered in matmul\n",
      "  ret = a @ b\n",
      "/Users/yudhistiraonggowarsito/Documents/SMU/Courses/CS610 - Applied Machine Learning/Project/aml_project/.venv/lib/python3.12/site-packages/sklearn/utils/extmath.py:203: RuntimeWarning: invalid value encountered in matmul\n",
      "  ret = a @ b\n",
      "/Users/yudhistiraonggowarsito/Documents/SMU/Courses/CS610 - Applied Machine Learning/Project/aml_project/.venv/lib/python3.12/site-packages/sklearn/utils/extmath.py:203: RuntimeWarning: divide by zero encountered in matmul\n",
      "  ret = a @ b\n",
      "/Users/yudhistiraonggowarsito/Documents/SMU/Courses/CS610 - Applied Machine Learning/Project/aml_project/.venv/lib/python3.12/site-packages/sklearn/utils/extmath.py:203: RuntimeWarning: overflow encountered in matmul\n",
      "  ret = a @ b\n",
      "/Users/yudhistiraonggowarsito/Documents/SMU/Courses/CS610 - Applied Machine Learning/Project/aml_project/.venv/lib/python3.12/site-packages/sklearn/utils/extmath.py:203: RuntimeWarning: invalid value encountered in matmul\n",
      "  ret = a @ b\n",
      "/Users/yudhistiraonggowarsito/Documents/SMU/Courses/CS610 - Applied Machine Learning/Project/aml_project/.venv/lib/python3.12/site-packages/sklearn/utils/extmath.py:203: RuntimeWarning: divide by zero encountered in matmul\n",
      "  ret = a @ b\n",
      "/Users/yudhistiraonggowarsito/Documents/SMU/Courses/CS610 - Applied Machine Learning/Project/aml_project/.venv/lib/python3.12/site-packages/sklearn/utils/extmath.py:203: RuntimeWarning: overflow encountered in matmul\n",
      "  ret = a @ b\n",
      "/Users/yudhistiraonggowarsito/Documents/SMU/Courses/CS610 - Applied Machine Learning/Project/aml_project/.venv/lib/python3.12/site-packages/sklearn/utils/extmath.py:203: RuntimeWarning: invalid value encountered in matmul\n",
      "  ret = a @ b\n"
     ]
    },
    {
     "name": "stdout",
     "output_type": "stream",
     "text": [
      "[Run 2] Iter 30 F1-illicit: 0.5358\n",
      "\n",
      "=== Run 3/5 ===\n",
      "[Run 3] Iter 1 F1-illicit: 0.1912\n",
      "[Run 3] Iter 2 F1-illicit: 0.1878\n",
      "[Run 3] Iter 3 F1-illicit: 0.2257\n"
     ]
    },
    {
     "name": "stderr",
     "output_type": "stream",
     "text": [
      "/Users/yudhistiraonggowarsito/Documents/SMU/Courses/CS610 - Applied Machine Learning/Project/aml_project/.venv/lib/python3.12/site-packages/sklearn/utils/extmath.py:203: RuntimeWarning: divide by zero encountered in matmul\n",
      "  ret = a @ b\n",
      "/Users/yudhistiraonggowarsito/Documents/SMU/Courses/CS610 - Applied Machine Learning/Project/aml_project/.venv/lib/python3.12/site-packages/sklearn/utils/extmath.py:203: RuntimeWarning: overflow encountered in matmul\n",
      "  ret = a @ b\n",
      "/Users/yudhistiraonggowarsito/Documents/SMU/Courses/CS610 - Applied Machine Learning/Project/aml_project/.venv/lib/python3.12/site-packages/sklearn/utils/extmath.py:203: RuntimeWarning: invalid value encountered in matmul\n",
      "  ret = a @ b\n",
      "/Users/yudhistiraonggowarsito/Documents/SMU/Courses/CS610 - Applied Machine Learning/Project/aml_project/.venv/lib/python3.12/site-packages/sklearn/utils/extmath.py:203: RuntimeWarning: divide by zero encountered in matmul\n",
      "  ret = a @ b\n",
      "/Users/yudhistiraonggowarsito/Documents/SMU/Courses/CS610 - Applied Machine Learning/Project/aml_project/.venv/lib/python3.12/site-packages/sklearn/utils/extmath.py:203: RuntimeWarning: overflow encountered in matmul\n",
      "  ret = a @ b\n",
      "/Users/yudhistiraonggowarsito/Documents/SMU/Courses/CS610 - Applied Machine Learning/Project/aml_project/.venv/lib/python3.12/site-packages/sklearn/utils/extmath.py:203: RuntimeWarning: invalid value encountered in matmul\n",
      "  ret = a @ b\n",
      "/Users/yudhistiraonggowarsito/Documents/SMU/Courses/CS610 - Applied Machine Learning/Project/aml_project/.venv/lib/python3.12/site-packages/sklearn/utils/extmath.py:203: RuntimeWarning: divide by zero encountered in matmul\n",
      "  ret = a @ b\n",
      "/Users/yudhistiraonggowarsito/Documents/SMU/Courses/CS610 - Applied Machine Learning/Project/aml_project/.venv/lib/python3.12/site-packages/sklearn/utils/extmath.py:203: RuntimeWarning: overflow encountered in matmul\n",
      "  ret = a @ b\n",
      "/Users/yudhistiraonggowarsito/Documents/SMU/Courses/CS610 - Applied Machine Learning/Project/aml_project/.venv/lib/python3.12/site-packages/sklearn/utils/extmath.py:203: RuntimeWarning: invalid value encountered in matmul\n",
      "  ret = a @ b\n",
      "/Users/yudhistiraonggowarsito/Documents/SMU/Courses/CS610 - Applied Machine Learning/Project/aml_project/.venv/lib/python3.12/site-packages/sklearn/utils/extmath.py:203: RuntimeWarning: divide by zero encountered in matmul\n",
      "  ret = a @ b\n",
      "/Users/yudhistiraonggowarsito/Documents/SMU/Courses/CS610 - Applied Machine Learning/Project/aml_project/.venv/lib/python3.12/site-packages/sklearn/utils/extmath.py:203: RuntimeWarning: overflow encountered in matmul\n",
      "  ret = a @ b\n",
      "/Users/yudhistiraonggowarsito/Documents/SMU/Courses/CS610 - Applied Machine Learning/Project/aml_project/.venv/lib/python3.12/site-packages/sklearn/utils/extmath.py:203: RuntimeWarning: invalid value encountered in matmul\n",
      "  ret = a @ b\n",
      "/Users/yudhistiraonggowarsito/Documents/SMU/Courses/CS610 - Applied Machine Learning/Project/aml_project/.venv/lib/python3.12/site-packages/sklearn/utils/extmath.py:203: RuntimeWarning: divide by zero encountered in matmul\n",
      "  ret = a @ b\n",
      "/Users/yudhistiraonggowarsito/Documents/SMU/Courses/CS610 - Applied Machine Learning/Project/aml_project/.venv/lib/python3.12/site-packages/sklearn/utils/extmath.py:203: RuntimeWarning: overflow encountered in matmul\n",
      "  ret = a @ b\n",
      "/Users/yudhistiraonggowarsito/Documents/SMU/Courses/CS610 - Applied Machine Learning/Project/aml_project/.venv/lib/python3.12/site-packages/sklearn/utils/extmath.py:203: RuntimeWarning: invalid value encountered in matmul\n",
      "  ret = a @ b\n",
      "/Users/yudhistiraonggowarsito/Documents/SMU/Courses/CS610 - Applied Machine Learning/Project/aml_project/.venv/lib/python3.12/site-packages/sklearn/utils/extmath.py:203: RuntimeWarning: divide by zero encountered in matmul\n",
      "  ret = a @ b\n",
      "/Users/yudhistiraonggowarsito/Documents/SMU/Courses/CS610 - Applied Machine Learning/Project/aml_project/.venv/lib/python3.12/site-packages/sklearn/utils/extmath.py:203: RuntimeWarning: overflow encountered in matmul\n",
      "  ret = a @ b\n",
      "/Users/yudhistiraonggowarsito/Documents/SMU/Courses/CS610 - Applied Machine Learning/Project/aml_project/.venv/lib/python3.12/site-packages/sklearn/utils/extmath.py:203: RuntimeWarning: invalid value encountered in matmul\n",
      "  ret = a @ b\n"
     ]
    },
    {
     "name": "stdout",
     "output_type": "stream",
     "text": [
      "[Run 3] Iter 4 F1-illicit: 0.2868\n",
      "[Run 3] Iter 5 F1-illicit: 0.3674\n",
      "[Run 3] Iter 6 F1-illicit: 0.4308\n"
     ]
    },
    {
     "name": "stderr",
     "output_type": "stream",
     "text": [
      "/Users/yudhistiraonggowarsito/Documents/SMU/Courses/CS610 - Applied Machine Learning/Project/aml_project/.venv/lib/python3.12/site-packages/sklearn/utils/extmath.py:203: RuntimeWarning: divide by zero encountered in matmul\n",
      "  ret = a @ b\n",
      "/Users/yudhistiraonggowarsito/Documents/SMU/Courses/CS610 - Applied Machine Learning/Project/aml_project/.venv/lib/python3.12/site-packages/sklearn/utils/extmath.py:203: RuntimeWarning: overflow encountered in matmul\n",
      "  ret = a @ b\n",
      "/Users/yudhistiraonggowarsito/Documents/SMU/Courses/CS610 - Applied Machine Learning/Project/aml_project/.venv/lib/python3.12/site-packages/sklearn/utils/extmath.py:203: RuntimeWarning: invalid value encountered in matmul\n",
      "  ret = a @ b\n",
      "/Users/yudhistiraonggowarsito/Documents/SMU/Courses/CS610 - Applied Machine Learning/Project/aml_project/.venv/lib/python3.12/site-packages/sklearn/utils/extmath.py:203: RuntimeWarning: divide by zero encountered in matmul\n",
      "  ret = a @ b\n",
      "/Users/yudhistiraonggowarsito/Documents/SMU/Courses/CS610 - Applied Machine Learning/Project/aml_project/.venv/lib/python3.12/site-packages/sklearn/utils/extmath.py:203: RuntimeWarning: overflow encountered in matmul\n",
      "  ret = a @ b\n",
      "/Users/yudhistiraonggowarsito/Documents/SMU/Courses/CS610 - Applied Machine Learning/Project/aml_project/.venv/lib/python3.12/site-packages/sklearn/utils/extmath.py:203: RuntimeWarning: invalid value encountered in matmul\n",
      "  ret = a @ b\n",
      "/Users/yudhistiraonggowarsito/Documents/SMU/Courses/CS610 - Applied Machine Learning/Project/aml_project/.venv/lib/python3.12/site-packages/sklearn/utils/extmath.py:203: RuntimeWarning: divide by zero encountered in matmul\n",
      "  ret = a @ b\n",
      "/Users/yudhistiraonggowarsito/Documents/SMU/Courses/CS610 - Applied Machine Learning/Project/aml_project/.venv/lib/python3.12/site-packages/sklearn/utils/extmath.py:203: RuntimeWarning: overflow encountered in matmul\n",
      "  ret = a @ b\n",
      "/Users/yudhistiraonggowarsito/Documents/SMU/Courses/CS610 - Applied Machine Learning/Project/aml_project/.venv/lib/python3.12/site-packages/sklearn/utils/extmath.py:203: RuntimeWarning: invalid value encountered in matmul\n",
      "  ret = a @ b\n",
      "/Users/yudhistiraonggowarsito/Documents/SMU/Courses/CS610 - Applied Machine Learning/Project/aml_project/.venv/lib/python3.12/site-packages/sklearn/utils/extmath.py:203: RuntimeWarning: divide by zero encountered in matmul\n",
      "  ret = a @ b\n",
      "/Users/yudhistiraonggowarsito/Documents/SMU/Courses/CS610 - Applied Machine Learning/Project/aml_project/.venv/lib/python3.12/site-packages/sklearn/utils/extmath.py:203: RuntimeWarning: overflow encountered in matmul\n",
      "  ret = a @ b\n",
      "/Users/yudhistiraonggowarsito/Documents/SMU/Courses/CS610 - Applied Machine Learning/Project/aml_project/.venv/lib/python3.12/site-packages/sklearn/utils/extmath.py:203: RuntimeWarning: invalid value encountered in matmul\n",
      "  ret = a @ b\n"
     ]
    },
    {
     "name": "stdout",
     "output_type": "stream",
     "text": [
      "[Run 3] Iter 7 F1-illicit: 0.5049\n",
      "[Run 3] Iter 8 F1-illicit: 0.5362\n"
     ]
    },
    {
     "name": "stderr",
     "output_type": "stream",
     "text": [
      "/Users/yudhistiraonggowarsito/Documents/SMU/Courses/CS610 - Applied Machine Learning/Project/aml_project/.venv/lib/python3.12/site-packages/sklearn/utils/extmath.py:203: RuntimeWarning: divide by zero encountered in matmul\n",
      "  ret = a @ b\n",
      "/Users/yudhistiraonggowarsito/Documents/SMU/Courses/CS610 - Applied Machine Learning/Project/aml_project/.venv/lib/python3.12/site-packages/sklearn/utils/extmath.py:203: RuntimeWarning: overflow encountered in matmul\n",
      "  ret = a @ b\n",
      "/Users/yudhistiraonggowarsito/Documents/SMU/Courses/CS610 - Applied Machine Learning/Project/aml_project/.venv/lib/python3.12/site-packages/sklearn/utils/extmath.py:203: RuntimeWarning: invalid value encountered in matmul\n",
      "  ret = a @ b\n",
      "/Users/yudhistiraonggowarsito/Documents/SMU/Courses/CS610 - Applied Machine Learning/Project/aml_project/.venv/lib/python3.12/site-packages/sklearn/utils/extmath.py:203: RuntimeWarning: divide by zero encountered in matmul\n",
      "  ret = a @ b\n",
      "/Users/yudhistiraonggowarsito/Documents/SMU/Courses/CS610 - Applied Machine Learning/Project/aml_project/.venv/lib/python3.12/site-packages/sklearn/utils/extmath.py:203: RuntimeWarning: overflow encountered in matmul\n",
      "  ret = a @ b\n",
      "/Users/yudhistiraonggowarsito/Documents/SMU/Courses/CS610 - Applied Machine Learning/Project/aml_project/.venv/lib/python3.12/site-packages/sklearn/utils/extmath.py:203: RuntimeWarning: invalid value encountered in matmul\n",
      "  ret = a @ b\n",
      "/Users/yudhistiraonggowarsito/Documents/SMU/Courses/CS610 - Applied Machine Learning/Project/aml_project/.venv/lib/python3.12/site-packages/sklearn/utils/extmath.py:203: RuntimeWarning: divide by zero encountered in matmul\n",
      "  ret = a @ b\n",
      "/Users/yudhistiraonggowarsito/Documents/SMU/Courses/CS610 - Applied Machine Learning/Project/aml_project/.venv/lib/python3.12/site-packages/sklearn/utils/extmath.py:203: RuntimeWarning: overflow encountered in matmul\n",
      "  ret = a @ b\n",
      "/Users/yudhistiraonggowarsito/Documents/SMU/Courses/CS610 - Applied Machine Learning/Project/aml_project/.venv/lib/python3.12/site-packages/sklearn/utils/extmath.py:203: RuntimeWarning: invalid value encountered in matmul\n",
      "  ret = a @ b\n",
      "/Users/yudhistiraonggowarsito/Documents/SMU/Courses/CS610 - Applied Machine Learning/Project/aml_project/.venv/lib/python3.12/site-packages/sklearn/utils/extmath.py:203: RuntimeWarning: divide by zero encountered in matmul\n",
      "  ret = a @ b\n",
      "/Users/yudhistiraonggowarsito/Documents/SMU/Courses/CS610 - Applied Machine Learning/Project/aml_project/.venv/lib/python3.12/site-packages/sklearn/utils/extmath.py:203: RuntimeWarning: overflow encountered in matmul\n",
      "  ret = a @ b\n",
      "/Users/yudhistiraonggowarsito/Documents/SMU/Courses/CS610 - Applied Machine Learning/Project/aml_project/.venv/lib/python3.12/site-packages/sklearn/utils/extmath.py:203: RuntimeWarning: invalid value encountered in matmul\n",
      "  ret = a @ b\n"
     ]
    },
    {
     "name": "stdout",
     "output_type": "stream",
     "text": [
      "[Run 3] Iter 9 F1-illicit: 0.5311\n",
      "[Run 3] Iter 10 F1-illicit: 0.5040\n"
     ]
    },
    {
     "name": "stderr",
     "output_type": "stream",
     "text": [
      "/Users/yudhistiraonggowarsito/Documents/SMU/Courses/CS610 - Applied Machine Learning/Project/aml_project/.venv/lib/python3.12/site-packages/sklearn/utils/extmath.py:203: RuntimeWarning: divide by zero encountered in matmul\n",
      "  ret = a @ b\n",
      "/Users/yudhistiraonggowarsito/Documents/SMU/Courses/CS610 - Applied Machine Learning/Project/aml_project/.venv/lib/python3.12/site-packages/sklearn/utils/extmath.py:203: RuntimeWarning: overflow encountered in matmul\n",
      "  ret = a @ b\n",
      "/Users/yudhistiraonggowarsito/Documents/SMU/Courses/CS610 - Applied Machine Learning/Project/aml_project/.venv/lib/python3.12/site-packages/sklearn/utils/extmath.py:203: RuntimeWarning: invalid value encountered in matmul\n",
      "  ret = a @ b\n",
      "/Users/yudhistiraonggowarsito/Documents/SMU/Courses/CS610 - Applied Machine Learning/Project/aml_project/.venv/lib/python3.12/site-packages/sklearn/utils/extmath.py:203: RuntimeWarning: divide by zero encountered in matmul\n",
      "  ret = a @ b\n",
      "/Users/yudhistiraonggowarsito/Documents/SMU/Courses/CS610 - Applied Machine Learning/Project/aml_project/.venv/lib/python3.12/site-packages/sklearn/utils/extmath.py:203: RuntimeWarning: overflow encountered in matmul\n",
      "  ret = a @ b\n",
      "/Users/yudhistiraonggowarsito/Documents/SMU/Courses/CS610 - Applied Machine Learning/Project/aml_project/.venv/lib/python3.12/site-packages/sklearn/utils/extmath.py:203: RuntimeWarning: invalid value encountered in matmul\n",
      "  ret = a @ b\n"
     ]
    },
    {
     "name": "stdout",
     "output_type": "stream",
     "text": [
      "[Run 3] Iter 11 F1-illicit: 0.5019\n"
     ]
    },
    {
     "name": "stderr",
     "output_type": "stream",
     "text": [
      "/Users/yudhistiraonggowarsito/Documents/SMU/Courses/CS610 - Applied Machine Learning/Project/aml_project/.venv/lib/python3.12/site-packages/sklearn/utils/extmath.py:203: RuntimeWarning: divide by zero encountered in matmul\n",
      "  ret = a @ b\n",
      "/Users/yudhistiraonggowarsito/Documents/SMU/Courses/CS610 - Applied Machine Learning/Project/aml_project/.venv/lib/python3.12/site-packages/sklearn/utils/extmath.py:203: RuntimeWarning: overflow encountered in matmul\n",
      "  ret = a @ b\n",
      "/Users/yudhistiraonggowarsito/Documents/SMU/Courses/CS610 - Applied Machine Learning/Project/aml_project/.venv/lib/python3.12/site-packages/sklearn/utils/extmath.py:203: RuntimeWarning: invalid value encountered in matmul\n",
      "  ret = a @ b\n",
      "/Users/yudhistiraonggowarsito/Documents/SMU/Courses/CS610 - Applied Machine Learning/Project/aml_project/.venv/lib/python3.12/site-packages/sklearn/utils/extmath.py:203: RuntimeWarning: divide by zero encountered in matmul\n",
      "  ret = a @ b\n",
      "/Users/yudhistiraonggowarsito/Documents/SMU/Courses/CS610 - Applied Machine Learning/Project/aml_project/.venv/lib/python3.12/site-packages/sklearn/utils/extmath.py:203: RuntimeWarning: overflow encountered in matmul\n",
      "  ret = a @ b\n",
      "/Users/yudhistiraonggowarsito/Documents/SMU/Courses/CS610 - Applied Machine Learning/Project/aml_project/.venv/lib/python3.12/site-packages/sklearn/utils/extmath.py:203: RuntimeWarning: invalid value encountered in matmul\n",
      "  ret = a @ b\n"
     ]
    },
    {
     "name": "stdout",
     "output_type": "stream",
     "text": [
      "[Run 3] Iter 12 F1-illicit: 0.4957\n"
     ]
    },
    {
     "name": "stderr",
     "output_type": "stream",
     "text": [
      "/Users/yudhistiraonggowarsito/Documents/SMU/Courses/CS610 - Applied Machine Learning/Project/aml_project/.venv/lib/python3.12/site-packages/sklearn/utils/extmath.py:203: RuntimeWarning: divide by zero encountered in matmul\n",
      "  ret = a @ b\n",
      "/Users/yudhistiraonggowarsito/Documents/SMU/Courses/CS610 - Applied Machine Learning/Project/aml_project/.venv/lib/python3.12/site-packages/sklearn/utils/extmath.py:203: RuntimeWarning: overflow encountered in matmul\n",
      "  ret = a @ b\n",
      "/Users/yudhistiraonggowarsito/Documents/SMU/Courses/CS610 - Applied Machine Learning/Project/aml_project/.venv/lib/python3.12/site-packages/sklearn/utils/extmath.py:203: RuntimeWarning: invalid value encountered in matmul\n",
      "  ret = a @ b\n",
      "/Users/yudhistiraonggowarsito/Documents/SMU/Courses/CS610 - Applied Machine Learning/Project/aml_project/.venv/lib/python3.12/site-packages/sklearn/utils/extmath.py:203: RuntimeWarning: divide by zero encountered in matmul\n",
      "  ret = a @ b\n",
      "/Users/yudhistiraonggowarsito/Documents/SMU/Courses/CS610 - Applied Machine Learning/Project/aml_project/.venv/lib/python3.12/site-packages/sklearn/utils/extmath.py:203: RuntimeWarning: overflow encountered in matmul\n",
      "  ret = a @ b\n",
      "/Users/yudhistiraonggowarsito/Documents/SMU/Courses/CS610 - Applied Machine Learning/Project/aml_project/.venv/lib/python3.12/site-packages/sklearn/utils/extmath.py:203: RuntimeWarning: invalid value encountered in matmul\n",
      "  ret = a @ b\n"
     ]
    },
    {
     "name": "stdout",
     "output_type": "stream",
     "text": [
      "[Run 3] Iter 13 F1-illicit: 0.4920\n"
     ]
    },
    {
     "name": "stderr",
     "output_type": "stream",
     "text": [
      "/Users/yudhistiraonggowarsito/Documents/SMU/Courses/CS610 - Applied Machine Learning/Project/aml_project/.venv/lib/python3.12/site-packages/sklearn/utils/extmath.py:203: RuntimeWarning: divide by zero encountered in matmul\n",
      "  ret = a @ b\n",
      "/Users/yudhistiraonggowarsito/Documents/SMU/Courses/CS610 - Applied Machine Learning/Project/aml_project/.venv/lib/python3.12/site-packages/sklearn/utils/extmath.py:203: RuntimeWarning: overflow encountered in matmul\n",
      "  ret = a @ b\n",
      "/Users/yudhistiraonggowarsito/Documents/SMU/Courses/CS610 - Applied Machine Learning/Project/aml_project/.venv/lib/python3.12/site-packages/sklearn/utils/extmath.py:203: RuntimeWarning: invalid value encountered in matmul\n",
      "  ret = a @ b\n",
      "/Users/yudhistiraonggowarsito/Documents/SMU/Courses/CS610 - Applied Machine Learning/Project/aml_project/.venv/lib/python3.12/site-packages/sklearn/utils/extmath.py:203: RuntimeWarning: divide by zero encountered in matmul\n",
      "  ret = a @ b\n",
      "/Users/yudhistiraonggowarsito/Documents/SMU/Courses/CS610 - Applied Machine Learning/Project/aml_project/.venv/lib/python3.12/site-packages/sklearn/utils/extmath.py:203: RuntimeWarning: overflow encountered in matmul\n",
      "  ret = a @ b\n",
      "/Users/yudhistiraonggowarsito/Documents/SMU/Courses/CS610 - Applied Machine Learning/Project/aml_project/.venv/lib/python3.12/site-packages/sklearn/utils/extmath.py:203: RuntimeWarning: invalid value encountered in matmul\n",
      "  ret = a @ b\n"
     ]
    },
    {
     "name": "stdout",
     "output_type": "stream",
     "text": [
      "[Run 3] Iter 14 F1-illicit: 0.5113\n"
     ]
    },
    {
     "name": "stderr",
     "output_type": "stream",
     "text": [
      "/Users/yudhistiraonggowarsito/Documents/SMU/Courses/CS610 - Applied Machine Learning/Project/aml_project/.venv/lib/python3.12/site-packages/sklearn/utils/extmath.py:203: RuntimeWarning: divide by zero encountered in matmul\n",
      "  ret = a @ b\n",
      "/Users/yudhistiraonggowarsito/Documents/SMU/Courses/CS610 - Applied Machine Learning/Project/aml_project/.venv/lib/python3.12/site-packages/sklearn/utils/extmath.py:203: RuntimeWarning: overflow encountered in matmul\n",
      "  ret = a @ b\n",
      "/Users/yudhistiraonggowarsito/Documents/SMU/Courses/CS610 - Applied Machine Learning/Project/aml_project/.venv/lib/python3.12/site-packages/sklearn/utils/extmath.py:203: RuntimeWarning: invalid value encountered in matmul\n",
      "  ret = a @ b\n",
      "/Users/yudhistiraonggowarsito/Documents/SMU/Courses/CS610 - Applied Machine Learning/Project/aml_project/.venv/lib/python3.12/site-packages/sklearn/utils/extmath.py:203: RuntimeWarning: divide by zero encountered in matmul\n",
      "  ret = a @ b\n",
      "/Users/yudhistiraonggowarsito/Documents/SMU/Courses/CS610 - Applied Machine Learning/Project/aml_project/.venv/lib/python3.12/site-packages/sklearn/utils/extmath.py:203: RuntimeWarning: overflow encountered in matmul\n",
      "  ret = a @ b\n",
      "/Users/yudhistiraonggowarsito/Documents/SMU/Courses/CS610 - Applied Machine Learning/Project/aml_project/.venv/lib/python3.12/site-packages/sklearn/utils/extmath.py:203: RuntimeWarning: invalid value encountered in matmul\n",
      "  ret = a @ b\n"
     ]
    },
    {
     "name": "stdout",
     "output_type": "stream",
     "text": [
      "[Run 3] Iter 15 F1-illicit: 0.4916\n"
     ]
    },
    {
     "name": "stderr",
     "output_type": "stream",
     "text": [
      "/Users/yudhistiraonggowarsito/Documents/SMU/Courses/CS610 - Applied Machine Learning/Project/aml_project/.venv/lib/python3.12/site-packages/sklearn/utils/extmath.py:203: RuntimeWarning: divide by zero encountered in matmul\n",
      "  ret = a @ b\n",
      "/Users/yudhistiraonggowarsito/Documents/SMU/Courses/CS610 - Applied Machine Learning/Project/aml_project/.venv/lib/python3.12/site-packages/sklearn/utils/extmath.py:203: RuntimeWarning: overflow encountered in matmul\n",
      "  ret = a @ b\n",
      "/Users/yudhistiraonggowarsito/Documents/SMU/Courses/CS610 - Applied Machine Learning/Project/aml_project/.venv/lib/python3.12/site-packages/sklearn/utils/extmath.py:203: RuntimeWarning: invalid value encountered in matmul\n",
      "  ret = a @ b\n",
      "/Users/yudhistiraonggowarsito/Documents/SMU/Courses/CS610 - Applied Machine Learning/Project/aml_project/.venv/lib/python3.12/site-packages/sklearn/utils/extmath.py:203: RuntimeWarning: divide by zero encountered in matmul\n",
      "  ret = a @ b\n",
      "/Users/yudhistiraonggowarsito/Documents/SMU/Courses/CS610 - Applied Machine Learning/Project/aml_project/.venv/lib/python3.12/site-packages/sklearn/utils/extmath.py:203: RuntimeWarning: overflow encountered in matmul\n",
      "  ret = a @ b\n",
      "/Users/yudhistiraonggowarsito/Documents/SMU/Courses/CS610 - Applied Machine Learning/Project/aml_project/.venv/lib/python3.12/site-packages/sklearn/utils/extmath.py:203: RuntimeWarning: invalid value encountered in matmul\n",
      "  ret = a @ b\n"
     ]
    },
    {
     "name": "stdout",
     "output_type": "stream",
     "text": [
      "[Run 3] Iter 16 F1-illicit: 0.5072\n"
     ]
    },
    {
     "name": "stderr",
     "output_type": "stream",
     "text": [
      "/Users/yudhistiraonggowarsito/Documents/SMU/Courses/CS610 - Applied Machine Learning/Project/aml_project/.venv/lib/python3.12/site-packages/sklearn/utils/extmath.py:203: RuntimeWarning: divide by zero encountered in matmul\n",
      "  ret = a @ b\n",
      "/Users/yudhistiraonggowarsito/Documents/SMU/Courses/CS610 - Applied Machine Learning/Project/aml_project/.venv/lib/python3.12/site-packages/sklearn/utils/extmath.py:203: RuntimeWarning: overflow encountered in matmul\n",
      "  ret = a @ b\n",
      "/Users/yudhistiraonggowarsito/Documents/SMU/Courses/CS610 - Applied Machine Learning/Project/aml_project/.venv/lib/python3.12/site-packages/sklearn/utils/extmath.py:203: RuntimeWarning: invalid value encountered in matmul\n",
      "  ret = a @ b\n",
      "/Users/yudhistiraonggowarsito/Documents/SMU/Courses/CS610 - Applied Machine Learning/Project/aml_project/.venv/lib/python3.12/site-packages/sklearn/utils/extmath.py:203: RuntimeWarning: divide by zero encountered in matmul\n",
      "  ret = a @ b\n",
      "/Users/yudhistiraonggowarsito/Documents/SMU/Courses/CS610 - Applied Machine Learning/Project/aml_project/.venv/lib/python3.12/site-packages/sklearn/utils/extmath.py:203: RuntimeWarning: overflow encountered in matmul\n",
      "  ret = a @ b\n",
      "/Users/yudhistiraonggowarsito/Documents/SMU/Courses/CS610 - Applied Machine Learning/Project/aml_project/.venv/lib/python3.12/site-packages/sklearn/utils/extmath.py:203: RuntimeWarning: invalid value encountered in matmul\n",
      "  ret = a @ b\n"
     ]
    },
    {
     "name": "stdout",
     "output_type": "stream",
     "text": [
      "[Run 3] Iter 17 F1-illicit: 0.4865\n"
     ]
    },
    {
     "name": "stderr",
     "output_type": "stream",
     "text": [
      "/Users/yudhistiraonggowarsito/Documents/SMU/Courses/CS610 - Applied Machine Learning/Project/aml_project/.venv/lib/python3.12/site-packages/sklearn/utils/extmath.py:203: RuntimeWarning: divide by zero encountered in matmul\n",
      "  ret = a @ b\n",
      "/Users/yudhistiraonggowarsito/Documents/SMU/Courses/CS610 - Applied Machine Learning/Project/aml_project/.venv/lib/python3.12/site-packages/sklearn/utils/extmath.py:203: RuntimeWarning: overflow encountered in matmul\n",
      "  ret = a @ b\n",
      "/Users/yudhistiraonggowarsito/Documents/SMU/Courses/CS610 - Applied Machine Learning/Project/aml_project/.venv/lib/python3.12/site-packages/sklearn/utils/extmath.py:203: RuntimeWarning: invalid value encountered in matmul\n",
      "  ret = a @ b\n",
      "/Users/yudhistiraonggowarsito/Documents/SMU/Courses/CS610 - Applied Machine Learning/Project/aml_project/.venv/lib/python3.12/site-packages/sklearn/utils/extmath.py:203: RuntimeWarning: divide by zero encountered in matmul\n",
      "  ret = a @ b\n",
      "/Users/yudhistiraonggowarsito/Documents/SMU/Courses/CS610 - Applied Machine Learning/Project/aml_project/.venv/lib/python3.12/site-packages/sklearn/utils/extmath.py:203: RuntimeWarning: overflow encountered in matmul\n",
      "  ret = a @ b\n",
      "/Users/yudhistiraonggowarsito/Documents/SMU/Courses/CS610 - Applied Machine Learning/Project/aml_project/.venv/lib/python3.12/site-packages/sklearn/utils/extmath.py:203: RuntimeWarning: invalid value encountered in matmul\n",
      "  ret = a @ b\n"
     ]
    },
    {
     "name": "stdout",
     "output_type": "stream",
     "text": [
      "[Run 3] Iter 18 F1-illicit: 0.4974\n"
     ]
    },
    {
     "name": "stderr",
     "output_type": "stream",
     "text": [
      "/Users/yudhistiraonggowarsito/Documents/SMU/Courses/CS610 - Applied Machine Learning/Project/aml_project/.venv/lib/python3.12/site-packages/sklearn/utils/extmath.py:203: RuntimeWarning: divide by zero encountered in matmul\n",
      "  ret = a @ b\n",
      "/Users/yudhistiraonggowarsito/Documents/SMU/Courses/CS610 - Applied Machine Learning/Project/aml_project/.venv/lib/python3.12/site-packages/sklearn/utils/extmath.py:203: RuntimeWarning: overflow encountered in matmul\n",
      "  ret = a @ b\n",
      "/Users/yudhistiraonggowarsito/Documents/SMU/Courses/CS610 - Applied Machine Learning/Project/aml_project/.venv/lib/python3.12/site-packages/sklearn/utils/extmath.py:203: RuntimeWarning: invalid value encountered in matmul\n",
      "  ret = a @ b\n",
      "/Users/yudhistiraonggowarsito/Documents/SMU/Courses/CS610 - Applied Machine Learning/Project/aml_project/.venv/lib/python3.12/site-packages/sklearn/utils/extmath.py:203: RuntimeWarning: divide by zero encountered in matmul\n",
      "  ret = a @ b\n",
      "/Users/yudhistiraonggowarsito/Documents/SMU/Courses/CS610 - Applied Machine Learning/Project/aml_project/.venv/lib/python3.12/site-packages/sklearn/utils/extmath.py:203: RuntimeWarning: overflow encountered in matmul\n",
      "  ret = a @ b\n",
      "/Users/yudhistiraonggowarsito/Documents/SMU/Courses/CS610 - Applied Machine Learning/Project/aml_project/.venv/lib/python3.12/site-packages/sklearn/utils/extmath.py:203: RuntimeWarning: invalid value encountered in matmul\n",
      "  ret = a @ b\n"
     ]
    },
    {
     "name": "stdout",
     "output_type": "stream",
     "text": [
      "[Run 3] Iter 19 F1-illicit: 0.4914\n"
     ]
    },
    {
     "name": "stderr",
     "output_type": "stream",
     "text": [
      "/Users/yudhistiraonggowarsito/Documents/SMU/Courses/CS610 - Applied Machine Learning/Project/aml_project/.venv/lib/python3.12/site-packages/sklearn/utils/extmath.py:203: RuntimeWarning: divide by zero encountered in matmul\n",
      "  ret = a @ b\n",
      "/Users/yudhistiraonggowarsito/Documents/SMU/Courses/CS610 - Applied Machine Learning/Project/aml_project/.venv/lib/python3.12/site-packages/sklearn/utils/extmath.py:203: RuntimeWarning: overflow encountered in matmul\n",
      "  ret = a @ b\n",
      "/Users/yudhistiraonggowarsito/Documents/SMU/Courses/CS610 - Applied Machine Learning/Project/aml_project/.venv/lib/python3.12/site-packages/sklearn/utils/extmath.py:203: RuntimeWarning: invalid value encountered in matmul\n",
      "  ret = a @ b\n",
      "/Users/yudhistiraonggowarsito/Documents/SMU/Courses/CS610 - Applied Machine Learning/Project/aml_project/.venv/lib/python3.12/site-packages/sklearn/utils/extmath.py:203: RuntimeWarning: divide by zero encountered in matmul\n",
      "  ret = a @ b\n",
      "/Users/yudhistiraonggowarsito/Documents/SMU/Courses/CS610 - Applied Machine Learning/Project/aml_project/.venv/lib/python3.12/site-packages/sklearn/utils/extmath.py:203: RuntimeWarning: overflow encountered in matmul\n",
      "  ret = a @ b\n",
      "/Users/yudhistiraonggowarsito/Documents/SMU/Courses/CS610 - Applied Machine Learning/Project/aml_project/.venv/lib/python3.12/site-packages/sklearn/utils/extmath.py:203: RuntimeWarning: invalid value encountered in matmul\n",
      "  ret = a @ b\n"
     ]
    },
    {
     "name": "stdout",
     "output_type": "stream",
     "text": [
      "[Run 3] Iter 20 F1-illicit: 0.4888\n"
     ]
    },
    {
     "name": "stderr",
     "output_type": "stream",
     "text": [
      "/Users/yudhistiraonggowarsito/Documents/SMU/Courses/CS610 - Applied Machine Learning/Project/aml_project/.venv/lib/python3.12/site-packages/sklearn/utils/extmath.py:203: RuntimeWarning: divide by zero encountered in matmul\n",
      "  ret = a @ b\n",
      "/Users/yudhistiraonggowarsito/Documents/SMU/Courses/CS610 - Applied Machine Learning/Project/aml_project/.venv/lib/python3.12/site-packages/sklearn/utils/extmath.py:203: RuntimeWarning: overflow encountered in matmul\n",
      "  ret = a @ b\n",
      "/Users/yudhistiraonggowarsito/Documents/SMU/Courses/CS610 - Applied Machine Learning/Project/aml_project/.venv/lib/python3.12/site-packages/sklearn/utils/extmath.py:203: RuntimeWarning: invalid value encountered in matmul\n",
      "  ret = a @ b\n",
      "/Users/yudhistiraonggowarsito/Documents/SMU/Courses/CS610 - Applied Machine Learning/Project/aml_project/.venv/lib/python3.12/site-packages/sklearn/utils/extmath.py:203: RuntimeWarning: divide by zero encountered in matmul\n",
      "  ret = a @ b\n",
      "/Users/yudhistiraonggowarsito/Documents/SMU/Courses/CS610 - Applied Machine Learning/Project/aml_project/.venv/lib/python3.12/site-packages/sklearn/utils/extmath.py:203: RuntimeWarning: overflow encountered in matmul\n",
      "  ret = a @ b\n",
      "/Users/yudhistiraonggowarsito/Documents/SMU/Courses/CS610 - Applied Machine Learning/Project/aml_project/.venv/lib/python3.12/site-packages/sklearn/utils/extmath.py:203: RuntimeWarning: invalid value encountered in matmul\n",
      "  ret = a @ b\n"
     ]
    },
    {
     "name": "stdout",
     "output_type": "stream",
     "text": [
      "[Run 3] Iter 21 F1-illicit: 0.4865\n"
     ]
    },
    {
     "name": "stderr",
     "output_type": "stream",
     "text": [
      "/Users/yudhistiraonggowarsito/Documents/SMU/Courses/CS610 - Applied Machine Learning/Project/aml_project/.venv/lib/python3.12/site-packages/sklearn/utils/extmath.py:203: RuntimeWarning: divide by zero encountered in matmul\n",
      "  ret = a @ b\n",
      "/Users/yudhistiraonggowarsito/Documents/SMU/Courses/CS610 - Applied Machine Learning/Project/aml_project/.venv/lib/python3.12/site-packages/sklearn/utils/extmath.py:203: RuntimeWarning: overflow encountered in matmul\n",
      "  ret = a @ b\n",
      "/Users/yudhistiraonggowarsito/Documents/SMU/Courses/CS610 - Applied Machine Learning/Project/aml_project/.venv/lib/python3.12/site-packages/sklearn/utils/extmath.py:203: RuntimeWarning: invalid value encountered in matmul\n",
      "  ret = a @ b\n",
      "/Users/yudhistiraonggowarsito/Documents/SMU/Courses/CS610 - Applied Machine Learning/Project/aml_project/.venv/lib/python3.12/site-packages/sklearn/utils/extmath.py:203: RuntimeWarning: divide by zero encountered in matmul\n",
      "  ret = a @ b\n",
      "/Users/yudhistiraonggowarsito/Documents/SMU/Courses/CS610 - Applied Machine Learning/Project/aml_project/.venv/lib/python3.12/site-packages/sklearn/utils/extmath.py:203: RuntimeWarning: overflow encountered in matmul\n",
      "  ret = a @ b\n",
      "/Users/yudhistiraonggowarsito/Documents/SMU/Courses/CS610 - Applied Machine Learning/Project/aml_project/.venv/lib/python3.12/site-packages/sklearn/utils/extmath.py:203: RuntimeWarning: invalid value encountered in matmul\n",
      "  ret = a @ b\n"
     ]
    },
    {
     "name": "stdout",
     "output_type": "stream",
     "text": [
      "[Run 3] Iter 22 F1-illicit: 0.4853\n"
     ]
    },
    {
     "name": "stderr",
     "output_type": "stream",
     "text": [
      "/Users/yudhistiraonggowarsito/Documents/SMU/Courses/CS610 - Applied Machine Learning/Project/aml_project/.venv/lib/python3.12/site-packages/sklearn/utils/extmath.py:203: RuntimeWarning: divide by zero encountered in matmul\n",
      "  ret = a @ b\n",
      "/Users/yudhistiraonggowarsito/Documents/SMU/Courses/CS610 - Applied Machine Learning/Project/aml_project/.venv/lib/python3.12/site-packages/sklearn/utils/extmath.py:203: RuntimeWarning: overflow encountered in matmul\n",
      "  ret = a @ b\n",
      "/Users/yudhistiraonggowarsito/Documents/SMU/Courses/CS610 - Applied Machine Learning/Project/aml_project/.venv/lib/python3.12/site-packages/sklearn/utils/extmath.py:203: RuntimeWarning: invalid value encountered in matmul\n",
      "  ret = a @ b\n",
      "/Users/yudhistiraonggowarsito/Documents/SMU/Courses/CS610 - Applied Machine Learning/Project/aml_project/.venv/lib/python3.12/site-packages/sklearn/utils/extmath.py:203: RuntimeWarning: divide by zero encountered in matmul\n",
      "  ret = a @ b\n",
      "/Users/yudhistiraonggowarsito/Documents/SMU/Courses/CS610 - Applied Machine Learning/Project/aml_project/.venv/lib/python3.12/site-packages/sklearn/utils/extmath.py:203: RuntimeWarning: overflow encountered in matmul\n",
      "  ret = a @ b\n",
      "/Users/yudhistiraonggowarsito/Documents/SMU/Courses/CS610 - Applied Machine Learning/Project/aml_project/.venv/lib/python3.12/site-packages/sklearn/utils/extmath.py:203: RuntimeWarning: invalid value encountered in matmul\n",
      "  ret = a @ b\n"
     ]
    },
    {
     "name": "stdout",
     "output_type": "stream",
     "text": [
      "[Run 3] Iter 23 F1-illicit: 0.4877\n"
     ]
    },
    {
     "name": "stderr",
     "output_type": "stream",
     "text": [
      "/Users/yudhistiraonggowarsito/Documents/SMU/Courses/CS610 - Applied Machine Learning/Project/aml_project/.venv/lib/python3.12/site-packages/sklearn/utils/extmath.py:203: RuntimeWarning: divide by zero encountered in matmul\n",
      "  ret = a @ b\n",
      "/Users/yudhistiraonggowarsito/Documents/SMU/Courses/CS610 - Applied Machine Learning/Project/aml_project/.venv/lib/python3.12/site-packages/sklearn/utils/extmath.py:203: RuntimeWarning: overflow encountered in matmul\n",
      "  ret = a @ b\n",
      "/Users/yudhistiraonggowarsito/Documents/SMU/Courses/CS610 - Applied Machine Learning/Project/aml_project/.venv/lib/python3.12/site-packages/sklearn/utils/extmath.py:203: RuntimeWarning: invalid value encountered in matmul\n",
      "  ret = a @ b\n",
      "/Users/yudhistiraonggowarsito/Documents/SMU/Courses/CS610 - Applied Machine Learning/Project/aml_project/.venv/lib/python3.12/site-packages/sklearn/utils/extmath.py:203: RuntimeWarning: divide by zero encountered in matmul\n",
      "  ret = a @ b\n",
      "/Users/yudhistiraonggowarsito/Documents/SMU/Courses/CS610 - Applied Machine Learning/Project/aml_project/.venv/lib/python3.12/site-packages/sklearn/utils/extmath.py:203: RuntimeWarning: overflow encountered in matmul\n",
      "  ret = a @ b\n",
      "/Users/yudhistiraonggowarsito/Documents/SMU/Courses/CS610 - Applied Machine Learning/Project/aml_project/.venv/lib/python3.12/site-packages/sklearn/utils/extmath.py:203: RuntimeWarning: invalid value encountered in matmul\n",
      "  ret = a @ b\n"
     ]
    },
    {
     "name": "stdout",
     "output_type": "stream",
     "text": [
      "[Run 3] Iter 24 F1-illicit: 0.4855\n"
     ]
    },
    {
     "name": "stderr",
     "output_type": "stream",
     "text": [
      "/Users/yudhistiraonggowarsito/Documents/SMU/Courses/CS610 - Applied Machine Learning/Project/aml_project/.venv/lib/python3.12/site-packages/sklearn/utils/extmath.py:203: RuntimeWarning: divide by zero encountered in matmul\n",
      "  ret = a @ b\n",
      "/Users/yudhistiraonggowarsito/Documents/SMU/Courses/CS610 - Applied Machine Learning/Project/aml_project/.venv/lib/python3.12/site-packages/sklearn/utils/extmath.py:203: RuntimeWarning: overflow encountered in matmul\n",
      "  ret = a @ b\n",
      "/Users/yudhistiraonggowarsito/Documents/SMU/Courses/CS610 - Applied Machine Learning/Project/aml_project/.venv/lib/python3.12/site-packages/sklearn/utils/extmath.py:203: RuntimeWarning: invalid value encountered in matmul\n",
      "  ret = a @ b\n",
      "/Users/yudhistiraonggowarsito/Documents/SMU/Courses/CS610 - Applied Machine Learning/Project/aml_project/.venv/lib/python3.12/site-packages/sklearn/utils/extmath.py:203: RuntimeWarning: divide by zero encountered in matmul\n",
      "  ret = a @ b\n",
      "/Users/yudhistiraonggowarsito/Documents/SMU/Courses/CS610 - Applied Machine Learning/Project/aml_project/.venv/lib/python3.12/site-packages/sklearn/utils/extmath.py:203: RuntimeWarning: overflow encountered in matmul\n",
      "  ret = a @ b\n",
      "/Users/yudhistiraonggowarsito/Documents/SMU/Courses/CS610 - Applied Machine Learning/Project/aml_project/.venv/lib/python3.12/site-packages/sklearn/utils/extmath.py:203: RuntimeWarning: invalid value encountered in matmul\n",
      "  ret = a @ b\n"
     ]
    },
    {
     "name": "stdout",
     "output_type": "stream",
     "text": [
      "[Run 3] Iter 25 F1-illicit: 0.4789\n"
     ]
    },
    {
     "name": "stderr",
     "output_type": "stream",
     "text": [
      "/Users/yudhistiraonggowarsito/Documents/SMU/Courses/CS610 - Applied Machine Learning/Project/aml_project/.venv/lib/python3.12/site-packages/sklearn/utils/extmath.py:203: RuntimeWarning: divide by zero encountered in matmul\n",
      "  ret = a @ b\n",
      "/Users/yudhistiraonggowarsito/Documents/SMU/Courses/CS610 - Applied Machine Learning/Project/aml_project/.venv/lib/python3.12/site-packages/sklearn/utils/extmath.py:203: RuntimeWarning: overflow encountered in matmul\n",
      "  ret = a @ b\n",
      "/Users/yudhistiraonggowarsito/Documents/SMU/Courses/CS610 - Applied Machine Learning/Project/aml_project/.venv/lib/python3.12/site-packages/sklearn/utils/extmath.py:203: RuntimeWarning: invalid value encountered in matmul\n",
      "  ret = a @ b\n",
      "/Users/yudhistiraonggowarsito/Documents/SMU/Courses/CS610 - Applied Machine Learning/Project/aml_project/.venv/lib/python3.12/site-packages/sklearn/utils/extmath.py:203: RuntimeWarning: divide by zero encountered in matmul\n",
      "  ret = a @ b\n",
      "/Users/yudhistiraonggowarsito/Documents/SMU/Courses/CS610 - Applied Machine Learning/Project/aml_project/.venv/lib/python3.12/site-packages/sklearn/utils/extmath.py:203: RuntimeWarning: overflow encountered in matmul\n",
      "  ret = a @ b\n",
      "/Users/yudhistiraonggowarsito/Documents/SMU/Courses/CS610 - Applied Machine Learning/Project/aml_project/.venv/lib/python3.12/site-packages/sklearn/utils/extmath.py:203: RuntimeWarning: invalid value encountered in matmul\n",
      "  ret = a @ b\n"
     ]
    },
    {
     "name": "stdout",
     "output_type": "stream",
     "text": [
      "[Run 3] Iter 26 F1-illicit: 0.4757\n"
     ]
    },
    {
     "name": "stderr",
     "output_type": "stream",
     "text": [
      "/Users/yudhistiraonggowarsito/Documents/SMU/Courses/CS610 - Applied Machine Learning/Project/aml_project/.venv/lib/python3.12/site-packages/sklearn/utils/extmath.py:203: RuntimeWarning: divide by zero encountered in matmul\n",
      "  ret = a @ b\n",
      "/Users/yudhistiraonggowarsito/Documents/SMU/Courses/CS610 - Applied Machine Learning/Project/aml_project/.venv/lib/python3.12/site-packages/sklearn/utils/extmath.py:203: RuntimeWarning: overflow encountered in matmul\n",
      "  ret = a @ b\n",
      "/Users/yudhistiraonggowarsito/Documents/SMU/Courses/CS610 - Applied Machine Learning/Project/aml_project/.venv/lib/python3.12/site-packages/sklearn/utils/extmath.py:203: RuntimeWarning: invalid value encountered in matmul\n",
      "  ret = a @ b\n",
      "/Users/yudhistiraonggowarsito/Documents/SMU/Courses/CS610 - Applied Machine Learning/Project/aml_project/.venv/lib/python3.12/site-packages/sklearn/utils/extmath.py:203: RuntimeWarning: divide by zero encountered in matmul\n",
      "  ret = a @ b\n",
      "/Users/yudhistiraonggowarsito/Documents/SMU/Courses/CS610 - Applied Machine Learning/Project/aml_project/.venv/lib/python3.12/site-packages/sklearn/utils/extmath.py:203: RuntimeWarning: overflow encountered in matmul\n",
      "  ret = a @ b\n",
      "/Users/yudhistiraonggowarsito/Documents/SMU/Courses/CS610 - Applied Machine Learning/Project/aml_project/.venv/lib/python3.12/site-packages/sklearn/utils/extmath.py:203: RuntimeWarning: invalid value encountered in matmul\n",
      "  ret = a @ b\n"
     ]
    },
    {
     "name": "stdout",
     "output_type": "stream",
     "text": [
      "[Run 3] Iter 27 F1-illicit: 0.4713\n"
     ]
    },
    {
     "name": "stderr",
     "output_type": "stream",
     "text": [
      "/Users/yudhistiraonggowarsito/Documents/SMU/Courses/CS610 - Applied Machine Learning/Project/aml_project/.venv/lib/python3.12/site-packages/sklearn/utils/extmath.py:203: RuntimeWarning: divide by zero encountered in matmul\n",
      "  ret = a @ b\n",
      "/Users/yudhistiraonggowarsito/Documents/SMU/Courses/CS610 - Applied Machine Learning/Project/aml_project/.venv/lib/python3.12/site-packages/sklearn/utils/extmath.py:203: RuntimeWarning: overflow encountered in matmul\n",
      "  ret = a @ b\n",
      "/Users/yudhistiraonggowarsito/Documents/SMU/Courses/CS610 - Applied Machine Learning/Project/aml_project/.venv/lib/python3.12/site-packages/sklearn/utils/extmath.py:203: RuntimeWarning: invalid value encountered in matmul\n",
      "  ret = a @ b\n",
      "/Users/yudhistiraonggowarsito/Documents/SMU/Courses/CS610 - Applied Machine Learning/Project/aml_project/.venv/lib/python3.12/site-packages/sklearn/utils/extmath.py:203: RuntimeWarning: divide by zero encountered in matmul\n",
      "  ret = a @ b\n",
      "/Users/yudhistiraonggowarsito/Documents/SMU/Courses/CS610 - Applied Machine Learning/Project/aml_project/.venv/lib/python3.12/site-packages/sklearn/utils/extmath.py:203: RuntimeWarning: overflow encountered in matmul\n",
      "  ret = a @ b\n",
      "/Users/yudhistiraonggowarsito/Documents/SMU/Courses/CS610 - Applied Machine Learning/Project/aml_project/.venv/lib/python3.12/site-packages/sklearn/utils/extmath.py:203: RuntimeWarning: invalid value encountered in matmul\n",
      "  ret = a @ b\n"
     ]
    },
    {
     "name": "stdout",
     "output_type": "stream",
     "text": [
      "[Run 3] Iter 28 F1-illicit: 0.4676\n"
     ]
    },
    {
     "name": "stderr",
     "output_type": "stream",
     "text": [
      "/Users/yudhistiraonggowarsito/Documents/SMU/Courses/CS610 - Applied Machine Learning/Project/aml_project/.venv/lib/python3.12/site-packages/sklearn/utils/extmath.py:203: RuntimeWarning: divide by zero encountered in matmul\n",
      "  ret = a @ b\n",
      "/Users/yudhistiraonggowarsito/Documents/SMU/Courses/CS610 - Applied Machine Learning/Project/aml_project/.venv/lib/python3.12/site-packages/sklearn/utils/extmath.py:203: RuntimeWarning: overflow encountered in matmul\n",
      "  ret = a @ b\n",
      "/Users/yudhistiraonggowarsito/Documents/SMU/Courses/CS610 - Applied Machine Learning/Project/aml_project/.venv/lib/python3.12/site-packages/sklearn/utils/extmath.py:203: RuntimeWarning: invalid value encountered in matmul\n",
      "  ret = a @ b\n",
      "/Users/yudhistiraonggowarsito/Documents/SMU/Courses/CS610 - Applied Machine Learning/Project/aml_project/.venv/lib/python3.12/site-packages/sklearn/utils/extmath.py:203: RuntimeWarning: divide by zero encountered in matmul\n",
      "  ret = a @ b\n",
      "/Users/yudhistiraonggowarsito/Documents/SMU/Courses/CS610 - Applied Machine Learning/Project/aml_project/.venv/lib/python3.12/site-packages/sklearn/utils/extmath.py:203: RuntimeWarning: overflow encountered in matmul\n",
      "  ret = a @ b\n",
      "/Users/yudhistiraonggowarsito/Documents/SMU/Courses/CS610 - Applied Machine Learning/Project/aml_project/.venv/lib/python3.12/site-packages/sklearn/utils/extmath.py:203: RuntimeWarning: invalid value encountered in matmul\n",
      "  ret = a @ b\n"
     ]
    },
    {
     "name": "stdout",
     "output_type": "stream",
     "text": [
      "[Run 3] Iter 29 F1-illicit: 0.4669\n"
     ]
    },
    {
     "name": "stderr",
     "output_type": "stream",
     "text": [
      "/Users/yudhistiraonggowarsito/Documents/SMU/Courses/CS610 - Applied Machine Learning/Project/aml_project/.venv/lib/python3.12/site-packages/sklearn/utils/extmath.py:203: RuntimeWarning: divide by zero encountered in matmul\n",
      "  ret = a @ b\n",
      "/Users/yudhistiraonggowarsito/Documents/SMU/Courses/CS610 - Applied Machine Learning/Project/aml_project/.venv/lib/python3.12/site-packages/sklearn/utils/extmath.py:203: RuntimeWarning: overflow encountered in matmul\n",
      "  ret = a @ b\n",
      "/Users/yudhistiraonggowarsito/Documents/SMU/Courses/CS610 - Applied Machine Learning/Project/aml_project/.venv/lib/python3.12/site-packages/sklearn/utils/extmath.py:203: RuntimeWarning: invalid value encountered in matmul\n",
      "  ret = a @ b\n",
      "/Users/yudhistiraonggowarsito/Documents/SMU/Courses/CS610 - Applied Machine Learning/Project/aml_project/.venv/lib/python3.12/site-packages/sklearn/utils/extmath.py:203: RuntimeWarning: divide by zero encountered in matmul\n",
      "  ret = a @ b\n",
      "/Users/yudhistiraonggowarsito/Documents/SMU/Courses/CS610 - Applied Machine Learning/Project/aml_project/.venv/lib/python3.12/site-packages/sklearn/utils/extmath.py:203: RuntimeWarning: overflow encountered in matmul\n",
      "  ret = a @ b\n",
      "/Users/yudhistiraonggowarsito/Documents/SMU/Courses/CS610 - Applied Machine Learning/Project/aml_project/.venv/lib/python3.12/site-packages/sklearn/utils/extmath.py:203: RuntimeWarning: invalid value encountered in matmul\n",
      "  ret = a @ b\n",
      "/var/folders/2v/617m0pq96qq942zr8nbfyzch0000gn/T/ipykernel_29924/2909400616.py:51: FutureWarning: The behavior of DataFrame concatenation with empty or all-NA entries is deprecated. In a future version, this will no longer exclude empty or all-NA columns when determining the result dtypes. To retain the old behavior, exclude the relevant entries before the concat operation.\n",
      "  labeled_pool = pd.concat([labeled_pool, batch], ignore_index=True)\n",
      "/Users/yudhistiraonggowarsito/Documents/SMU/Courses/CS610 - Applied Machine Learning/Project/aml_project/.venv/lib/python3.12/site-packages/sklearn/utils/extmath.py:203: RuntimeWarning: divide by zero encountered in matmul\n",
      "  ret = a @ b\n",
      "/Users/yudhistiraonggowarsito/Documents/SMU/Courses/CS610 - Applied Machine Learning/Project/aml_project/.venv/lib/python3.12/site-packages/sklearn/utils/extmath.py:203: RuntimeWarning: overflow encountered in matmul\n",
      "  ret = a @ b\n",
      "/Users/yudhistiraonggowarsito/Documents/SMU/Courses/CS610 - Applied Machine Learning/Project/aml_project/.venv/lib/python3.12/site-packages/sklearn/utils/extmath.py:203: RuntimeWarning: invalid value encountered in matmul\n",
      "  ret = a @ b\n",
      "/Users/yudhistiraonggowarsito/Documents/SMU/Courses/CS610 - Applied Machine Learning/Project/aml_project/.venv/lib/python3.12/site-packages/sklearn/utils/extmath.py:203: RuntimeWarning: divide by zero encountered in matmul\n",
      "  ret = a @ b\n",
      "/Users/yudhistiraonggowarsito/Documents/SMU/Courses/CS610 - Applied Machine Learning/Project/aml_project/.venv/lib/python3.12/site-packages/sklearn/utils/extmath.py:203: RuntimeWarning: overflow encountered in matmul\n",
      "  ret = a @ b\n",
      "/Users/yudhistiraonggowarsito/Documents/SMU/Courses/CS610 - Applied Machine Learning/Project/aml_project/.venv/lib/python3.12/site-packages/sklearn/utils/extmath.py:203: RuntimeWarning: invalid value encountered in matmul\n",
      "  ret = a @ b\n",
      "/Users/yudhistiraonggowarsito/Documents/SMU/Courses/CS610 - Applied Machine Learning/Project/aml_project/.venv/lib/python3.12/site-packages/sklearn/utils/extmath.py:203: RuntimeWarning: divide by zero encountered in matmul\n",
      "  ret = a @ b\n",
      "/Users/yudhistiraonggowarsito/Documents/SMU/Courses/CS610 - Applied Machine Learning/Project/aml_project/.venv/lib/python3.12/site-packages/sklearn/utils/extmath.py:203: RuntimeWarning: overflow encountered in matmul\n",
      "  ret = a @ b\n",
      "/Users/yudhistiraonggowarsito/Documents/SMU/Courses/CS610 - Applied Machine Learning/Project/aml_project/.venv/lib/python3.12/site-packages/sklearn/utils/extmath.py:203: RuntimeWarning: invalid value encountered in matmul\n",
      "  ret = a @ b\n",
      "/Users/yudhistiraonggowarsito/Documents/SMU/Courses/CS610 - Applied Machine Learning/Project/aml_project/.venv/lib/python3.12/site-packages/sklearn/utils/extmath.py:203: RuntimeWarning: divide by zero encountered in matmul\n",
      "  ret = a @ b\n",
      "/Users/yudhistiraonggowarsito/Documents/SMU/Courses/CS610 - Applied Machine Learning/Project/aml_project/.venv/lib/python3.12/site-packages/sklearn/utils/extmath.py:203: RuntimeWarning: overflow encountered in matmul\n",
      "  ret = a @ b\n",
      "/Users/yudhistiraonggowarsito/Documents/SMU/Courses/CS610 - Applied Machine Learning/Project/aml_project/.venv/lib/python3.12/site-packages/sklearn/utils/extmath.py:203: RuntimeWarning: invalid value encountered in matmul\n",
      "  ret = a @ b\n",
      "/Users/yudhistiraonggowarsito/Documents/SMU/Courses/CS610 - Applied Machine Learning/Project/aml_project/.venv/lib/python3.12/site-packages/sklearn/utils/extmath.py:203: RuntimeWarning: divide by zero encountered in matmul\n",
      "  ret = a @ b\n",
      "/Users/yudhistiraonggowarsito/Documents/SMU/Courses/CS610 - Applied Machine Learning/Project/aml_project/.venv/lib/python3.12/site-packages/sklearn/utils/extmath.py:203: RuntimeWarning: overflow encountered in matmul\n",
      "  ret = a @ b\n",
      "/Users/yudhistiraonggowarsito/Documents/SMU/Courses/CS610 - Applied Machine Learning/Project/aml_project/.venv/lib/python3.12/site-packages/sklearn/utils/extmath.py:203: RuntimeWarning: invalid value encountered in matmul\n",
      "  ret = a @ b\n",
      "/Users/yudhistiraonggowarsito/Documents/SMU/Courses/CS610 - Applied Machine Learning/Project/aml_project/.venv/lib/python3.12/site-packages/sklearn/utils/extmath.py:203: RuntimeWarning: divide by zero encountered in matmul\n",
      "  ret = a @ b\n",
      "/Users/yudhistiraonggowarsito/Documents/SMU/Courses/CS610 - Applied Machine Learning/Project/aml_project/.venv/lib/python3.12/site-packages/sklearn/utils/extmath.py:203: RuntimeWarning: overflow encountered in matmul\n",
      "  ret = a @ b\n",
      "/Users/yudhistiraonggowarsito/Documents/SMU/Courses/CS610 - Applied Machine Learning/Project/aml_project/.venv/lib/python3.12/site-packages/sklearn/utils/extmath.py:203: RuntimeWarning: invalid value encountered in matmul\n",
      "  ret = a @ b\n"
     ]
    },
    {
     "name": "stdout",
     "output_type": "stream",
     "text": [
      "[Run 3] Iter 30 F1-illicit: 0.4638\n",
      "\n",
      "=== Run 4/5 ===\n",
      "[Run 4] Iter 1 F1-illicit: 0.1980\n",
      "[Run 4] Iter 2 F1-illicit: 0.2140\n",
      "[Run 4] Iter 3 F1-illicit: 0.2801\n"
     ]
    },
    {
     "name": "stderr",
     "output_type": "stream",
     "text": [
      "/Users/yudhistiraonggowarsito/Documents/SMU/Courses/CS610 - Applied Machine Learning/Project/aml_project/.venv/lib/python3.12/site-packages/sklearn/utils/extmath.py:203: RuntimeWarning: divide by zero encountered in matmul\n",
      "  ret = a @ b\n",
      "/Users/yudhistiraonggowarsito/Documents/SMU/Courses/CS610 - Applied Machine Learning/Project/aml_project/.venv/lib/python3.12/site-packages/sklearn/utils/extmath.py:203: RuntimeWarning: overflow encountered in matmul\n",
      "  ret = a @ b\n",
      "/Users/yudhistiraonggowarsito/Documents/SMU/Courses/CS610 - Applied Machine Learning/Project/aml_project/.venv/lib/python3.12/site-packages/sklearn/utils/extmath.py:203: RuntimeWarning: invalid value encountered in matmul\n",
      "  ret = a @ b\n",
      "/Users/yudhistiraonggowarsito/Documents/SMU/Courses/CS610 - Applied Machine Learning/Project/aml_project/.venv/lib/python3.12/site-packages/sklearn/utils/extmath.py:203: RuntimeWarning: divide by zero encountered in matmul\n",
      "  ret = a @ b\n",
      "/Users/yudhistiraonggowarsito/Documents/SMU/Courses/CS610 - Applied Machine Learning/Project/aml_project/.venv/lib/python3.12/site-packages/sklearn/utils/extmath.py:203: RuntimeWarning: overflow encountered in matmul\n",
      "  ret = a @ b\n",
      "/Users/yudhistiraonggowarsito/Documents/SMU/Courses/CS610 - Applied Machine Learning/Project/aml_project/.venv/lib/python3.12/site-packages/sklearn/utils/extmath.py:203: RuntimeWarning: invalid value encountered in matmul\n",
      "  ret = a @ b\n",
      "/Users/yudhistiraonggowarsito/Documents/SMU/Courses/CS610 - Applied Machine Learning/Project/aml_project/.venv/lib/python3.12/site-packages/sklearn/utils/extmath.py:203: RuntimeWarning: divide by zero encountered in matmul\n",
      "  ret = a @ b\n",
      "/Users/yudhistiraonggowarsito/Documents/SMU/Courses/CS610 - Applied Machine Learning/Project/aml_project/.venv/lib/python3.12/site-packages/sklearn/utils/extmath.py:203: RuntimeWarning: overflow encountered in matmul\n",
      "  ret = a @ b\n",
      "/Users/yudhistiraonggowarsito/Documents/SMU/Courses/CS610 - Applied Machine Learning/Project/aml_project/.venv/lib/python3.12/site-packages/sklearn/utils/extmath.py:203: RuntimeWarning: invalid value encountered in matmul\n",
      "  ret = a @ b\n",
      "/Users/yudhistiraonggowarsito/Documents/SMU/Courses/CS610 - Applied Machine Learning/Project/aml_project/.venv/lib/python3.12/site-packages/sklearn/utils/extmath.py:203: RuntimeWarning: divide by zero encountered in matmul\n",
      "  ret = a @ b\n",
      "/Users/yudhistiraonggowarsito/Documents/SMU/Courses/CS610 - Applied Machine Learning/Project/aml_project/.venv/lib/python3.12/site-packages/sklearn/utils/extmath.py:203: RuntimeWarning: overflow encountered in matmul\n",
      "  ret = a @ b\n",
      "/Users/yudhistiraonggowarsito/Documents/SMU/Courses/CS610 - Applied Machine Learning/Project/aml_project/.venv/lib/python3.12/site-packages/sklearn/utils/extmath.py:203: RuntimeWarning: invalid value encountered in matmul\n",
      "  ret = a @ b\n",
      "/Users/yudhistiraonggowarsito/Documents/SMU/Courses/CS610 - Applied Machine Learning/Project/aml_project/.venv/lib/python3.12/site-packages/sklearn/utils/extmath.py:203: RuntimeWarning: divide by zero encountered in matmul\n",
      "  ret = a @ b\n",
      "/Users/yudhistiraonggowarsito/Documents/SMU/Courses/CS610 - Applied Machine Learning/Project/aml_project/.venv/lib/python3.12/site-packages/sklearn/utils/extmath.py:203: RuntimeWarning: overflow encountered in matmul\n",
      "  ret = a @ b\n",
      "/Users/yudhistiraonggowarsito/Documents/SMU/Courses/CS610 - Applied Machine Learning/Project/aml_project/.venv/lib/python3.12/site-packages/sklearn/utils/extmath.py:203: RuntimeWarning: invalid value encountered in matmul\n",
      "  ret = a @ b\n",
      "/Users/yudhistiraonggowarsito/Documents/SMU/Courses/CS610 - Applied Machine Learning/Project/aml_project/.venv/lib/python3.12/site-packages/sklearn/utils/extmath.py:203: RuntimeWarning: divide by zero encountered in matmul\n",
      "  ret = a @ b\n",
      "/Users/yudhistiraonggowarsito/Documents/SMU/Courses/CS610 - Applied Machine Learning/Project/aml_project/.venv/lib/python3.12/site-packages/sklearn/utils/extmath.py:203: RuntimeWarning: overflow encountered in matmul\n",
      "  ret = a @ b\n",
      "/Users/yudhistiraonggowarsito/Documents/SMU/Courses/CS610 - Applied Machine Learning/Project/aml_project/.venv/lib/python3.12/site-packages/sklearn/utils/extmath.py:203: RuntimeWarning: invalid value encountered in matmul\n",
      "  ret = a @ b\n"
     ]
    },
    {
     "name": "stdout",
     "output_type": "stream",
     "text": [
      "[Run 4] Iter 4 F1-illicit: 0.3113\n",
      "[Run 4] Iter 5 F1-illicit: 0.3426\n",
      "[Run 4] Iter 6 F1-illicit: 0.3643\n"
     ]
    },
    {
     "name": "stderr",
     "output_type": "stream",
     "text": [
      "/Users/yudhistiraonggowarsito/Documents/SMU/Courses/CS610 - Applied Machine Learning/Project/aml_project/.venv/lib/python3.12/site-packages/sklearn/utils/extmath.py:203: RuntimeWarning: divide by zero encountered in matmul\n",
      "  ret = a @ b\n",
      "/Users/yudhistiraonggowarsito/Documents/SMU/Courses/CS610 - Applied Machine Learning/Project/aml_project/.venv/lib/python3.12/site-packages/sklearn/utils/extmath.py:203: RuntimeWarning: overflow encountered in matmul\n",
      "  ret = a @ b\n",
      "/Users/yudhistiraonggowarsito/Documents/SMU/Courses/CS610 - Applied Machine Learning/Project/aml_project/.venv/lib/python3.12/site-packages/sklearn/utils/extmath.py:203: RuntimeWarning: invalid value encountered in matmul\n",
      "  ret = a @ b\n",
      "/Users/yudhistiraonggowarsito/Documents/SMU/Courses/CS610 - Applied Machine Learning/Project/aml_project/.venv/lib/python3.12/site-packages/sklearn/utils/extmath.py:203: RuntimeWarning: divide by zero encountered in matmul\n",
      "  ret = a @ b\n",
      "/Users/yudhistiraonggowarsito/Documents/SMU/Courses/CS610 - Applied Machine Learning/Project/aml_project/.venv/lib/python3.12/site-packages/sklearn/utils/extmath.py:203: RuntimeWarning: overflow encountered in matmul\n",
      "  ret = a @ b\n",
      "/Users/yudhistiraonggowarsito/Documents/SMU/Courses/CS610 - Applied Machine Learning/Project/aml_project/.venv/lib/python3.12/site-packages/sklearn/utils/extmath.py:203: RuntimeWarning: invalid value encountered in matmul\n",
      "  ret = a @ b\n",
      "/Users/yudhistiraonggowarsito/Documents/SMU/Courses/CS610 - Applied Machine Learning/Project/aml_project/.venv/lib/python3.12/site-packages/sklearn/utils/extmath.py:203: RuntimeWarning: divide by zero encountered in matmul\n",
      "  ret = a @ b\n",
      "/Users/yudhistiraonggowarsito/Documents/SMU/Courses/CS610 - Applied Machine Learning/Project/aml_project/.venv/lib/python3.12/site-packages/sklearn/utils/extmath.py:203: RuntimeWarning: overflow encountered in matmul\n",
      "  ret = a @ b\n",
      "/Users/yudhistiraonggowarsito/Documents/SMU/Courses/CS610 - Applied Machine Learning/Project/aml_project/.venv/lib/python3.12/site-packages/sklearn/utils/extmath.py:203: RuntimeWarning: invalid value encountered in matmul\n",
      "  ret = a @ b\n",
      "/Users/yudhistiraonggowarsito/Documents/SMU/Courses/CS610 - Applied Machine Learning/Project/aml_project/.venv/lib/python3.12/site-packages/sklearn/utils/extmath.py:203: RuntimeWarning: divide by zero encountered in matmul\n",
      "  ret = a @ b\n",
      "/Users/yudhistiraonggowarsito/Documents/SMU/Courses/CS610 - Applied Machine Learning/Project/aml_project/.venv/lib/python3.12/site-packages/sklearn/utils/extmath.py:203: RuntimeWarning: overflow encountered in matmul\n",
      "  ret = a @ b\n",
      "/Users/yudhistiraonggowarsito/Documents/SMU/Courses/CS610 - Applied Machine Learning/Project/aml_project/.venv/lib/python3.12/site-packages/sklearn/utils/extmath.py:203: RuntimeWarning: invalid value encountered in matmul\n",
      "  ret = a @ b\n"
     ]
    },
    {
     "name": "stdout",
     "output_type": "stream",
     "text": [
      "[Run 4] Iter 7 F1-illicit: 0.3822\n",
      "[Run 4] Iter 8 F1-illicit: 0.4178\n"
     ]
    },
    {
     "name": "stderr",
     "output_type": "stream",
     "text": [
      "/Users/yudhistiraonggowarsito/Documents/SMU/Courses/CS610 - Applied Machine Learning/Project/aml_project/.venv/lib/python3.12/site-packages/sklearn/utils/extmath.py:203: RuntimeWarning: divide by zero encountered in matmul\n",
      "  ret = a @ b\n",
      "/Users/yudhistiraonggowarsito/Documents/SMU/Courses/CS610 - Applied Machine Learning/Project/aml_project/.venv/lib/python3.12/site-packages/sklearn/utils/extmath.py:203: RuntimeWarning: overflow encountered in matmul\n",
      "  ret = a @ b\n",
      "/Users/yudhistiraonggowarsito/Documents/SMU/Courses/CS610 - Applied Machine Learning/Project/aml_project/.venv/lib/python3.12/site-packages/sklearn/utils/extmath.py:203: RuntimeWarning: invalid value encountered in matmul\n",
      "  ret = a @ b\n",
      "/Users/yudhistiraonggowarsito/Documents/SMU/Courses/CS610 - Applied Machine Learning/Project/aml_project/.venv/lib/python3.12/site-packages/sklearn/utils/extmath.py:203: RuntimeWarning: divide by zero encountered in matmul\n",
      "  ret = a @ b\n",
      "/Users/yudhistiraonggowarsito/Documents/SMU/Courses/CS610 - Applied Machine Learning/Project/aml_project/.venv/lib/python3.12/site-packages/sklearn/utils/extmath.py:203: RuntimeWarning: overflow encountered in matmul\n",
      "  ret = a @ b\n",
      "/Users/yudhistiraonggowarsito/Documents/SMU/Courses/CS610 - Applied Machine Learning/Project/aml_project/.venv/lib/python3.12/site-packages/sklearn/utils/extmath.py:203: RuntimeWarning: invalid value encountered in matmul\n",
      "  ret = a @ b\n",
      "/Users/yudhistiraonggowarsito/Documents/SMU/Courses/CS610 - Applied Machine Learning/Project/aml_project/.venv/lib/python3.12/site-packages/sklearn/utils/extmath.py:203: RuntimeWarning: divide by zero encountered in matmul\n",
      "  ret = a @ b\n",
      "/Users/yudhistiraonggowarsito/Documents/SMU/Courses/CS610 - Applied Machine Learning/Project/aml_project/.venv/lib/python3.12/site-packages/sklearn/utils/extmath.py:203: RuntimeWarning: overflow encountered in matmul\n",
      "  ret = a @ b\n",
      "/Users/yudhistiraonggowarsito/Documents/SMU/Courses/CS610 - Applied Machine Learning/Project/aml_project/.venv/lib/python3.12/site-packages/sklearn/utils/extmath.py:203: RuntimeWarning: invalid value encountered in matmul\n",
      "  ret = a @ b\n",
      "/Users/yudhistiraonggowarsito/Documents/SMU/Courses/CS610 - Applied Machine Learning/Project/aml_project/.venv/lib/python3.12/site-packages/sklearn/utils/extmath.py:203: RuntimeWarning: divide by zero encountered in matmul\n",
      "  ret = a @ b\n",
      "/Users/yudhistiraonggowarsito/Documents/SMU/Courses/CS610 - Applied Machine Learning/Project/aml_project/.venv/lib/python3.12/site-packages/sklearn/utils/extmath.py:203: RuntimeWarning: overflow encountered in matmul\n",
      "  ret = a @ b\n",
      "/Users/yudhistiraonggowarsito/Documents/SMU/Courses/CS610 - Applied Machine Learning/Project/aml_project/.venv/lib/python3.12/site-packages/sklearn/utils/extmath.py:203: RuntimeWarning: invalid value encountered in matmul\n",
      "  ret = a @ b\n"
     ]
    },
    {
     "name": "stdout",
     "output_type": "stream",
     "text": [
      "[Run 4] Iter 9 F1-illicit: 0.4219\n",
      "[Run 4] Iter 10 F1-illicit: 0.4041\n"
     ]
    },
    {
     "name": "stderr",
     "output_type": "stream",
     "text": [
      "/Users/yudhistiraonggowarsito/Documents/SMU/Courses/CS610 - Applied Machine Learning/Project/aml_project/.venv/lib/python3.12/site-packages/sklearn/utils/extmath.py:203: RuntimeWarning: divide by zero encountered in matmul\n",
      "  ret = a @ b\n",
      "/Users/yudhistiraonggowarsito/Documents/SMU/Courses/CS610 - Applied Machine Learning/Project/aml_project/.venv/lib/python3.12/site-packages/sklearn/utils/extmath.py:203: RuntimeWarning: overflow encountered in matmul\n",
      "  ret = a @ b\n",
      "/Users/yudhistiraonggowarsito/Documents/SMU/Courses/CS610 - Applied Machine Learning/Project/aml_project/.venv/lib/python3.12/site-packages/sklearn/utils/extmath.py:203: RuntimeWarning: invalid value encountered in matmul\n",
      "  ret = a @ b\n",
      "/Users/yudhistiraonggowarsito/Documents/SMU/Courses/CS610 - Applied Machine Learning/Project/aml_project/.venv/lib/python3.12/site-packages/sklearn/utils/extmath.py:203: RuntimeWarning: divide by zero encountered in matmul\n",
      "  ret = a @ b\n",
      "/Users/yudhistiraonggowarsito/Documents/SMU/Courses/CS610 - Applied Machine Learning/Project/aml_project/.venv/lib/python3.12/site-packages/sklearn/utils/extmath.py:203: RuntimeWarning: overflow encountered in matmul\n",
      "  ret = a @ b\n",
      "/Users/yudhistiraonggowarsito/Documents/SMU/Courses/CS610 - Applied Machine Learning/Project/aml_project/.venv/lib/python3.12/site-packages/sklearn/utils/extmath.py:203: RuntimeWarning: invalid value encountered in matmul\n",
      "  ret = a @ b\n",
      "/Users/yudhistiraonggowarsito/Documents/SMU/Courses/CS610 - Applied Machine Learning/Project/aml_project/.venv/lib/python3.12/site-packages/sklearn/utils/extmath.py:203: RuntimeWarning: divide by zero encountered in matmul\n",
      "  ret = a @ b\n",
      "/Users/yudhistiraonggowarsito/Documents/SMU/Courses/CS610 - Applied Machine Learning/Project/aml_project/.venv/lib/python3.12/site-packages/sklearn/utils/extmath.py:203: RuntimeWarning: overflow encountered in matmul\n",
      "  ret = a @ b\n",
      "/Users/yudhistiraonggowarsito/Documents/SMU/Courses/CS610 - Applied Machine Learning/Project/aml_project/.venv/lib/python3.12/site-packages/sklearn/utils/extmath.py:203: RuntimeWarning: invalid value encountered in matmul\n",
      "  ret = a @ b\n",
      "/Users/yudhistiraonggowarsito/Documents/SMU/Courses/CS610 - Applied Machine Learning/Project/aml_project/.venv/lib/python3.12/site-packages/sklearn/utils/extmath.py:203: RuntimeWarning: divide by zero encountered in matmul\n",
      "  ret = a @ b\n",
      "/Users/yudhistiraonggowarsito/Documents/SMU/Courses/CS610 - Applied Machine Learning/Project/aml_project/.venv/lib/python3.12/site-packages/sklearn/utils/extmath.py:203: RuntimeWarning: overflow encountered in matmul\n",
      "  ret = a @ b\n",
      "/Users/yudhistiraonggowarsito/Documents/SMU/Courses/CS610 - Applied Machine Learning/Project/aml_project/.venv/lib/python3.12/site-packages/sklearn/utils/extmath.py:203: RuntimeWarning: invalid value encountered in matmul\n",
      "  ret = a @ b\n"
     ]
    },
    {
     "name": "stdout",
     "output_type": "stream",
     "text": [
      "[Run 4] Iter 11 F1-illicit: 0.4348\n",
      "[Run 4] Iter 12 F1-illicit: 0.4264\n"
     ]
    },
    {
     "name": "stderr",
     "output_type": "stream",
     "text": [
      "/Users/yudhistiraonggowarsito/Documents/SMU/Courses/CS610 - Applied Machine Learning/Project/aml_project/.venv/lib/python3.12/site-packages/sklearn/utils/extmath.py:203: RuntimeWarning: divide by zero encountered in matmul\n",
      "  ret = a @ b\n",
      "/Users/yudhistiraonggowarsito/Documents/SMU/Courses/CS610 - Applied Machine Learning/Project/aml_project/.venv/lib/python3.12/site-packages/sklearn/utils/extmath.py:203: RuntimeWarning: overflow encountered in matmul\n",
      "  ret = a @ b\n",
      "/Users/yudhistiraonggowarsito/Documents/SMU/Courses/CS610 - Applied Machine Learning/Project/aml_project/.venv/lib/python3.12/site-packages/sklearn/utils/extmath.py:203: RuntimeWarning: invalid value encountered in matmul\n",
      "  ret = a @ b\n",
      "/Users/yudhistiraonggowarsito/Documents/SMU/Courses/CS610 - Applied Machine Learning/Project/aml_project/.venv/lib/python3.12/site-packages/sklearn/utils/extmath.py:203: RuntimeWarning: divide by zero encountered in matmul\n",
      "  ret = a @ b\n",
      "/Users/yudhistiraonggowarsito/Documents/SMU/Courses/CS610 - Applied Machine Learning/Project/aml_project/.venv/lib/python3.12/site-packages/sklearn/utils/extmath.py:203: RuntimeWarning: overflow encountered in matmul\n",
      "  ret = a @ b\n",
      "/Users/yudhistiraonggowarsito/Documents/SMU/Courses/CS610 - Applied Machine Learning/Project/aml_project/.venv/lib/python3.12/site-packages/sklearn/utils/extmath.py:203: RuntimeWarning: invalid value encountered in matmul\n",
      "  ret = a @ b\n"
     ]
    },
    {
     "name": "stdout",
     "output_type": "stream",
     "text": [
      "[Run 4] Iter 13 F1-illicit: 0.4135\n"
     ]
    },
    {
     "name": "stderr",
     "output_type": "stream",
     "text": [
      "/Users/yudhistiraonggowarsito/Documents/SMU/Courses/CS610 - Applied Machine Learning/Project/aml_project/.venv/lib/python3.12/site-packages/sklearn/utils/extmath.py:203: RuntimeWarning: divide by zero encountered in matmul\n",
      "  ret = a @ b\n",
      "/Users/yudhistiraonggowarsito/Documents/SMU/Courses/CS610 - Applied Machine Learning/Project/aml_project/.venv/lib/python3.12/site-packages/sklearn/utils/extmath.py:203: RuntimeWarning: overflow encountered in matmul\n",
      "  ret = a @ b\n",
      "/Users/yudhistiraonggowarsito/Documents/SMU/Courses/CS610 - Applied Machine Learning/Project/aml_project/.venv/lib/python3.12/site-packages/sklearn/utils/extmath.py:203: RuntimeWarning: invalid value encountered in matmul\n",
      "  ret = a @ b\n",
      "/Users/yudhistiraonggowarsito/Documents/SMU/Courses/CS610 - Applied Machine Learning/Project/aml_project/.venv/lib/python3.12/site-packages/sklearn/utils/extmath.py:203: RuntimeWarning: divide by zero encountered in matmul\n",
      "  ret = a @ b\n",
      "/Users/yudhistiraonggowarsito/Documents/SMU/Courses/CS610 - Applied Machine Learning/Project/aml_project/.venv/lib/python3.12/site-packages/sklearn/utils/extmath.py:203: RuntimeWarning: overflow encountered in matmul\n",
      "  ret = a @ b\n",
      "/Users/yudhistiraonggowarsito/Documents/SMU/Courses/CS610 - Applied Machine Learning/Project/aml_project/.venv/lib/python3.12/site-packages/sklearn/utils/extmath.py:203: RuntimeWarning: invalid value encountered in matmul\n",
      "  ret = a @ b\n"
     ]
    },
    {
     "name": "stdout",
     "output_type": "stream",
     "text": [
      "[Run 4] Iter 14 F1-illicit: 0.4111\n"
     ]
    },
    {
     "name": "stderr",
     "output_type": "stream",
     "text": [
      "/Users/yudhistiraonggowarsito/Documents/SMU/Courses/CS610 - Applied Machine Learning/Project/aml_project/.venv/lib/python3.12/site-packages/sklearn/utils/extmath.py:203: RuntimeWarning: divide by zero encountered in matmul\n",
      "  ret = a @ b\n",
      "/Users/yudhistiraonggowarsito/Documents/SMU/Courses/CS610 - Applied Machine Learning/Project/aml_project/.venv/lib/python3.12/site-packages/sklearn/utils/extmath.py:203: RuntimeWarning: overflow encountered in matmul\n",
      "  ret = a @ b\n",
      "/Users/yudhistiraonggowarsito/Documents/SMU/Courses/CS610 - Applied Machine Learning/Project/aml_project/.venv/lib/python3.12/site-packages/sklearn/utils/extmath.py:203: RuntimeWarning: invalid value encountered in matmul\n",
      "  ret = a @ b\n",
      "/Users/yudhistiraonggowarsito/Documents/SMU/Courses/CS610 - Applied Machine Learning/Project/aml_project/.venv/lib/python3.12/site-packages/sklearn/utils/extmath.py:203: RuntimeWarning: divide by zero encountered in matmul\n",
      "  ret = a @ b\n",
      "/Users/yudhistiraonggowarsito/Documents/SMU/Courses/CS610 - Applied Machine Learning/Project/aml_project/.venv/lib/python3.12/site-packages/sklearn/utils/extmath.py:203: RuntimeWarning: overflow encountered in matmul\n",
      "  ret = a @ b\n",
      "/Users/yudhistiraonggowarsito/Documents/SMU/Courses/CS610 - Applied Machine Learning/Project/aml_project/.venv/lib/python3.12/site-packages/sklearn/utils/extmath.py:203: RuntimeWarning: invalid value encountered in matmul\n",
      "  ret = a @ b\n"
     ]
    },
    {
     "name": "stdout",
     "output_type": "stream",
     "text": [
      "[Run 4] Iter 15 F1-illicit: 0.4181\n"
     ]
    },
    {
     "name": "stderr",
     "output_type": "stream",
     "text": [
      "/Users/yudhistiraonggowarsito/Documents/SMU/Courses/CS610 - Applied Machine Learning/Project/aml_project/.venv/lib/python3.12/site-packages/sklearn/utils/extmath.py:203: RuntimeWarning: divide by zero encountered in matmul\n",
      "  ret = a @ b\n",
      "/Users/yudhistiraonggowarsito/Documents/SMU/Courses/CS610 - Applied Machine Learning/Project/aml_project/.venv/lib/python3.12/site-packages/sklearn/utils/extmath.py:203: RuntimeWarning: overflow encountered in matmul\n",
      "  ret = a @ b\n",
      "/Users/yudhistiraonggowarsito/Documents/SMU/Courses/CS610 - Applied Machine Learning/Project/aml_project/.venv/lib/python3.12/site-packages/sklearn/utils/extmath.py:203: RuntimeWarning: invalid value encountered in matmul\n",
      "  ret = a @ b\n",
      "/Users/yudhistiraonggowarsito/Documents/SMU/Courses/CS610 - Applied Machine Learning/Project/aml_project/.venv/lib/python3.12/site-packages/sklearn/utils/extmath.py:203: RuntimeWarning: divide by zero encountered in matmul\n",
      "  ret = a @ b\n",
      "/Users/yudhistiraonggowarsito/Documents/SMU/Courses/CS610 - Applied Machine Learning/Project/aml_project/.venv/lib/python3.12/site-packages/sklearn/utils/extmath.py:203: RuntimeWarning: overflow encountered in matmul\n",
      "  ret = a @ b\n",
      "/Users/yudhistiraonggowarsito/Documents/SMU/Courses/CS610 - Applied Machine Learning/Project/aml_project/.venv/lib/python3.12/site-packages/sklearn/utils/extmath.py:203: RuntimeWarning: invalid value encountered in matmul\n",
      "  ret = a @ b\n"
     ]
    },
    {
     "name": "stdout",
     "output_type": "stream",
     "text": [
      "[Run 4] Iter 16 F1-illicit: 0.4125\n"
     ]
    },
    {
     "name": "stderr",
     "output_type": "stream",
     "text": [
      "/Users/yudhistiraonggowarsito/Documents/SMU/Courses/CS610 - Applied Machine Learning/Project/aml_project/.venv/lib/python3.12/site-packages/sklearn/utils/extmath.py:203: RuntimeWarning: divide by zero encountered in matmul\n",
      "  ret = a @ b\n",
      "/Users/yudhistiraonggowarsito/Documents/SMU/Courses/CS610 - Applied Machine Learning/Project/aml_project/.venv/lib/python3.12/site-packages/sklearn/utils/extmath.py:203: RuntimeWarning: overflow encountered in matmul\n",
      "  ret = a @ b\n",
      "/Users/yudhistiraonggowarsito/Documents/SMU/Courses/CS610 - Applied Machine Learning/Project/aml_project/.venv/lib/python3.12/site-packages/sklearn/utils/extmath.py:203: RuntimeWarning: invalid value encountered in matmul\n",
      "  ret = a @ b\n",
      "/Users/yudhistiraonggowarsito/Documents/SMU/Courses/CS610 - Applied Machine Learning/Project/aml_project/.venv/lib/python3.12/site-packages/sklearn/utils/extmath.py:203: RuntimeWarning: divide by zero encountered in matmul\n",
      "  ret = a @ b\n",
      "/Users/yudhistiraonggowarsito/Documents/SMU/Courses/CS610 - Applied Machine Learning/Project/aml_project/.venv/lib/python3.12/site-packages/sklearn/utils/extmath.py:203: RuntimeWarning: overflow encountered in matmul\n",
      "  ret = a @ b\n",
      "/Users/yudhistiraonggowarsito/Documents/SMU/Courses/CS610 - Applied Machine Learning/Project/aml_project/.venv/lib/python3.12/site-packages/sklearn/utils/extmath.py:203: RuntimeWarning: invalid value encountered in matmul\n",
      "  ret = a @ b\n"
     ]
    },
    {
     "name": "stdout",
     "output_type": "stream",
     "text": [
      "[Run 4] Iter 17 F1-illicit: 0.4159\n"
     ]
    },
    {
     "name": "stderr",
     "output_type": "stream",
     "text": [
      "/Users/yudhistiraonggowarsito/Documents/SMU/Courses/CS610 - Applied Machine Learning/Project/aml_project/.venv/lib/python3.12/site-packages/sklearn/utils/extmath.py:203: RuntimeWarning: divide by zero encountered in matmul\n",
      "  ret = a @ b\n",
      "/Users/yudhistiraonggowarsito/Documents/SMU/Courses/CS610 - Applied Machine Learning/Project/aml_project/.venv/lib/python3.12/site-packages/sklearn/utils/extmath.py:203: RuntimeWarning: overflow encountered in matmul\n",
      "  ret = a @ b\n",
      "/Users/yudhistiraonggowarsito/Documents/SMU/Courses/CS610 - Applied Machine Learning/Project/aml_project/.venv/lib/python3.12/site-packages/sklearn/utils/extmath.py:203: RuntimeWarning: invalid value encountered in matmul\n",
      "  ret = a @ b\n",
      "/Users/yudhistiraonggowarsito/Documents/SMU/Courses/CS610 - Applied Machine Learning/Project/aml_project/.venv/lib/python3.12/site-packages/sklearn/utils/extmath.py:203: RuntimeWarning: divide by zero encountered in matmul\n",
      "  ret = a @ b\n",
      "/Users/yudhistiraonggowarsito/Documents/SMU/Courses/CS610 - Applied Machine Learning/Project/aml_project/.venv/lib/python3.12/site-packages/sklearn/utils/extmath.py:203: RuntimeWarning: overflow encountered in matmul\n",
      "  ret = a @ b\n",
      "/Users/yudhistiraonggowarsito/Documents/SMU/Courses/CS610 - Applied Machine Learning/Project/aml_project/.venv/lib/python3.12/site-packages/sklearn/utils/extmath.py:203: RuntimeWarning: invalid value encountered in matmul\n",
      "  ret = a @ b\n"
     ]
    },
    {
     "name": "stdout",
     "output_type": "stream",
     "text": [
      "[Run 4] Iter 18 F1-illicit: 0.4113\n"
     ]
    },
    {
     "name": "stderr",
     "output_type": "stream",
     "text": [
      "/Users/yudhistiraonggowarsito/Documents/SMU/Courses/CS610 - Applied Machine Learning/Project/aml_project/.venv/lib/python3.12/site-packages/sklearn/utils/extmath.py:203: RuntimeWarning: divide by zero encountered in matmul\n",
      "  ret = a @ b\n",
      "/Users/yudhistiraonggowarsito/Documents/SMU/Courses/CS610 - Applied Machine Learning/Project/aml_project/.venv/lib/python3.12/site-packages/sklearn/utils/extmath.py:203: RuntimeWarning: overflow encountered in matmul\n",
      "  ret = a @ b\n",
      "/Users/yudhistiraonggowarsito/Documents/SMU/Courses/CS610 - Applied Machine Learning/Project/aml_project/.venv/lib/python3.12/site-packages/sklearn/utils/extmath.py:203: RuntimeWarning: invalid value encountered in matmul\n",
      "  ret = a @ b\n",
      "/Users/yudhistiraonggowarsito/Documents/SMU/Courses/CS610 - Applied Machine Learning/Project/aml_project/.venv/lib/python3.12/site-packages/sklearn/utils/extmath.py:203: RuntimeWarning: divide by zero encountered in matmul\n",
      "  ret = a @ b\n",
      "/Users/yudhistiraonggowarsito/Documents/SMU/Courses/CS610 - Applied Machine Learning/Project/aml_project/.venv/lib/python3.12/site-packages/sklearn/utils/extmath.py:203: RuntimeWarning: overflow encountered in matmul\n",
      "  ret = a @ b\n",
      "/Users/yudhistiraonggowarsito/Documents/SMU/Courses/CS610 - Applied Machine Learning/Project/aml_project/.venv/lib/python3.12/site-packages/sklearn/utils/extmath.py:203: RuntimeWarning: invalid value encountered in matmul\n",
      "  ret = a @ b\n"
     ]
    },
    {
     "name": "stdout",
     "output_type": "stream",
     "text": [
      "[Run 4] Iter 19 F1-illicit: 0.4123\n"
     ]
    },
    {
     "name": "stderr",
     "output_type": "stream",
     "text": [
      "/Users/yudhistiraonggowarsito/Documents/SMU/Courses/CS610 - Applied Machine Learning/Project/aml_project/.venv/lib/python3.12/site-packages/sklearn/utils/extmath.py:203: RuntimeWarning: divide by zero encountered in matmul\n",
      "  ret = a @ b\n",
      "/Users/yudhistiraonggowarsito/Documents/SMU/Courses/CS610 - Applied Machine Learning/Project/aml_project/.venv/lib/python3.12/site-packages/sklearn/utils/extmath.py:203: RuntimeWarning: overflow encountered in matmul\n",
      "  ret = a @ b\n",
      "/Users/yudhistiraonggowarsito/Documents/SMU/Courses/CS610 - Applied Machine Learning/Project/aml_project/.venv/lib/python3.12/site-packages/sklearn/utils/extmath.py:203: RuntimeWarning: invalid value encountered in matmul\n",
      "  ret = a @ b\n",
      "/Users/yudhistiraonggowarsito/Documents/SMU/Courses/CS610 - Applied Machine Learning/Project/aml_project/.venv/lib/python3.12/site-packages/sklearn/utils/extmath.py:203: RuntimeWarning: divide by zero encountered in matmul\n",
      "  ret = a @ b\n",
      "/Users/yudhistiraonggowarsito/Documents/SMU/Courses/CS610 - Applied Machine Learning/Project/aml_project/.venv/lib/python3.12/site-packages/sklearn/utils/extmath.py:203: RuntimeWarning: overflow encountered in matmul\n",
      "  ret = a @ b\n",
      "/Users/yudhistiraonggowarsito/Documents/SMU/Courses/CS610 - Applied Machine Learning/Project/aml_project/.venv/lib/python3.12/site-packages/sklearn/utils/extmath.py:203: RuntimeWarning: invalid value encountered in matmul\n",
      "  ret = a @ b\n"
     ]
    },
    {
     "name": "stdout",
     "output_type": "stream",
     "text": [
      "[Run 4] Iter 20 F1-illicit: 0.4097\n"
     ]
    },
    {
     "name": "stderr",
     "output_type": "stream",
     "text": [
      "/Users/yudhistiraonggowarsito/Documents/SMU/Courses/CS610 - Applied Machine Learning/Project/aml_project/.venv/lib/python3.12/site-packages/sklearn/utils/extmath.py:203: RuntimeWarning: divide by zero encountered in matmul\n",
      "  ret = a @ b\n",
      "/Users/yudhistiraonggowarsito/Documents/SMU/Courses/CS610 - Applied Machine Learning/Project/aml_project/.venv/lib/python3.12/site-packages/sklearn/utils/extmath.py:203: RuntimeWarning: overflow encountered in matmul\n",
      "  ret = a @ b\n",
      "/Users/yudhistiraonggowarsito/Documents/SMU/Courses/CS610 - Applied Machine Learning/Project/aml_project/.venv/lib/python3.12/site-packages/sklearn/utils/extmath.py:203: RuntimeWarning: invalid value encountered in matmul\n",
      "  ret = a @ b\n",
      "/Users/yudhistiraonggowarsito/Documents/SMU/Courses/CS610 - Applied Machine Learning/Project/aml_project/.venv/lib/python3.12/site-packages/sklearn/utils/extmath.py:203: RuntimeWarning: divide by zero encountered in matmul\n",
      "  ret = a @ b\n",
      "/Users/yudhistiraonggowarsito/Documents/SMU/Courses/CS610 - Applied Machine Learning/Project/aml_project/.venv/lib/python3.12/site-packages/sklearn/utils/extmath.py:203: RuntimeWarning: overflow encountered in matmul\n",
      "  ret = a @ b\n",
      "/Users/yudhistiraonggowarsito/Documents/SMU/Courses/CS610 - Applied Machine Learning/Project/aml_project/.venv/lib/python3.12/site-packages/sklearn/utils/extmath.py:203: RuntimeWarning: invalid value encountered in matmul\n",
      "  ret = a @ b\n"
     ]
    },
    {
     "name": "stdout",
     "output_type": "stream",
     "text": [
      "[Run 4] Iter 21 F1-illicit: 0.4052\n"
     ]
    },
    {
     "name": "stderr",
     "output_type": "stream",
     "text": [
      "/Users/yudhistiraonggowarsito/Documents/SMU/Courses/CS610 - Applied Machine Learning/Project/aml_project/.venv/lib/python3.12/site-packages/sklearn/utils/extmath.py:203: RuntimeWarning: divide by zero encountered in matmul\n",
      "  ret = a @ b\n",
      "/Users/yudhistiraonggowarsito/Documents/SMU/Courses/CS610 - Applied Machine Learning/Project/aml_project/.venv/lib/python3.12/site-packages/sklearn/utils/extmath.py:203: RuntimeWarning: overflow encountered in matmul\n",
      "  ret = a @ b\n",
      "/Users/yudhistiraonggowarsito/Documents/SMU/Courses/CS610 - Applied Machine Learning/Project/aml_project/.venv/lib/python3.12/site-packages/sklearn/utils/extmath.py:203: RuntimeWarning: invalid value encountered in matmul\n",
      "  ret = a @ b\n",
      "/Users/yudhistiraonggowarsito/Documents/SMU/Courses/CS610 - Applied Machine Learning/Project/aml_project/.venv/lib/python3.12/site-packages/sklearn/utils/extmath.py:203: RuntimeWarning: divide by zero encountered in matmul\n",
      "  ret = a @ b\n",
      "/Users/yudhistiraonggowarsito/Documents/SMU/Courses/CS610 - Applied Machine Learning/Project/aml_project/.venv/lib/python3.12/site-packages/sklearn/utils/extmath.py:203: RuntimeWarning: overflow encountered in matmul\n",
      "  ret = a @ b\n",
      "/Users/yudhistiraonggowarsito/Documents/SMU/Courses/CS610 - Applied Machine Learning/Project/aml_project/.venv/lib/python3.12/site-packages/sklearn/utils/extmath.py:203: RuntimeWarning: invalid value encountered in matmul\n",
      "  ret = a @ b\n"
     ]
    },
    {
     "name": "stdout",
     "output_type": "stream",
     "text": [
      "[Run 4] Iter 22 F1-illicit: 0.4040\n"
     ]
    },
    {
     "name": "stderr",
     "output_type": "stream",
     "text": [
      "/Users/yudhistiraonggowarsito/Documents/SMU/Courses/CS610 - Applied Machine Learning/Project/aml_project/.venv/lib/python3.12/site-packages/sklearn/utils/extmath.py:203: RuntimeWarning: divide by zero encountered in matmul\n",
      "  ret = a @ b\n",
      "/Users/yudhistiraonggowarsito/Documents/SMU/Courses/CS610 - Applied Machine Learning/Project/aml_project/.venv/lib/python3.12/site-packages/sklearn/utils/extmath.py:203: RuntimeWarning: overflow encountered in matmul\n",
      "  ret = a @ b\n",
      "/Users/yudhistiraonggowarsito/Documents/SMU/Courses/CS610 - Applied Machine Learning/Project/aml_project/.venv/lib/python3.12/site-packages/sklearn/utils/extmath.py:203: RuntimeWarning: invalid value encountered in matmul\n",
      "  ret = a @ b\n",
      "/Users/yudhistiraonggowarsito/Documents/SMU/Courses/CS610 - Applied Machine Learning/Project/aml_project/.venv/lib/python3.12/site-packages/sklearn/utils/extmath.py:203: RuntimeWarning: divide by zero encountered in matmul\n",
      "  ret = a @ b\n",
      "/Users/yudhistiraonggowarsito/Documents/SMU/Courses/CS610 - Applied Machine Learning/Project/aml_project/.venv/lib/python3.12/site-packages/sklearn/utils/extmath.py:203: RuntimeWarning: overflow encountered in matmul\n",
      "  ret = a @ b\n",
      "/Users/yudhistiraonggowarsito/Documents/SMU/Courses/CS610 - Applied Machine Learning/Project/aml_project/.venv/lib/python3.12/site-packages/sklearn/utils/extmath.py:203: RuntimeWarning: invalid value encountered in matmul\n",
      "  ret = a @ b\n"
     ]
    },
    {
     "name": "stdout",
     "output_type": "stream",
     "text": [
      "[Run 4] Iter 23 F1-illicit: 0.4020\n"
     ]
    },
    {
     "name": "stderr",
     "output_type": "stream",
     "text": [
      "/Users/yudhistiraonggowarsito/Documents/SMU/Courses/CS610 - Applied Machine Learning/Project/aml_project/.venv/lib/python3.12/site-packages/sklearn/utils/extmath.py:203: RuntimeWarning: divide by zero encountered in matmul\n",
      "  ret = a @ b\n",
      "/Users/yudhistiraonggowarsito/Documents/SMU/Courses/CS610 - Applied Machine Learning/Project/aml_project/.venv/lib/python3.12/site-packages/sklearn/utils/extmath.py:203: RuntimeWarning: overflow encountered in matmul\n",
      "  ret = a @ b\n",
      "/Users/yudhistiraonggowarsito/Documents/SMU/Courses/CS610 - Applied Machine Learning/Project/aml_project/.venv/lib/python3.12/site-packages/sklearn/utils/extmath.py:203: RuntimeWarning: invalid value encountered in matmul\n",
      "  ret = a @ b\n",
      "/Users/yudhistiraonggowarsito/Documents/SMU/Courses/CS610 - Applied Machine Learning/Project/aml_project/.venv/lib/python3.12/site-packages/sklearn/utils/extmath.py:203: RuntimeWarning: divide by zero encountered in matmul\n",
      "  ret = a @ b\n",
      "/Users/yudhistiraonggowarsito/Documents/SMU/Courses/CS610 - Applied Machine Learning/Project/aml_project/.venv/lib/python3.12/site-packages/sklearn/utils/extmath.py:203: RuntimeWarning: overflow encountered in matmul\n",
      "  ret = a @ b\n",
      "/Users/yudhistiraonggowarsito/Documents/SMU/Courses/CS610 - Applied Machine Learning/Project/aml_project/.venv/lib/python3.12/site-packages/sklearn/utils/extmath.py:203: RuntimeWarning: invalid value encountered in matmul\n",
      "  ret = a @ b\n"
     ]
    },
    {
     "name": "stdout",
     "output_type": "stream",
     "text": [
      "[Run 4] Iter 24 F1-illicit: 0.3998\n"
     ]
    },
    {
     "name": "stderr",
     "output_type": "stream",
     "text": [
      "/Users/yudhistiraonggowarsito/Documents/SMU/Courses/CS610 - Applied Machine Learning/Project/aml_project/.venv/lib/python3.12/site-packages/sklearn/utils/extmath.py:203: RuntimeWarning: divide by zero encountered in matmul\n",
      "  ret = a @ b\n",
      "/Users/yudhistiraonggowarsito/Documents/SMU/Courses/CS610 - Applied Machine Learning/Project/aml_project/.venv/lib/python3.12/site-packages/sklearn/utils/extmath.py:203: RuntimeWarning: overflow encountered in matmul\n",
      "  ret = a @ b\n",
      "/Users/yudhistiraonggowarsito/Documents/SMU/Courses/CS610 - Applied Machine Learning/Project/aml_project/.venv/lib/python3.12/site-packages/sklearn/utils/extmath.py:203: RuntimeWarning: invalid value encountered in matmul\n",
      "  ret = a @ b\n",
      "/Users/yudhistiraonggowarsito/Documents/SMU/Courses/CS610 - Applied Machine Learning/Project/aml_project/.venv/lib/python3.12/site-packages/sklearn/utils/extmath.py:203: RuntimeWarning: divide by zero encountered in matmul\n",
      "  ret = a @ b\n",
      "/Users/yudhistiraonggowarsito/Documents/SMU/Courses/CS610 - Applied Machine Learning/Project/aml_project/.venv/lib/python3.12/site-packages/sklearn/utils/extmath.py:203: RuntimeWarning: overflow encountered in matmul\n",
      "  ret = a @ b\n",
      "/Users/yudhistiraonggowarsito/Documents/SMU/Courses/CS610 - Applied Machine Learning/Project/aml_project/.venv/lib/python3.12/site-packages/sklearn/utils/extmath.py:203: RuntimeWarning: invalid value encountered in matmul\n",
      "  ret = a @ b\n"
     ]
    },
    {
     "name": "stdout",
     "output_type": "stream",
     "text": [
      "[Run 4] Iter 25 F1-illicit: 0.4000\n"
     ]
    },
    {
     "name": "stderr",
     "output_type": "stream",
     "text": [
      "/Users/yudhistiraonggowarsito/Documents/SMU/Courses/CS610 - Applied Machine Learning/Project/aml_project/.venv/lib/python3.12/site-packages/sklearn/utils/extmath.py:203: RuntimeWarning: divide by zero encountered in matmul\n",
      "  ret = a @ b\n",
      "/Users/yudhistiraonggowarsito/Documents/SMU/Courses/CS610 - Applied Machine Learning/Project/aml_project/.venv/lib/python3.12/site-packages/sklearn/utils/extmath.py:203: RuntimeWarning: overflow encountered in matmul\n",
      "  ret = a @ b\n",
      "/Users/yudhistiraonggowarsito/Documents/SMU/Courses/CS610 - Applied Machine Learning/Project/aml_project/.venv/lib/python3.12/site-packages/sklearn/utils/extmath.py:203: RuntimeWarning: invalid value encountered in matmul\n",
      "  ret = a @ b\n",
      "/Users/yudhistiraonggowarsito/Documents/SMU/Courses/CS610 - Applied Machine Learning/Project/aml_project/.venv/lib/python3.12/site-packages/sklearn/utils/extmath.py:203: RuntimeWarning: divide by zero encountered in matmul\n",
      "  ret = a @ b\n",
      "/Users/yudhistiraonggowarsito/Documents/SMU/Courses/CS610 - Applied Machine Learning/Project/aml_project/.venv/lib/python3.12/site-packages/sklearn/utils/extmath.py:203: RuntimeWarning: overflow encountered in matmul\n",
      "  ret = a @ b\n",
      "/Users/yudhistiraonggowarsito/Documents/SMU/Courses/CS610 - Applied Machine Learning/Project/aml_project/.venv/lib/python3.12/site-packages/sklearn/utils/extmath.py:203: RuntimeWarning: invalid value encountered in matmul\n",
      "  ret = a @ b\n"
     ]
    },
    {
     "name": "stdout",
     "output_type": "stream",
     "text": [
      "[Run 4] Iter 26 F1-illicit: 0.3974\n"
     ]
    },
    {
     "name": "stderr",
     "output_type": "stream",
     "text": [
      "/Users/yudhistiraonggowarsito/Documents/SMU/Courses/CS610 - Applied Machine Learning/Project/aml_project/.venv/lib/python3.12/site-packages/sklearn/utils/extmath.py:203: RuntimeWarning: divide by zero encountered in matmul\n",
      "  ret = a @ b\n",
      "/Users/yudhistiraonggowarsito/Documents/SMU/Courses/CS610 - Applied Machine Learning/Project/aml_project/.venv/lib/python3.12/site-packages/sklearn/utils/extmath.py:203: RuntimeWarning: overflow encountered in matmul\n",
      "  ret = a @ b\n",
      "/Users/yudhistiraonggowarsito/Documents/SMU/Courses/CS610 - Applied Machine Learning/Project/aml_project/.venv/lib/python3.12/site-packages/sklearn/utils/extmath.py:203: RuntimeWarning: invalid value encountered in matmul\n",
      "  ret = a @ b\n",
      "/Users/yudhistiraonggowarsito/Documents/SMU/Courses/CS610 - Applied Machine Learning/Project/aml_project/.venv/lib/python3.12/site-packages/sklearn/utils/extmath.py:203: RuntimeWarning: divide by zero encountered in matmul\n",
      "  ret = a @ b\n",
      "/Users/yudhistiraonggowarsito/Documents/SMU/Courses/CS610 - Applied Machine Learning/Project/aml_project/.venv/lib/python3.12/site-packages/sklearn/utils/extmath.py:203: RuntimeWarning: overflow encountered in matmul\n",
      "  ret = a @ b\n",
      "/Users/yudhistiraonggowarsito/Documents/SMU/Courses/CS610 - Applied Machine Learning/Project/aml_project/.venv/lib/python3.12/site-packages/sklearn/utils/extmath.py:203: RuntimeWarning: invalid value encountered in matmul\n",
      "  ret = a @ b\n"
     ]
    },
    {
     "name": "stdout",
     "output_type": "stream",
     "text": [
      "[Run 4] Iter 27 F1-illicit: 0.3949\n"
     ]
    },
    {
     "name": "stderr",
     "output_type": "stream",
     "text": [
      "/Users/yudhistiraonggowarsito/Documents/SMU/Courses/CS610 - Applied Machine Learning/Project/aml_project/.venv/lib/python3.12/site-packages/sklearn/utils/extmath.py:203: RuntimeWarning: divide by zero encountered in matmul\n",
      "  ret = a @ b\n",
      "/Users/yudhistiraonggowarsito/Documents/SMU/Courses/CS610 - Applied Machine Learning/Project/aml_project/.venv/lib/python3.12/site-packages/sklearn/utils/extmath.py:203: RuntimeWarning: overflow encountered in matmul\n",
      "  ret = a @ b\n",
      "/Users/yudhistiraonggowarsito/Documents/SMU/Courses/CS610 - Applied Machine Learning/Project/aml_project/.venv/lib/python3.12/site-packages/sklearn/utils/extmath.py:203: RuntimeWarning: invalid value encountered in matmul\n",
      "  ret = a @ b\n",
      "/Users/yudhistiraonggowarsito/Documents/SMU/Courses/CS610 - Applied Machine Learning/Project/aml_project/.venv/lib/python3.12/site-packages/sklearn/utils/extmath.py:203: RuntimeWarning: divide by zero encountered in matmul\n",
      "  ret = a @ b\n",
      "/Users/yudhistiraonggowarsito/Documents/SMU/Courses/CS610 - Applied Machine Learning/Project/aml_project/.venv/lib/python3.12/site-packages/sklearn/utils/extmath.py:203: RuntimeWarning: overflow encountered in matmul\n",
      "  ret = a @ b\n",
      "/Users/yudhistiraonggowarsito/Documents/SMU/Courses/CS610 - Applied Machine Learning/Project/aml_project/.venv/lib/python3.12/site-packages/sklearn/utils/extmath.py:203: RuntimeWarning: invalid value encountered in matmul\n",
      "  ret = a @ b\n"
     ]
    },
    {
     "name": "stdout",
     "output_type": "stream",
     "text": [
      "[Run 4] Iter 28 F1-illicit: 0.3948\n"
     ]
    },
    {
     "name": "stderr",
     "output_type": "stream",
     "text": [
      "/Users/yudhistiraonggowarsito/Documents/SMU/Courses/CS610 - Applied Machine Learning/Project/aml_project/.venv/lib/python3.12/site-packages/sklearn/utils/extmath.py:203: RuntimeWarning: divide by zero encountered in matmul\n",
      "  ret = a @ b\n",
      "/Users/yudhistiraonggowarsito/Documents/SMU/Courses/CS610 - Applied Machine Learning/Project/aml_project/.venv/lib/python3.12/site-packages/sklearn/utils/extmath.py:203: RuntimeWarning: overflow encountered in matmul\n",
      "  ret = a @ b\n",
      "/Users/yudhistiraonggowarsito/Documents/SMU/Courses/CS610 - Applied Machine Learning/Project/aml_project/.venv/lib/python3.12/site-packages/sklearn/utils/extmath.py:203: RuntimeWarning: invalid value encountered in matmul\n",
      "  ret = a @ b\n",
      "/Users/yudhistiraonggowarsito/Documents/SMU/Courses/CS610 - Applied Machine Learning/Project/aml_project/.venv/lib/python3.12/site-packages/sklearn/utils/extmath.py:203: RuntimeWarning: divide by zero encountered in matmul\n",
      "  ret = a @ b\n",
      "/Users/yudhistiraonggowarsito/Documents/SMU/Courses/CS610 - Applied Machine Learning/Project/aml_project/.venv/lib/python3.12/site-packages/sklearn/utils/extmath.py:203: RuntimeWarning: overflow encountered in matmul\n",
      "  ret = a @ b\n",
      "/Users/yudhistiraonggowarsito/Documents/SMU/Courses/CS610 - Applied Machine Learning/Project/aml_project/.venv/lib/python3.12/site-packages/sklearn/utils/extmath.py:203: RuntimeWarning: invalid value encountered in matmul\n",
      "  ret = a @ b\n"
     ]
    },
    {
     "name": "stdout",
     "output_type": "stream",
     "text": [
      "[Run 4] Iter 29 F1-illicit: 0.3938\n"
     ]
    },
    {
     "name": "stderr",
     "output_type": "stream",
     "text": [
      "/Users/yudhistiraonggowarsito/Documents/SMU/Courses/CS610 - Applied Machine Learning/Project/aml_project/.venv/lib/python3.12/site-packages/sklearn/utils/extmath.py:203: RuntimeWarning: divide by zero encountered in matmul\n",
      "  ret = a @ b\n",
      "/Users/yudhistiraonggowarsito/Documents/SMU/Courses/CS610 - Applied Machine Learning/Project/aml_project/.venv/lib/python3.12/site-packages/sklearn/utils/extmath.py:203: RuntimeWarning: overflow encountered in matmul\n",
      "  ret = a @ b\n",
      "/Users/yudhistiraonggowarsito/Documents/SMU/Courses/CS610 - Applied Machine Learning/Project/aml_project/.venv/lib/python3.12/site-packages/sklearn/utils/extmath.py:203: RuntimeWarning: invalid value encountered in matmul\n",
      "  ret = a @ b\n",
      "/Users/yudhistiraonggowarsito/Documents/SMU/Courses/CS610 - Applied Machine Learning/Project/aml_project/.venv/lib/python3.12/site-packages/sklearn/utils/extmath.py:203: RuntimeWarning: divide by zero encountered in matmul\n",
      "  ret = a @ b\n",
      "/Users/yudhistiraonggowarsito/Documents/SMU/Courses/CS610 - Applied Machine Learning/Project/aml_project/.venv/lib/python3.12/site-packages/sklearn/utils/extmath.py:203: RuntimeWarning: overflow encountered in matmul\n",
      "  ret = a @ b\n",
      "/Users/yudhistiraonggowarsito/Documents/SMU/Courses/CS610 - Applied Machine Learning/Project/aml_project/.venv/lib/python3.12/site-packages/sklearn/utils/extmath.py:203: RuntimeWarning: invalid value encountered in matmul\n",
      "  ret = a @ b\n",
      "/var/folders/2v/617m0pq96qq942zr8nbfyzch0000gn/T/ipykernel_29924/2909400616.py:51: FutureWarning: The behavior of DataFrame concatenation with empty or all-NA entries is deprecated. In a future version, this will no longer exclude empty or all-NA columns when determining the result dtypes. To retain the old behavior, exclude the relevant entries before the concat operation.\n",
      "  labeled_pool = pd.concat([labeled_pool, batch], ignore_index=True)\n",
      "/Users/yudhistiraonggowarsito/Documents/SMU/Courses/CS610 - Applied Machine Learning/Project/aml_project/.venv/lib/python3.12/site-packages/sklearn/utils/extmath.py:203: RuntimeWarning: divide by zero encountered in matmul\n",
      "  ret = a @ b\n",
      "/Users/yudhistiraonggowarsito/Documents/SMU/Courses/CS610 - Applied Machine Learning/Project/aml_project/.venv/lib/python3.12/site-packages/sklearn/utils/extmath.py:203: RuntimeWarning: overflow encountered in matmul\n",
      "  ret = a @ b\n",
      "/Users/yudhistiraonggowarsito/Documents/SMU/Courses/CS610 - Applied Machine Learning/Project/aml_project/.venv/lib/python3.12/site-packages/sklearn/utils/extmath.py:203: RuntimeWarning: invalid value encountered in matmul\n",
      "  ret = a @ b\n",
      "/Users/yudhistiraonggowarsito/Documents/SMU/Courses/CS610 - Applied Machine Learning/Project/aml_project/.venv/lib/python3.12/site-packages/sklearn/utils/extmath.py:203: RuntimeWarning: divide by zero encountered in matmul\n",
      "  ret = a @ b\n",
      "/Users/yudhistiraonggowarsito/Documents/SMU/Courses/CS610 - Applied Machine Learning/Project/aml_project/.venv/lib/python3.12/site-packages/sklearn/utils/extmath.py:203: RuntimeWarning: overflow encountered in matmul\n",
      "  ret = a @ b\n",
      "/Users/yudhistiraonggowarsito/Documents/SMU/Courses/CS610 - Applied Machine Learning/Project/aml_project/.venv/lib/python3.12/site-packages/sklearn/utils/extmath.py:203: RuntimeWarning: invalid value encountered in matmul\n",
      "  ret = a @ b\n",
      "/Users/yudhistiraonggowarsito/Documents/SMU/Courses/CS610 - Applied Machine Learning/Project/aml_project/.venv/lib/python3.12/site-packages/sklearn/utils/extmath.py:203: RuntimeWarning: divide by zero encountered in matmul\n",
      "  ret = a @ b\n",
      "/Users/yudhistiraonggowarsito/Documents/SMU/Courses/CS610 - Applied Machine Learning/Project/aml_project/.venv/lib/python3.12/site-packages/sklearn/utils/extmath.py:203: RuntimeWarning: overflow encountered in matmul\n",
      "  ret = a @ b\n",
      "/Users/yudhistiraonggowarsito/Documents/SMU/Courses/CS610 - Applied Machine Learning/Project/aml_project/.venv/lib/python3.12/site-packages/sklearn/utils/extmath.py:203: RuntimeWarning: invalid value encountered in matmul\n",
      "  ret = a @ b\n",
      "/Users/yudhistiraonggowarsito/Documents/SMU/Courses/CS610 - Applied Machine Learning/Project/aml_project/.venv/lib/python3.12/site-packages/sklearn/utils/extmath.py:203: RuntimeWarning: divide by zero encountered in matmul\n",
      "  ret = a @ b\n",
      "/Users/yudhistiraonggowarsito/Documents/SMU/Courses/CS610 - Applied Machine Learning/Project/aml_project/.venv/lib/python3.12/site-packages/sklearn/utils/extmath.py:203: RuntimeWarning: overflow encountered in matmul\n",
      "  ret = a @ b\n",
      "/Users/yudhistiraonggowarsito/Documents/SMU/Courses/CS610 - Applied Machine Learning/Project/aml_project/.venv/lib/python3.12/site-packages/sklearn/utils/extmath.py:203: RuntimeWarning: invalid value encountered in matmul\n",
      "  ret = a @ b\n"
     ]
    },
    {
     "name": "stdout",
     "output_type": "stream",
     "text": [
      "[Run 4] Iter 30 F1-illicit: 0.3951\n",
      "\n",
      "=== Run 5/5 ===\n",
      "[Run 5] Iter 1 F1-illicit: 0.2240\n",
      "[Run 5] Iter 2 F1-illicit: 0.2275\n"
     ]
    },
    {
     "name": "stderr",
     "output_type": "stream",
     "text": [
      "/Users/yudhistiraonggowarsito/Documents/SMU/Courses/CS610 - Applied Machine Learning/Project/aml_project/.venv/lib/python3.12/site-packages/sklearn/utils/extmath.py:203: RuntimeWarning: divide by zero encountered in matmul\n",
      "  ret = a @ b\n",
      "/Users/yudhistiraonggowarsito/Documents/SMU/Courses/CS610 - Applied Machine Learning/Project/aml_project/.venv/lib/python3.12/site-packages/sklearn/utils/extmath.py:203: RuntimeWarning: overflow encountered in matmul\n",
      "  ret = a @ b\n",
      "/Users/yudhistiraonggowarsito/Documents/SMU/Courses/CS610 - Applied Machine Learning/Project/aml_project/.venv/lib/python3.12/site-packages/sklearn/utils/extmath.py:203: RuntimeWarning: invalid value encountered in matmul\n",
      "  ret = a @ b\n",
      "/Users/yudhistiraonggowarsito/Documents/SMU/Courses/CS610 - Applied Machine Learning/Project/aml_project/.venv/lib/python3.12/site-packages/sklearn/utils/extmath.py:203: RuntimeWarning: divide by zero encountered in matmul\n",
      "  ret = a @ b\n",
      "/Users/yudhistiraonggowarsito/Documents/SMU/Courses/CS610 - Applied Machine Learning/Project/aml_project/.venv/lib/python3.12/site-packages/sklearn/utils/extmath.py:203: RuntimeWarning: overflow encountered in matmul\n",
      "  ret = a @ b\n",
      "/Users/yudhistiraonggowarsito/Documents/SMU/Courses/CS610 - Applied Machine Learning/Project/aml_project/.venv/lib/python3.12/site-packages/sklearn/utils/extmath.py:203: RuntimeWarning: invalid value encountered in matmul\n",
      "  ret = a @ b\n",
      "/Users/yudhistiraonggowarsito/Documents/SMU/Courses/CS610 - Applied Machine Learning/Project/aml_project/.venv/lib/python3.12/site-packages/sklearn/utils/extmath.py:203: RuntimeWarning: divide by zero encountered in matmul\n",
      "  ret = a @ b\n",
      "/Users/yudhistiraonggowarsito/Documents/SMU/Courses/CS610 - Applied Machine Learning/Project/aml_project/.venv/lib/python3.12/site-packages/sklearn/utils/extmath.py:203: RuntimeWarning: overflow encountered in matmul\n",
      "  ret = a @ b\n",
      "/Users/yudhistiraonggowarsito/Documents/SMU/Courses/CS610 - Applied Machine Learning/Project/aml_project/.venv/lib/python3.12/site-packages/sklearn/utils/extmath.py:203: RuntimeWarning: invalid value encountered in matmul\n",
      "  ret = a @ b\n",
      "/Users/yudhistiraonggowarsito/Documents/SMU/Courses/CS610 - Applied Machine Learning/Project/aml_project/.venv/lib/python3.12/site-packages/sklearn/utils/extmath.py:203: RuntimeWarning: divide by zero encountered in matmul\n",
      "  ret = a @ b\n",
      "/Users/yudhistiraonggowarsito/Documents/SMU/Courses/CS610 - Applied Machine Learning/Project/aml_project/.venv/lib/python3.12/site-packages/sklearn/utils/extmath.py:203: RuntimeWarning: overflow encountered in matmul\n",
      "  ret = a @ b\n",
      "/Users/yudhistiraonggowarsito/Documents/SMU/Courses/CS610 - Applied Machine Learning/Project/aml_project/.venv/lib/python3.12/site-packages/sklearn/utils/extmath.py:203: RuntimeWarning: invalid value encountered in matmul\n",
      "  ret = a @ b\n",
      "/Users/yudhistiraonggowarsito/Documents/SMU/Courses/CS610 - Applied Machine Learning/Project/aml_project/.venv/lib/python3.12/site-packages/sklearn/utils/extmath.py:203: RuntimeWarning: divide by zero encountered in matmul\n",
      "  ret = a @ b\n",
      "/Users/yudhistiraonggowarsito/Documents/SMU/Courses/CS610 - Applied Machine Learning/Project/aml_project/.venv/lib/python3.12/site-packages/sklearn/utils/extmath.py:203: RuntimeWarning: overflow encountered in matmul\n",
      "  ret = a @ b\n",
      "/Users/yudhistiraonggowarsito/Documents/SMU/Courses/CS610 - Applied Machine Learning/Project/aml_project/.venv/lib/python3.12/site-packages/sklearn/utils/extmath.py:203: RuntimeWarning: invalid value encountered in matmul\n",
      "  ret = a @ b\n",
      "/Users/yudhistiraonggowarsito/Documents/SMU/Courses/CS610 - Applied Machine Learning/Project/aml_project/.venv/lib/python3.12/site-packages/sklearn/utils/extmath.py:203: RuntimeWarning: divide by zero encountered in matmul\n",
      "  ret = a @ b\n",
      "/Users/yudhistiraonggowarsito/Documents/SMU/Courses/CS610 - Applied Machine Learning/Project/aml_project/.venv/lib/python3.12/site-packages/sklearn/utils/extmath.py:203: RuntimeWarning: overflow encountered in matmul\n",
      "  ret = a @ b\n",
      "/Users/yudhistiraonggowarsito/Documents/SMU/Courses/CS610 - Applied Machine Learning/Project/aml_project/.venv/lib/python3.12/site-packages/sklearn/utils/extmath.py:203: RuntimeWarning: invalid value encountered in matmul\n",
      "  ret = a @ b\n",
      "/Users/yudhistiraonggowarsito/Documents/SMU/Courses/CS610 - Applied Machine Learning/Project/aml_project/.venv/lib/python3.12/site-packages/sklearn/utils/extmath.py:203: RuntimeWarning: divide by zero encountered in matmul\n",
      "  ret = a @ b\n",
      "/Users/yudhistiraonggowarsito/Documents/SMU/Courses/CS610 - Applied Machine Learning/Project/aml_project/.venv/lib/python3.12/site-packages/sklearn/utils/extmath.py:203: RuntimeWarning: overflow encountered in matmul\n",
      "  ret = a @ b\n",
      "/Users/yudhistiraonggowarsito/Documents/SMU/Courses/CS610 - Applied Machine Learning/Project/aml_project/.venv/lib/python3.12/site-packages/sklearn/utils/extmath.py:203: RuntimeWarning: invalid value encountered in matmul\n",
      "  ret = a @ b\n",
      "/Users/yudhistiraonggowarsito/Documents/SMU/Courses/CS610 - Applied Machine Learning/Project/aml_project/.venv/lib/python3.12/site-packages/sklearn/utils/extmath.py:203: RuntimeWarning: divide by zero encountered in matmul\n",
      "  ret = a @ b\n",
      "/Users/yudhistiraonggowarsito/Documents/SMU/Courses/CS610 - Applied Machine Learning/Project/aml_project/.venv/lib/python3.12/site-packages/sklearn/utils/extmath.py:203: RuntimeWarning: overflow encountered in matmul\n",
      "  ret = a @ b\n",
      "/Users/yudhistiraonggowarsito/Documents/SMU/Courses/CS610 - Applied Machine Learning/Project/aml_project/.venv/lib/python3.12/site-packages/sklearn/utils/extmath.py:203: RuntimeWarning: invalid value encountered in matmul\n",
      "  ret = a @ b\n"
     ]
    },
    {
     "name": "stdout",
     "output_type": "stream",
     "text": [
      "[Run 5] Iter 3 F1-illicit: 0.2956\n",
      "[Run 5] Iter 4 F1-illicit: 0.3534\n",
      "[Run 5] Iter 5 F1-illicit: 0.4062\n",
      "[Run 5] Iter 6 F1-illicit: 0.3849\n"
     ]
    },
    {
     "name": "stderr",
     "output_type": "stream",
     "text": [
      "/Users/yudhistiraonggowarsito/Documents/SMU/Courses/CS610 - Applied Machine Learning/Project/aml_project/.venv/lib/python3.12/site-packages/sklearn/utils/extmath.py:203: RuntimeWarning: divide by zero encountered in matmul\n",
      "  ret = a @ b\n",
      "/Users/yudhistiraonggowarsito/Documents/SMU/Courses/CS610 - Applied Machine Learning/Project/aml_project/.venv/lib/python3.12/site-packages/sklearn/utils/extmath.py:203: RuntimeWarning: overflow encountered in matmul\n",
      "  ret = a @ b\n",
      "/Users/yudhistiraonggowarsito/Documents/SMU/Courses/CS610 - Applied Machine Learning/Project/aml_project/.venv/lib/python3.12/site-packages/sklearn/utils/extmath.py:203: RuntimeWarning: invalid value encountered in matmul\n",
      "  ret = a @ b\n",
      "/Users/yudhistiraonggowarsito/Documents/SMU/Courses/CS610 - Applied Machine Learning/Project/aml_project/.venv/lib/python3.12/site-packages/sklearn/utils/extmath.py:203: RuntimeWarning: divide by zero encountered in matmul\n",
      "  ret = a @ b\n",
      "/Users/yudhistiraonggowarsito/Documents/SMU/Courses/CS610 - Applied Machine Learning/Project/aml_project/.venv/lib/python3.12/site-packages/sklearn/utils/extmath.py:203: RuntimeWarning: overflow encountered in matmul\n",
      "  ret = a @ b\n",
      "/Users/yudhistiraonggowarsito/Documents/SMU/Courses/CS610 - Applied Machine Learning/Project/aml_project/.venv/lib/python3.12/site-packages/sklearn/utils/extmath.py:203: RuntimeWarning: invalid value encountered in matmul\n",
      "  ret = a @ b\n",
      "/Users/yudhistiraonggowarsito/Documents/SMU/Courses/CS610 - Applied Machine Learning/Project/aml_project/.venv/lib/python3.12/site-packages/sklearn/utils/extmath.py:203: RuntimeWarning: divide by zero encountered in matmul\n",
      "  ret = a @ b\n",
      "/Users/yudhistiraonggowarsito/Documents/SMU/Courses/CS610 - Applied Machine Learning/Project/aml_project/.venv/lib/python3.12/site-packages/sklearn/utils/extmath.py:203: RuntimeWarning: overflow encountered in matmul\n",
      "  ret = a @ b\n",
      "/Users/yudhistiraonggowarsito/Documents/SMU/Courses/CS610 - Applied Machine Learning/Project/aml_project/.venv/lib/python3.12/site-packages/sklearn/utils/extmath.py:203: RuntimeWarning: invalid value encountered in matmul\n",
      "  ret = a @ b\n",
      "/Users/yudhistiraonggowarsito/Documents/SMU/Courses/CS610 - Applied Machine Learning/Project/aml_project/.venv/lib/python3.12/site-packages/sklearn/utils/extmath.py:203: RuntimeWarning: divide by zero encountered in matmul\n",
      "  ret = a @ b\n",
      "/Users/yudhistiraonggowarsito/Documents/SMU/Courses/CS610 - Applied Machine Learning/Project/aml_project/.venv/lib/python3.12/site-packages/sklearn/utils/extmath.py:203: RuntimeWarning: overflow encountered in matmul\n",
      "  ret = a @ b\n",
      "/Users/yudhistiraonggowarsito/Documents/SMU/Courses/CS610 - Applied Machine Learning/Project/aml_project/.venv/lib/python3.12/site-packages/sklearn/utils/extmath.py:203: RuntimeWarning: invalid value encountered in matmul\n",
      "  ret = a @ b\n"
     ]
    },
    {
     "name": "stdout",
     "output_type": "stream",
     "text": [
      "[Run 5] Iter 7 F1-illicit: 0.4246\n",
      "[Run 5] Iter 8 F1-illicit: 0.4706\n"
     ]
    },
    {
     "name": "stderr",
     "output_type": "stream",
     "text": [
      "/Users/yudhistiraonggowarsito/Documents/SMU/Courses/CS610 - Applied Machine Learning/Project/aml_project/.venv/lib/python3.12/site-packages/sklearn/utils/extmath.py:203: RuntimeWarning: divide by zero encountered in matmul\n",
      "  ret = a @ b\n",
      "/Users/yudhistiraonggowarsito/Documents/SMU/Courses/CS610 - Applied Machine Learning/Project/aml_project/.venv/lib/python3.12/site-packages/sklearn/utils/extmath.py:203: RuntimeWarning: overflow encountered in matmul\n",
      "  ret = a @ b\n",
      "/Users/yudhistiraonggowarsito/Documents/SMU/Courses/CS610 - Applied Machine Learning/Project/aml_project/.venv/lib/python3.12/site-packages/sklearn/utils/extmath.py:203: RuntimeWarning: invalid value encountered in matmul\n",
      "  ret = a @ b\n",
      "/Users/yudhistiraonggowarsito/Documents/SMU/Courses/CS610 - Applied Machine Learning/Project/aml_project/.venv/lib/python3.12/site-packages/sklearn/utils/extmath.py:203: RuntimeWarning: divide by zero encountered in matmul\n",
      "  ret = a @ b\n",
      "/Users/yudhistiraonggowarsito/Documents/SMU/Courses/CS610 - Applied Machine Learning/Project/aml_project/.venv/lib/python3.12/site-packages/sklearn/utils/extmath.py:203: RuntimeWarning: overflow encountered in matmul\n",
      "  ret = a @ b\n",
      "/Users/yudhistiraonggowarsito/Documents/SMU/Courses/CS610 - Applied Machine Learning/Project/aml_project/.venv/lib/python3.12/site-packages/sklearn/utils/extmath.py:203: RuntimeWarning: invalid value encountered in matmul\n",
      "  ret = a @ b\n",
      "/Users/yudhistiraonggowarsito/Documents/SMU/Courses/CS610 - Applied Machine Learning/Project/aml_project/.venv/lib/python3.12/site-packages/sklearn/utils/extmath.py:203: RuntimeWarning: divide by zero encountered in matmul\n",
      "  ret = a @ b\n",
      "/Users/yudhistiraonggowarsito/Documents/SMU/Courses/CS610 - Applied Machine Learning/Project/aml_project/.venv/lib/python3.12/site-packages/sklearn/utils/extmath.py:203: RuntimeWarning: overflow encountered in matmul\n",
      "  ret = a @ b\n",
      "/Users/yudhistiraonggowarsito/Documents/SMU/Courses/CS610 - Applied Machine Learning/Project/aml_project/.venv/lib/python3.12/site-packages/sklearn/utils/extmath.py:203: RuntimeWarning: invalid value encountered in matmul\n",
      "  ret = a @ b\n",
      "/Users/yudhistiraonggowarsito/Documents/SMU/Courses/CS610 - Applied Machine Learning/Project/aml_project/.venv/lib/python3.12/site-packages/sklearn/utils/extmath.py:203: RuntimeWarning: divide by zero encountered in matmul\n",
      "  ret = a @ b\n",
      "/Users/yudhistiraonggowarsito/Documents/SMU/Courses/CS610 - Applied Machine Learning/Project/aml_project/.venv/lib/python3.12/site-packages/sklearn/utils/extmath.py:203: RuntimeWarning: overflow encountered in matmul\n",
      "  ret = a @ b\n",
      "/Users/yudhistiraonggowarsito/Documents/SMU/Courses/CS610 - Applied Machine Learning/Project/aml_project/.venv/lib/python3.12/site-packages/sklearn/utils/extmath.py:203: RuntimeWarning: invalid value encountered in matmul\n",
      "  ret = a @ b\n"
     ]
    },
    {
     "name": "stdout",
     "output_type": "stream",
     "text": [
      "[Run 5] Iter 9 F1-illicit: 0.4948\n",
      "[Run 5] Iter 10 F1-illicit: 0.5067\n"
     ]
    },
    {
     "name": "stderr",
     "output_type": "stream",
     "text": [
      "/Users/yudhistiraonggowarsito/Documents/SMU/Courses/CS610 - Applied Machine Learning/Project/aml_project/.venv/lib/python3.12/site-packages/sklearn/utils/extmath.py:203: RuntimeWarning: divide by zero encountered in matmul\n",
      "  ret = a @ b\n",
      "/Users/yudhistiraonggowarsito/Documents/SMU/Courses/CS610 - Applied Machine Learning/Project/aml_project/.venv/lib/python3.12/site-packages/sklearn/utils/extmath.py:203: RuntimeWarning: overflow encountered in matmul\n",
      "  ret = a @ b\n",
      "/Users/yudhistiraonggowarsito/Documents/SMU/Courses/CS610 - Applied Machine Learning/Project/aml_project/.venv/lib/python3.12/site-packages/sklearn/utils/extmath.py:203: RuntimeWarning: invalid value encountered in matmul\n",
      "  ret = a @ b\n",
      "/Users/yudhistiraonggowarsito/Documents/SMU/Courses/CS610 - Applied Machine Learning/Project/aml_project/.venv/lib/python3.12/site-packages/sklearn/utils/extmath.py:203: RuntimeWarning: divide by zero encountered in matmul\n",
      "  ret = a @ b\n",
      "/Users/yudhistiraonggowarsito/Documents/SMU/Courses/CS610 - Applied Machine Learning/Project/aml_project/.venv/lib/python3.12/site-packages/sklearn/utils/extmath.py:203: RuntimeWarning: overflow encountered in matmul\n",
      "  ret = a @ b\n",
      "/Users/yudhistiraonggowarsito/Documents/SMU/Courses/CS610 - Applied Machine Learning/Project/aml_project/.venv/lib/python3.12/site-packages/sklearn/utils/extmath.py:203: RuntimeWarning: invalid value encountered in matmul\n",
      "  ret = a @ b\n",
      "/Users/yudhistiraonggowarsito/Documents/SMU/Courses/CS610 - Applied Machine Learning/Project/aml_project/.venv/lib/python3.12/site-packages/sklearn/utils/extmath.py:203: RuntimeWarning: divide by zero encountered in matmul\n",
      "  ret = a @ b\n",
      "/Users/yudhistiraonggowarsito/Documents/SMU/Courses/CS610 - Applied Machine Learning/Project/aml_project/.venv/lib/python3.12/site-packages/sklearn/utils/extmath.py:203: RuntimeWarning: overflow encountered in matmul\n",
      "  ret = a @ b\n",
      "/Users/yudhistiraonggowarsito/Documents/SMU/Courses/CS610 - Applied Machine Learning/Project/aml_project/.venv/lib/python3.12/site-packages/sklearn/utils/extmath.py:203: RuntimeWarning: invalid value encountered in matmul\n",
      "  ret = a @ b\n",
      "/Users/yudhistiraonggowarsito/Documents/SMU/Courses/CS610 - Applied Machine Learning/Project/aml_project/.venv/lib/python3.12/site-packages/sklearn/utils/extmath.py:203: RuntimeWarning: divide by zero encountered in matmul\n",
      "  ret = a @ b\n",
      "/Users/yudhistiraonggowarsito/Documents/SMU/Courses/CS610 - Applied Machine Learning/Project/aml_project/.venv/lib/python3.12/site-packages/sklearn/utils/extmath.py:203: RuntimeWarning: overflow encountered in matmul\n",
      "  ret = a @ b\n",
      "/Users/yudhistiraonggowarsito/Documents/SMU/Courses/CS610 - Applied Machine Learning/Project/aml_project/.venv/lib/python3.12/site-packages/sklearn/utils/extmath.py:203: RuntimeWarning: invalid value encountered in matmul\n",
      "  ret = a @ b\n"
     ]
    },
    {
     "name": "stdout",
     "output_type": "stream",
     "text": [
      "[Run 5] Iter 11 F1-illicit: 0.5088\n",
      "[Run 5] Iter 12 F1-illicit: 0.5380\n"
     ]
    },
    {
     "name": "stderr",
     "output_type": "stream",
     "text": [
      "/Users/yudhistiraonggowarsito/Documents/SMU/Courses/CS610 - Applied Machine Learning/Project/aml_project/.venv/lib/python3.12/site-packages/sklearn/utils/extmath.py:203: RuntimeWarning: divide by zero encountered in matmul\n",
      "  ret = a @ b\n",
      "/Users/yudhistiraonggowarsito/Documents/SMU/Courses/CS610 - Applied Machine Learning/Project/aml_project/.venv/lib/python3.12/site-packages/sklearn/utils/extmath.py:203: RuntimeWarning: overflow encountered in matmul\n",
      "  ret = a @ b\n",
      "/Users/yudhistiraonggowarsito/Documents/SMU/Courses/CS610 - Applied Machine Learning/Project/aml_project/.venv/lib/python3.12/site-packages/sklearn/utils/extmath.py:203: RuntimeWarning: invalid value encountered in matmul\n",
      "  ret = a @ b\n",
      "/Users/yudhistiraonggowarsito/Documents/SMU/Courses/CS610 - Applied Machine Learning/Project/aml_project/.venv/lib/python3.12/site-packages/sklearn/utils/extmath.py:203: RuntimeWarning: divide by zero encountered in matmul\n",
      "  ret = a @ b\n",
      "/Users/yudhistiraonggowarsito/Documents/SMU/Courses/CS610 - Applied Machine Learning/Project/aml_project/.venv/lib/python3.12/site-packages/sklearn/utils/extmath.py:203: RuntimeWarning: overflow encountered in matmul\n",
      "  ret = a @ b\n",
      "/Users/yudhistiraonggowarsito/Documents/SMU/Courses/CS610 - Applied Machine Learning/Project/aml_project/.venv/lib/python3.12/site-packages/sklearn/utils/extmath.py:203: RuntimeWarning: invalid value encountered in matmul\n",
      "  ret = a @ b\n"
     ]
    },
    {
     "name": "stdout",
     "output_type": "stream",
     "text": [
      "[Run 5] Iter 13 F1-illicit: 0.5287\n"
     ]
    },
    {
     "name": "stderr",
     "output_type": "stream",
     "text": [
      "/Users/yudhistiraonggowarsito/Documents/SMU/Courses/CS610 - Applied Machine Learning/Project/aml_project/.venv/lib/python3.12/site-packages/sklearn/utils/extmath.py:203: RuntimeWarning: divide by zero encountered in matmul\n",
      "  ret = a @ b\n",
      "/Users/yudhistiraonggowarsito/Documents/SMU/Courses/CS610 - Applied Machine Learning/Project/aml_project/.venv/lib/python3.12/site-packages/sklearn/utils/extmath.py:203: RuntimeWarning: overflow encountered in matmul\n",
      "  ret = a @ b\n",
      "/Users/yudhistiraonggowarsito/Documents/SMU/Courses/CS610 - Applied Machine Learning/Project/aml_project/.venv/lib/python3.12/site-packages/sklearn/utils/extmath.py:203: RuntimeWarning: invalid value encountered in matmul\n",
      "  ret = a @ b\n",
      "/Users/yudhistiraonggowarsito/Documents/SMU/Courses/CS610 - Applied Machine Learning/Project/aml_project/.venv/lib/python3.12/site-packages/sklearn/utils/extmath.py:203: RuntimeWarning: divide by zero encountered in matmul\n",
      "  ret = a @ b\n",
      "/Users/yudhistiraonggowarsito/Documents/SMU/Courses/CS610 - Applied Machine Learning/Project/aml_project/.venv/lib/python3.12/site-packages/sklearn/utils/extmath.py:203: RuntimeWarning: overflow encountered in matmul\n",
      "  ret = a @ b\n",
      "/Users/yudhistiraonggowarsito/Documents/SMU/Courses/CS610 - Applied Machine Learning/Project/aml_project/.venv/lib/python3.12/site-packages/sklearn/utils/extmath.py:203: RuntimeWarning: invalid value encountered in matmul\n",
      "  ret = a @ b\n"
     ]
    },
    {
     "name": "stdout",
     "output_type": "stream",
     "text": [
      "[Run 5] Iter 14 F1-illicit: 0.4971\n"
     ]
    },
    {
     "name": "stderr",
     "output_type": "stream",
     "text": [
      "/Users/yudhistiraonggowarsito/Documents/SMU/Courses/CS610 - Applied Machine Learning/Project/aml_project/.venv/lib/python3.12/site-packages/sklearn/utils/extmath.py:203: RuntimeWarning: divide by zero encountered in matmul\n",
      "  ret = a @ b\n",
      "/Users/yudhistiraonggowarsito/Documents/SMU/Courses/CS610 - Applied Machine Learning/Project/aml_project/.venv/lib/python3.12/site-packages/sklearn/utils/extmath.py:203: RuntimeWarning: overflow encountered in matmul\n",
      "  ret = a @ b\n",
      "/Users/yudhistiraonggowarsito/Documents/SMU/Courses/CS610 - Applied Machine Learning/Project/aml_project/.venv/lib/python3.12/site-packages/sklearn/utils/extmath.py:203: RuntimeWarning: invalid value encountered in matmul\n",
      "  ret = a @ b\n",
      "/Users/yudhistiraonggowarsito/Documents/SMU/Courses/CS610 - Applied Machine Learning/Project/aml_project/.venv/lib/python3.12/site-packages/sklearn/utils/extmath.py:203: RuntimeWarning: divide by zero encountered in matmul\n",
      "  ret = a @ b\n",
      "/Users/yudhistiraonggowarsito/Documents/SMU/Courses/CS610 - Applied Machine Learning/Project/aml_project/.venv/lib/python3.12/site-packages/sklearn/utils/extmath.py:203: RuntimeWarning: overflow encountered in matmul\n",
      "  ret = a @ b\n",
      "/Users/yudhistiraonggowarsito/Documents/SMU/Courses/CS610 - Applied Machine Learning/Project/aml_project/.venv/lib/python3.12/site-packages/sklearn/utils/extmath.py:203: RuntimeWarning: invalid value encountered in matmul\n",
      "  ret = a @ b\n"
     ]
    },
    {
     "name": "stdout",
     "output_type": "stream",
     "text": [
      "[Run 5] Iter 15 F1-illicit: 0.5143\n"
     ]
    },
    {
     "name": "stderr",
     "output_type": "stream",
     "text": [
      "/Users/yudhistiraonggowarsito/Documents/SMU/Courses/CS610 - Applied Machine Learning/Project/aml_project/.venv/lib/python3.12/site-packages/sklearn/utils/extmath.py:203: RuntimeWarning: divide by zero encountered in matmul\n",
      "  ret = a @ b\n",
      "/Users/yudhistiraonggowarsito/Documents/SMU/Courses/CS610 - Applied Machine Learning/Project/aml_project/.venv/lib/python3.12/site-packages/sklearn/utils/extmath.py:203: RuntimeWarning: overflow encountered in matmul\n",
      "  ret = a @ b\n",
      "/Users/yudhistiraonggowarsito/Documents/SMU/Courses/CS610 - Applied Machine Learning/Project/aml_project/.venv/lib/python3.12/site-packages/sklearn/utils/extmath.py:203: RuntimeWarning: invalid value encountered in matmul\n",
      "  ret = a @ b\n",
      "/Users/yudhistiraonggowarsito/Documents/SMU/Courses/CS610 - Applied Machine Learning/Project/aml_project/.venv/lib/python3.12/site-packages/sklearn/utils/extmath.py:203: RuntimeWarning: divide by zero encountered in matmul\n",
      "  ret = a @ b\n",
      "/Users/yudhistiraonggowarsito/Documents/SMU/Courses/CS610 - Applied Machine Learning/Project/aml_project/.venv/lib/python3.12/site-packages/sklearn/utils/extmath.py:203: RuntimeWarning: overflow encountered in matmul\n",
      "  ret = a @ b\n",
      "/Users/yudhistiraonggowarsito/Documents/SMU/Courses/CS610 - Applied Machine Learning/Project/aml_project/.venv/lib/python3.12/site-packages/sklearn/utils/extmath.py:203: RuntimeWarning: invalid value encountered in matmul\n",
      "  ret = a @ b\n"
     ]
    },
    {
     "name": "stdout",
     "output_type": "stream",
     "text": [
      "[Run 5] Iter 16 F1-illicit: 0.5002\n"
     ]
    },
    {
     "name": "stderr",
     "output_type": "stream",
     "text": [
      "/Users/yudhistiraonggowarsito/Documents/SMU/Courses/CS610 - Applied Machine Learning/Project/aml_project/.venv/lib/python3.12/site-packages/sklearn/utils/extmath.py:203: RuntimeWarning: divide by zero encountered in matmul\n",
      "  ret = a @ b\n",
      "/Users/yudhistiraonggowarsito/Documents/SMU/Courses/CS610 - Applied Machine Learning/Project/aml_project/.venv/lib/python3.12/site-packages/sklearn/utils/extmath.py:203: RuntimeWarning: overflow encountered in matmul\n",
      "  ret = a @ b\n",
      "/Users/yudhistiraonggowarsito/Documents/SMU/Courses/CS610 - Applied Machine Learning/Project/aml_project/.venv/lib/python3.12/site-packages/sklearn/utils/extmath.py:203: RuntimeWarning: invalid value encountered in matmul\n",
      "  ret = a @ b\n",
      "/Users/yudhistiraonggowarsito/Documents/SMU/Courses/CS610 - Applied Machine Learning/Project/aml_project/.venv/lib/python3.12/site-packages/sklearn/utils/extmath.py:203: RuntimeWarning: divide by zero encountered in matmul\n",
      "  ret = a @ b\n",
      "/Users/yudhistiraonggowarsito/Documents/SMU/Courses/CS610 - Applied Machine Learning/Project/aml_project/.venv/lib/python3.12/site-packages/sklearn/utils/extmath.py:203: RuntimeWarning: overflow encountered in matmul\n",
      "  ret = a @ b\n",
      "/Users/yudhistiraonggowarsito/Documents/SMU/Courses/CS610 - Applied Machine Learning/Project/aml_project/.venv/lib/python3.12/site-packages/sklearn/utils/extmath.py:203: RuntimeWarning: invalid value encountered in matmul\n",
      "  ret = a @ b\n"
     ]
    },
    {
     "name": "stdout",
     "output_type": "stream",
     "text": [
      "[Run 5] Iter 17 F1-illicit: 0.5011\n"
     ]
    },
    {
     "name": "stderr",
     "output_type": "stream",
     "text": [
      "/Users/yudhistiraonggowarsito/Documents/SMU/Courses/CS610 - Applied Machine Learning/Project/aml_project/.venv/lib/python3.12/site-packages/sklearn/utils/extmath.py:203: RuntimeWarning: divide by zero encountered in matmul\n",
      "  ret = a @ b\n",
      "/Users/yudhistiraonggowarsito/Documents/SMU/Courses/CS610 - Applied Machine Learning/Project/aml_project/.venv/lib/python3.12/site-packages/sklearn/utils/extmath.py:203: RuntimeWarning: overflow encountered in matmul\n",
      "  ret = a @ b\n",
      "/Users/yudhistiraonggowarsito/Documents/SMU/Courses/CS610 - Applied Machine Learning/Project/aml_project/.venv/lib/python3.12/site-packages/sklearn/utils/extmath.py:203: RuntimeWarning: invalid value encountered in matmul\n",
      "  ret = a @ b\n",
      "/Users/yudhistiraonggowarsito/Documents/SMU/Courses/CS610 - Applied Machine Learning/Project/aml_project/.venv/lib/python3.12/site-packages/sklearn/utils/extmath.py:203: RuntimeWarning: divide by zero encountered in matmul\n",
      "  ret = a @ b\n",
      "/Users/yudhistiraonggowarsito/Documents/SMU/Courses/CS610 - Applied Machine Learning/Project/aml_project/.venv/lib/python3.12/site-packages/sklearn/utils/extmath.py:203: RuntimeWarning: overflow encountered in matmul\n",
      "  ret = a @ b\n",
      "/Users/yudhistiraonggowarsito/Documents/SMU/Courses/CS610 - Applied Machine Learning/Project/aml_project/.venv/lib/python3.12/site-packages/sklearn/utils/extmath.py:203: RuntimeWarning: invalid value encountered in matmul\n",
      "  ret = a @ b\n"
     ]
    },
    {
     "name": "stdout",
     "output_type": "stream",
     "text": [
      "[Run 5] Iter 18 F1-illicit: 0.4896\n"
     ]
    },
    {
     "name": "stderr",
     "output_type": "stream",
     "text": [
      "/Users/yudhistiraonggowarsito/Documents/SMU/Courses/CS610 - Applied Machine Learning/Project/aml_project/.venv/lib/python3.12/site-packages/sklearn/utils/extmath.py:203: RuntimeWarning: divide by zero encountered in matmul\n",
      "  ret = a @ b\n",
      "/Users/yudhistiraonggowarsito/Documents/SMU/Courses/CS610 - Applied Machine Learning/Project/aml_project/.venv/lib/python3.12/site-packages/sklearn/utils/extmath.py:203: RuntimeWarning: overflow encountered in matmul\n",
      "  ret = a @ b\n",
      "/Users/yudhistiraonggowarsito/Documents/SMU/Courses/CS610 - Applied Machine Learning/Project/aml_project/.venv/lib/python3.12/site-packages/sklearn/utils/extmath.py:203: RuntimeWarning: invalid value encountered in matmul\n",
      "  ret = a @ b\n",
      "/Users/yudhistiraonggowarsito/Documents/SMU/Courses/CS610 - Applied Machine Learning/Project/aml_project/.venv/lib/python3.12/site-packages/sklearn/utils/extmath.py:203: RuntimeWarning: divide by zero encountered in matmul\n",
      "  ret = a @ b\n",
      "/Users/yudhistiraonggowarsito/Documents/SMU/Courses/CS610 - Applied Machine Learning/Project/aml_project/.venv/lib/python3.12/site-packages/sklearn/utils/extmath.py:203: RuntimeWarning: overflow encountered in matmul\n",
      "  ret = a @ b\n",
      "/Users/yudhistiraonggowarsito/Documents/SMU/Courses/CS610 - Applied Machine Learning/Project/aml_project/.venv/lib/python3.12/site-packages/sklearn/utils/extmath.py:203: RuntimeWarning: invalid value encountered in matmul\n",
      "  ret = a @ b\n"
     ]
    },
    {
     "name": "stdout",
     "output_type": "stream",
     "text": [
      "[Run 5] Iter 19 F1-illicit: 0.4843\n"
     ]
    },
    {
     "name": "stderr",
     "output_type": "stream",
     "text": [
      "/Users/yudhistiraonggowarsito/Documents/SMU/Courses/CS610 - Applied Machine Learning/Project/aml_project/.venv/lib/python3.12/site-packages/sklearn/utils/extmath.py:203: RuntimeWarning: divide by zero encountered in matmul\n",
      "  ret = a @ b\n",
      "/Users/yudhistiraonggowarsito/Documents/SMU/Courses/CS610 - Applied Machine Learning/Project/aml_project/.venv/lib/python3.12/site-packages/sklearn/utils/extmath.py:203: RuntimeWarning: overflow encountered in matmul\n",
      "  ret = a @ b\n",
      "/Users/yudhistiraonggowarsito/Documents/SMU/Courses/CS610 - Applied Machine Learning/Project/aml_project/.venv/lib/python3.12/site-packages/sklearn/utils/extmath.py:203: RuntimeWarning: invalid value encountered in matmul\n",
      "  ret = a @ b\n",
      "/Users/yudhistiraonggowarsito/Documents/SMU/Courses/CS610 - Applied Machine Learning/Project/aml_project/.venv/lib/python3.12/site-packages/sklearn/utils/extmath.py:203: RuntimeWarning: divide by zero encountered in matmul\n",
      "  ret = a @ b\n",
      "/Users/yudhistiraonggowarsito/Documents/SMU/Courses/CS610 - Applied Machine Learning/Project/aml_project/.venv/lib/python3.12/site-packages/sklearn/utils/extmath.py:203: RuntimeWarning: overflow encountered in matmul\n",
      "  ret = a @ b\n",
      "/Users/yudhistiraonggowarsito/Documents/SMU/Courses/CS610 - Applied Machine Learning/Project/aml_project/.venv/lib/python3.12/site-packages/sklearn/utils/extmath.py:203: RuntimeWarning: invalid value encountered in matmul\n",
      "  ret = a @ b\n"
     ]
    },
    {
     "name": "stdout",
     "output_type": "stream",
     "text": [
      "[Run 5] Iter 20 F1-illicit: 0.4835\n"
     ]
    },
    {
     "name": "stderr",
     "output_type": "stream",
     "text": [
      "/Users/yudhistiraonggowarsito/Documents/SMU/Courses/CS610 - Applied Machine Learning/Project/aml_project/.venv/lib/python3.12/site-packages/sklearn/utils/extmath.py:203: RuntimeWarning: divide by zero encountered in matmul\n",
      "  ret = a @ b\n",
      "/Users/yudhistiraonggowarsito/Documents/SMU/Courses/CS610 - Applied Machine Learning/Project/aml_project/.venv/lib/python3.12/site-packages/sklearn/utils/extmath.py:203: RuntimeWarning: overflow encountered in matmul\n",
      "  ret = a @ b\n",
      "/Users/yudhistiraonggowarsito/Documents/SMU/Courses/CS610 - Applied Machine Learning/Project/aml_project/.venv/lib/python3.12/site-packages/sklearn/utils/extmath.py:203: RuntimeWarning: invalid value encountered in matmul\n",
      "  ret = a @ b\n",
      "/Users/yudhistiraonggowarsito/Documents/SMU/Courses/CS610 - Applied Machine Learning/Project/aml_project/.venv/lib/python3.12/site-packages/sklearn/utils/extmath.py:203: RuntimeWarning: divide by zero encountered in matmul\n",
      "  ret = a @ b\n",
      "/Users/yudhistiraonggowarsito/Documents/SMU/Courses/CS610 - Applied Machine Learning/Project/aml_project/.venv/lib/python3.12/site-packages/sklearn/utils/extmath.py:203: RuntimeWarning: overflow encountered in matmul\n",
      "  ret = a @ b\n",
      "/Users/yudhistiraonggowarsito/Documents/SMU/Courses/CS610 - Applied Machine Learning/Project/aml_project/.venv/lib/python3.12/site-packages/sklearn/utils/extmath.py:203: RuntimeWarning: invalid value encountered in matmul\n",
      "  ret = a @ b\n"
     ]
    },
    {
     "name": "stdout",
     "output_type": "stream",
     "text": [
      "[Run 5] Iter 21 F1-illicit: 0.4781\n"
     ]
    },
    {
     "name": "stderr",
     "output_type": "stream",
     "text": [
      "/Users/yudhistiraonggowarsito/Documents/SMU/Courses/CS610 - Applied Machine Learning/Project/aml_project/.venv/lib/python3.12/site-packages/sklearn/utils/extmath.py:203: RuntimeWarning: divide by zero encountered in matmul\n",
      "  ret = a @ b\n",
      "/Users/yudhistiraonggowarsito/Documents/SMU/Courses/CS610 - Applied Machine Learning/Project/aml_project/.venv/lib/python3.12/site-packages/sklearn/utils/extmath.py:203: RuntimeWarning: overflow encountered in matmul\n",
      "  ret = a @ b\n",
      "/Users/yudhistiraonggowarsito/Documents/SMU/Courses/CS610 - Applied Machine Learning/Project/aml_project/.venv/lib/python3.12/site-packages/sklearn/utils/extmath.py:203: RuntimeWarning: invalid value encountered in matmul\n",
      "  ret = a @ b\n",
      "/Users/yudhistiraonggowarsito/Documents/SMU/Courses/CS610 - Applied Machine Learning/Project/aml_project/.venv/lib/python3.12/site-packages/sklearn/utils/extmath.py:203: RuntimeWarning: divide by zero encountered in matmul\n",
      "  ret = a @ b\n",
      "/Users/yudhistiraonggowarsito/Documents/SMU/Courses/CS610 - Applied Machine Learning/Project/aml_project/.venv/lib/python3.12/site-packages/sklearn/utils/extmath.py:203: RuntimeWarning: overflow encountered in matmul\n",
      "  ret = a @ b\n",
      "/Users/yudhistiraonggowarsito/Documents/SMU/Courses/CS610 - Applied Machine Learning/Project/aml_project/.venv/lib/python3.12/site-packages/sklearn/utils/extmath.py:203: RuntimeWarning: invalid value encountered in matmul\n",
      "  ret = a @ b\n"
     ]
    },
    {
     "name": "stdout",
     "output_type": "stream",
     "text": [
      "[Run 5] Iter 22 F1-illicit: 0.4778\n"
     ]
    },
    {
     "name": "stderr",
     "output_type": "stream",
     "text": [
      "/Users/yudhistiraonggowarsito/Documents/SMU/Courses/CS610 - Applied Machine Learning/Project/aml_project/.venv/lib/python3.12/site-packages/sklearn/utils/extmath.py:203: RuntimeWarning: divide by zero encountered in matmul\n",
      "  ret = a @ b\n",
      "/Users/yudhistiraonggowarsito/Documents/SMU/Courses/CS610 - Applied Machine Learning/Project/aml_project/.venv/lib/python3.12/site-packages/sklearn/utils/extmath.py:203: RuntimeWarning: overflow encountered in matmul\n",
      "  ret = a @ b\n",
      "/Users/yudhistiraonggowarsito/Documents/SMU/Courses/CS610 - Applied Machine Learning/Project/aml_project/.venv/lib/python3.12/site-packages/sklearn/utils/extmath.py:203: RuntimeWarning: invalid value encountered in matmul\n",
      "  ret = a @ b\n",
      "/Users/yudhistiraonggowarsito/Documents/SMU/Courses/CS610 - Applied Machine Learning/Project/aml_project/.venv/lib/python3.12/site-packages/sklearn/utils/extmath.py:203: RuntimeWarning: divide by zero encountered in matmul\n",
      "  ret = a @ b\n",
      "/Users/yudhistiraonggowarsito/Documents/SMU/Courses/CS610 - Applied Machine Learning/Project/aml_project/.venv/lib/python3.12/site-packages/sklearn/utils/extmath.py:203: RuntimeWarning: overflow encountered in matmul\n",
      "  ret = a @ b\n",
      "/Users/yudhistiraonggowarsito/Documents/SMU/Courses/CS610 - Applied Machine Learning/Project/aml_project/.venv/lib/python3.12/site-packages/sklearn/utils/extmath.py:203: RuntimeWarning: invalid value encountered in matmul\n",
      "  ret = a @ b\n"
     ]
    },
    {
     "name": "stdout",
     "output_type": "stream",
     "text": [
      "[Run 5] Iter 23 F1-illicit: 0.4749\n"
     ]
    },
    {
     "name": "stderr",
     "output_type": "stream",
     "text": [
      "/Users/yudhistiraonggowarsito/Documents/SMU/Courses/CS610 - Applied Machine Learning/Project/aml_project/.venv/lib/python3.12/site-packages/sklearn/utils/extmath.py:203: RuntimeWarning: divide by zero encountered in matmul\n",
      "  ret = a @ b\n",
      "/Users/yudhistiraonggowarsito/Documents/SMU/Courses/CS610 - Applied Machine Learning/Project/aml_project/.venv/lib/python3.12/site-packages/sklearn/utils/extmath.py:203: RuntimeWarning: overflow encountered in matmul\n",
      "  ret = a @ b\n",
      "/Users/yudhistiraonggowarsito/Documents/SMU/Courses/CS610 - Applied Machine Learning/Project/aml_project/.venv/lib/python3.12/site-packages/sklearn/utils/extmath.py:203: RuntimeWarning: invalid value encountered in matmul\n",
      "  ret = a @ b\n",
      "/Users/yudhistiraonggowarsito/Documents/SMU/Courses/CS610 - Applied Machine Learning/Project/aml_project/.venv/lib/python3.12/site-packages/sklearn/utils/extmath.py:203: RuntimeWarning: divide by zero encountered in matmul\n",
      "  ret = a @ b\n",
      "/Users/yudhistiraonggowarsito/Documents/SMU/Courses/CS610 - Applied Machine Learning/Project/aml_project/.venv/lib/python3.12/site-packages/sklearn/utils/extmath.py:203: RuntimeWarning: overflow encountered in matmul\n",
      "  ret = a @ b\n",
      "/Users/yudhistiraonggowarsito/Documents/SMU/Courses/CS610 - Applied Machine Learning/Project/aml_project/.venv/lib/python3.12/site-packages/sklearn/utils/extmath.py:203: RuntimeWarning: invalid value encountered in matmul\n",
      "  ret = a @ b\n"
     ]
    },
    {
     "name": "stdout",
     "output_type": "stream",
     "text": [
      "[Run 5] Iter 24 F1-illicit: 0.4717\n"
     ]
    },
    {
     "name": "stderr",
     "output_type": "stream",
     "text": [
      "/Users/yudhistiraonggowarsito/Documents/SMU/Courses/CS610 - Applied Machine Learning/Project/aml_project/.venv/lib/python3.12/site-packages/sklearn/utils/extmath.py:203: RuntimeWarning: divide by zero encountered in matmul\n",
      "  ret = a @ b\n",
      "/Users/yudhistiraonggowarsito/Documents/SMU/Courses/CS610 - Applied Machine Learning/Project/aml_project/.venv/lib/python3.12/site-packages/sklearn/utils/extmath.py:203: RuntimeWarning: overflow encountered in matmul\n",
      "  ret = a @ b\n",
      "/Users/yudhistiraonggowarsito/Documents/SMU/Courses/CS610 - Applied Machine Learning/Project/aml_project/.venv/lib/python3.12/site-packages/sklearn/utils/extmath.py:203: RuntimeWarning: invalid value encountered in matmul\n",
      "  ret = a @ b\n",
      "/Users/yudhistiraonggowarsito/Documents/SMU/Courses/CS610 - Applied Machine Learning/Project/aml_project/.venv/lib/python3.12/site-packages/sklearn/utils/extmath.py:203: RuntimeWarning: divide by zero encountered in matmul\n",
      "  ret = a @ b\n",
      "/Users/yudhistiraonggowarsito/Documents/SMU/Courses/CS610 - Applied Machine Learning/Project/aml_project/.venv/lib/python3.12/site-packages/sklearn/utils/extmath.py:203: RuntimeWarning: overflow encountered in matmul\n",
      "  ret = a @ b\n",
      "/Users/yudhistiraonggowarsito/Documents/SMU/Courses/CS610 - Applied Machine Learning/Project/aml_project/.venv/lib/python3.12/site-packages/sklearn/utils/extmath.py:203: RuntimeWarning: invalid value encountered in matmul\n",
      "  ret = a @ b\n"
     ]
    },
    {
     "name": "stdout",
     "output_type": "stream",
     "text": [
      "[Run 5] Iter 25 F1-illicit: 0.4706\n"
     ]
    },
    {
     "name": "stderr",
     "output_type": "stream",
     "text": [
      "/Users/yudhistiraonggowarsito/Documents/SMU/Courses/CS610 - Applied Machine Learning/Project/aml_project/.venv/lib/python3.12/site-packages/sklearn/utils/extmath.py:203: RuntimeWarning: divide by zero encountered in matmul\n",
      "  ret = a @ b\n",
      "/Users/yudhistiraonggowarsito/Documents/SMU/Courses/CS610 - Applied Machine Learning/Project/aml_project/.venv/lib/python3.12/site-packages/sklearn/utils/extmath.py:203: RuntimeWarning: overflow encountered in matmul\n",
      "  ret = a @ b\n",
      "/Users/yudhistiraonggowarsito/Documents/SMU/Courses/CS610 - Applied Machine Learning/Project/aml_project/.venv/lib/python3.12/site-packages/sklearn/utils/extmath.py:203: RuntimeWarning: invalid value encountered in matmul\n",
      "  ret = a @ b\n",
      "/Users/yudhistiraonggowarsito/Documents/SMU/Courses/CS610 - Applied Machine Learning/Project/aml_project/.venv/lib/python3.12/site-packages/sklearn/utils/extmath.py:203: RuntimeWarning: divide by zero encountered in matmul\n",
      "  ret = a @ b\n",
      "/Users/yudhistiraonggowarsito/Documents/SMU/Courses/CS610 - Applied Machine Learning/Project/aml_project/.venv/lib/python3.12/site-packages/sklearn/utils/extmath.py:203: RuntimeWarning: overflow encountered in matmul\n",
      "  ret = a @ b\n",
      "/Users/yudhistiraonggowarsito/Documents/SMU/Courses/CS610 - Applied Machine Learning/Project/aml_project/.venv/lib/python3.12/site-packages/sklearn/utils/extmath.py:203: RuntimeWarning: invalid value encountered in matmul\n",
      "  ret = a @ b\n"
     ]
    },
    {
     "name": "stdout",
     "output_type": "stream",
     "text": [
      "[Run 5] Iter 26 F1-illicit: 0.4661\n"
     ]
    },
    {
     "name": "stderr",
     "output_type": "stream",
     "text": [
      "/Users/yudhistiraonggowarsito/Documents/SMU/Courses/CS610 - Applied Machine Learning/Project/aml_project/.venv/lib/python3.12/site-packages/sklearn/utils/extmath.py:203: RuntimeWarning: divide by zero encountered in matmul\n",
      "  ret = a @ b\n",
      "/Users/yudhistiraonggowarsito/Documents/SMU/Courses/CS610 - Applied Machine Learning/Project/aml_project/.venv/lib/python3.12/site-packages/sklearn/utils/extmath.py:203: RuntimeWarning: overflow encountered in matmul\n",
      "  ret = a @ b\n",
      "/Users/yudhistiraonggowarsito/Documents/SMU/Courses/CS610 - Applied Machine Learning/Project/aml_project/.venv/lib/python3.12/site-packages/sklearn/utils/extmath.py:203: RuntimeWarning: invalid value encountered in matmul\n",
      "  ret = a @ b\n",
      "/Users/yudhistiraonggowarsito/Documents/SMU/Courses/CS610 - Applied Machine Learning/Project/aml_project/.venv/lib/python3.12/site-packages/sklearn/utils/extmath.py:203: RuntimeWarning: divide by zero encountered in matmul\n",
      "  ret = a @ b\n",
      "/Users/yudhistiraonggowarsito/Documents/SMU/Courses/CS610 - Applied Machine Learning/Project/aml_project/.venv/lib/python3.12/site-packages/sklearn/utils/extmath.py:203: RuntimeWarning: overflow encountered in matmul\n",
      "  ret = a @ b\n",
      "/Users/yudhistiraonggowarsito/Documents/SMU/Courses/CS610 - Applied Machine Learning/Project/aml_project/.venv/lib/python3.12/site-packages/sklearn/utils/extmath.py:203: RuntimeWarning: invalid value encountered in matmul\n",
      "  ret = a @ b\n"
     ]
    },
    {
     "name": "stdout",
     "output_type": "stream",
     "text": [
      "[Run 5] Iter 27 F1-illicit: 0.4668\n"
     ]
    },
    {
     "name": "stderr",
     "output_type": "stream",
     "text": [
      "/Users/yudhistiraonggowarsito/Documents/SMU/Courses/CS610 - Applied Machine Learning/Project/aml_project/.venv/lib/python3.12/site-packages/sklearn/utils/extmath.py:203: RuntimeWarning: divide by zero encountered in matmul\n",
      "  ret = a @ b\n",
      "/Users/yudhistiraonggowarsito/Documents/SMU/Courses/CS610 - Applied Machine Learning/Project/aml_project/.venv/lib/python3.12/site-packages/sklearn/utils/extmath.py:203: RuntimeWarning: overflow encountered in matmul\n",
      "  ret = a @ b\n",
      "/Users/yudhistiraonggowarsito/Documents/SMU/Courses/CS610 - Applied Machine Learning/Project/aml_project/.venv/lib/python3.12/site-packages/sklearn/utils/extmath.py:203: RuntimeWarning: invalid value encountered in matmul\n",
      "  ret = a @ b\n",
      "/Users/yudhistiraonggowarsito/Documents/SMU/Courses/CS610 - Applied Machine Learning/Project/aml_project/.venv/lib/python3.12/site-packages/sklearn/utils/extmath.py:203: RuntimeWarning: divide by zero encountered in matmul\n",
      "  ret = a @ b\n",
      "/Users/yudhistiraonggowarsito/Documents/SMU/Courses/CS610 - Applied Machine Learning/Project/aml_project/.venv/lib/python3.12/site-packages/sklearn/utils/extmath.py:203: RuntimeWarning: overflow encountered in matmul\n",
      "  ret = a @ b\n",
      "/Users/yudhistiraonggowarsito/Documents/SMU/Courses/CS610 - Applied Machine Learning/Project/aml_project/.venv/lib/python3.12/site-packages/sklearn/utils/extmath.py:203: RuntimeWarning: invalid value encountered in matmul\n",
      "  ret = a @ b\n"
     ]
    },
    {
     "name": "stdout",
     "output_type": "stream",
     "text": [
      "[Run 5] Iter 28 F1-illicit: 0.4658\n"
     ]
    },
    {
     "name": "stderr",
     "output_type": "stream",
     "text": [
      "/Users/yudhistiraonggowarsito/Documents/SMU/Courses/CS610 - Applied Machine Learning/Project/aml_project/.venv/lib/python3.12/site-packages/sklearn/utils/extmath.py:203: RuntimeWarning: divide by zero encountered in matmul\n",
      "  ret = a @ b\n",
      "/Users/yudhistiraonggowarsito/Documents/SMU/Courses/CS610 - Applied Machine Learning/Project/aml_project/.venv/lib/python3.12/site-packages/sklearn/utils/extmath.py:203: RuntimeWarning: overflow encountered in matmul\n",
      "  ret = a @ b\n",
      "/Users/yudhistiraonggowarsito/Documents/SMU/Courses/CS610 - Applied Machine Learning/Project/aml_project/.venv/lib/python3.12/site-packages/sklearn/utils/extmath.py:203: RuntimeWarning: invalid value encountered in matmul\n",
      "  ret = a @ b\n",
      "/Users/yudhistiraonggowarsito/Documents/SMU/Courses/CS610 - Applied Machine Learning/Project/aml_project/.venv/lib/python3.12/site-packages/sklearn/utils/extmath.py:203: RuntimeWarning: divide by zero encountered in matmul\n",
      "  ret = a @ b\n",
      "/Users/yudhistiraonggowarsito/Documents/SMU/Courses/CS610 - Applied Machine Learning/Project/aml_project/.venv/lib/python3.12/site-packages/sklearn/utils/extmath.py:203: RuntimeWarning: overflow encountered in matmul\n",
      "  ret = a @ b\n",
      "/Users/yudhistiraonggowarsito/Documents/SMU/Courses/CS610 - Applied Machine Learning/Project/aml_project/.venv/lib/python3.12/site-packages/sklearn/utils/extmath.py:203: RuntimeWarning: invalid value encountered in matmul\n",
      "  ret = a @ b\n"
     ]
    },
    {
     "name": "stdout",
     "output_type": "stream",
     "text": [
      "[Run 5] Iter 29 F1-illicit: 0.4630\n",
      "[Run 5] Iter 30 F1-illicit: 0.4620\n",
      "\n",
      "=== Summary ===\n",
      "Mean F1 per Iteration: [0.206  0.2413 0.2969 0.3517 0.4026 0.4441 0.4859 0.5081 0.5162 0.508\n",
      " 0.5123 0.5153 0.5078 0.5007 0.5051 0.5015 0.4972 0.4934 0.488  0.4859\n",
      " 0.482  0.482  0.4798 0.4775 0.4747 0.4724 0.4696 0.4675 0.4638 0.4596]\n",
      "Final Median F1 (illicit): 0.462\n",
      "Average Warm-up size: 1440\n",
      "Average Active Learning size: 6000\n",
      "Average Final Training set size: 7440\n"
     ]
    },
    {
     "name": "stderr",
     "output_type": "stream",
     "text": [
      "/Users/yudhistiraonggowarsito/Documents/SMU/Courses/CS610 - Applied Machine Learning/Project/aml_project/.venv/lib/python3.12/site-packages/sklearn/utils/extmath.py:203: RuntimeWarning: divide by zero encountered in matmul\n",
      "  ret = a @ b\n",
      "/Users/yudhistiraonggowarsito/Documents/SMU/Courses/CS610 - Applied Machine Learning/Project/aml_project/.venv/lib/python3.12/site-packages/sklearn/utils/extmath.py:203: RuntimeWarning: overflow encountered in matmul\n",
      "  ret = a @ b\n",
      "/Users/yudhistiraonggowarsito/Documents/SMU/Courses/CS610 - Applied Machine Learning/Project/aml_project/.venv/lib/python3.12/site-packages/sklearn/utils/extmath.py:203: RuntimeWarning: invalid value encountered in matmul\n",
      "  ret = a @ b\n",
      "/Users/yudhistiraonggowarsito/Documents/SMU/Courses/CS610 - Applied Machine Learning/Project/aml_project/.venv/lib/python3.12/site-packages/sklearn/utils/extmath.py:203: RuntimeWarning: divide by zero encountered in matmul\n",
      "  ret = a @ b\n",
      "/Users/yudhistiraonggowarsito/Documents/SMU/Courses/CS610 - Applied Machine Learning/Project/aml_project/.venv/lib/python3.12/site-packages/sklearn/utils/extmath.py:203: RuntimeWarning: overflow encountered in matmul\n",
      "  ret = a @ b\n",
      "/Users/yudhistiraonggowarsito/Documents/SMU/Courses/CS610 - Applied Machine Learning/Project/aml_project/.venv/lib/python3.12/site-packages/sklearn/utils/extmath.py:203: RuntimeWarning: invalid value encountered in matmul\n",
      "  ret = a @ b\n"
     ]
    },
    {
     "data": {
      "image/png": "[encoded data removed]",
      "text/plain": [
       "<Figure size 800x500 with 1 Axes>"
      ]
     },
     "metadata": {},
     "output_type": "display_data"
    },
    {
     "name": "stderr",
     "output_type": "stream",
     "text": [
      "/var/folders/2v/617m0pq96qq942zr8nbfyzch0000gn/T/ipykernel_29924/2909400616.py:51: FutureWarning: The behavior of DataFrame concatenation with empty or all-NA entries is deprecated. In a future version, this will no longer exclude empty or all-NA columns when determining the result dtypes. To retain the old behavior, exclude the relevant entries before the concat operation.\n",
      "  labeled_pool = pd.concat([labeled_pool, batch], ignore_index=True)\n",
      "/Users/yudhistiraonggowarsito/Documents/SMU/Courses/CS610 - Applied Machine Learning/Project/aml_project/.venv/lib/python3.12/site-packages/sklearn/utils/extmath.py:203: RuntimeWarning: divide by zero encountered in matmul\n",
      "  ret = a @ b\n",
      "/Users/yudhistiraonggowarsito/Documents/SMU/Courses/CS610 - Applied Machine Learning/Project/aml_project/.venv/lib/python3.12/site-packages/sklearn/utils/extmath.py:203: RuntimeWarning: overflow encountered in matmul\n",
      "  ret = a @ b\n",
      "/Users/yudhistiraonggowarsito/Documents/SMU/Courses/CS610 - Applied Machine Learning/Project/aml_project/.venv/lib/python3.12/site-packages/sklearn/utils/extmath.py:203: RuntimeWarning: invalid value encountered in matmul\n",
      "  ret = a @ b\n"
     ]
    },
    {
     "name": "stdout",
     "output_type": "stream",
     "text": [
      "\n",
      "=== Run 1/5 ===\n",
      "[Run 1] Iter 1 F1-illicit: 0.2014\n",
      "[Run 1] Iter 2 F1-illicit: 0.2278\n"
     ]
    },
    {
     "name": "stderr",
     "output_type": "stream",
     "text": [
      "/Users/yudhistiraonggowarsito/Documents/SMU/Courses/CS610 - Applied Machine Learning/Project/aml_project/.venv/lib/python3.12/site-packages/sklearn/utils/extmath.py:203: RuntimeWarning: divide by zero encountered in matmul\n",
      "  ret = a @ b\n",
      "/Users/yudhistiraonggowarsito/Documents/SMU/Courses/CS610 - Applied Machine Learning/Project/aml_project/.venv/lib/python3.12/site-packages/sklearn/utils/extmath.py:203: RuntimeWarning: overflow encountered in matmul\n",
      "  ret = a @ b\n",
      "/Users/yudhistiraonggowarsito/Documents/SMU/Courses/CS610 - Applied Machine Learning/Project/aml_project/.venv/lib/python3.12/site-packages/sklearn/utils/extmath.py:203: RuntimeWarning: invalid value encountered in matmul\n",
      "  ret = a @ b\n",
      "/Users/yudhistiraonggowarsito/Documents/SMU/Courses/CS610 - Applied Machine Learning/Project/aml_project/.venv/lib/python3.12/site-packages/sklearn/utils/extmath.py:203: RuntimeWarning: divide by zero encountered in matmul\n",
      "  ret = a @ b\n",
      "/Users/yudhistiraonggowarsito/Documents/SMU/Courses/CS610 - Applied Machine Learning/Project/aml_project/.venv/lib/python3.12/site-packages/sklearn/utils/extmath.py:203: RuntimeWarning: overflow encountered in matmul\n",
      "  ret = a @ b\n",
      "/Users/yudhistiraonggowarsito/Documents/SMU/Courses/CS610 - Applied Machine Learning/Project/aml_project/.venv/lib/python3.12/site-packages/sklearn/utils/extmath.py:203: RuntimeWarning: invalid value encountered in matmul\n",
      "  ret = a @ b\n",
      "/Users/yudhistiraonggowarsito/Documents/SMU/Courses/CS610 - Applied Machine Learning/Project/aml_project/.venv/lib/python3.12/site-packages/sklearn/utils/extmath.py:203: RuntimeWarning: divide by zero encountered in matmul\n",
      "  ret = a @ b\n",
      "/Users/yudhistiraonggowarsito/Documents/SMU/Courses/CS610 - Applied Machine Learning/Project/aml_project/.venv/lib/python3.12/site-packages/sklearn/utils/extmath.py:203: RuntimeWarning: overflow encountered in matmul\n",
      "  ret = a @ b\n",
      "/Users/yudhistiraonggowarsito/Documents/SMU/Courses/CS610 - Applied Machine Learning/Project/aml_project/.venv/lib/python3.12/site-packages/sklearn/utils/extmath.py:203: RuntimeWarning: invalid value encountered in matmul\n",
      "  ret = a @ b\n",
      "/Users/yudhistiraonggowarsito/Documents/SMU/Courses/CS610 - Applied Machine Learning/Project/aml_project/.venv/lib/python3.12/site-packages/sklearn/utils/extmath.py:203: RuntimeWarning: divide by zero encountered in matmul\n",
      "  ret = a @ b\n",
      "/Users/yudhistiraonggowarsito/Documents/SMU/Courses/CS610 - Applied Machine Learning/Project/aml_project/.venv/lib/python3.12/site-packages/sklearn/utils/extmath.py:203: RuntimeWarning: overflow encountered in matmul\n",
      "  ret = a @ b\n",
      "/Users/yudhistiraonggowarsito/Documents/SMU/Courses/CS610 - Applied Machine Learning/Project/aml_project/.venv/lib/python3.12/site-packages/sklearn/utils/extmath.py:203: RuntimeWarning: invalid value encountered in matmul\n",
      "  ret = a @ b\n",
      "/Users/yudhistiraonggowarsito/Documents/SMU/Courses/CS610 - Applied Machine Learning/Project/aml_project/.venv/lib/python3.12/site-packages/sklearn/utils/extmath.py:203: RuntimeWarning: divide by zero encountered in matmul\n",
      "  ret = a @ b\n",
      "/Users/yudhistiraonggowarsito/Documents/SMU/Courses/CS610 - Applied Machine Learning/Project/aml_project/.venv/lib/python3.12/site-packages/sklearn/utils/extmath.py:203: RuntimeWarning: overflow encountered in matmul\n",
      "  ret = a @ b\n",
      "/Users/yudhistiraonggowarsito/Documents/SMU/Courses/CS610 - Applied Machine Learning/Project/aml_project/.venv/lib/python3.12/site-packages/sklearn/utils/extmath.py:203: RuntimeWarning: invalid value encountered in matmul\n",
      "  ret = a @ b\n"
     ]
    },
    {
     "name": "stdout",
     "output_type": "stream",
     "text": [
      "[Run 1] Iter 3 F1-illicit: 0.2881\n"
     ]
    },
    {
     "name": "stderr",
     "output_type": "stream",
     "text": [
      "/Users/yudhistiraonggowarsito/Documents/SMU/Courses/CS610 - Applied Machine Learning/Project/aml_project/.venv/lib/python3.12/site-packages/sklearn/utils/extmath.py:203: RuntimeWarning: divide by zero encountered in matmul\n",
      "  ret = a @ b\n",
      "/Users/yudhistiraonggowarsito/Documents/SMU/Courses/CS610 - Applied Machine Learning/Project/aml_project/.venv/lib/python3.12/site-packages/sklearn/utils/extmath.py:203: RuntimeWarning: overflow encountered in matmul\n",
      "  ret = a @ b\n",
      "/Users/yudhistiraonggowarsito/Documents/SMU/Courses/CS610 - Applied Machine Learning/Project/aml_project/.venv/lib/python3.12/site-packages/sklearn/utils/extmath.py:203: RuntimeWarning: invalid value encountered in matmul\n",
      "  ret = a @ b\n",
      "/Users/yudhistiraonggowarsito/Documents/SMU/Courses/CS610 - Applied Machine Learning/Project/aml_project/.venv/lib/python3.12/site-packages/sklearn/utils/extmath.py:203: RuntimeWarning: divide by zero encountered in matmul\n",
      "  ret = a @ b\n",
      "/Users/yudhistiraonggowarsito/Documents/SMU/Courses/CS610 - Applied Machine Learning/Project/aml_project/.venv/lib/python3.12/site-packages/sklearn/utils/extmath.py:203: RuntimeWarning: overflow encountered in matmul\n",
      "  ret = a @ b\n",
      "/Users/yudhistiraonggowarsito/Documents/SMU/Courses/CS610 - Applied Machine Learning/Project/aml_project/.venv/lib/python3.12/site-packages/sklearn/utils/extmath.py:203: RuntimeWarning: invalid value encountered in matmul\n",
      "  ret = a @ b\n"
     ]
    },
    {
     "name": "stdout",
     "output_type": "stream",
     "text": [
      "[Run 1] Iter 4 F1-illicit: 0.3213\n"
     ]
    },
    {
     "name": "stderr",
     "output_type": "stream",
     "text": [
      "/Users/yudhistiraonggowarsito/Documents/SMU/Courses/CS610 - Applied Machine Learning/Project/aml_project/.venv/lib/python3.12/site-packages/sklearn/utils/extmath.py:203: RuntimeWarning: divide by zero encountered in matmul\n",
      "  ret = a @ b\n",
      "/Users/yudhistiraonggowarsito/Documents/SMU/Courses/CS610 - Applied Machine Learning/Project/aml_project/.venv/lib/python3.12/site-packages/sklearn/utils/extmath.py:203: RuntimeWarning: overflow encountered in matmul\n",
      "  ret = a @ b\n",
      "/Users/yudhistiraonggowarsito/Documents/SMU/Courses/CS610 - Applied Machine Learning/Project/aml_project/.venv/lib/python3.12/site-packages/sklearn/utils/extmath.py:203: RuntimeWarning: invalid value encountered in matmul\n",
      "  ret = a @ b\n",
      "/Users/yudhistiraonggowarsito/Documents/SMU/Courses/CS610 - Applied Machine Learning/Project/aml_project/.venv/lib/python3.12/site-packages/sklearn/utils/extmath.py:203: RuntimeWarning: divide by zero encountered in matmul\n",
      "  ret = a @ b\n",
      "/Users/yudhistiraonggowarsito/Documents/SMU/Courses/CS610 - Applied Machine Learning/Project/aml_project/.venv/lib/python3.12/site-packages/sklearn/utils/extmath.py:203: RuntimeWarning: overflow encountered in matmul\n",
      "  ret = a @ b\n",
      "/Users/yudhistiraonggowarsito/Documents/SMU/Courses/CS610 - Applied Machine Learning/Project/aml_project/.venv/lib/python3.12/site-packages/sklearn/utils/extmath.py:203: RuntimeWarning: invalid value encountered in matmul\n",
      "  ret = a @ b\n"
     ]
    },
    {
     "name": "stdout",
     "output_type": "stream",
     "text": [
      "[Run 1] Iter 5 F1-illicit: 0.3972\n"
     ]
    },
    {
     "name": "stderr",
     "output_type": "stream",
     "text": [
      "/Users/yudhistiraonggowarsito/Documents/SMU/Courses/CS610 - Applied Machine Learning/Project/aml_project/.venv/lib/python3.12/site-packages/sklearn/utils/extmath.py:203: RuntimeWarning: divide by zero encountered in matmul\n",
      "  ret = a @ b\n",
      "/Users/yudhistiraonggowarsito/Documents/SMU/Courses/CS610 - Applied Machine Learning/Project/aml_project/.venv/lib/python3.12/site-packages/sklearn/utils/extmath.py:203: RuntimeWarning: overflow encountered in matmul\n",
      "  ret = a @ b\n",
      "/Users/yudhistiraonggowarsito/Documents/SMU/Courses/CS610 - Applied Machine Learning/Project/aml_project/.venv/lib/python3.12/site-packages/sklearn/utils/extmath.py:203: RuntimeWarning: invalid value encountered in matmul\n",
      "  ret = a @ b\n",
      "/Users/yudhistiraonggowarsito/Documents/SMU/Courses/CS610 - Applied Machine Learning/Project/aml_project/.venv/lib/python3.12/site-packages/sklearn/utils/extmath.py:203: RuntimeWarning: divide by zero encountered in matmul\n",
      "  ret = a @ b\n",
      "/Users/yudhistiraonggowarsito/Documents/SMU/Courses/CS610 - Applied Machine Learning/Project/aml_project/.venv/lib/python3.12/site-packages/sklearn/utils/extmath.py:203: RuntimeWarning: overflow encountered in matmul\n",
      "  ret = a @ b\n",
      "/Users/yudhistiraonggowarsito/Documents/SMU/Courses/CS610 - Applied Machine Learning/Project/aml_project/.venv/lib/python3.12/site-packages/sklearn/utils/extmath.py:203: RuntimeWarning: invalid value encountered in matmul\n",
      "  ret = a @ b\n"
     ]
    },
    {
     "name": "stdout",
     "output_type": "stream",
     "text": [
      "[Run 1] Iter 6 F1-illicit: 0.4827\n"
     ]
    },
    {
     "name": "stderr",
     "output_type": "stream",
     "text": [
      "/Users/yudhistiraonggowarsito/Documents/SMU/Courses/CS610 - Applied Machine Learning/Project/aml_project/.venv/lib/python3.12/site-packages/sklearn/utils/extmath.py:203: RuntimeWarning: divide by zero encountered in matmul\n",
      "  ret = a @ b\n",
      "/Users/yudhistiraonggowarsito/Documents/SMU/Courses/CS610 - Applied Machine Learning/Project/aml_project/.venv/lib/python3.12/site-packages/sklearn/utils/extmath.py:203: RuntimeWarning: overflow encountered in matmul\n",
      "  ret = a @ b\n",
      "/Users/yudhistiraonggowarsito/Documents/SMU/Courses/CS610 - Applied Machine Learning/Project/aml_project/.venv/lib/python3.12/site-packages/sklearn/utils/extmath.py:203: RuntimeWarning: invalid value encountered in matmul\n",
      "  ret = a @ b\n",
      "/Users/yudhistiraonggowarsito/Documents/SMU/Courses/CS610 - Applied Machine Learning/Project/aml_project/.venv/lib/python3.12/site-packages/sklearn/utils/extmath.py:203: RuntimeWarning: divide by zero encountered in matmul\n",
      "  ret = a @ b\n",
      "/Users/yudhistiraonggowarsito/Documents/SMU/Courses/CS610 - Applied Machine Learning/Project/aml_project/.venv/lib/python3.12/site-packages/sklearn/utils/extmath.py:203: RuntimeWarning: overflow encountered in matmul\n",
      "  ret = a @ b\n",
      "/Users/yudhistiraonggowarsito/Documents/SMU/Courses/CS610 - Applied Machine Learning/Project/aml_project/.venv/lib/python3.12/site-packages/sklearn/utils/extmath.py:203: RuntimeWarning: invalid value encountered in matmul\n",
      "  ret = a @ b\n"
     ]
    },
    {
     "name": "stdout",
     "output_type": "stream",
     "text": [
      "[Run 1] Iter 7 F1-illicit: 0.4809\n"
     ]
    },
    {
     "name": "stderr",
     "output_type": "stream",
     "text": [
      "/Users/yudhistiraonggowarsito/Documents/SMU/Courses/CS610 - Applied Machine Learning/Project/aml_project/.venv/lib/python3.12/site-packages/sklearn/utils/extmath.py:203: RuntimeWarning: divide by zero encountered in matmul\n",
      "  ret = a @ b\n",
      "/Users/yudhistiraonggowarsito/Documents/SMU/Courses/CS610 - Applied Machine Learning/Project/aml_project/.venv/lib/python3.12/site-packages/sklearn/utils/extmath.py:203: RuntimeWarning: overflow encountered in matmul\n",
      "  ret = a @ b\n",
      "/Users/yudhistiraonggowarsito/Documents/SMU/Courses/CS610 - Applied Machine Learning/Project/aml_project/.venv/lib/python3.12/site-packages/sklearn/utils/extmath.py:203: RuntimeWarning: invalid value encountered in matmul\n",
      "  ret = a @ b\n",
      "/Users/yudhistiraonggowarsito/Documents/SMU/Courses/CS610 - Applied Machine Learning/Project/aml_project/.venv/lib/python3.12/site-packages/sklearn/utils/extmath.py:203: RuntimeWarning: divide by zero encountered in matmul\n",
      "  ret = a @ b\n",
      "/Users/yudhistiraonggowarsito/Documents/SMU/Courses/CS610 - Applied Machine Learning/Project/aml_project/.venv/lib/python3.12/site-packages/sklearn/utils/extmath.py:203: RuntimeWarning: overflow encountered in matmul\n",
      "  ret = a @ b\n",
      "/Users/yudhistiraonggowarsito/Documents/SMU/Courses/CS610 - Applied Machine Learning/Project/aml_project/.venv/lib/python3.12/site-packages/sklearn/utils/extmath.py:203: RuntimeWarning: invalid value encountered in matmul\n",
      "  ret = a @ b\n"
     ]
    },
    {
     "name": "stdout",
     "output_type": "stream",
     "text": [
      "[Run 1] Iter 8 F1-illicit: 0.4659\n"
     ]
    },
    {
     "name": "stderr",
     "output_type": "stream",
     "text": [
      "/Users/yudhistiraonggowarsito/Documents/SMU/Courses/CS610 - Applied Machine Learning/Project/aml_project/.venv/lib/python3.12/site-packages/sklearn/utils/extmath.py:203: RuntimeWarning: divide by zero encountered in matmul\n",
      "  ret = a @ b\n",
      "/Users/yudhistiraonggowarsito/Documents/SMU/Courses/CS610 - Applied Machine Learning/Project/aml_project/.venv/lib/python3.12/site-packages/sklearn/utils/extmath.py:203: RuntimeWarning: overflow encountered in matmul\n",
      "  ret = a @ b\n",
      "/Users/yudhistiraonggowarsito/Documents/SMU/Courses/CS610 - Applied Machine Learning/Project/aml_project/.venv/lib/python3.12/site-packages/sklearn/utils/extmath.py:203: RuntimeWarning: invalid value encountered in matmul\n",
      "  ret = a @ b\n",
      "/Users/yudhistiraonggowarsito/Documents/SMU/Courses/CS610 - Applied Machine Learning/Project/aml_project/.venv/lib/python3.12/site-packages/sklearn/utils/extmath.py:203: RuntimeWarning: divide by zero encountered in matmul\n",
      "  ret = a @ b\n",
      "/Users/yudhistiraonggowarsito/Documents/SMU/Courses/CS610 - Applied Machine Learning/Project/aml_project/.venv/lib/python3.12/site-packages/sklearn/utils/extmath.py:203: RuntimeWarning: overflow encountered in matmul\n",
      "  ret = a @ b\n",
      "/Users/yudhistiraonggowarsito/Documents/SMU/Courses/CS610 - Applied Machine Learning/Project/aml_project/.venv/lib/python3.12/site-packages/sklearn/utils/extmath.py:203: RuntimeWarning: invalid value encountered in matmul\n",
      "  ret = a @ b\n"
     ]
    },
    {
     "name": "stdout",
     "output_type": "stream",
     "text": [
      "[Run 1] Iter 9 F1-illicit: 0.4615\n"
     ]
    },
    {
     "name": "stderr",
     "output_type": "stream",
     "text": [
      "/Users/yudhistiraonggowarsito/Documents/SMU/Courses/CS610 - Applied Machine Learning/Project/aml_project/.venv/lib/python3.12/site-packages/sklearn/utils/extmath.py:203: RuntimeWarning: divide by zero encountered in matmul\n",
      "  ret = a @ b\n",
      "/Users/yudhistiraonggowarsito/Documents/SMU/Courses/CS610 - Applied Machine Learning/Project/aml_project/.venv/lib/python3.12/site-packages/sklearn/utils/extmath.py:203: RuntimeWarning: overflow encountered in matmul\n",
      "  ret = a @ b\n",
      "/Users/yudhistiraonggowarsito/Documents/SMU/Courses/CS610 - Applied Machine Learning/Project/aml_project/.venv/lib/python3.12/site-packages/sklearn/utils/extmath.py:203: RuntimeWarning: invalid value encountered in matmul\n",
      "  ret = a @ b\n",
      "/Users/yudhistiraonggowarsito/Documents/SMU/Courses/CS610 - Applied Machine Learning/Project/aml_project/.venv/lib/python3.12/site-packages/sklearn/utils/extmath.py:203: RuntimeWarning: divide by zero encountered in matmul\n",
      "  ret = a @ b\n",
      "/Users/yudhistiraonggowarsito/Documents/SMU/Courses/CS610 - Applied Machine Learning/Project/aml_project/.venv/lib/python3.12/site-packages/sklearn/utils/extmath.py:203: RuntimeWarning: overflow encountered in matmul\n",
      "  ret = a @ b\n",
      "/Users/yudhistiraonggowarsito/Documents/SMU/Courses/CS610 - Applied Machine Learning/Project/aml_project/.venv/lib/python3.12/site-packages/sklearn/utils/extmath.py:203: RuntimeWarning: invalid value encountered in matmul\n",
      "  ret = a @ b\n"
     ]
    },
    {
     "name": "stdout",
     "output_type": "stream",
     "text": [
      "[Run 1] Iter 10 F1-illicit: 0.4517\n"
     ]
    },
    {
     "name": "stderr",
     "output_type": "stream",
     "text": [
      "/Users/yudhistiraonggowarsito/Documents/SMU/Courses/CS610 - Applied Machine Learning/Project/aml_project/.venv/lib/python3.12/site-packages/sklearn/utils/extmath.py:203: RuntimeWarning: divide by zero encountered in matmul\n",
      "  ret = a @ b\n",
      "/Users/yudhistiraonggowarsito/Documents/SMU/Courses/CS610 - Applied Machine Learning/Project/aml_project/.venv/lib/python3.12/site-packages/sklearn/utils/extmath.py:203: RuntimeWarning: overflow encountered in matmul\n",
      "  ret = a @ b\n",
      "/Users/yudhistiraonggowarsito/Documents/SMU/Courses/CS610 - Applied Machine Learning/Project/aml_project/.venv/lib/python3.12/site-packages/sklearn/utils/extmath.py:203: RuntimeWarning: invalid value encountered in matmul\n",
      "  ret = a @ b\n",
      "/Users/yudhistiraonggowarsito/Documents/SMU/Courses/CS610 - Applied Machine Learning/Project/aml_project/.venv/lib/python3.12/site-packages/sklearn/utils/extmath.py:203: RuntimeWarning: divide by zero encountered in matmul\n",
      "  ret = a @ b\n",
      "/Users/yudhistiraonggowarsito/Documents/SMU/Courses/CS610 - Applied Machine Learning/Project/aml_project/.venv/lib/python3.12/site-packages/sklearn/utils/extmath.py:203: RuntimeWarning: overflow encountered in matmul\n",
      "  ret = a @ b\n",
      "/Users/yudhistiraonggowarsito/Documents/SMU/Courses/CS610 - Applied Machine Learning/Project/aml_project/.venv/lib/python3.12/site-packages/sklearn/utils/extmath.py:203: RuntimeWarning: invalid value encountered in matmul\n",
      "  ret = a @ b\n"
     ]
    },
    {
     "name": "stdout",
     "output_type": "stream",
     "text": [
      "[Run 1] Iter 11 F1-illicit: 0.4472\n"
     ]
    },
    {
     "name": "stderr",
     "output_type": "stream",
     "text": [
      "/Users/yudhistiraonggowarsito/Documents/SMU/Courses/CS610 - Applied Machine Learning/Project/aml_project/.venv/lib/python3.12/site-packages/sklearn/utils/extmath.py:203: RuntimeWarning: divide by zero encountered in matmul\n",
      "  ret = a @ b\n",
      "/Users/yudhistiraonggowarsito/Documents/SMU/Courses/CS610 - Applied Machine Learning/Project/aml_project/.venv/lib/python3.12/site-packages/sklearn/utils/extmath.py:203: RuntimeWarning: overflow encountered in matmul\n",
      "  ret = a @ b\n",
      "/Users/yudhistiraonggowarsito/Documents/SMU/Courses/CS610 - Applied Machine Learning/Project/aml_project/.venv/lib/python3.12/site-packages/sklearn/utils/extmath.py:203: RuntimeWarning: invalid value encountered in matmul\n",
      "  ret = a @ b\n",
      "/Users/yudhistiraonggowarsito/Documents/SMU/Courses/CS610 - Applied Machine Learning/Project/aml_project/.venv/lib/python3.12/site-packages/sklearn/utils/extmath.py:203: RuntimeWarning: divide by zero encountered in matmul\n",
      "  ret = a @ b\n",
      "/Users/yudhistiraonggowarsito/Documents/SMU/Courses/CS610 - Applied Machine Learning/Project/aml_project/.venv/lib/python3.12/site-packages/sklearn/utils/extmath.py:203: RuntimeWarning: overflow encountered in matmul\n",
      "  ret = a @ b\n",
      "/Users/yudhistiraonggowarsito/Documents/SMU/Courses/CS610 - Applied Machine Learning/Project/aml_project/.venv/lib/python3.12/site-packages/sklearn/utils/extmath.py:203: RuntimeWarning: invalid value encountered in matmul\n",
      "  ret = a @ b\n"
     ]
    },
    {
     "name": "stdout",
     "output_type": "stream",
     "text": [
      "[Run 1] Iter 12 F1-illicit: 0.4390\n"
     ]
    },
    {
     "name": "stderr",
     "output_type": "stream",
     "text": [
      "/Users/yudhistiraonggowarsito/Documents/SMU/Courses/CS610 - Applied Machine Learning/Project/aml_project/.venv/lib/python3.12/site-packages/sklearn/utils/extmath.py:203: RuntimeWarning: divide by zero encountered in matmul\n",
      "  ret = a @ b\n",
      "/Users/yudhistiraonggowarsito/Documents/SMU/Courses/CS610 - Applied Machine Learning/Project/aml_project/.venv/lib/python3.12/site-packages/sklearn/utils/extmath.py:203: RuntimeWarning: overflow encountered in matmul\n",
      "  ret = a @ b\n",
      "/Users/yudhistiraonggowarsito/Documents/SMU/Courses/CS610 - Applied Machine Learning/Project/aml_project/.venv/lib/python3.12/site-packages/sklearn/utils/extmath.py:203: RuntimeWarning: invalid value encountered in matmul\n",
      "  ret = a @ b\n",
      "/Users/yudhistiraonggowarsito/Documents/SMU/Courses/CS610 - Applied Machine Learning/Project/aml_project/.venv/lib/python3.12/site-packages/sklearn/utils/extmath.py:203: RuntimeWarning: divide by zero encountered in matmul\n",
      "  ret = a @ b\n",
      "/Users/yudhistiraonggowarsito/Documents/SMU/Courses/CS610 - Applied Machine Learning/Project/aml_project/.venv/lib/python3.12/site-packages/sklearn/utils/extmath.py:203: RuntimeWarning: overflow encountered in matmul\n",
      "  ret = a @ b\n",
      "/Users/yudhistiraonggowarsito/Documents/SMU/Courses/CS610 - Applied Machine Learning/Project/aml_project/.venv/lib/python3.12/site-packages/sklearn/utils/extmath.py:203: RuntimeWarning: invalid value encountered in matmul\n",
      "  ret = a @ b\n"
     ]
    },
    {
     "name": "stdout",
     "output_type": "stream",
     "text": [
      "[Run 1] Iter 13 F1-illicit: 0.4356\n"
     ]
    },
    {
     "name": "stderr",
     "output_type": "stream",
     "text": [
      "/Users/yudhistiraonggowarsito/Documents/SMU/Courses/CS610 - Applied Machine Learning/Project/aml_project/.venv/lib/python3.12/site-packages/sklearn/utils/extmath.py:203: RuntimeWarning: divide by zero encountered in matmul\n",
      "  ret = a @ b\n",
      "/Users/yudhistiraonggowarsito/Documents/SMU/Courses/CS610 - Applied Machine Learning/Project/aml_project/.venv/lib/python3.12/site-packages/sklearn/utils/extmath.py:203: RuntimeWarning: overflow encountered in matmul\n",
      "  ret = a @ b\n",
      "/Users/yudhistiraonggowarsito/Documents/SMU/Courses/CS610 - Applied Machine Learning/Project/aml_project/.venv/lib/python3.12/site-packages/sklearn/utils/extmath.py:203: RuntimeWarning: invalid value encountered in matmul\n",
      "  ret = a @ b\n",
      "/Users/yudhistiraonggowarsito/Documents/SMU/Courses/CS610 - Applied Machine Learning/Project/aml_project/.venv/lib/python3.12/site-packages/sklearn/utils/extmath.py:203: RuntimeWarning: divide by zero encountered in matmul\n",
      "  ret = a @ b\n",
      "/Users/yudhistiraonggowarsito/Documents/SMU/Courses/CS610 - Applied Machine Learning/Project/aml_project/.venv/lib/python3.12/site-packages/sklearn/utils/extmath.py:203: RuntimeWarning: overflow encountered in matmul\n",
      "  ret = a @ b\n",
      "/Users/yudhistiraonggowarsito/Documents/SMU/Courses/CS610 - Applied Machine Learning/Project/aml_project/.venv/lib/python3.12/site-packages/sklearn/utils/extmath.py:203: RuntimeWarning: invalid value encountered in matmul\n",
      "  ret = a @ b\n"
     ]
    },
    {
     "name": "stdout",
     "output_type": "stream",
     "text": [
      "[Run 1] Iter 14 F1-illicit: 0.4338\n"
     ]
    },
    {
     "name": "stderr",
     "output_type": "stream",
     "text": [
      "/Users/yudhistiraonggowarsito/Documents/SMU/Courses/CS610 - Applied Machine Learning/Project/aml_project/.venv/lib/python3.12/site-packages/sklearn/utils/extmath.py:203: RuntimeWarning: divide by zero encountered in matmul\n",
      "  ret = a @ b\n",
      "/Users/yudhistiraonggowarsito/Documents/SMU/Courses/CS610 - Applied Machine Learning/Project/aml_project/.venv/lib/python3.12/site-packages/sklearn/utils/extmath.py:203: RuntimeWarning: overflow encountered in matmul\n",
      "  ret = a @ b\n",
      "/Users/yudhistiraonggowarsito/Documents/SMU/Courses/CS610 - Applied Machine Learning/Project/aml_project/.venv/lib/python3.12/site-packages/sklearn/utils/extmath.py:203: RuntimeWarning: invalid value encountered in matmul\n",
      "  ret = a @ b\n",
      "/Users/yudhistiraonggowarsito/Documents/SMU/Courses/CS610 - Applied Machine Learning/Project/aml_project/.venv/lib/python3.12/site-packages/sklearn/utils/extmath.py:203: RuntimeWarning: divide by zero encountered in matmul\n",
      "  ret = a @ b\n",
      "/Users/yudhistiraonggowarsito/Documents/SMU/Courses/CS610 - Applied Machine Learning/Project/aml_project/.venv/lib/python3.12/site-packages/sklearn/utils/extmath.py:203: RuntimeWarning: overflow encountered in matmul\n",
      "  ret = a @ b\n",
      "/Users/yudhistiraonggowarsito/Documents/SMU/Courses/CS610 - Applied Machine Learning/Project/aml_project/.venv/lib/python3.12/site-packages/sklearn/utils/extmath.py:203: RuntimeWarning: invalid value encountered in matmul\n",
      "  ret = a @ b\n"
     ]
    },
    {
     "name": "stdout",
     "output_type": "stream",
     "text": [
      "[Run 1] Iter 15 F1-illicit: 0.4241\n"
     ]
    },
    {
     "name": "stderr",
     "output_type": "stream",
     "text": [
      "/Users/yudhistiraonggowarsito/Documents/SMU/Courses/CS610 - Applied Machine Learning/Project/aml_project/.venv/lib/python3.12/site-packages/sklearn/utils/extmath.py:203: RuntimeWarning: divide by zero encountered in matmul\n",
      "  ret = a @ b\n",
      "/Users/yudhistiraonggowarsito/Documents/SMU/Courses/CS610 - Applied Machine Learning/Project/aml_project/.venv/lib/python3.12/site-packages/sklearn/utils/extmath.py:203: RuntimeWarning: overflow encountered in matmul\n",
      "  ret = a @ b\n",
      "/Users/yudhistiraonggowarsito/Documents/SMU/Courses/CS610 - Applied Machine Learning/Project/aml_project/.venv/lib/python3.12/site-packages/sklearn/utils/extmath.py:203: RuntimeWarning: invalid value encountered in matmul\n",
      "  ret = a @ b\n",
      "/Users/yudhistiraonggowarsito/Documents/SMU/Courses/CS610 - Applied Machine Learning/Project/aml_project/.venv/lib/python3.12/site-packages/sklearn/utils/extmath.py:203: RuntimeWarning: divide by zero encountered in matmul\n",
      "  ret = a @ b\n",
      "/Users/yudhistiraonggowarsito/Documents/SMU/Courses/CS610 - Applied Machine Learning/Project/aml_project/.venv/lib/python3.12/site-packages/sklearn/utils/extmath.py:203: RuntimeWarning: overflow encountered in matmul\n",
      "  ret = a @ b\n",
      "/Users/yudhistiraonggowarsito/Documents/SMU/Courses/CS610 - Applied Machine Learning/Project/aml_project/.venv/lib/python3.12/site-packages/sklearn/utils/extmath.py:203: RuntimeWarning: invalid value encountered in matmul\n",
      "  ret = a @ b\n"
     ]
    },
    {
     "name": "stdout",
     "output_type": "stream",
     "text": [
      "[Run 1] Iter 16 F1-illicit: 0.4240\n"
     ]
    },
    {
     "name": "stderr",
     "output_type": "stream",
     "text": [
      "/Users/yudhistiraonggowarsito/Documents/SMU/Courses/CS610 - Applied Machine Learning/Project/aml_project/.venv/lib/python3.12/site-packages/sklearn/utils/extmath.py:203: RuntimeWarning: divide by zero encountered in matmul\n",
      "  ret = a @ b\n",
      "/Users/yudhistiraonggowarsito/Documents/SMU/Courses/CS610 - Applied Machine Learning/Project/aml_project/.venv/lib/python3.12/site-packages/sklearn/utils/extmath.py:203: RuntimeWarning: overflow encountered in matmul\n",
      "  ret = a @ b\n",
      "/Users/yudhistiraonggowarsito/Documents/SMU/Courses/CS610 - Applied Machine Learning/Project/aml_project/.venv/lib/python3.12/site-packages/sklearn/utils/extmath.py:203: RuntimeWarning: invalid value encountered in matmul\n",
      "  ret = a @ b\n",
      "/Users/yudhistiraonggowarsito/Documents/SMU/Courses/CS610 - Applied Machine Learning/Project/aml_project/.venv/lib/python3.12/site-packages/sklearn/utils/extmath.py:203: RuntimeWarning: divide by zero encountered in matmul\n",
      "  ret = a @ b\n",
      "/Users/yudhistiraonggowarsito/Documents/SMU/Courses/CS610 - Applied Machine Learning/Project/aml_project/.venv/lib/python3.12/site-packages/sklearn/utils/extmath.py:203: RuntimeWarning: overflow encountered in matmul\n",
      "  ret = a @ b\n",
      "/Users/yudhistiraonggowarsito/Documents/SMU/Courses/CS610 - Applied Machine Learning/Project/aml_project/.venv/lib/python3.12/site-packages/sklearn/utils/extmath.py:203: RuntimeWarning: invalid value encountered in matmul\n",
      "  ret = a @ b\n"
     ]
    },
    {
     "name": "stdout",
     "output_type": "stream",
     "text": [
      "[Run 1] Iter 17 F1-illicit: 0.4279\n"
     ]
    },
    {
     "name": "stderr",
     "output_type": "stream",
     "text": [
      "/Users/yudhistiraonggowarsito/Documents/SMU/Courses/CS610 - Applied Machine Learning/Project/aml_project/.venv/lib/python3.12/site-packages/sklearn/utils/extmath.py:203: RuntimeWarning: divide by zero encountered in matmul\n",
      "  ret = a @ b\n",
      "/Users/yudhistiraonggowarsito/Documents/SMU/Courses/CS610 - Applied Machine Learning/Project/aml_project/.venv/lib/python3.12/site-packages/sklearn/utils/extmath.py:203: RuntimeWarning: overflow encountered in matmul\n",
      "  ret = a @ b\n",
      "/Users/yudhistiraonggowarsito/Documents/SMU/Courses/CS610 - Applied Machine Learning/Project/aml_project/.venv/lib/python3.12/site-packages/sklearn/utils/extmath.py:203: RuntimeWarning: invalid value encountered in matmul\n",
      "  ret = a @ b\n",
      "/Users/yudhistiraonggowarsito/Documents/SMU/Courses/CS610 - Applied Machine Learning/Project/aml_project/.venv/lib/python3.12/site-packages/sklearn/utils/extmath.py:203: RuntimeWarning: divide by zero encountered in matmul\n",
      "  ret = a @ b\n",
      "/Users/yudhistiraonggowarsito/Documents/SMU/Courses/CS610 - Applied Machine Learning/Project/aml_project/.venv/lib/python3.12/site-packages/sklearn/utils/extmath.py:203: RuntimeWarning: overflow encountered in matmul\n",
      "  ret = a @ b\n",
      "/Users/yudhistiraonggowarsito/Documents/SMU/Courses/CS610 - Applied Machine Learning/Project/aml_project/.venv/lib/python3.12/site-packages/sklearn/utils/extmath.py:203: RuntimeWarning: invalid value encountered in matmul\n",
      "  ret = a @ b\n"
     ]
    },
    {
     "name": "stdout",
     "output_type": "stream",
     "text": [
      "[Run 1] Iter 18 F1-illicit: 0.4276\n"
     ]
    },
    {
     "name": "stderr",
     "output_type": "stream",
     "text": [
      "/Users/yudhistiraonggowarsito/Documents/SMU/Courses/CS610 - Applied Machine Learning/Project/aml_project/.venv/lib/python3.12/site-packages/sklearn/utils/extmath.py:203: RuntimeWarning: divide by zero encountered in matmul\n",
      "  ret = a @ b\n",
      "/Users/yudhistiraonggowarsito/Documents/SMU/Courses/CS610 - Applied Machine Learning/Project/aml_project/.venv/lib/python3.12/site-packages/sklearn/utils/extmath.py:203: RuntimeWarning: overflow encountered in matmul\n",
      "  ret = a @ b\n",
      "/Users/yudhistiraonggowarsito/Documents/SMU/Courses/CS610 - Applied Machine Learning/Project/aml_project/.venv/lib/python3.12/site-packages/sklearn/utils/extmath.py:203: RuntimeWarning: invalid value encountered in matmul\n",
      "  ret = a @ b\n",
      "/Users/yudhistiraonggowarsito/Documents/SMU/Courses/CS610 - Applied Machine Learning/Project/aml_project/.venv/lib/python3.12/site-packages/sklearn/utils/extmath.py:203: RuntimeWarning: divide by zero encountered in matmul\n",
      "  ret = a @ b\n",
      "/Users/yudhistiraonggowarsito/Documents/SMU/Courses/CS610 - Applied Machine Learning/Project/aml_project/.venv/lib/python3.12/site-packages/sklearn/utils/extmath.py:203: RuntimeWarning: overflow encountered in matmul\n",
      "  ret = a @ b\n",
      "/Users/yudhistiraonggowarsito/Documents/SMU/Courses/CS610 - Applied Machine Learning/Project/aml_project/.venv/lib/python3.12/site-packages/sklearn/utils/extmath.py:203: RuntimeWarning: invalid value encountered in matmul\n",
      "  ret = a @ b\n"
     ]
    },
    {
     "name": "stdout",
     "output_type": "stream",
     "text": [
      "[Run 1] Iter 19 F1-illicit: 0.4273\n"
     ]
    },
    {
     "name": "stderr",
     "output_type": "stream",
     "text": [
      "/Users/yudhistiraonggowarsito/Documents/SMU/Courses/CS610 - Applied Machine Learning/Project/aml_project/.venv/lib/python3.12/site-packages/sklearn/utils/extmath.py:203: RuntimeWarning: divide by zero encountered in matmul\n",
      "  ret = a @ b\n",
      "/Users/yudhistiraonggowarsito/Documents/SMU/Courses/CS610 - Applied Machine Learning/Project/aml_project/.venv/lib/python3.12/site-packages/sklearn/utils/extmath.py:203: RuntimeWarning: overflow encountered in matmul\n",
      "  ret = a @ b\n",
      "/Users/yudhistiraonggowarsito/Documents/SMU/Courses/CS610 - Applied Machine Learning/Project/aml_project/.venv/lib/python3.12/site-packages/sklearn/utils/extmath.py:203: RuntimeWarning: invalid value encountered in matmul\n",
      "  ret = a @ b\n",
      "/Users/yudhistiraonggowarsito/Documents/SMU/Courses/CS610 - Applied Machine Learning/Project/aml_project/.venv/lib/python3.12/site-packages/sklearn/utils/extmath.py:203: RuntimeWarning: divide by zero encountered in matmul\n",
      "  ret = a @ b\n",
      "/Users/yudhistiraonggowarsito/Documents/SMU/Courses/CS610 - Applied Machine Learning/Project/aml_project/.venv/lib/python3.12/site-packages/sklearn/utils/extmath.py:203: RuntimeWarning: overflow encountered in matmul\n",
      "  ret = a @ b\n",
      "/Users/yudhistiraonggowarsito/Documents/SMU/Courses/CS610 - Applied Machine Learning/Project/aml_project/.venv/lib/python3.12/site-packages/sklearn/utils/extmath.py:203: RuntimeWarning: invalid value encountered in matmul\n",
      "  ret = a @ b\n"
     ]
    },
    {
     "name": "stdout",
     "output_type": "stream",
     "text": [
      "[Run 1] Iter 20 F1-illicit: 0.4269\n"
     ]
    },
    {
     "name": "stderr",
     "output_type": "stream",
     "text": [
      "/Users/yudhistiraonggowarsito/Documents/SMU/Courses/CS610 - Applied Machine Learning/Project/aml_project/.venv/lib/python3.12/site-packages/sklearn/utils/extmath.py:203: RuntimeWarning: divide by zero encountered in matmul\n",
      "  ret = a @ b\n",
      "/Users/yudhistiraonggowarsito/Documents/SMU/Courses/CS610 - Applied Machine Learning/Project/aml_project/.venv/lib/python3.12/site-packages/sklearn/utils/extmath.py:203: RuntimeWarning: overflow encountered in matmul\n",
      "  ret = a @ b\n",
      "/Users/yudhistiraonggowarsito/Documents/SMU/Courses/CS610 - Applied Machine Learning/Project/aml_project/.venv/lib/python3.12/site-packages/sklearn/utils/extmath.py:203: RuntimeWarning: invalid value encountered in matmul\n",
      "  ret = a @ b\n",
      "/Users/yudhistiraonggowarsito/Documents/SMU/Courses/CS610 - Applied Machine Learning/Project/aml_project/.venv/lib/python3.12/site-packages/sklearn/utils/extmath.py:203: RuntimeWarning: divide by zero encountered in matmul\n",
      "  ret = a @ b\n",
      "/Users/yudhistiraonggowarsito/Documents/SMU/Courses/CS610 - Applied Machine Learning/Project/aml_project/.venv/lib/python3.12/site-packages/sklearn/utils/extmath.py:203: RuntimeWarning: overflow encountered in matmul\n",
      "  ret = a @ b\n",
      "/Users/yudhistiraonggowarsito/Documents/SMU/Courses/CS610 - Applied Machine Learning/Project/aml_project/.venv/lib/python3.12/site-packages/sklearn/utils/extmath.py:203: RuntimeWarning: invalid value encountered in matmul\n",
      "  ret = a @ b\n"
     ]
    },
    {
     "name": "stdout",
     "output_type": "stream",
     "text": [
      "[Run 1] Iter 21 F1-illicit: 0.4283\n"
     ]
    },
    {
     "name": "stderr",
     "output_type": "stream",
     "text": [
      "/Users/yudhistiraonggowarsito/Documents/SMU/Courses/CS610 - Applied Machine Learning/Project/aml_project/.venv/lib/python3.12/site-packages/sklearn/utils/extmath.py:203: RuntimeWarning: divide by zero encountered in matmul\n",
      "  ret = a @ b\n",
      "/Users/yudhistiraonggowarsito/Documents/SMU/Courses/CS610 - Applied Machine Learning/Project/aml_project/.venv/lib/python3.12/site-packages/sklearn/utils/extmath.py:203: RuntimeWarning: overflow encountered in matmul\n",
      "  ret = a @ b\n",
      "/Users/yudhistiraonggowarsito/Documents/SMU/Courses/CS610 - Applied Machine Learning/Project/aml_project/.venv/lib/python3.12/site-packages/sklearn/utils/extmath.py:203: RuntimeWarning: invalid value encountered in matmul\n",
      "  ret = a @ b\n",
      "/Users/yudhistiraonggowarsito/Documents/SMU/Courses/CS610 - Applied Machine Learning/Project/aml_project/.venv/lib/python3.12/site-packages/sklearn/utils/extmath.py:203: RuntimeWarning: divide by zero encountered in matmul\n",
      "  ret = a @ b\n",
      "/Users/yudhistiraonggowarsito/Documents/SMU/Courses/CS610 - Applied Machine Learning/Project/aml_project/.venv/lib/python3.12/site-packages/sklearn/utils/extmath.py:203: RuntimeWarning: overflow encountered in matmul\n",
      "  ret = a @ b\n",
      "/Users/yudhistiraonggowarsito/Documents/SMU/Courses/CS610 - Applied Machine Learning/Project/aml_project/.venv/lib/python3.12/site-packages/sklearn/utils/extmath.py:203: RuntimeWarning: invalid value encountered in matmul\n",
      "  ret = a @ b\n"
     ]
    },
    {
     "name": "stdout",
     "output_type": "stream",
     "text": [
      "[Run 1] Iter 22 F1-illicit: 0.4275\n"
     ]
    },
    {
     "name": "stderr",
     "output_type": "stream",
     "text": [
      "/Users/yudhistiraonggowarsito/Documents/SMU/Courses/CS610 - Applied Machine Learning/Project/aml_project/.venv/lib/python3.12/site-packages/sklearn/utils/extmath.py:203: RuntimeWarning: divide by zero encountered in matmul\n",
      "  ret = a @ b\n",
      "/Users/yudhistiraonggowarsito/Documents/SMU/Courses/CS610 - Applied Machine Learning/Project/aml_project/.venv/lib/python3.12/site-packages/sklearn/utils/extmath.py:203: RuntimeWarning: overflow encountered in matmul\n",
      "  ret = a @ b\n",
      "/Users/yudhistiraonggowarsito/Documents/SMU/Courses/CS610 - Applied Machine Learning/Project/aml_project/.venv/lib/python3.12/site-packages/sklearn/utils/extmath.py:203: RuntimeWarning: invalid value encountered in matmul\n",
      "  ret = a @ b\n",
      "/Users/yudhistiraonggowarsito/Documents/SMU/Courses/CS610 - Applied Machine Learning/Project/aml_project/.venv/lib/python3.12/site-packages/sklearn/utils/extmath.py:203: RuntimeWarning: divide by zero encountered in matmul\n",
      "  ret = a @ b\n",
      "/Users/yudhistiraonggowarsito/Documents/SMU/Courses/CS610 - Applied Machine Learning/Project/aml_project/.venv/lib/python3.12/site-packages/sklearn/utils/extmath.py:203: RuntimeWarning: overflow encountered in matmul\n",
      "  ret = a @ b\n",
      "/Users/yudhistiraonggowarsito/Documents/SMU/Courses/CS610 - Applied Machine Learning/Project/aml_project/.venv/lib/python3.12/site-packages/sklearn/utils/extmath.py:203: RuntimeWarning: invalid value encountered in matmul\n",
      "  ret = a @ b\n"
     ]
    },
    {
     "name": "stdout",
     "output_type": "stream",
     "text": [
      "[Run 1] Iter 23 F1-illicit: 0.4235\n"
     ]
    },
    {
     "name": "stderr",
     "output_type": "stream",
     "text": [
      "/Users/yudhistiraonggowarsito/Documents/SMU/Courses/CS610 - Applied Machine Learning/Project/aml_project/.venv/lib/python3.12/site-packages/sklearn/utils/extmath.py:203: RuntimeWarning: divide by zero encountered in matmul\n",
      "  ret = a @ b\n",
      "/Users/yudhistiraonggowarsito/Documents/SMU/Courses/CS610 - Applied Machine Learning/Project/aml_project/.venv/lib/python3.12/site-packages/sklearn/utils/extmath.py:203: RuntimeWarning: overflow encountered in matmul\n",
      "  ret = a @ b\n",
      "/Users/yudhistiraonggowarsito/Documents/SMU/Courses/CS610 - Applied Machine Learning/Project/aml_project/.venv/lib/python3.12/site-packages/sklearn/utils/extmath.py:203: RuntimeWarning: invalid value encountered in matmul\n",
      "  ret = a @ b\n",
      "/Users/yudhistiraonggowarsito/Documents/SMU/Courses/CS610 - Applied Machine Learning/Project/aml_project/.venv/lib/python3.12/site-packages/sklearn/utils/extmath.py:203: RuntimeWarning: divide by zero encountered in matmul\n",
      "  ret = a @ b\n",
      "/Users/yudhistiraonggowarsito/Documents/SMU/Courses/CS610 - Applied Machine Learning/Project/aml_project/.venv/lib/python3.12/site-packages/sklearn/utils/extmath.py:203: RuntimeWarning: overflow encountered in matmul\n",
      "  ret = a @ b\n",
      "/Users/yudhistiraonggowarsito/Documents/SMU/Courses/CS610 - Applied Machine Learning/Project/aml_project/.venv/lib/python3.12/site-packages/sklearn/utils/extmath.py:203: RuntimeWarning: invalid value encountered in matmul\n",
      "  ret = a @ b\n"
     ]
    },
    {
     "name": "stdout",
     "output_type": "stream",
     "text": [
      "[Run 1] Iter 24 F1-illicit: 0.4162\n"
     ]
    },
    {
     "name": "stderr",
     "output_type": "stream",
     "text": [
      "/Users/yudhistiraonggowarsito/Documents/SMU/Courses/CS610 - Applied Machine Learning/Project/aml_project/.venv/lib/python3.12/site-packages/sklearn/utils/extmath.py:203: RuntimeWarning: divide by zero encountered in matmul\n",
      "  ret = a @ b\n",
      "/Users/yudhistiraonggowarsito/Documents/SMU/Courses/CS610 - Applied Machine Learning/Project/aml_project/.venv/lib/python3.12/site-packages/sklearn/utils/extmath.py:203: RuntimeWarning: overflow encountered in matmul\n",
      "  ret = a @ b\n",
      "/Users/yudhistiraonggowarsito/Documents/SMU/Courses/CS610 - Applied Machine Learning/Project/aml_project/.venv/lib/python3.12/site-packages/sklearn/utils/extmath.py:203: RuntimeWarning: invalid value encountered in matmul\n",
      "  ret = a @ b\n",
      "/Users/yudhistiraonggowarsito/Documents/SMU/Courses/CS610 - Applied Machine Learning/Project/aml_project/.venv/lib/python3.12/site-packages/sklearn/utils/extmath.py:203: RuntimeWarning: divide by zero encountered in matmul\n",
      "  ret = a @ b\n",
      "/Users/yudhistiraonggowarsito/Documents/SMU/Courses/CS610 - Applied Machine Learning/Project/aml_project/.venv/lib/python3.12/site-packages/sklearn/utils/extmath.py:203: RuntimeWarning: overflow encountered in matmul\n",
      "  ret = a @ b\n",
      "/Users/yudhistiraonggowarsito/Documents/SMU/Courses/CS610 - Applied Machine Learning/Project/aml_project/.venv/lib/python3.12/site-packages/sklearn/utils/extmath.py:203: RuntimeWarning: invalid value encountered in matmul\n",
      "  ret = a @ b\n"
     ]
    },
    {
     "name": "stdout",
     "output_type": "stream",
     "text": [
      "[Run 1] Iter 25 F1-illicit: 0.4160\n"
     ]
    },
    {
     "name": "stderr",
     "output_type": "stream",
     "text": [
      "/Users/yudhistiraonggowarsito/Documents/SMU/Courses/CS610 - Applied Machine Learning/Project/aml_project/.venv/lib/python3.12/site-packages/sklearn/utils/extmath.py:203: RuntimeWarning: divide by zero encountered in matmul\n",
      "  ret = a @ b\n",
      "/Users/yudhistiraonggowarsito/Documents/SMU/Courses/CS610 - Applied Machine Learning/Project/aml_project/.venv/lib/python3.12/site-packages/sklearn/utils/extmath.py:203: RuntimeWarning: overflow encountered in matmul\n",
      "  ret = a @ b\n",
      "/Users/yudhistiraonggowarsito/Documents/SMU/Courses/CS610 - Applied Machine Learning/Project/aml_project/.venv/lib/python3.12/site-packages/sklearn/utils/extmath.py:203: RuntimeWarning: invalid value encountered in matmul\n",
      "  ret = a @ b\n",
      "/Users/yudhistiraonggowarsito/Documents/SMU/Courses/CS610 - Applied Machine Learning/Project/aml_project/.venv/lib/python3.12/site-packages/sklearn/utils/extmath.py:203: RuntimeWarning: divide by zero encountered in matmul\n",
      "  ret = a @ b\n",
      "/Users/yudhistiraonggowarsito/Documents/SMU/Courses/CS610 - Applied Machine Learning/Project/aml_project/.venv/lib/python3.12/site-packages/sklearn/utils/extmath.py:203: RuntimeWarning: overflow encountered in matmul\n",
      "  ret = a @ b\n",
      "/Users/yudhistiraonggowarsito/Documents/SMU/Courses/CS610 - Applied Machine Learning/Project/aml_project/.venv/lib/python3.12/site-packages/sklearn/utils/extmath.py:203: RuntimeWarning: invalid value encountered in matmul\n",
      "  ret = a @ b\n"
     ]
    },
    {
     "name": "stdout",
     "output_type": "stream",
     "text": [
      "[Run 1] Iter 26 F1-illicit: 0.4170\n"
     ]
    },
    {
     "name": "stderr",
     "output_type": "stream",
     "text": [
      "/Users/yudhistiraonggowarsito/Documents/SMU/Courses/CS610 - Applied Machine Learning/Project/aml_project/.venv/lib/python3.12/site-packages/sklearn/utils/extmath.py:203: RuntimeWarning: divide by zero encountered in matmul\n",
      "  ret = a @ b\n",
      "/Users/yudhistiraonggowarsito/Documents/SMU/Courses/CS610 - Applied Machine Learning/Project/aml_project/.venv/lib/python3.12/site-packages/sklearn/utils/extmath.py:203: RuntimeWarning: overflow encountered in matmul\n",
      "  ret = a @ b\n",
      "/Users/yudhistiraonggowarsito/Documents/SMU/Courses/CS610 - Applied Machine Learning/Project/aml_project/.venv/lib/python3.12/site-packages/sklearn/utils/extmath.py:203: RuntimeWarning: invalid value encountered in matmul\n",
      "  ret = a @ b\n",
      "/Users/yudhistiraonggowarsito/Documents/SMU/Courses/CS610 - Applied Machine Learning/Project/aml_project/.venv/lib/python3.12/site-packages/sklearn/utils/extmath.py:203: RuntimeWarning: divide by zero encountered in matmul\n",
      "  ret = a @ b\n",
      "/Users/yudhistiraonggowarsito/Documents/SMU/Courses/CS610 - Applied Machine Learning/Project/aml_project/.venv/lib/python3.12/site-packages/sklearn/utils/extmath.py:203: RuntimeWarning: overflow encountered in matmul\n",
      "  ret = a @ b\n",
      "/Users/yudhistiraonggowarsito/Documents/SMU/Courses/CS610 - Applied Machine Learning/Project/aml_project/.venv/lib/python3.12/site-packages/sklearn/utils/extmath.py:203: RuntimeWarning: invalid value encountered in matmul\n",
      "  ret = a @ b\n"
     ]
    },
    {
     "name": "stdout",
     "output_type": "stream",
     "text": [
      "[Run 1] Iter 27 F1-illicit: 0.4153\n"
     ]
    },
    {
     "name": "stderr",
     "output_type": "stream",
     "text": [
      "/Users/yudhistiraonggowarsito/Documents/SMU/Courses/CS610 - Applied Machine Learning/Project/aml_project/.venv/lib/python3.12/site-packages/sklearn/utils/extmath.py:203: RuntimeWarning: divide by zero encountered in matmul\n",
      "  ret = a @ b\n",
      "/Users/yudhistiraonggowarsito/Documents/SMU/Courses/CS610 - Applied Machine Learning/Project/aml_project/.venv/lib/python3.12/site-packages/sklearn/utils/extmath.py:203: RuntimeWarning: overflow encountered in matmul\n",
      "  ret = a @ b\n",
      "/Users/yudhistiraonggowarsito/Documents/SMU/Courses/CS610 - Applied Machine Learning/Project/aml_project/.venv/lib/python3.12/site-packages/sklearn/utils/extmath.py:203: RuntimeWarning: invalid value encountered in matmul\n",
      "  ret = a @ b\n",
      "/Users/yudhistiraonggowarsito/Documents/SMU/Courses/CS610 - Applied Machine Learning/Project/aml_project/.venv/lib/python3.12/site-packages/sklearn/utils/extmath.py:203: RuntimeWarning: divide by zero encountered in matmul\n",
      "  ret = a @ b\n",
      "/Users/yudhistiraonggowarsito/Documents/SMU/Courses/CS610 - Applied Machine Learning/Project/aml_project/.venv/lib/python3.12/site-packages/sklearn/utils/extmath.py:203: RuntimeWarning: overflow encountered in matmul\n",
      "  ret = a @ b\n",
      "/Users/yudhistiraonggowarsito/Documents/SMU/Courses/CS610 - Applied Machine Learning/Project/aml_project/.venv/lib/python3.12/site-packages/sklearn/utils/extmath.py:203: RuntimeWarning: invalid value encountered in matmul\n",
      "  ret = a @ b\n"
     ]
    },
    {
     "name": "stdout",
     "output_type": "stream",
     "text": [
      "[Run 1] Iter 28 F1-illicit: 0.4199\n"
     ]
    },
    {
     "name": "stderr",
     "output_type": "stream",
     "text": [
      "/Users/yudhistiraonggowarsito/Documents/SMU/Courses/CS610 - Applied Machine Learning/Project/aml_project/.venv/lib/python3.12/site-packages/sklearn/utils/extmath.py:203: RuntimeWarning: divide by zero encountered in matmul\n",
      "  ret = a @ b\n",
      "/Users/yudhistiraonggowarsito/Documents/SMU/Courses/CS610 - Applied Machine Learning/Project/aml_project/.venv/lib/python3.12/site-packages/sklearn/utils/extmath.py:203: RuntimeWarning: overflow encountered in matmul\n",
      "  ret = a @ b\n",
      "/Users/yudhistiraonggowarsito/Documents/SMU/Courses/CS610 - Applied Machine Learning/Project/aml_project/.venv/lib/python3.12/site-packages/sklearn/utils/extmath.py:203: RuntimeWarning: invalid value encountered in matmul\n",
      "  ret = a @ b\n",
      "/Users/yudhistiraonggowarsito/Documents/SMU/Courses/CS610 - Applied Machine Learning/Project/aml_project/.venv/lib/python3.12/site-packages/sklearn/utils/extmath.py:203: RuntimeWarning: divide by zero encountered in matmul\n",
      "  ret = a @ b\n",
      "/Users/yudhistiraonggowarsito/Documents/SMU/Courses/CS610 - Applied Machine Learning/Project/aml_project/.venv/lib/python3.12/site-packages/sklearn/utils/extmath.py:203: RuntimeWarning: overflow encountered in matmul\n",
      "  ret = a @ b\n",
      "/Users/yudhistiraonggowarsito/Documents/SMU/Courses/CS610 - Applied Machine Learning/Project/aml_project/.venv/lib/python3.12/site-packages/sklearn/utils/extmath.py:203: RuntimeWarning: invalid value encountered in matmul\n",
      "  ret = a @ b\n"
     ]
    },
    {
     "name": "stdout",
     "output_type": "stream",
     "text": [
      "[Run 1] Iter 29 F1-illicit: 0.4272\n"
     ]
    },
    {
     "name": "stderr",
     "output_type": "stream",
     "text": [
      "/Users/yudhistiraonggowarsito/Documents/SMU/Courses/CS610 - Applied Machine Learning/Project/aml_project/.venv/lib/python3.12/site-packages/sklearn/utils/extmath.py:203: RuntimeWarning: divide by zero encountered in matmul\n",
      "  ret = a @ b\n",
      "/Users/yudhistiraonggowarsito/Documents/SMU/Courses/CS610 - Applied Machine Learning/Project/aml_project/.venv/lib/python3.12/site-packages/sklearn/utils/extmath.py:203: RuntimeWarning: overflow encountered in matmul\n",
      "  ret = a @ b\n",
      "/Users/yudhistiraonggowarsito/Documents/SMU/Courses/CS610 - Applied Machine Learning/Project/aml_project/.venv/lib/python3.12/site-packages/sklearn/utils/extmath.py:203: RuntimeWarning: invalid value encountered in matmul\n",
      "  ret = a @ b\n",
      "/Users/yudhistiraonggowarsito/Documents/SMU/Courses/CS610 - Applied Machine Learning/Project/aml_project/.venv/lib/python3.12/site-packages/sklearn/utils/extmath.py:203: RuntimeWarning: divide by zero encountered in matmul\n",
      "  ret = a @ b\n",
      "/Users/yudhistiraonggowarsito/Documents/SMU/Courses/CS610 - Applied Machine Learning/Project/aml_project/.venv/lib/python3.12/site-packages/sklearn/utils/extmath.py:203: RuntimeWarning: overflow encountered in matmul\n",
      "  ret = a @ b\n",
      "/Users/yudhistiraonggowarsito/Documents/SMU/Courses/CS610 - Applied Machine Learning/Project/aml_project/.venv/lib/python3.12/site-packages/sklearn/utils/extmath.py:203: RuntimeWarning: invalid value encountered in matmul\n",
      "  ret = a @ b\n",
      "/var/folders/2v/617m0pq96qq942zr8nbfyzch0000gn/T/ipykernel_29924/2909400616.py:51: FutureWarning: The behavior of DataFrame concatenation with empty or all-NA entries is deprecated. In a future version, this will no longer exclude empty or all-NA columns when determining the result dtypes. To retain the old behavior, exclude the relevant entries before the concat operation.\n",
      "  labeled_pool = pd.concat([labeled_pool, batch], ignore_index=True)\n",
      "/Users/yudhistiraonggowarsito/Documents/SMU/Courses/CS610 - Applied Machine Learning/Project/aml_project/.venv/lib/python3.12/site-packages/sklearn/utils/extmath.py:203: RuntimeWarning: divide by zero encountered in matmul\n",
      "  ret = a @ b\n",
      "/Users/yudhistiraonggowarsito/Documents/SMU/Courses/CS610 - Applied Machine Learning/Project/aml_project/.venv/lib/python3.12/site-packages/sklearn/utils/extmath.py:203: RuntimeWarning: overflow encountered in matmul\n",
      "  ret = a @ b\n",
      "/Users/yudhistiraonggowarsito/Documents/SMU/Courses/CS610 - Applied Machine Learning/Project/aml_project/.venv/lib/python3.12/site-packages/sklearn/utils/extmath.py:203: RuntimeWarning: invalid value encountered in matmul\n",
      "  ret = a @ b\n",
      "/Users/yudhistiraonggowarsito/Documents/SMU/Courses/CS610 - Applied Machine Learning/Project/aml_project/.venv/lib/python3.12/site-packages/sklearn/utils/extmath.py:203: RuntimeWarning: divide by zero encountered in matmul\n",
      "  ret = a @ b\n",
      "/Users/yudhistiraonggowarsito/Documents/SMU/Courses/CS610 - Applied Machine Learning/Project/aml_project/.venv/lib/python3.12/site-packages/sklearn/utils/extmath.py:203: RuntimeWarning: overflow encountered in matmul\n",
      "  ret = a @ b\n",
      "/Users/yudhistiraonggowarsito/Documents/SMU/Courses/CS610 - Applied Machine Learning/Project/aml_project/.venv/lib/python3.12/site-packages/sklearn/utils/extmath.py:203: RuntimeWarning: invalid value encountered in matmul\n",
      "  ret = a @ b\n"
     ]
    },
    {
     "name": "stdout",
     "output_type": "stream",
     "text": [
      "[Run 1] Iter 30 F1-illicit: 0.4286\n",
      "\n",
      "=== Run 2/5 ===\n",
      "[Run 2] Iter 1 F1-illicit: 0.2232\n"
     ]
    },
    {
     "name": "stderr",
     "output_type": "stream",
     "text": [
      "/Users/yudhistiraonggowarsito/Documents/SMU/Courses/CS610 - Applied Machine Learning/Project/aml_project/.venv/lib/python3.12/site-packages/sklearn/utils/extmath.py:203: RuntimeWarning: divide by zero encountered in matmul\n",
      "  ret = a @ b\n",
      "/Users/yudhistiraonggowarsito/Documents/SMU/Courses/CS610 - Applied Machine Learning/Project/aml_project/.venv/lib/python3.12/site-packages/sklearn/utils/extmath.py:203: RuntimeWarning: overflow encountered in matmul\n",
      "  ret = a @ b\n",
      "/Users/yudhistiraonggowarsito/Documents/SMU/Courses/CS610 - Applied Machine Learning/Project/aml_project/.venv/lib/python3.12/site-packages/sklearn/utils/extmath.py:203: RuntimeWarning: invalid value encountered in matmul\n",
      "  ret = a @ b\n",
      "/Users/yudhistiraonggowarsito/Documents/SMU/Courses/CS610 - Applied Machine Learning/Project/aml_project/.venv/lib/python3.12/site-packages/sklearn/utils/extmath.py:203: RuntimeWarning: divide by zero encountered in matmul\n",
      "  ret = a @ b\n",
      "/Users/yudhistiraonggowarsito/Documents/SMU/Courses/CS610 - Applied Machine Learning/Project/aml_project/.venv/lib/python3.12/site-packages/sklearn/utils/extmath.py:203: RuntimeWarning: overflow encountered in matmul\n",
      "  ret = a @ b\n",
      "/Users/yudhistiraonggowarsito/Documents/SMU/Courses/CS610 - Applied Machine Learning/Project/aml_project/.venv/lib/python3.12/site-packages/sklearn/utils/extmath.py:203: RuntimeWarning: invalid value encountered in matmul\n",
      "  ret = a @ b\n",
      "/Users/yudhistiraonggowarsito/Documents/SMU/Courses/CS610 - Applied Machine Learning/Project/aml_project/.venv/lib/python3.12/site-packages/sklearn/utils/extmath.py:203: RuntimeWarning: divide by zero encountered in matmul\n",
      "  ret = a @ b\n",
      "/Users/yudhistiraonggowarsito/Documents/SMU/Courses/CS610 - Applied Machine Learning/Project/aml_project/.venv/lib/python3.12/site-packages/sklearn/utils/extmath.py:203: RuntimeWarning: overflow encountered in matmul\n",
      "  ret = a @ b\n",
      "/Users/yudhistiraonggowarsito/Documents/SMU/Courses/CS610 - Applied Machine Learning/Project/aml_project/.venv/lib/python3.12/site-packages/sklearn/utils/extmath.py:203: RuntimeWarning: invalid value encountered in matmul\n",
      "  ret = a @ b\n",
      "/Users/yudhistiraonggowarsito/Documents/SMU/Courses/CS610 - Applied Machine Learning/Project/aml_project/.venv/lib/python3.12/site-packages/sklearn/utils/extmath.py:203: RuntimeWarning: divide by zero encountered in matmul\n",
      "  ret = a @ b\n",
      "/Users/yudhistiraonggowarsito/Documents/SMU/Courses/CS610 - Applied Machine Learning/Project/aml_project/.venv/lib/python3.12/site-packages/sklearn/utils/extmath.py:203: RuntimeWarning: overflow encountered in matmul\n",
      "  ret = a @ b\n",
      "/Users/yudhistiraonggowarsito/Documents/SMU/Courses/CS610 - Applied Machine Learning/Project/aml_project/.venv/lib/python3.12/site-packages/sklearn/utils/extmath.py:203: RuntimeWarning: invalid value encountered in matmul\n",
      "  ret = a @ b\n"
     ]
    },
    {
     "name": "stdout",
     "output_type": "stream",
     "text": [
      "[Run 2] Iter 2 F1-illicit: 0.3238\n",
      "[Run 2] Iter 3 F1-illicit: 0.3848\n"
     ]
    },
    {
     "name": "stderr",
     "output_type": "stream",
     "text": [
      "/Users/yudhistiraonggowarsito/Documents/SMU/Courses/CS610 - Applied Machine Learning/Project/aml_project/.venv/lib/python3.12/site-packages/sklearn/utils/extmath.py:203: RuntimeWarning: divide by zero encountered in matmul\n",
      "  ret = a @ b\n",
      "/Users/yudhistiraonggowarsito/Documents/SMU/Courses/CS610 - Applied Machine Learning/Project/aml_project/.venv/lib/python3.12/site-packages/sklearn/utils/extmath.py:203: RuntimeWarning: overflow encountered in matmul\n",
      "  ret = a @ b\n",
      "/Users/yudhistiraonggowarsito/Documents/SMU/Courses/CS610 - Applied Machine Learning/Project/aml_project/.venv/lib/python3.12/site-packages/sklearn/utils/extmath.py:203: RuntimeWarning: invalid value encountered in matmul\n",
      "  ret = a @ b\n",
      "/Users/yudhistiraonggowarsito/Documents/SMU/Courses/CS610 - Applied Machine Learning/Project/aml_project/.venv/lib/python3.12/site-packages/sklearn/utils/extmath.py:203: RuntimeWarning: divide by zero encountered in matmul\n",
      "  ret = a @ b\n",
      "/Users/yudhistiraonggowarsito/Documents/SMU/Courses/CS610 - Applied Machine Learning/Project/aml_project/.venv/lib/python3.12/site-packages/sklearn/utils/extmath.py:203: RuntimeWarning: overflow encountered in matmul\n",
      "  ret = a @ b\n",
      "/Users/yudhistiraonggowarsito/Documents/SMU/Courses/CS610 - Applied Machine Learning/Project/aml_project/.venv/lib/python3.12/site-packages/sklearn/utils/extmath.py:203: RuntimeWarning: invalid value encountered in matmul\n",
      "  ret = a @ b\n",
      "/Users/yudhistiraonggowarsito/Documents/SMU/Courses/CS610 - Applied Machine Learning/Project/aml_project/.venv/lib/python3.12/site-packages/sklearn/utils/extmath.py:203: RuntimeWarning: divide by zero encountered in matmul\n",
      "  ret = a @ b\n",
      "/Users/yudhistiraonggowarsito/Documents/SMU/Courses/CS610 - Applied Machine Learning/Project/aml_project/.venv/lib/python3.12/site-packages/sklearn/utils/extmath.py:203: RuntimeWarning: overflow encountered in matmul\n",
      "  ret = a @ b\n",
      "/Users/yudhistiraonggowarsito/Documents/SMU/Courses/CS610 - Applied Machine Learning/Project/aml_project/.venv/lib/python3.12/site-packages/sklearn/utils/extmath.py:203: RuntimeWarning: invalid value encountered in matmul\n",
      "  ret = a @ b\n",
      "/Users/yudhistiraonggowarsito/Documents/SMU/Courses/CS610 - Applied Machine Learning/Project/aml_project/.venv/lib/python3.12/site-packages/sklearn/utils/extmath.py:203: RuntimeWarning: divide by zero encountered in matmul\n",
      "  ret = a @ b\n",
      "/Users/yudhistiraonggowarsito/Documents/SMU/Courses/CS610 - Applied Machine Learning/Project/aml_project/.venv/lib/python3.12/site-packages/sklearn/utils/extmath.py:203: RuntimeWarning: overflow encountered in matmul\n",
      "  ret = a @ b\n",
      "/Users/yudhistiraonggowarsito/Documents/SMU/Courses/CS610 - Applied Machine Learning/Project/aml_project/.venv/lib/python3.12/site-packages/sklearn/utils/extmath.py:203: RuntimeWarning: invalid value encountered in matmul\n",
      "  ret = a @ b\n"
     ]
    },
    {
     "name": "stdout",
     "output_type": "stream",
     "text": [
      "[Run 2] Iter 4 F1-illicit: 0.4088\n",
      "[Run 2] Iter 5 F1-illicit: 0.5245\n"
     ]
    },
    {
     "name": "stderr",
     "output_type": "stream",
     "text": [
      "/Users/yudhistiraonggowarsito/Documents/SMU/Courses/CS610 - Applied Machine Learning/Project/aml_project/.venv/lib/python3.12/site-packages/sklearn/utils/extmath.py:203: RuntimeWarning: divide by zero encountered in matmul\n",
      "  ret = a @ b\n",
      "/Users/yudhistiraonggowarsito/Documents/SMU/Courses/CS610 - Applied Machine Learning/Project/aml_project/.venv/lib/python3.12/site-packages/sklearn/utils/extmath.py:203: RuntimeWarning: overflow encountered in matmul\n",
      "  ret = a @ b\n",
      "/Users/yudhistiraonggowarsito/Documents/SMU/Courses/CS610 - Applied Machine Learning/Project/aml_project/.venv/lib/python3.12/site-packages/sklearn/utils/extmath.py:203: RuntimeWarning: invalid value encountered in matmul\n",
      "  ret = a @ b\n",
      "/Users/yudhistiraonggowarsito/Documents/SMU/Courses/CS610 - Applied Machine Learning/Project/aml_project/.venv/lib/python3.12/site-packages/sklearn/utils/extmath.py:203: RuntimeWarning: divide by zero encountered in matmul\n",
      "  ret = a @ b\n",
      "/Users/yudhistiraonggowarsito/Documents/SMU/Courses/CS610 - Applied Machine Learning/Project/aml_project/.venv/lib/python3.12/site-packages/sklearn/utils/extmath.py:203: RuntimeWarning: overflow encountered in matmul\n",
      "  ret = a @ b\n",
      "/Users/yudhistiraonggowarsito/Documents/SMU/Courses/CS610 - Applied Machine Learning/Project/aml_project/.venv/lib/python3.12/site-packages/sklearn/utils/extmath.py:203: RuntimeWarning: invalid value encountered in matmul\n",
      "  ret = a @ b\n"
     ]
    },
    {
     "name": "stdout",
     "output_type": "stream",
     "text": [
      "[Run 2] Iter 6 F1-illicit: 0.5784\n"
     ]
    },
    {
     "name": "stderr",
     "output_type": "stream",
     "text": [
      "/Users/yudhistiraonggowarsito/Documents/SMU/Courses/CS610 - Applied Machine Learning/Project/aml_project/.venv/lib/python3.12/site-packages/sklearn/utils/extmath.py:203: RuntimeWarning: divide by zero encountered in matmul\n",
      "  ret = a @ b\n",
      "/Users/yudhistiraonggowarsito/Documents/SMU/Courses/CS610 - Applied Machine Learning/Project/aml_project/.venv/lib/python3.12/site-packages/sklearn/utils/extmath.py:203: RuntimeWarning: overflow encountered in matmul\n",
      "  ret = a @ b\n",
      "/Users/yudhistiraonggowarsito/Documents/SMU/Courses/CS610 - Applied Machine Learning/Project/aml_project/.venv/lib/python3.12/site-packages/sklearn/utils/extmath.py:203: RuntimeWarning: invalid value encountered in matmul\n",
      "  ret = a @ b\n",
      "/Users/yudhistiraonggowarsito/Documents/SMU/Courses/CS610 - Applied Machine Learning/Project/aml_project/.venv/lib/python3.12/site-packages/sklearn/utils/extmath.py:203: RuntimeWarning: divide by zero encountered in matmul\n",
      "  ret = a @ b\n",
      "/Users/yudhistiraonggowarsito/Documents/SMU/Courses/CS610 - Applied Machine Learning/Project/aml_project/.venv/lib/python3.12/site-packages/sklearn/utils/extmath.py:203: RuntimeWarning: overflow encountered in matmul\n",
      "  ret = a @ b\n",
      "/Users/yudhistiraonggowarsito/Documents/SMU/Courses/CS610 - Applied Machine Learning/Project/aml_project/.venv/lib/python3.12/site-packages/sklearn/utils/extmath.py:203: RuntimeWarning: invalid value encountered in matmul\n",
      "  ret = a @ b\n"
     ]
    },
    {
     "name": "stdout",
     "output_type": "stream",
     "text": [
      "[Run 2] Iter 7 F1-illicit: 0.6010\n"
     ]
    },
    {
     "name": "stderr",
     "output_type": "stream",
     "text": [
      "/Users/yudhistiraonggowarsito/Documents/SMU/Courses/CS610 - Applied Machine Learning/Project/aml_project/.venv/lib/python3.12/site-packages/sklearn/utils/extmath.py:203: RuntimeWarning: divide by zero encountered in matmul\n",
      "  ret = a @ b\n",
      "/Users/yudhistiraonggowarsito/Documents/SMU/Courses/CS610 - Applied Machine Learning/Project/aml_project/.venv/lib/python3.12/site-packages/sklearn/utils/extmath.py:203: RuntimeWarning: overflow encountered in matmul\n",
      "  ret = a @ b\n",
      "/Users/yudhistiraonggowarsito/Documents/SMU/Courses/CS610 - Applied Machine Learning/Project/aml_project/.venv/lib/python3.12/site-packages/sklearn/utils/extmath.py:203: RuntimeWarning: invalid value encountered in matmul\n",
      "  ret = a @ b\n",
      "/Users/yudhistiraonggowarsito/Documents/SMU/Courses/CS610 - Applied Machine Learning/Project/aml_project/.venv/lib/python3.12/site-packages/sklearn/utils/extmath.py:203: RuntimeWarning: divide by zero encountered in matmul\n",
      "  ret = a @ b\n",
      "/Users/yudhistiraonggowarsito/Documents/SMU/Courses/CS610 - Applied Machine Learning/Project/aml_project/.venv/lib/python3.12/site-packages/sklearn/utils/extmath.py:203: RuntimeWarning: overflow encountered in matmul\n",
      "  ret = a @ b\n",
      "/Users/yudhistiraonggowarsito/Documents/SMU/Courses/CS610 - Applied Machine Learning/Project/aml_project/.venv/lib/python3.12/site-packages/sklearn/utils/extmath.py:203: RuntimeWarning: invalid value encountered in matmul\n",
      "  ret = a @ b\n"
     ]
    },
    {
     "name": "stdout",
     "output_type": "stream",
     "text": [
      "[Run 2] Iter 8 F1-illicit: 0.6003\n"
     ]
    },
    {
     "name": "stderr",
     "output_type": "stream",
     "text": [
      "/Users/yudhistiraonggowarsito/Documents/SMU/Courses/CS610 - Applied Machine Learning/Project/aml_project/.venv/lib/python3.12/site-packages/sklearn/utils/extmath.py:203: RuntimeWarning: divide by zero encountered in matmul\n",
      "  ret = a @ b\n",
      "/Users/yudhistiraonggowarsito/Documents/SMU/Courses/CS610 - Applied Machine Learning/Project/aml_project/.venv/lib/python3.12/site-packages/sklearn/utils/extmath.py:203: RuntimeWarning: overflow encountered in matmul\n",
      "  ret = a @ b\n",
      "/Users/yudhistiraonggowarsito/Documents/SMU/Courses/CS610 - Applied Machine Learning/Project/aml_project/.venv/lib/python3.12/site-packages/sklearn/utils/extmath.py:203: RuntimeWarning: invalid value encountered in matmul\n",
      "  ret = a @ b\n",
      "/Users/yudhistiraonggowarsito/Documents/SMU/Courses/CS610 - Applied Machine Learning/Project/aml_project/.venv/lib/python3.12/site-packages/sklearn/utils/extmath.py:203: RuntimeWarning: divide by zero encountered in matmul\n",
      "  ret = a @ b\n",
      "/Users/yudhistiraonggowarsito/Documents/SMU/Courses/CS610 - Applied Machine Learning/Project/aml_project/.venv/lib/python3.12/site-packages/sklearn/utils/extmath.py:203: RuntimeWarning: overflow encountered in matmul\n",
      "  ret = a @ b\n",
      "/Users/yudhistiraonggowarsito/Documents/SMU/Courses/CS610 - Applied Machine Learning/Project/aml_project/.venv/lib/python3.12/site-packages/sklearn/utils/extmath.py:203: RuntimeWarning: invalid value encountered in matmul\n",
      "  ret = a @ b\n"
     ]
    },
    {
     "name": "stdout",
     "output_type": "stream",
     "text": [
      "[Run 2] Iter 9 F1-illicit: 0.5828\n"
     ]
    },
    {
     "name": "stderr",
     "output_type": "stream",
     "text": [
      "/Users/yudhistiraonggowarsito/Documents/SMU/Courses/CS610 - Applied Machine Learning/Project/aml_project/.venv/lib/python3.12/site-packages/sklearn/utils/extmath.py:203: RuntimeWarning: divide by zero encountered in matmul\n",
      "  ret = a @ b\n",
      "/Users/yudhistiraonggowarsito/Documents/SMU/Courses/CS610 - Applied Machine Learning/Project/aml_project/.venv/lib/python3.12/site-packages/sklearn/utils/extmath.py:203: RuntimeWarning: overflow encountered in matmul\n",
      "  ret = a @ b\n",
      "/Users/yudhistiraonggowarsito/Documents/SMU/Courses/CS610 - Applied Machine Learning/Project/aml_project/.venv/lib/python3.12/site-packages/sklearn/utils/extmath.py:203: RuntimeWarning: invalid value encountered in matmul\n",
      "  ret = a @ b\n",
      "/Users/yudhistiraonggowarsito/Documents/SMU/Courses/CS610 - Applied Machine Learning/Project/aml_project/.venv/lib/python3.12/site-packages/sklearn/utils/extmath.py:203: RuntimeWarning: divide by zero encountered in matmul\n",
      "  ret = a @ b\n",
      "/Users/yudhistiraonggowarsito/Documents/SMU/Courses/CS610 - Applied Machine Learning/Project/aml_project/.venv/lib/python3.12/site-packages/sklearn/utils/extmath.py:203: RuntimeWarning: overflow encountered in matmul\n",
      "  ret = a @ b\n",
      "/Users/yudhistiraonggowarsito/Documents/SMU/Courses/CS610 - Applied Machine Learning/Project/aml_project/.venv/lib/python3.12/site-packages/sklearn/utils/extmath.py:203: RuntimeWarning: invalid value encountered in matmul\n",
      "  ret = a @ b\n"
     ]
    },
    {
     "name": "stdout",
     "output_type": "stream",
     "text": [
      "[Run 2] Iter 10 F1-illicit: 0.5690\n"
     ]
    },
    {
     "name": "stderr",
     "output_type": "stream",
     "text": [
      "/Users/yudhistiraonggowarsito/Documents/SMU/Courses/CS610 - Applied Machine Learning/Project/aml_project/.venv/lib/python3.12/site-packages/sklearn/utils/extmath.py:203: RuntimeWarning: divide by zero encountered in matmul\n",
      "  ret = a @ b\n",
      "/Users/yudhistiraonggowarsito/Documents/SMU/Courses/CS610 - Applied Machine Learning/Project/aml_project/.venv/lib/python3.12/site-packages/sklearn/utils/extmath.py:203: RuntimeWarning: overflow encountered in matmul\n",
      "  ret = a @ b\n",
      "/Users/yudhistiraonggowarsito/Documents/SMU/Courses/CS610 - Applied Machine Learning/Project/aml_project/.venv/lib/python3.12/site-packages/sklearn/utils/extmath.py:203: RuntimeWarning: invalid value encountered in matmul\n",
      "  ret = a @ b\n",
      "/Users/yudhistiraonggowarsito/Documents/SMU/Courses/CS610 - Applied Machine Learning/Project/aml_project/.venv/lib/python3.12/site-packages/sklearn/utils/extmath.py:203: RuntimeWarning: divide by zero encountered in matmul\n",
      "  ret = a @ b\n",
      "/Users/yudhistiraonggowarsito/Documents/SMU/Courses/CS610 - Applied Machine Learning/Project/aml_project/.venv/lib/python3.12/site-packages/sklearn/utils/extmath.py:203: RuntimeWarning: overflow encountered in matmul\n",
      "  ret = a @ b\n",
      "/Users/yudhistiraonggowarsito/Documents/SMU/Courses/CS610 - Applied Machine Learning/Project/aml_project/.venv/lib/python3.12/site-packages/sklearn/utils/extmath.py:203: RuntimeWarning: invalid value encountered in matmul\n",
      "  ret = a @ b\n"
     ]
    },
    {
     "name": "stdout",
     "output_type": "stream",
     "text": [
      "[Run 2] Iter 11 F1-illicit: 0.5624\n"
     ]
    },
    {
     "name": "stderr",
     "output_type": "stream",
     "text": [
      "/Users/yudhistiraonggowarsito/Documents/SMU/Courses/CS610 - Applied Machine Learning/Project/aml_project/.venv/lib/python3.12/site-packages/sklearn/utils/extmath.py:203: RuntimeWarning: divide by zero encountered in matmul\n",
      "  ret = a @ b\n",
      "/Users/yudhistiraonggowarsito/Documents/SMU/Courses/CS610 - Applied Machine Learning/Project/aml_project/.venv/lib/python3.12/site-packages/sklearn/utils/extmath.py:203: RuntimeWarning: overflow encountered in matmul\n",
      "  ret = a @ b\n",
      "/Users/yudhistiraonggowarsito/Documents/SMU/Courses/CS610 - Applied Machine Learning/Project/aml_project/.venv/lib/python3.12/site-packages/sklearn/utils/extmath.py:203: RuntimeWarning: invalid value encountered in matmul\n",
      "  ret = a @ b\n",
      "/Users/yudhistiraonggowarsito/Documents/SMU/Courses/CS610 - Applied Machine Learning/Project/aml_project/.venv/lib/python3.12/site-packages/sklearn/utils/extmath.py:203: RuntimeWarning: divide by zero encountered in matmul\n",
      "  ret = a @ b\n",
      "/Users/yudhistiraonggowarsito/Documents/SMU/Courses/CS610 - Applied Machine Learning/Project/aml_project/.venv/lib/python3.12/site-packages/sklearn/utils/extmath.py:203: RuntimeWarning: overflow encountered in matmul\n",
      "  ret = a @ b\n",
      "/Users/yudhistiraonggowarsito/Documents/SMU/Courses/CS610 - Applied Machine Learning/Project/aml_project/.venv/lib/python3.12/site-packages/sklearn/utils/extmath.py:203: RuntimeWarning: invalid value encountered in matmul\n",
      "  ret = a @ b\n"
     ]
    },
    {
     "name": "stdout",
     "output_type": "stream",
     "text": [
      "[Run 2] Iter 12 F1-illicit: 0.5605\n"
     ]
    },
    {
     "name": "stderr",
     "output_type": "stream",
     "text": [
      "/Users/yudhistiraonggowarsito/Documents/SMU/Courses/CS610 - Applied Machine Learning/Project/aml_project/.venv/lib/python3.12/site-packages/sklearn/utils/extmath.py:203: RuntimeWarning: divide by zero encountered in matmul\n",
      "  ret = a @ b\n",
      "/Users/yudhistiraonggowarsito/Documents/SMU/Courses/CS610 - Applied Machine Learning/Project/aml_project/.venv/lib/python3.12/site-packages/sklearn/utils/extmath.py:203: RuntimeWarning: overflow encountered in matmul\n",
      "  ret = a @ b\n",
      "/Users/yudhistiraonggowarsito/Documents/SMU/Courses/CS610 - Applied Machine Learning/Project/aml_project/.venv/lib/python3.12/site-packages/sklearn/utils/extmath.py:203: RuntimeWarning: invalid value encountered in matmul\n",
      "  ret = a @ b\n",
      "/Users/yudhistiraonggowarsito/Documents/SMU/Courses/CS610 - Applied Machine Learning/Project/aml_project/.venv/lib/python3.12/site-packages/sklearn/utils/extmath.py:203: RuntimeWarning: divide by zero encountered in matmul\n",
      "  ret = a @ b\n",
      "/Users/yudhistiraonggowarsito/Documents/SMU/Courses/CS610 - Applied Machine Learning/Project/aml_project/.venv/lib/python3.12/site-packages/sklearn/utils/extmath.py:203: RuntimeWarning: overflow encountered in matmul\n",
      "  ret = a @ b\n",
      "/Users/yudhistiraonggowarsito/Documents/SMU/Courses/CS610 - Applied Machine Learning/Project/aml_project/.venv/lib/python3.12/site-packages/sklearn/utils/extmath.py:203: RuntimeWarning: invalid value encountered in matmul\n",
      "  ret = a @ b\n"
     ]
    },
    {
     "name": "stdout",
     "output_type": "stream",
     "text": [
      "[Run 2] Iter 13 F1-illicit: 0.5503\n"
     ]
    },
    {
     "name": "stderr",
     "output_type": "stream",
     "text": [
      "/Users/yudhistiraonggowarsito/Documents/SMU/Courses/CS610 - Applied Machine Learning/Project/aml_project/.venv/lib/python3.12/site-packages/sklearn/utils/extmath.py:203: RuntimeWarning: divide by zero encountered in matmul\n",
      "  ret = a @ b\n",
      "/Users/yudhistiraonggowarsito/Documents/SMU/Courses/CS610 - Applied Machine Learning/Project/aml_project/.venv/lib/python3.12/site-packages/sklearn/utils/extmath.py:203: RuntimeWarning: overflow encountered in matmul\n",
      "  ret = a @ b\n",
      "/Users/yudhistiraonggowarsito/Documents/SMU/Courses/CS610 - Applied Machine Learning/Project/aml_project/.venv/lib/python3.12/site-packages/sklearn/utils/extmath.py:203: RuntimeWarning: invalid value encountered in matmul\n",
      "  ret = a @ b\n",
      "/Users/yudhistiraonggowarsito/Documents/SMU/Courses/CS610 - Applied Machine Learning/Project/aml_project/.venv/lib/python3.12/site-packages/sklearn/utils/extmath.py:203: RuntimeWarning: divide by zero encountered in matmul\n",
      "  ret = a @ b\n",
      "/Users/yudhistiraonggowarsito/Documents/SMU/Courses/CS610 - Applied Machine Learning/Project/aml_project/.venv/lib/python3.12/site-packages/sklearn/utils/extmath.py:203: RuntimeWarning: overflow encountered in matmul\n",
      "  ret = a @ b\n",
      "/Users/yudhistiraonggowarsito/Documents/SMU/Courses/CS610 - Applied Machine Learning/Project/aml_project/.venv/lib/python3.12/site-packages/sklearn/utils/extmath.py:203: RuntimeWarning: invalid value encountered in matmul\n",
      "  ret = a @ b\n"
     ]
    },
    {
     "name": "stdout",
     "output_type": "stream",
     "text": [
      "[Run 2] Iter 14 F1-illicit: 0.5297\n"
     ]
    },
    {
     "name": "stderr",
     "output_type": "stream",
     "text": [
      "/Users/yudhistiraonggowarsito/Documents/SMU/Courses/CS610 - Applied Machine Learning/Project/aml_project/.venv/lib/python3.12/site-packages/sklearn/utils/extmath.py:203: RuntimeWarning: divide by zero encountered in matmul\n",
      "  ret = a @ b\n",
      "/Users/yudhistiraonggowarsito/Documents/SMU/Courses/CS610 - Applied Machine Learning/Project/aml_project/.venv/lib/python3.12/site-packages/sklearn/utils/extmath.py:203: RuntimeWarning: overflow encountered in matmul\n",
      "  ret = a @ b\n",
      "/Users/yudhistiraonggowarsito/Documents/SMU/Courses/CS610 - Applied Machine Learning/Project/aml_project/.venv/lib/python3.12/site-packages/sklearn/utils/extmath.py:203: RuntimeWarning: invalid value encountered in matmul\n",
      "  ret = a @ b\n",
      "/Users/yudhistiraonggowarsito/Documents/SMU/Courses/CS610 - Applied Machine Learning/Project/aml_project/.venv/lib/python3.12/site-packages/sklearn/utils/extmath.py:203: RuntimeWarning: divide by zero encountered in matmul\n",
      "  ret = a @ b\n",
      "/Users/yudhistiraonggowarsito/Documents/SMU/Courses/CS610 - Applied Machine Learning/Project/aml_project/.venv/lib/python3.12/site-packages/sklearn/utils/extmath.py:203: RuntimeWarning: overflow encountered in matmul\n",
      "  ret = a @ b\n",
      "/Users/yudhistiraonggowarsito/Documents/SMU/Courses/CS610 - Applied Machine Learning/Project/aml_project/.venv/lib/python3.12/site-packages/sklearn/utils/extmath.py:203: RuntimeWarning: invalid value encountered in matmul\n",
      "  ret = a @ b\n"
     ]
    },
    {
     "name": "stdout",
     "output_type": "stream",
     "text": [
      "[Run 2] Iter 15 F1-illicit: 0.5194\n"
     ]
    },
    {
     "name": "stderr",
     "output_type": "stream",
     "text": [
      "/Users/yudhistiraonggowarsito/Documents/SMU/Courses/CS610 - Applied Machine Learning/Project/aml_project/.venv/lib/python3.12/site-packages/sklearn/utils/extmath.py:203: RuntimeWarning: divide by zero encountered in matmul\n",
      "  ret = a @ b\n",
      "/Users/yudhistiraonggowarsito/Documents/SMU/Courses/CS610 - Applied Machine Learning/Project/aml_project/.venv/lib/python3.12/site-packages/sklearn/utils/extmath.py:203: RuntimeWarning: overflow encountered in matmul\n",
      "  ret = a @ b\n",
      "/Users/yudhistiraonggowarsito/Documents/SMU/Courses/CS610 - Applied Machine Learning/Project/aml_project/.venv/lib/python3.12/site-packages/sklearn/utils/extmath.py:203: RuntimeWarning: invalid value encountered in matmul\n",
      "  ret = a @ b\n",
      "/Users/yudhistiraonggowarsito/Documents/SMU/Courses/CS610 - Applied Machine Learning/Project/aml_project/.venv/lib/python3.12/site-packages/sklearn/utils/extmath.py:203: RuntimeWarning: divide by zero encountered in matmul\n",
      "  ret = a @ b\n",
      "/Users/yudhistiraonggowarsito/Documents/SMU/Courses/CS610 - Applied Machine Learning/Project/aml_project/.venv/lib/python3.12/site-packages/sklearn/utils/extmath.py:203: RuntimeWarning: overflow encountered in matmul\n",
      "  ret = a @ b\n",
      "/Users/yudhistiraonggowarsito/Documents/SMU/Courses/CS610 - Applied Machine Learning/Project/aml_project/.venv/lib/python3.12/site-packages/sklearn/utils/extmath.py:203: RuntimeWarning: invalid value encountered in matmul\n",
      "  ret = a @ b\n"
     ]
    },
    {
     "name": "stdout",
     "output_type": "stream",
     "text": [
      "[Run 2] Iter 16 F1-illicit: 0.5100\n"
     ]
    },
    {
     "name": "stderr",
     "output_type": "stream",
     "text": [
      "/Users/yudhistiraonggowarsito/Documents/SMU/Courses/CS610 - Applied Machine Learning/Project/aml_project/.venv/lib/python3.12/site-packages/sklearn/utils/extmath.py:203: RuntimeWarning: divide by zero encountered in matmul\n",
      "  ret = a @ b\n",
      "/Users/yudhistiraonggowarsito/Documents/SMU/Courses/CS610 - Applied Machine Learning/Project/aml_project/.venv/lib/python3.12/site-packages/sklearn/utils/extmath.py:203: RuntimeWarning: overflow encountered in matmul\n",
      "  ret = a @ b\n",
      "/Users/yudhistiraonggowarsito/Documents/SMU/Courses/CS610 - Applied Machine Learning/Project/aml_project/.venv/lib/python3.12/site-packages/sklearn/utils/extmath.py:203: RuntimeWarning: invalid value encountered in matmul\n",
      "  ret = a @ b\n",
      "/Users/yudhistiraonggowarsito/Documents/SMU/Courses/CS610 - Applied Machine Learning/Project/aml_project/.venv/lib/python3.12/site-packages/sklearn/utils/extmath.py:203: RuntimeWarning: divide by zero encountered in matmul\n",
      "  ret = a @ b\n",
      "/Users/yudhistiraonggowarsito/Documents/SMU/Courses/CS610 - Applied Machine Learning/Project/aml_project/.venv/lib/python3.12/site-packages/sklearn/utils/extmath.py:203: RuntimeWarning: overflow encountered in matmul\n",
      "  ret = a @ b\n",
      "/Users/yudhistiraonggowarsito/Documents/SMU/Courses/CS610 - Applied Machine Learning/Project/aml_project/.venv/lib/python3.12/site-packages/sklearn/utils/extmath.py:203: RuntimeWarning: invalid value encountered in matmul\n",
      "  ret = a @ b\n"
     ]
    },
    {
     "name": "stdout",
     "output_type": "stream",
     "text": [
      "[Run 2] Iter 17 F1-illicit: 0.5064\n"
     ]
    },
    {
     "name": "stderr",
     "output_type": "stream",
     "text": [
      "/Users/yudhistiraonggowarsito/Documents/SMU/Courses/CS610 - Applied Machine Learning/Project/aml_project/.venv/lib/python3.12/site-packages/sklearn/utils/extmath.py:203: RuntimeWarning: divide by zero encountered in matmul\n",
      "  ret = a @ b\n",
      "/Users/yudhistiraonggowarsito/Documents/SMU/Courses/CS610 - Applied Machine Learning/Project/aml_project/.venv/lib/python3.12/site-packages/sklearn/utils/extmath.py:203: RuntimeWarning: overflow encountered in matmul\n",
      "  ret = a @ b\n",
      "/Users/yudhistiraonggowarsito/Documents/SMU/Courses/CS610 - Applied Machine Learning/Project/aml_project/.venv/lib/python3.12/site-packages/sklearn/utils/extmath.py:203: RuntimeWarning: invalid value encountered in matmul\n",
      "  ret = a @ b\n",
      "/Users/yudhistiraonggowarsito/Documents/SMU/Courses/CS610 - Applied Machine Learning/Project/aml_project/.venv/lib/python3.12/site-packages/sklearn/utils/extmath.py:203: RuntimeWarning: divide by zero encountered in matmul\n",
      "  ret = a @ b\n",
      "/Users/yudhistiraonggowarsito/Documents/SMU/Courses/CS610 - Applied Machine Learning/Project/aml_project/.venv/lib/python3.12/site-packages/sklearn/utils/extmath.py:203: RuntimeWarning: overflow encountered in matmul\n",
      "  ret = a @ b\n",
      "/Users/yudhistiraonggowarsito/Documents/SMU/Courses/CS610 - Applied Machine Learning/Project/aml_project/.venv/lib/python3.12/site-packages/sklearn/utils/extmath.py:203: RuntimeWarning: invalid value encountered in matmul\n",
      "  ret = a @ b\n"
     ]
    },
    {
     "name": "stdout",
     "output_type": "stream",
     "text": [
      "[Run 2] Iter 18 F1-illicit: 0.5064\n"
     ]
    },
    {
     "name": "stderr",
     "output_type": "stream",
     "text": [
      "/Users/yudhistiraonggowarsito/Documents/SMU/Courses/CS610 - Applied Machine Learning/Project/aml_project/.venv/lib/python3.12/site-packages/sklearn/utils/extmath.py:203: RuntimeWarning: divide by zero encountered in matmul\n",
      "  ret = a @ b\n",
      "/Users/yudhistiraonggowarsito/Documents/SMU/Courses/CS610 - Applied Machine Learning/Project/aml_project/.venv/lib/python3.12/site-packages/sklearn/utils/extmath.py:203: RuntimeWarning: overflow encountered in matmul\n",
      "  ret = a @ b\n",
      "/Users/yudhistiraonggowarsito/Documents/SMU/Courses/CS610 - Applied Machine Learning/Project/aml_project/.venv/lib/python3.12/site-packages/sklearn/utils/extmath.py:203: RuntimeWarning: invalid value encountered in matmul\n",
      "  ret = a @ b\n",
      "/Users/yudhistiraonggowarsito/Documents/SMU/Courses/CS610 - Applied Machine Learning/Project/aml_project/.venv/lib/python3.12/site-packages/sklearn/utils/extmath.py:203: RuntimeWarning: divide by zero encountered in matmul\n",
      "  ret = a @ b\n",
      "/Users/yudhistiraonggowarsito/Documents/SMU/Courses/CS610 - Applied Machine Learning/Project/aml_project/.venv/lib/python3.12/site-packages/sklearn/utils/extmath.py:203: RuntimeWarning: overflow encountered in matmul\n",
      "  ret = a @ b\n",
      "/Users/yudhistiraonggowarsito/Documents/SMU/Courses/CS610 - Applied Machine Learning/Project/aml_project/.venv/lib/python3.12/site-packages/sklearn/utils/extmath.py:203: RuntimeWarning: invalid value encountered in matmul\n",
      "  ret = a @ b\n"
     ]
    },
    {
     "name": "stdout",
     "output_type": "stream",
     "text": [
      "[Run 2] Iter 19 F1-illicit: 0.5036\n"
     ]
    },
    {
     "name": "stderr",
     "output_type": "stream",
     "text": [
      "/Users/yudhistiraonggowarsito/Documents/SMU/Courses/CS610 - Applied Machine Learning/Project/aml_project/.venv/lib/python3.12/site-packages/sklearn/utils/extmath.py:203: RuntimeWarning: divide by zero encountered in matmul\n",
      "  ret = a @ b\n",
      "/Users/yudhistiraonggowarsito/Documents/SMU/Courses/CS610 - Applied Machine Learning/Project/aml_project/.venv/lib/python3.12/site-packages/sklearn/utils/extmath.py:203: RuntimeWarning: overflow encountered in matmul\n",
      "  ret = a @ b\n",
      "/Users/yudhistiraonggowarsito/Documents/SMU/Courses/CS610 - Applied Machine Learning/Project/aml_project/.venv/lib/python3.12/site-packages/sklearn/utils/extmath.py:203: RuntimeWarning: invalid value encountered in matmul\n",
      "  ret = a @ b\n",
      "/Users/yudhistiraonggowarsito/Documents/SMU/Courses/CS610 - Applied Machine Learning/Project/aml_project/.venv/lib/python3.12/site-packages/sklearn/utils/extmath.py:203: RuntimeWarning: divide by zero encountered in matmul\n",
      "  ret = a @ b\n",
      "/Users/yudhistiraonggowarsito/Documents/SMU/Courses/CS610 - Applied Machine Learning/Project/aml_project/.venv/lib/python3.12/site-packages/sklearn/utils/extmath.py:203: RuntimeWarning: overflow encountered in matmul\n",
      "  ret = a @ b\n",
      "/Users/yudhistiraonggowarsito/Documents/SMU/Courses/CS610 - Applied Machine Learning/Project/aml_project/.venv/lib/python3.12/site-packages/sklearn/utils/extmath.py:203: RuntimeWarning: invalid value encountered in matmul\n",
      "  ret = a @ b\n"
     ]
    },
    {
     "name": "stdout",
     "output_type": "stream",
     "text": [
      "[Run 2] Iter 20 F1-illicit: 0.5091\n"
     ]
    },
    {
     "name": "stderr",
     "output_type": "stream",
     "text": [
      "/Users/yudhistiraonggowarsito/Documents/SMU/Courses/CS610 - Applied Machine Learning/Project/aml_project/.venv/lib/python3.12/site-packages/sklearn/utils/extmath.py:203: RuntimeWarning: divide by zero encountered in matmul\n",
      "  ret = a @ b\n",
      "/Users/yudhistiraonggowarsito/Documents/SMU/Courses/CS610 - Applied Machine Learning/Project/aml_project/.venv/lib/python3.12/site-packages/sklearn/utils/extmath.py:203: RuntimeWarning: overflow encountered in matmul\n",
      "  ret = a @ b\n",
      "/Users/yudhistiraonggowarsito/Documents/SMU/Courses/CS610 - Applied Machine Learning/Project/aml_project/.venv/lib/python3.12/site-packages/sklearn/utils/extmath.py:203: RuntimeWarning: invalid value encountered in matmul\n",
      "  ret = a @ b\n",
      "/Users/yudhistiraonggowarsito/Documents/SMU/Courses/CS610 - Applied Machine Learning/Project/aml_project/.venv/lib/python3.12/site-packages/sklearn/utils/extmath.py:203: RuntimeWarning: divide by zero encountered in matmul\n",
      "  ret = a @ b\n",
      "/Users/yudhistiraonggowarsito/Documents/SMU/Courses/CS610 - Applied Machine Learning/Project/aml_project/.venv/lib/python3.12/site-packages/sklearn/utils/extmath.py:203: RuntimeWarning: overflow encountered in matmul\n",
      "  ret = a @ b\n",
      "/Users/yudhistiraonggowarsito/Documents/SMU/Courses/CS610 - Applied Machine Learning/Project/aml_project/.venv/lib/python3.12/site-packages/sklearn/utils/extmath.py:203: RuntimeWarning: invalid value encountered in matmul\n",
      "  ret = a @ b\n"
     ]
    },
    {
     "name": "stdout",
     "output_type": "stream",
     "text": [
      "[Run 2] Iter 21 F1-illicit: 0.5059\n"
     ]
    },
    {
     "name": "stderr",
     "output_type": "stream",
     "text": [
      "/Users/yudhistiraonggowarsito/Documents/SMU/Courses/CS610 - Applied Machine Learning/Project/aml_project/.venv/lib/python3.12/site-packages/sklearn/utils/extmath.py:203: RuntimeWarning: divide by zero encountered in matmul\n",
      "  ret = a @ b\n",
      "/Users/yudhistiraonggowarsito/Documents/SMU/Courses/CS610 - Applied Machine Learning/Project/aml_project/.venv/lib/python3.12/site-packages/sklearn/utils/extmath.py:203: RuntimeWarning: overflow encountered in matmul\n",
      "  ret = a @ b\n",
      "/Users/yudhistiraonggowarsito/Documents/SMU/Courses/CS610 - Applied Machine Learning/Project/aml_project/.venv/lib/python3.12/site-packages/sklearn/utils/extmath.py:203: RuntimeWarning: invalid value encountered in matmul\n",
      "  ret = a @ b\n",
      "/Users/yudhistiraonggowarsito/Documents/SMU/Courses/CS610 - Applied Machine Learning/Project/aml_project/.venv/lib/python3.12/site-packages/sklearn/utils/extmath.py:203: RuntimeWarning: divide by zero encountered in matmul\n",
      "  ret = a @ b\n",
      "/Users/yudhistiraonggowarsito/Documents/SMU/Courses/CS610 - Applied Machine Learning/Project/aml_project/.venv/lib/python3.12/site-packages/sklearn/utils/extmath.py:203: RuntimeWarning: overflow encountered in matmul\n",
      "  ret = a @ b\n",
      "/Users/yudhistiraonggowarsito/Documents/SMU/Courses/CS610 - Applied Machine Learning/Project/aml_project/.venv/lib/python3.12/site-packages/sklearn/utils/extmath.py:203: RuntimeWarning: invalid value encountered in matmul\n",
      "  ret = a @ b\n"
     ]
    },
    {
     "name": "stdout",
     "output_type": "stream",
     "text": [
      "[Run 2] Iter 22 F1-illicit: 0.5041\n"
     ]
    },
    {
     "name": "stderr",
     "output_type": "stream",
     "text": [
      "/Users/yudhistiraonggowarsito/Documents/SMU/Courses/CS610 - Applied Machine Learning/Project/aml_project/.venv/lib/python3.12/site-packages/sklearn/utils/extmath.py:203: RuntimeWarning: divide by zero encountered in matmul\n",
      "  ret = a @ b\n",
      "/Users/yudhistiraonggowarsito/Documents/SMU/Courses/CS610 - Applied Machine Learning/Project/aml_project/.venv/lib/python3.12/site-packages/sklearn/utils/extmath.py:203: RuntimeWarning: overflow encountered in matmul\n",
      "  ret = a @ b\n",
      "/Users/yudhistiraonggowarsito/Documents/SMU/Courses/CS610 - Applied Machine Learning/Project/aml_project/.venv/lib/python3.12/site-packages/sklearn/utils/extmath.py:203: RuntimeWarning: invalid value encountered in matmul\n",
      "  ret = a @ b\n",
      "/Users/yudhistiraonggowarsito/Documents/SMU/Courses/CS610 - Applied Machine Learning/Project/aml_project/.venv/lib/python3.12/site-packages/sklearn/utils/extmath.py:203: RuntimeWarning: divide by zero encountered in matmul\n",
      "  ret = a @ b\n",
      "/Users/yudhistiraonggowarsito/Documents/SMU/Courses/CS610 - Applied Machine Learning/Project/aml_project/.venv/lib/python3.12/site-packages/sklearn/utils/extmath.py:203: RuntimeWarning: overflow encountered in matmul\n",
      "  ret = a @ b\n",
      "/Users/yudhistiraonggowarsito/Documents/SMU/Courses/CS610 - Applied Machine Learning/Project/aml_project/.venv/lib/python3.12/site-packages/sklearn/utils/extmath.py:203: RuntimeWarning: invalid value encountered in matmul\n",
      "  ret = a @ b\n"
     ]
    },
    {
     "name": "stdout",
     "output_type": "stream",
     "text": [
      "[Run 2] Iter 23 F1-illicit: 0.5024\n"
     ]
    },
    {
     "name": "stderr",
     "output_type": "stream",
     "text": [
      "/Users/yudhistiraonggowarsito/Documents/SMU/Courses/CS610 - Applied Machine Learning/Project/aml_project/.venv/lib/python3.12/site-packages/sklearn/utils/extmath.py:203: RuntimeWarning: divide by zero encountered in matmul\n",
      "  ret = a @ b\n",
      "/Users/yudhistiraonggowarsito/Documents/SMU/Courses/CS610 - Applied Machine Learning/Project/aml_project/.venv/lib/python3.12/site-packages/sklearn/utils/extmath.py:203: RuntimeWarning: overflow encountered in matmul\n",
      "  ret = a @ b\n",
      "/Users/yudhistiraonggowarsito/Documents/SMU/Courses/CS610 - Applied Machine Learning/Project/aml_project/.venv/lib/python3.12/site-packages/sklearn/utils/extmath.py:203: RuntimeWarning: invalid value encountered in matmul\n",
      "  ret = a @ b\n",
      "/Users/yudhistiraonggowarsito/Documents/SMU/Courses/CS610 - Applied Machine Learning/Project/aml_project/.venv/lib/python3.12/site-packages/sklearn/utils/extmath.py:203: RuntimeWarning: divide by zero encountered in matmul\n",
      "  ret = a @ b\n",
      "/Users/yudhistiraonggowarsito/Documents/SMU/Courses/CS610 - Applied Machine Learning/Project/aml_project/.venv/lib/python3.12/site-packages/sklearn/utils/extmath.py:203: RuntimeWarning: overflow encountered in matmul\n",
      "  ret = a @ b\n",
      "/Users/yudhistiraonggowarsito/Documents/SMU/Courses/CS610 - Applied Machine Learning/Project/aml_project/.venv/lib/python3.12/site-packages/sklearn/utils/extmath.py:203: RuntimeWarning: invalid value encountered in matmul\n",
      "  ret = a @ b\n"
     ]
    },
    {
     "name": "stdout",
     "output_type": "stream",
     "text": [
      "[Run 2] Iter 24 F1-illicit: 0.5007\n"
     ]
    },
    {
     "name": "stderr",
     "output_type": "stream",
     "text": [
      "/Users/yudhistiraonggowarsito/Documents/SMU/Courses/CS610 - Applied Machine Learning/Project/aml_project/.venv/lib/python3.12/site-packages/sklearn/utils/extmath.py:203: RuntimeWarning: divide by zero encountered in matmul\n",
      "  ret = a @ b\n",
      "/Users/yudhistiraonggowarsito/Documents/SMU/Courses/CS610 - Applied Machine Learning/Project/aml_project/.venv/lib/python3.12/site-packages/sklearn/utils/extmath.py:203: RuntimeWarning: overflow encountered in matmul\n",
      "  ret = a @ b\n",
      "/Users/yudhistiraonggowarsito/Documents/SMU/Courses/CS610 - Applied Machine Learning/Project/aml_project/.venv/lib/python3.12/site-packages/sklearn/utils/extmath.py:203: RuntimeWarning: invalid value encountered in matmul\n",
      "  ret = a @ b\n",
      "/Users/yudhistiraonggowarsito/Documents/SMU/Courses/CS610 - Applied Machine Learning/Project/aml_project/.venv/lib/python3.12/site-packages/sklearn/utils/extmath.py:203: RuntimeWarning: divide by zero encountered in matmul\n",
      "  ret = a @ b\n",
      "/Users/yudhistiraonggowarsito/Documents/SMU/Courses/CS610 - Applied Machine Learning/Project/aml_project/.venv/lib/python3.12/site-packages/sklearn/utils/extmath.py:203: RuntimeWarning: overflow encountered in matmul\n",
      "  ret = a @ b\n",
      "/Users/yudhistiraonggowarsito/Documents/SMU/Courses/CS610 - Applied Machine Learning/Project/aml_project/.venv/lib/python3.12/site-packages/sklearn/utils/extmath.py:203: RuntimeWarning: invalid value encountered in matmul\n",
      "  ret = a @ b\n"
     ]
    },
    {
     "name": "stdout",
     "output_type": "stream",
     "text": [
      "[Run 2] Iter 25 F1-illicit: 0.5069\n"
     ]
    },
    {
     "name": "stderr",
     "output_type": "stream",
     "text": [
      "/Users/yudhistiraonggowarsito/Documents/SMU/Courses/CS610 - Applied Machine Learning/Project/aml_project/.venv/lib/python3.12/site-packages/sklearn/utils/extmath.py:203: RuntimeWarning: divide by zero encountered in matmul\n",
      "  ret = a @ b\n",
      "/Users/yudhistiraonggowarsito/Documents/SMU/Courses/CS610 - Applied Machine Learning/Project/aml_project/.venv/lib/python3.12/site-packages/sklearn/utils/extmath.py:203: RuntimeWarning: overflow encountered in matmul\n",
      "  ret = a @ b\n",
      "/Users/yudhistiraonggowarsito/Documents/SMU/Courses/CS610 - Applied Machine Learning/Project/aml_project/.venv/lib/python3.12/site-packages/sklearn/utils/extmath.py:203: RuntimeWarning: invalid value encountered in matmul\n",
      "  ret = a @ b\n",
      "/Users/yudhistiraonggowarsito/Documents/SMU/Courses/CS610 - Applied Machine Learning/Project/aml_project/.venv/lib/python3.12/site-packages/sklearn/utils/extmath.py:203: RuntimeWarning: divide by zero encountered in matmul\n",
      "  ret = a @ b\n",
      "/Users/yudhistiraonggowarsito/Documents/SMU/Courses/CS610 - Applied Machine Learning/Project/aml_project/.venv/lib/python3.12/site-packages/sklearn/utils/extmath.py:203: RuntimeWarning: overflow encountered in matmul\n",
      "  ret = a @ b\n",
      "/Users/yudhistiraonggowarsito/Documents/SMU/Courses/CS610 - Applied Machine Learning/Project/aml_project/.venv/lib/python3.12/site-packages/sklearn/utils/extmath.py:203: RuntimeWarning: invalid value encountered in matmul\n",
      "  ret = a @ b\n"
     ]
    },
    {
     "name": "stdout",
     "output_type": "stream",
     "text": [
      "[Run 2] Iter 26 F1-illicit: 0.5076\n"
     ]
    },
    {
     "name": "stderr",
     "output_type": "stream",
     "text": [
      "/Users/yudhistiraonggowarsito/Documents/SMU/Courses/CS610 - Applied Machine Learning/Project/aml_project/.venv/lib/python3.12/site-packages/sklearn/utils/extmath.py:203: RuntimeWarning: divide by zero encountered in matmul\n",
      "  ret = a @ b\n",
      "/Users/yudhistiraonggowarsito/Documents/SMU/Courses/CS610 - Applied Machine Learning/Project/aml_project/.venv/lib/python3.12/site-packages/sklearn/utils/extmath.py:203: RuntimeWarning: overflow encountered in matmul\n",
      "  ret = a @ b\n",
      "/Users/yudhistiraonggowarsito/Documents/SMU/Courses/CS610 - Applied Machine Learning/Project/aml_project/.venv/lib/python3.12/site-packages/sklearn/utils/extmath.py:203: RuntimeWarning: invalid value encountered in matmul\n",
      "  ret = a @ b\n",
      "/Users/yudhistiraonggowarsito/Documents/SMU/Courses/CS610 - Applied Machine Learning/Project/aml_project/.venv/lib/python3.12/site-packages/sklearn/utils/extmath.py:203: RuntimeWarning: divide by zero encountered in matmul\n",
      "  ret = a @ b\n",
      "/Users/yudhistiraonggowarsito/Documents/SMU/Courses/CS610 - Applied Machine Learning/Project/aml_project/.venv/lib/python3.12/site-packages/sklearn/utils/extmath.py:203: RuntimeWarning: overflow encountered in matmul\n",
      "  ret = a @ b\n",
      "/Users/yudhistiraonggowarsito/Documents/SMU/Courses/CS610 - Applied Machine Learning/Project/aml_project/.venv/lib/python3.12/site-packages/sklearn/utils/extmath.py:203: RuntimeWarning: invalid value encountered in matmul\n",
      "  ret = a @ b\n"
     ]
    },
    {
     "name": "stdout",
     "output_type": "stream",
     "text": [
      "[Run 2] Iter 27 F1-illicit: 0.5076\n"
     ]
    },
    {
     "name": "stderr",
     "output_type": "stream",
     "text": [
      "/Users/yudhistiraonggowarsito/Documents/SMU/Courses/CS610 - Applied Machine Learning/Project/aml_project/.venv/lib/python3.12/site-packages/sklearn/utils/extmath.py:203: RuntimeWarning: divide by zero encountered in matmul\n",
      "  ret = a @ b\n",
      "/Users/yudhistiraonggowarsito/Documents/SMU/Courses/CS610 - Applied Machine Learning/Project/aml_project/.venv/lib/python3.12/site-packages/sklearn/utils/extmath.py:203: RuntimeWarning: overflow encountered in matmul\n",
      "  ret = a @ b\n",
      "/Users/yudhistiraonggowarsito/Documents/SMU/Courses/CS610 - Applied Machine Learning/Project/aml_project/.venv/lib/python3.12/site-packages/sklearn/utils/extmath.py:203: RuntimeWarning: invalid value encountered in matmul\n",
      "  ret = a @ b\n",
      "/Users/yudhistiraonggowarsito/Documents/SMU/Courses/CS610 - Applied Machine Learning/Project/aml_project/.venv/lib/python3.12/site-packages/sklearn/utils/extmath.py:203: RuntimeWarning: divide by zero encountered in matmul\n",
      "  ret = a @ b\n",
      "/Users/yudhistiraonggowarsito/Documents/SMU/Courses/CS610 - Applied Machine Learning/Project/aml_project/.venv/lib/python3.12/site-packages/sklearn/utils/extmath.py:203: RuntimeWarning: overflow encountered in matmul\n",
      "  ret = a @ b\n",
      "/Users/yudhistiraonggowarsito/Documents/SMU/Courses/CS610 - Applied Machine Learning/Project/aml_project/.venv/lib/python3.12/site-packages/sklearn/utils/extmath.py:203: RuntimeWarning: invalid value encountered in matmul\n",
      "  ret = a @ b\n"
     ]
    },
    {
     "name": "stdout",
     "output_type": "stream",
     "text": [
      "[Run 2] Iter 28 F1-illicit: 0.5106\n"
     ]
    },
    {
     "name": "stderr",
     "output_type": "stream",
     "text": [
      "/Users/yudhistiraonggowarsito/Documents/SMU/Courses/CS610 - Applied Machine Learning/Project/aml_project/.venv/lib/python3.12/site-packages/sklearn/utils/extmath.py:203: RuntimeWarning: divide by zero encountered in matmul\n",
      "  ret = a @ b\n",
      "/Users/yudhistiraonggowarsito/Documents/SMU/Courses/CS610 - Applied Machine Learning/Project/aml_project/.venv/lib/python3.12/site-packages/sklearn/utils/extmath.py:203: RuntimeWarning: overflow encountered in matmul\n",
      "  ret = a @ b\n",
      "/Users/yudhistiraonggowarsito/Documents/SMU/Courses/CS610 - Applied Machine Learning/Project/aml_project/.venv/lib/python3.12/site-packages/sklearn/utils/extmath.py:203: RuntimeWarning: invalid value encountered in matmul\n",
      "  ret = a @ b\n",
      "/Users/yudhistiraonggowarsito/Documents/SMU/Courses/CS610 - Applied Machine Learning/Project/aml_project/.venv/lib/python3.12/site-packages/sklearn/utils/extmath.py:203: RuntimeWarning: divide by zero encountered in matmul\n",
      "  ret = a @ b\n",
      "/Users/yudhistiraonggowarsito/Documents/SMU/Courses/CS610 - Applied Machine Learning/Project/aml_project/.venv/lib/python3.12/site-packages/sklearn/utils/extmath.py:203: RuntimeWarning: overflow encountered in matmul\n",
      "  ret = a @ b\n",
      "/Users/yudhistiraonggowarsito/Documents/SMU/Courses/CS610 - Applied Machine Learning/Project/aml_project/.venv/lib/python3.12/site-packages/sklearn/utils/extmath.py:203: RuntimeWarning: invalid value encountered in matmul\n",
      "  ret = a @ b\n"
     ]
    },
    {
     "name": "stdout",
     "output_type": "stream",
     "text": [
      "[Run 2] Iter 29 F1-illicit: 0.5103\n"
     ]
    },
    {
     "name": "stderr",
     "output_type": "stream",
     "text": [
      "/Users/yudhistiraonggowarsito/Documents/SMU/Courses/CS610 - Applied Machine Learning/Project/aml_project/.venv/lib/python3.12/site-packages/sklearn/utils/extmath.py:203: RuntimeWarning: divide by zero encountered in matmul\n",
      "  ret = a @ b\n",
      "/Users/yudhistiraonggowarsito/Documents/SMU/Courses/CS610 - Applied Machine Learning/Project/aml_project/.venv/lib/python3.12/site-packages/sklearn/utils/extmath.py:203: RuntimeWarning: overflow encountered in matmul\n",
      "  ret = a @ b\n",
      "/Users/yudhistiraonggowarsito/Documents/SMU/Courses/CS610 - Applied Machine Learning/Project/aml_project/.venv/lib/python3.12/site-packages/sklearn/utils/extmath.py:203: RuntimeWarning: invalid value encountered in matmul\n",
      "  ret = a @ b\n",
      "/Users/yudhistiraonggowarsito/Documents/SMU/Courses/CS610 - Applied Machine Learning/Project/aml_project/.venv/lib/python3.12/site-packages/sklearn/utils/extmath.py:203: RuntimeWarning: divide by zero encountered in matmul\n",
      "  ret = a @ b\n",
      "/Users/yudhistiraonggowarsito/Documents/SMU/Courses/CS610 - Applied Machine Learning/Project/aml_project/.venv/lib/python3.12/site-packages/sklearn/utils/extmath.py:203: RuntimeWarning: overflow encountered in matmul\n",
      "  ret = a @ b\n",
      "/Users/yudhistiraonggowarsito/Documents/SMU/Courses/CS610 - Applied Machine Learning/Project/aml_project/.venv/lib/python3.12/site-packages/sklearn/utils/extmath.py:203: RuntimeWarning: invalid value encountered in matmul\n",
      "  ret = a @ b\n",
      "/var/folders/2v/617m0pq96qq942zr8nbfyzch0000gn/T/ipykernel_29924/2909400616.py:51: FutureWarning: The behavior of DataFrame concatenation with empty or all-NA entries is deprecated. In a future version, this will no longer exclude empty or all-NA columns when determining the result dtypes. To retain the old behavior, exclude the relevant entries before the concat operation.\n",
      "  labeled_pool = pd.concat([labeled_pool, batch], ignore_index=True)\n",
      "/Users/yudhistiraonggowarsito/Documents/SMU/Courses/CS610 - Applied Machine Learning/Project/aml_project/.venv/lib/python3.12/site-packages/sklearn/utils/extmath.py:203: RuntimeWarning: divide by zero encountered in matmul\n",
      "  ret = a @ b\n",
      "/Users/yudhistiraonggowarsito/Documents/SMU/Courses/CS610 - Applied Machine Learning/Project/aml_project/.venv/lib/python3.12/site-packages/sklearn/utils/extmath.py:203: RuntimeWarning: overflow encountered in matmul\n",
      "  ret = a @ b\n",
      "/Users/yudhistiraonggowarsito/Documents/SMU/Courses/CS610 - Applied Machine Learning/Project/aml_project/.venv/lib/python3.12/site-packages/sklearn/utils/extmath.py:203: RuntimeWarning: invalid value encountered in matmul\n",
      "  ret = a @ b\n",
      "/Users/yudhistiraonggowarsito/Documents/SMU/Courses/CS610 - Applied Machine Learning/Project/aml_project/.venv/lib/python3.12/site-packages/sklearn/utils/extmath.py:203: RuntimeWarning: divide by zero encountered in matmul\n",
      "  ret = a @ b\n",
      "/Users/yudhistiraonggowarsito/Documents/SMU/Courses/CS610 - Applied Machine Learning/Project/aml_project/.venv/lib/python3.12/site-packages/sklearn/utils/extmath.py:203: RuntimeWarning: overflow encountered in matmul\n",
      "  ret = a @ b\n",
      "/Users/yudhistiraonggowarsito/Documents/SMU/Courses/CS610 - Applied Machine Learning/Project/aml_project/.venv/lib/python3.12/site-packages/sklearn/utils/extmath.py:203: RuntimeWarning: invalid value encountered in matmul\n",
      "  ret = a @ b\n",
      "/Users/yudhistiraonggowarsito/Documents/SMU/Courses/CS610 - Applied Machine Learning/Project/aml_project/.venv/lib/python3.12/site-packages/sklearn/utils/extmath.py:203: RuntimeWarning: divide by zero encountered in matmul\n",
      "  ret = a @ b\n",
      "/Users/yudhistiraonggowarsito/Documents/SMU/Courses/CS610 - Applied Machine Learning/Project/aml_project/.venv/lib/python3.12/site-packages/sklearn/utils/extmath.py:203: RuntimeWarning: overflow encountered in matmul\n",
      "  ret = a @ b\n",
      "/Users/yudhistiraonggowarsito/Documents/SMU/Courses/CS610 - Applied Machine Learning/Project/aml_project/.venv/lib/python3.12/site-packages/sklearn/utils/extmath.py:203: RuntimeWarning: invalid value encountered in matmul\n",
      "  ret = a @ b\n",
      "/Users/yudhistiraonggowarsito/Documents/SMU/Courses/CS610 - Applied Machine Learning/Project/aml_project/.venv/lib/python3.12/site-packages/sklearn/utils/extmath.py:203: RuntimeWarning: divide by zero encountered in matmul\n",
      "  ret = a @ b\n",
      "/Users/yudhistiraonggowarsito/Documents/SMU/Courses/CS610 - Applied Machine Learning/Project/aml_project/.venv/lib/python3.12/site-packages/sklearn/utils/extmath.py:203: RuntimeWarning: overflow encountered in matmul\n",
      "  ret = a @ b\n",
      "/Users/yudhistiraonggowarsito/Documents/SMU/Courses/CS610 - Applied Machine Learning/Project/aml_project/.venv/lib/python3.12/site-packages/sklearn/utils/extmath.py:203: RuntimeWarning: invalid value encountered in matmul\n",
      "  ret = a @ b\n"
     ]
    },
    {
     "name": "stdout",
     "output_type": "stream",
     "text": [
      "[Run 2] Iter 30 F1-illicit: 0.5103\n",
      "\n",
      "=== Run 3/5 ===\n",
      "[Run 3] Iter 1 F1-illicit: 0.2045\n",
      "[Run 3] Iter 2 F1-illicit: 0.2489\n"
     ]
    },
    {
     "name": "stderr",
     "output_type": "stream",
     "text": [
      "/Users/yudhistiraonggowarsito/Documents/SMU/Courses/CS610 - Applied Machine Learning/Project/aml_project/.venv/lib/python3.12/site-packages/sklearn/utils/extmath.py:203: RuntimeWarning: divide by zero encountered in matmul\n",
      "  ret = a @ b\n",
      "/Users/yudhistiraonggowarsito/Documents/SMU/Courses/CS610 - Applied Machine Learning/Project/aml_project/.venv/lib/python3.12/site-packages/sklearn/utils/extmath.py:203: RuntimeWarning: overflow encountered in matmul\n",
      "  ret = a @ b\n",
      "/Users/yudhistiraonggowarsito/Documents/SMU/Courses/CS610 - Applied Machine Learning/Project/aml_project/.venv/lib/python3.12/site-packages/sklearn/utils/extmath.py:203: RuntimeWarning: invalid value encountered in matmul\n",
      "  ret = a @ b\n",
      "/Users/yudhistiraonggowarsito/Documents/SMU/Courses/CS610 - Applied Machine Learning/Project/aml_project/.venv/lib/python3.12/site-packages/sklearn/utils/extmath.py:203: RuntimeWarning: divide by zero encountered in matmul\n",
      "  ret = a @ b\n",
      "/Users/yudhistiraonggowarsito/Documents/SMU/Courses/CS610 - Applied Machine Learning/Project/aml_project/.venv/lib/python3.12/site-packages/sklearn/utils/extmath.py:203: RuntimeWarning: overflow encountered in matmul\n",
      "  ret = a @ b\n",
      "/Users/yudhistiraonggowarsito/Documents/SMU/Courses/CS610 - Applied Machine Learning/Project/aml_project/.venv/lib/python3.12/site-packages/sklearn/utils/extmath.py:203: RuntimeWarning: invalid value encountered in matmul\n",
      "  ret = a @ b\n",
      "/Users/yudhistiraonggowarsito/Documents/SMU/Courses/CS610 - Applied Machine Learning/Project/aml_project/.venv/lib/python3.12/site-packages/sklearn/utils/extmath.py:203: RuntimeWarning: divide by zero encountered in matmul\n",
      "  ret = a @ b\n",
      "/Users/yudhistiraonggowarsito/Documents/SMU/Courses/CS610 - Applied Machine Learning/Project/aml_project/.venv/lib/python3.12/site-packages/sklearn/utils/extmath.py:203: RuntimeWarning: overflow encountered in matmul\n",
      "  ret = a @ b\n",
      "/Users/yudhistiraonggowarsito/Documents/SMU/Courses/CS610 - Applied Machine Learning/Project/aml_project/.venv/lib/python3.12/site-packages/sklearn/utils/extmath.py:203: RuntimeWarning: invalid value encountered in matmul\n",
      "  ret = a @ b\n",
      "/Users/yudhistiraonggowarsito/Documents/SMU/Courses/CS610 - Applied Machine Learning/Project/aml_project/.venv/lib/python3.12/site-packages/sklearn/utils/extmath.py:203: RuntimeWarning: divide by zero encountered in matmul\n",
      "  ret = a @ b\n",
      "/Users/yudhistiraonggowarsito/Documents/SMU/Courses/CS610 - Applied Machine Learning/Project/aml_project/.venv/lib/python3.12/site-packages/sklearn/utils/extmath.py:203: RuntimeWarning: overflow encountered in matmul\n",
      "  ret = a @ b\n",
      "/Users/yudhistiraonggowarsito/Documents/SMU/Courses/CS610 - Applied Machine Learning/Project/aml_project/.venv/lib/python3.12/site-packages/sklearn/utils/extmath.py:203: RuntimeWarning: invalid value encountered in matmul\n",
      "  ret = a @ b\n"
     ]
    },
    {
     "name": "stdout",
     "output_type": "stream",
     "text": [
      "[Run 3] Iter 3 F1-illicit: 0.3259\n",
      "[Run 3] Iter 4 F1-illicit: 0.3871\n"
     ]
    },
    {
     "name": "stderr",
     "output_type": "stream",
     "text": [
      "/Users/yudhistiraonggowarsito/Documents/SMU/Courses/CS610 - Applied Machine Learning/Project/aml_project/.venv/lib/python3.12/site-packages/sklearn/utils/extmath.py:203: RuntimeWarning: divide by zero encountered in matmul\n",
      "  ret = a @ b\n",
      "/Users/yudhistiraonggowarsito/Documents/SMU/Courses/CS610 - Applied Machine Learning/Project/aml_project/.venv/lib/python3.12/site-packages/sklearn/utils/extmath.py:203: RuntimeWarning: overflow encountered in matmul\n",
      "  ret = a @ b\n",
      "/Users/yudhistiraonggowarsito/Documents/SMU/Courses/CS610 - Applied Machine Learning/Project/aml_project/.venv/lib/python3.12/site-packages/sklearn/utils/extmath.py:203: RuntimeWarning: invalid value encountered in matmul\n",
      "  ret = a @ b\n",
      "/Users/yudhistiraonggowarsito/Documents/SMU/Courses/CS610 - Applied Machine Learning/Project/aml_project/.venv/lib/python3.12/site-packages/sklearn/utils/extmath.py:203: RuntimeWarning: divide by zero encountered in matmul\n",
      "  ret = a @ b\n",
      "/Users/yudhistiraonggowarsito/Documents/SMU/Courses/CS610 - Applied Machine Learning/Project/aml_project/.venv/lib/python3.12/site-packages/sklearn/utils/extmath.py:203: RuntimeWarning: overflow encountered in matmul\n",
      "  ret = a @ b\n",
      "/Users/yudhistiraonggowarsito/Documents/SMU/Courses/CS610 - Applied Machine Learning/Project/aml_project/.venv/lib/python3.12/site-packages/sklearn/utils/extmath.py:203: RuntimeWarning: invalid value encountered in matmul\n",
      "  ret = a @ b\n",
      "/Users/yudhistiraonggowarsito/Documents/SMU/Courses/CS610 - Applied Machine Learning/Project/aml_project/.venv/lib/python3.12/site-packages/sklearn/utils/extmath.py:203: RuntimeWarning: divide by zero encountered in matmul\n",
      "  ret = a @ b\n",
      "/Users/yudhistiraonggowarsito/Documents/SMU/Courses/CS610 - Applied Machine Learning/Project/aml_project/.venv/lib/python3.12/site-packages/sklearn/utils/extmath.py:203: RuntimeWarning: overflow encountered in matmul\n",
      "  ret = a @ b\n",
      "/Users/yudhistiraonggowarsito/Documents/SMU/Courses/CS610 - Applied Machine Learning/Project/aml_project/.venv/lib/python3.12/site-packages/sklearn/utils/extmath.py:203: RuntimeWarning: invalid value encountered in matmul\n",
      "  ret = a @ b\n"
     ]
    },
    {
     "name": "stdout",
     "output_type": "stream",
     "text": [
      "[Run 3] Iter 5 F1-illicit: 0.4441\n",
      "[Run 3] Iter 6 F1-illicit: 0.5086\n"
     ]
    },
    {
     "name": "stderr",
     "output_type": "stream",
     "text": [
      "/Users/yudhistiraonggowarsito/Documents/SMU/Courses/CS610 - Applied Machine Learning/Project/aml_project/.venv/lib/python3.12/site-packages/sklearn/utils/extmath.py:203: RuntimeWarning: divide by zero encountered in matmul\n",
      "  ret = a @ b\n",
      "/Users/yudhistiraonggowarsito/Documents/SMU/Courses/CS610 - Applied Machine Learning/Project/aml_project/.venv/lib/python3.12/site-packages/sklearn/utils/extmath.py:203: RuntimeWarning: overflow encountered in matmul\n",
      "  ret = a @ b\n",
      "/Users/yudhistiraonggowarsito/Documents/SMU/Courses/CS610 - Applied Machine Learning/Project/aml_project/.venv/lib/python3.12/site-packages/sklearn/utils/extmath.py:203: RuntimeWarning: invalid value encountered in matmul\n",
      "  ret = a @ b\n",
      "/Users/yudhistiraonggowarsito/Documents/SMU/Courses/CS610 - Applied Machine Learning/Project/aml_project/.venv/lib/python3.12/site-packages/sklearn/utils/extmath.py:203: RuntimeWarning: divide by zero encountered in matmul\n",
      "  ret = a @ b\n",
      "/Users/yudhistiraonggowarsito/Documents/SMU/Courses/CS610 - Applied Machine Learning/Project/aml_project/.venv/lib/python3.12/site-packages/sklearn/utils/extmath.py:203: RuntimeWarning: overflow encountered in matmul\n",
      "  ret = a @ b\n",
      "/Users/yudhistiraonggowarsito/Documents/SMU/Courses/CS610 - Applied Machine Learning/Project/aml_project/.venv/lib/python3.12/site-packages/sklearn/utils/extmath.py:203: RuntimeWarning: invalid value encountered in matmul\n",
      "  ret = a @ b\n",
      "/Users/yudhistiraonggowarsito/Documents/SMU/Courses/CS610 - Applied Machine Learning/Project/aml_project/.venv/lib/python3.12/site-packages/sklearn/utils/extmath.py:203: RuntimeWarning: divide by zero encountered in matmul\n",
      "  ret = a @ b\n",
      "/Users/yudhistiraonggowarsito/Documents/SMU/Courses/CS610 - Applied Machine Learning/Project/aml_project/.venv/lib/python3.12/site-packages/sklearn/utils/extmath.py:203: RuntimeWarning: overflow encountered in matmul\n",
      "  ret = a @ b\n",
      "/Users/yudhistiraonggowarsito/Documents/SMU/Courses/CS610 - Applied Machine Learning/Project/aml_project/.venv/lib/python3.12/site-packages/sklearn/utils/extmath.py:203: RuntimeWarning: invalid value encountered in matmul\n",
      "  ret = a @ b\n"
     ]
    },
    {
     "name": "stdout",
     "output_type": "stream",
     "text": [
      "[Run 3] Iter 7 F1-illicit: 0.5027\n"
     ]
    },
    {
     "name": "stderr",
     "output_type": "stream",
     "text": [
      "/Users/yudhistiraonggowarsito/Documents/SMU/Courses/CS610 - Applied Machine Learning/Project/aml_project/.venv/lib/python3.12/site-packages/sklearn/utils/extmath.py:203: RuntimeWarning: divide by zero encountered in matmul\n",
      "  ret = a @ b\n",
      "/Users/yudhistiraonggowarsito/Documents/SMU/Courses/CS610 - Applied Machine Learning/Project/aml_project/.venv/lib/python3.12/site-packages/sklearn/utils/extmath.py:203: RuntimeWarning: overflow encountered in matmul\n",
      "  ret = a @ b\n",
      "/Users/yudhistiraonggowarsito/Documents/SMU/Courses/CS610 - Applied Machine Learning/Project/aml_project/.venv/lib/python3.12/site-packages/sklearn/utils/extmath.py:203: RuntimeWarning: invalid value encountered in matmul\n",
      "  ret = a @ b\n",
      "/Users/yudhistiraonggowarsito/Documents/SMU/Courses/CS610 - Applied Machine Learning/Project/aml_project/.venv/lib/python3.12/site-packages/sklearn/utils/extmath.py:203: RuntimeWarning: divide by zero encountered in matmul\n",
      "  ret = a @ b\n",
      "/Users/yudhistiraonggowarsito/Documents/SMU/Courses/CS610 - Applied Machine Learning/Project/aml_project/.venv/lib/python3.12/site-packages/sklearn/utils/extmath.py:203: RuntimeWarning: overflow encountered in matmul\n",
      "  ret = a @ b\n",
      "/Users/yudhistiraonggowarsito/Documents/SMU/Courses/CS610 - Applied Machine Learning/Project/aml_project/.venv/lib/python3.12/site-packages/sklearn/utils/extmath.py:203: RuntimeWarning: invalid value encountered in matmul\n",
      "  ret = a @ b\n"
     ]
    },
    {
     "name": "stdout",
     "output_type": "stream",
     "text": [
      "[Run 3] Iter 8 F1-illicit: 0.4739\n"
     ]
    },
    {
     "name": "stderr",
     "output_type": "stream",
     "text": [
      "/Users/yudhistiraonggowarsito/Documents/SMU/Courses/CS610 - Applied Machine Learning/Project/aml_project/.venv/lib/python3.12/site-packages/sklearn/utils/extmath.py:203: RuntimeWarning: divide by zero encountered in matmul\n",
      "  ret = a @ b\n",
      "/Users/yudhistiraonggowarsito/Documents/SMU/Courses/CS610 - Applied Machine Learning/Project/aml_project/.venv/lib/python3.12/site-packages/sklearn/utils/extmath.py:203: RuntimeWarning: overflow encountered in matmul\n",
      "  ret = a @ b\n",
      "/Users/yudhistiraonggowarsito/Documents/SMU/Courses/CS610 - Applied Machine Learning/Project/aml_project/.venv/lib/python3.12/site-packages/sklearn/utils/extmath.py:203: RuntimeWarning: invalid value encountered in matmul\n",
      "  ret = a @ b\n",
      "/Users/yudhistiraonggowarsito/Documents/SMU/Courses/CS610 - Applied Machine Learning/Project/aml_project/.venv/lib/python3.12/site-packages/sklearn/utils/extmath.py:203: RuntimeWarning: divide by zero encountered in matmul\n",
      "  ret = a @ b\n",
      "/Users/yudhistiraonggowarsito/Documents/SMU/Courses/CS610 - Applied Machine Learning/Project/aml_project/.venv/lib/python3.12/site-packages/sklearn/utils/extmath.py:203: RuntimeWarning: overflow encountered in matmul\n",
      "  ret = a @ b\n",
      "/Users/yudhistiraonggowarsito/Documents/SMU/Courses/CS610 - Applied Machine Learning/Project/aml_project/.venv/lib/python3.12/site-packages/sklearn/utils/extmath.py:203: RuntimeWarning: invalid value encountered in matmul\n",
      "  ret = a @ b\n"
     ]
    },
    {
     "name": "stdout",
     "output_type": "stream",
     "text": [
      "[Run 3] Iter 9 F1-illicit: 0.4863\n"
     ]
    },
    {
     "name": "stderr",
     "output_type": "stream",
     "text": [
      "/Users/yudhistiraonggowarsito/Documents/SMU/Courses/CS610 - Applied Machine Learning/Project/aml_project/.venv/lib/python3.12/site-packages/sklearn/utils/extmath.py:203: RuntimeWarning: divide by zero encountered in matmul\n",
      "  ret = a @ b\n",
      "/Users/yudhistiraonggowarsito/Documents/SMU/Courses/CS610 - Applied Machine Learning/Project/aml_project/.venv/lib/python3.12/site-packages/sklearn/utils/extmath.py:203: RuntimeWarning: overflow encountered in matmul\n",
      "  ret = a @ b\n",
      "/Users/yudhistiraonggowarsito/Documents/SMU/Courses/CS610 - Applied Machine Learning/Project/aml_project/.venv/lib/python3.12/site-packages/sklearn/utils/extmath.py:203: RuntimeWarning: invalid value encountered in matmul\n",
      "  ret = a @ b\n",
      "/Users/yudhistiraonggowarsito/Documents/SMU/Courses/CS610 - Applied Machine Learning/Project/aml_project/.venv/lib/python3.12/site-packages/sklearn/utils/extmath.py:203: RuntimeWarning: divide by zero encountered in matmul\n",
      "  ret = a @ b\n",
      "/Users/yudhistiraonggowarsito/Documents/SMU/Courses/CS610 - Applied Machine Learning/Project/aml_project/.venv/lib/python3.12/site-packages/sklearn/utils/extmath.py:203: RuntimeWarning: overflow encountered in matmul\n",
      "  ret = a @ b\n",
      "/Users/yudhistiraonggowarsito/Documents/SMU/Courses/CS610 - Applied Machine Learning/Project/aml_project/.venv/lib/python3.12/site-packages/sklearn/utils/extmath.py:203: RuntimeWarning: invalid value encountered in matmul\n",
      "  ret = a @ b\n"
     ]
    },
    {
     "name": "stdout",
     "output_type": "stream",
     "text": [
      "[Run 3] Iter 10 F1-illicit: 0.4657\n"
     ]
    },
    {
     "name": "stderr",
     "output_type": "stream",
     "text": [
      "/Users/yudhistiraonggowarsito/Documents/SMU/Courses/CS610 - Applied Machine Learning/Project/aml_project/.venv/lib/python3.12/site-packages/sklearn/utils/extmath.py:203: RuntimeWarning: divide by zero encountered in matmul\n",
      "  ret = a @ b\n",
      "/Users/yudhistiraonggowarsito/Documents/SMU/Courses/CS610 - Applied Machine Learning/Project/aml_project/.venv/lib/python3.12/site-packages/sklearn/utils/extmath.py:203: RuntimeWarning: overflow encountered in matmul\n",
      "  ret = a @ b\n",
      "/Users/yudhistiraonggowarsito/Documents/SMU/Courses/CS610 - Applied Machine Learning/Project/aml_project/.venv/lib/python3.12/site-packages/sklearn/utils/extmath.py:203: RuntimeWarning: invalid value encountered in matmul\n",
      "  ret = a @ b\n",
      "/Users/yudhistiraonggowarsito/Documents/SMU/Courses/CS610 - Applied Machine Learning/Project/aml_project/.venv/lib/python3.12/site-packages/sklearn/utils/extmath.py:203: RuntimeWarning: divide by zero encountered in matmul\n",
      "  ret = a @ b\n",
      "/Users/yudhistiraonggowarsito/Documents/SMU/Courses/CS610 - Applied Machine Learning/Project/aml_project/.venv/lib/python3.12/site-packages/sklearn/utils/extmath.py:203: RuntimeWarning: overflow encountered in matmul\n",
      "  ret = a @ b\n",
      "/Users/yudhistiraonggowarsito/Documents/SMU/Courses/CS610 - Applied Machine Learning/Project/aml_project/.venv/lib/python3.12/site-packages/sklearn/utils/extmath.py:203: RuntimeWarning: invalid value encountered in matmul\n",
      "  ret = a @ b\n"
     ]
    },
    {
     "name": "stdout",
     "output_type": "stream",
     "text": [
      "[Run 3] Iter 11 F1-illicit: 0.4577\n"
     ]
    },
    {
     "name": "stderr",
     "output_type": "stream",
     "text": [
      "/Users/yudhistiraonggowarsito/Documents/SMU/Courses/CS610 - Applied Machine Learning/Project/aml_project/.venv/lib/python3.12/site-packages/sklearn/utils/extmath.py:203: RuntimeWarning: divide by zero encountered in matmul\n",
      "  ret = a @ b\n",
      "/Users/yudhistiraonggowarsito/Documents/SMU/Courses/CS610 - Applied Machine Learning/Project/aml_project/.venv/lib/python3.12/site-packages/sklearn/utils/extmath.py:203: RuntimeWarning: overflow encountered in matmul\n",
      "  ret = a @ b\n",
      "/Users/yudhistiraonggowarsito/Documents/SMU/Courses/CS610 - Applied Machine Learning/Project/aml_project/.venv/lib/python3.12/site-packages/sklearn/utils/extmath.py:203: RuntimeWarning: invalid value encountered in matmul\n",
      "  ret = a @ b\n",
      "/Users/yudhistiraonggowarsito/Documents/SMU/Courses/CS610 - Applied Machine Learning/Project/aml_project/.venv/lib/python3.12/site-packages/sklearn/utils/extmath.py:203: RuntimeWarning: divide by zero encountered in matmul\n",
      "  ret = a @ b\n",
      "/Users/yudhistiraonggowarsito/Documents/SMU/Courses/CS610 - Applied Machine Learning/Project/aml_project/.venv/lib/python3.12/site-packages/sklearn/utils/extmath.py:203: RuntimeWarning: overflow encountered in matmul\n",
      "  ret = a @ b\n",
      "/Users/yudhistiraonggowarsito/Documents/SMU/Courses/CS610 - Applied Machine Learning/Project/aml_project/.venv/lib/python3.12/site-packages/sklearn/utils/extmath.py:203: RuntimeWarning: invalid value encountered in matmul\n",
      "  ret = a @ b\n"
     ]
    },
    {
     "name": "stdout",
     "output_type": "stream",
     "text": [
      "[Run 3] Iter 12 F1-illicit: 0.4530\n"
     ]
    },
    {
     "name": "stderr",
     "output_type": "stream",
     "text": [
      "/Users/yudhistiraonggowarsito/Documents/SMU/Courses/CS610 - Applied Machine Learning/Project/aml_project/.venv/lib/python3.12/site-packages/sklearn/utils/extmath.py:203: RuntimeWarning: divide by zero encountered in matmul\n",
      "  ret = a @ b\n",
      "/Users/yudhistiraonggowarsito/Documents/SMU/Courses/CS610 - Applied Machine Learning/Project/aml_project/.venv/lib/python3.12/site-packages/sklearn/utils/extmath.py:203: RuntimeWarning: overflow encountered in matmul\n",
      "  ret = a @ b\n",
      "/Users/yudhistiraonggowarsito/Documents/SMU/Courses/CS610 - Applied Machine Learning/Project/aml_project/.venv/lib/python3.12/site-packages/sklearn/utils/extmath.py:203: RuntimeWarning: invalid value encountered in matmul\n",
      "  ret = a @ b\n",
      "/Users/yudhistiraonggowarsito/Documents/SMU/Courses/CS610 - Applied Machine Learning/Project/aml_project/.venv/lib/python3.12/site-packages/sklearn/utils/extmath.py:203: RuntimeWarning: divide by zero encountered in matmul\n",
      "  ret = a @ b\n",
      "/Users/yudhistiraonggowarsito/Documents/SMU/Courses/CS610 - Applied Machine Learning/Project/aml_project/.venv/lib/python3.12/site-packages/sklearn/utils/extmath.py:203: RuntimeWarning: overflow encountered in matmul\n",
      "  ret = a @ b\n",
      "/Users/yudhistiraonggowarsito/Documents/SMU/Courses/CS610 - Applied Machine Learning/Project/aml_project/.venv/lib/python3.12/site-packages/sklearn/utils/extmath.py:203: RuntimeWarning: invalid value encountered in matmul\n",
      "  ret = a @ b\n"
     ]
    },
    {
     "name": "stdout",
     "output_type": "stream",
     "text": [
      "[Run 3] Iter 13 F1-illicit: 0.4497\n"
     ]
    },
    {
     "name": "stderr",
     "output_type": "stream",
     "text": [
      "/Users/yudhistiraonggowarsito/Documents/SMU/Courses/CS610 - Applied Machine Learning/Project/aml_project/.venv/lib/python3.12/site-packages/sklearn/utils/extmath.py:203: RuntimeWarning: divide by zero encountered in matmul\n",
      "  ret = a @ b\n",
      "/Users/yudhistiraonggowarsito/Documents/SMU/Courses/CS610 - Applied Machine Learning/Project/aml_project/.venv/lib/python3.12/site-packages/sklearn/utils/extmath.py:203: RuntimeWarning: overflow encountered in matmul\n",
      "  ret = a @ b\n",
      "/Users/yudhistiraonggowarsito/Documents/SMU/Courses/CS610 - Applied Machine Learning/Project/aml_project/.venv/lib/python3.12/site-packages/sklearn/utils/extmath.py:203: RuntimeWarning: invalid value encountered in matmul\n",
      "  ret = a @ b\n",
      "/Users/yudhistiraonggowarsito/Documents/SMU/Courses/CS610 - Applied Machine Learning/Project/aml_project/.venv/lib/python3.12/site-packages/sklearn/utils/extmath.py:203: RuntimeWarning: divide by zero encountered in matmul\n",
      "  ret = a @ b\n",
      "/Users/yudhistiraonggowarsito/Documents/SMU/Courses/CS610 - Applied Machine Learning/Project/aml_project/.venv/lib/python3.12/site-packages/sklearn/utils/extmath.py:203: RuntimeWarning: overflow encountered in matmul\n",
      "  ret = a @ b\n",
      "/Users/yudhistiraonggowarsito/Documents/SMU/Courses/CS610 - Applied Machine Learning/Project/aml_project/.venv/lib/python3.12/site-packages/sklearn/utils/extmath.py:203: RuntimeWarning: invalid value encountered in matmul\n",
      "  ret = a @ b\n"
     ]
    },
    {
     "name": "stdout",
     "output_type": "stream",
     "text": [
      "[Run 3] Iter 14 F1-illicit: 0.4423\n"
     ]
    },
    {
     "name": "stderr",
     "output_type": "stream",
     "text": [
      "/Users/yudhistiraonggowarsito/Documents/SMU/Courses/CS610 - Applied Machine Learning/Project/aml_project/.venv/lib/python3.12/site-packages/sklearn/utils/extmath.py:203: RuntimeWarning: divide by zero encountered in matmul\n",
      "  ret = a @ b\n",
      "/Users/yudhistiraonggowarsito/Documents/SMU/Courses/CS610 - Applied Machine Learning/Project/aml_project/.venv/lib/python3.12/site-packages/sklearn/utils/extmath.py:203: RuntimeWarning: overflow encountered in matmul\n",
      "  ret = a @ b\n",
      "/Users/yudhistiraonggowarsito/Documents/SMU/Courses/CS610 - Applied Machine Learning/Project/aml_project/.venv/lib/python3.12/site-packages/sklearn/utils/extmath.py:203: RuntimeWarning: invalid value encountered in matmul\n",
      "  ret = a @ b\n",
      "/Users/yudhistiraonggowarsito/Documents/SMU/Courses/CS610 - Applied Machine Learning/Project/aml_project/.venv/lib/python3.12/site-packages/sklearn/utils/extmath.py:203: RuntimeWarning: divide by zero encountered in matmul\n",
      "  ret = a @ b\n",
      "/Users/yudhistiraonggowarsito/Documents/SMU/Courses/CS610 - Applied Machine Learning/Project/aml_project/.venv/lib/python3.12/site-packages/sklearn/utils/extmath.py:203: RuntimeWarning: overflow encountered in matmul\n",
      "  ret = a @ b\n",
      "/Users/yudhistiraonggowarsito/Documents/SMU/Courses/CS610 - Applied Machine Learning/Project/aml_project/.venv/lib/python3.12/site-packages/sklearn/utils/extmath.py:203: RuntimeWarning: invalid value encountered in matmul\n",
      "  ret = a @ b\n"
     ]
    },
    {
     "name": "stdout",
     "output_type": "stream",
     "text": [
      "[Run 3] Iter 15 F1-illicit: 0.4253\n"
     ]
    },
    {
     "name": "stderr",
     "output_type": "stream",
     "text": [
      "/Users/yudhistiraonggowarsito/Documents/SMU/Courses/CS610 - Applied Machine Learning/Project/aml_project/.venv/lib/python3.12/site-packages/sklearn/utils/extmath.py:203: RuntimeWarning: divide by zero encountered in matmul\n",
      "  ret = a @ b\n",
      "/Users/yudhistiraonggowarsito/Documents/SMU/Courses/CS610 - Applied Machine Learning/Project/aml_project/.venv/lib/python3.12/site-packages/sklearn/utils/extmath.py:203: RuntimeWarning: overflow encountered in matmul\n",
      "  ret = a @ b\n",
      "/Users/yudhistiraonggowarsito/Documents/SMU/Courses/CS610 - Applied Machine Learning/Project/aml_project/.venv/lib/python3.12/site-packages/sklearn/utils/extmath.py:203: RuntimeWarning: invalid value encountered in matmul\n",
      "  ret = a @ b\n",
      "/Users/yudhistiraonggowarsito/Documents/SMU/Courses/CS610 - Applied Machine Learning/Project/aml_project/.venv/lib/python3.12/site-packages/sklearn/utils/extmath.py:203: RuntimeWarning: divide by zero encountered in matmul\n",
      "  ret = a @ b\n",
      "/Users/yudhistiraonggowarsito/Documents/SMU/Courses/CS610 - Applied Machine Learning/Project/aml_project/.venv/lib/python3.12/site-packages/sklearn/utils/extmath.py:203: RuntimeWarning: overflow encountered in matmul\n",
      "  ret = a @ b\n",
      "/Users/yudhistiraonggowarsito/Documents/SMU/Courses/CS610 - Applied Machine Learning/Project/aml_project/.venv/lib/python3.12/site-packages/sklearn/utils/extmath.py:203: RuntimeWarning: invalid value encountered in matmul\n",
      "  ret = a @ b\n"
     ]
    },
    {
     "name": "stdout",
     "output_type": "stream",
     "text": [
      "[Run 3] Iter 16 F1-illicit: 0.4267\n"
     ]
    },
    {
     "name": "stderr",
     "output_type": "stream",
     "text": [
      "/Users/yudhistiraonggowarsito/Documents/SMU/Courses/CS610 - Applied Machine Learning/Project/aml_project/.venv/lib/python3.12/site-packages/sklearn/utils/extmath.py:203: RuntimeWarning: divide by zero encountered in matmul\n",
      "  ret = a @ b\n",
      "/Users/yudhistiraonggowarsito/Documents/SMU/Courses/CS610 - Applied Machine Learning/Project/aml_project/.venv/lib/python3.12/site-packages/sklearn/utils/extmath.py:203: RuntimeWarning: overflow encountered in matmul\n",
      "  ret = a @ b\n",
      "/Users/yudhistiraonggowarsito/Documents/SMU/Courses/CS610 - Applied Machine Learning/Project/aml_project/.venv/lib/python3.12/site-packages/sklearn/utils/extmath.py:203: RuntimeWarning: invalid value encountered in matmul\n",
      "  ret = a @ b\n",
      "/Users/yudhistiraonggowarsito/Documents/SMU/Courses/CS610 - Applied Machine Learning/Project/aml_project/.venv/lib/python3.12/site-packages/sklearn/utils/extmath.py:203: RuntimeWarning: divide by zero encountered in matmul\n",
      "  ret = a @ b\n",
      "/Users/yudhistiraonggowarsito/Documents/SMU/Courses/CS610 - Applied Machine Learning/Project/aml_project/.venv/lib/python3.12/site-packages/sklearn/utils/extmath.py:203: RuntimeWarning: overflow encountered in matmul\n",
      "  ret = a @ b\n",
      "/Users/yudhistiraonggowarsito/Documents/SMU/Courses/CS610 - Applied Machine Learning/Project/aml_project/.venv/lib/python3.12/site-packages/sklearn/utils/extmath.py:203: RuntimeWarning: invalid value encountered in matmul\n",
      "  ret = a @ b\n"
     ]
    },
    {
     "name": "stdout",
     "output_type": "stream",
     "text": [
      "[Run 3] Iter 17 F1-illicit: 0.4265\n"
     ]
    },
    {
     "name": "stderr",
     "output_type": "stream",
     "text": [
      "/Users/yudhistiraonggowarsito/Documents/SMU/Courses/CS610 - Applied Machine Learning/Project/aml_project/.venv/lib/python3.12/site-packages/sklearn/utils/extmath.py:203: RuntimeWarning: divide by zero encountered in matmul\n",
      "  ret = a @ b\n",
      "/Users/yudhistiraonggowarsito/Documents/SMU/Courses/CS610 - Applied Machine Learning/Project/aml_project/.venv/lib/python3.12/site-packages/sklearn/utils/extmath.py:203: RuntimeWarning: overflow encountered in matmul\n",
      "  ret = a @ b\n",
      "/Users/yudhistiraonggowarsito/Documents/SMU/Courses/CS610 - Applied Machine Learning/Project/aml_project/.venv/lib/python3.12/site-packages/sklearn/utils/extmath.py:203: RuntimeWarning: invalid value encountered in matmul\n",
      "  ret = a @ b\n",
      "/Users/yudhistiraonggowarsito/Documents/SMU/Courses/CS610 - Applied Machine Learning/Project/aml_project/.venv/lib/python3.12/site-packages/sklearn/utils/extmath.py:203: RuntimeWarning: divide by zero encountered in matmul\n",
      "  ret = a @ b\n",
      "/Users/yudhistiraonggowarsito/Documents/SMU/Courses/CS610 - Applied Machine Learning/Project/aml_project/.venv/lib/python3.12/site-packages/sklearn/utils/extmath.py:203: RuntimeWarning: overflow encountered in matmul\n",
      "  ret = a @ b\n",
      "/Users/yudhistiraonggowarsito/Documents/SMU/Courses/CS610 - Applied Machine Learning/Project/aml_project/.venv/lib/python3.12/site-packages/sklearn/utils/extmath.py:203: RuntimeWarning: invalid value encountered in matmul\n",
      "  ret = a @ b\n"
     ]
    },
    {
     "name": "stdout",
     "output_type": "stream",
     "text": [
      "[Run 3] Iter 18 F1-illicit: 0.4275\n"
     ]
    },
    {
     "name": "stderr",
     "output_type": "stream",
     "text": [
      "/Users/yudhistiraonggowarsito/Documents/SMU/Courses/CS610 - Applied Machine Learning/Project/aml_project/.venv/lib/python3.12/site-packages/sklearn/utils/extmath.py:203: RuntimeWarning: divide by zero encountered in matmul\n",
      "  ret = a @ b\n",
      "/Users/yudhistiraonggowarsito/Documents/SMU/Courses/CS610 - Applied Machine Learning/Project/aml_project/.venv/lib/python3.12/site-packages/sklearn/utils/extmath.py:203: RuntimeWarning: overflow encountered in matmul\n",
      "  ret = a @ b\n",
      "/Users/yudhistiraonggowarsito/Documents/SMU/Courses/CS610 - Applied Machine Learning/Project/aml_project/.venv/lib/python3.12/site-packages/sklearn/utils/extmath.py:203: RuntimeWarning: invalid value encountered in matmul\n",
      "  ret = a @ b\n",
      "/Users/yudhistiraonggowarsito/Documents/SMU/Courses/CS610 - Applied Machine Learning/Project/aml_project/.venv/lib/python3.12/site-packages/sklearn/utils/extmath.py:203: RuntimeWarning: divide by zero encountered in matmul\n",
      "  ret = a @ b\n",
      "/Users/yudhistiraonggowarsito/Documents/SMU/Courses/CS610 - Applied Machine Learning/Project/aml_project/.venv/lib/python3.12/site-packages/sklearn/utils/extmath.py:203: RuntimeWarning: overflow encountered in matmul\n",
      "  ret = a @ b\n",
      "/Users/yudhistiraonggowarsito/Documents/SMU/Courses/CS610 - Applied Machine Learning/Project/aml_project/.venv/lib/python3.12/site-packages/sklearn/utils/extmath.py:203: RuntimeWarning: invalid value encountered in matmul\n",
      "  ret = a @ b\n"
     ]
    },
    {
     "name": "stdout",
     "output_type": "stream",
     "text": [
      "[Run 3] Iter 19 F1-illicit: 0.4276\n"
     ]
    },
    {
     "name": "stderr",
     "output_type": "stream",
     "text": [
      "/Users/yudhistiraonggowarsito/Documents/SMU/Courses/CS610 - Applied Machine Learning/Project/aml_project/.venv/lib/python3.12/site-packages/sklearn/utils/extmath.py:203: RuntimeWarning: divide by zero encountered in matmul\n",
      "  ret = a @ b\n",
      "/Users/yudhistiraonggowarsito/Documents/SMU/Courses/CS610 - Applied Machine Learning/Project/aml_project/.venv/lib/python3.12/site-packages/sklearn/utils/extmath.py:203: RuntimeWarning: overflow encountered in matmul\n",
      "  ret = a @ b\n",
      "/Users/yudhistiraonggowarsito/Documents/SMU/Courses/CS610 - Applied Machine Learning/Project/aml_project/.venv/lib/python3.12/site-packages/sklearn/utils/extmath.py:203: RuntimeWarning: invalid value encountered in matmul\n",
      "  ret = a @ b\n",
      "/Users/yudhistiraonggowarsito/Documents/SMU/Courses/CS610 - Applied Machine Learning/Project/aml_project/.venv/lib/python3.12/site-packages/sklearn/utils/extmath.py:203: RuntimeWarning: divide by zero encountered in matmul\n",
      "  ret = a @ b\n",
      "/Users/yudhistiraonggowarsito/Documents/SMU/Courses/CS610 - Applied Machine Learning/Project/aml_project/.venv/lib/python3.12/site-packages/sklearn/utils/extmath.py:203: RuntimeWarning: overflow encountered in matmul\n",
      "  ret = a @ b\n",
      "/Users/yudhistiraonggowarsito/Documents/SMU/Courses/CS610 - Applied Machine Learning/Project/aml_project/.venv/lib/python3.12/site-packages/sklearn/utils/extmath.py:203: RuntimeWarning: invalid value encountered in matmul\n",
      "  ret = a @ b\n"
     ]
    },
    {
     "name": "stdout",
     "output_type": "stream",
     "text": [
      "[Run 3] Iter 20 F1-illicit: 0.4296\n"
     ]
    },
    {
     "name": "stderr",
     "output_type": "stream",
     "text": [
      "/Users/yudhistiraonggowarsito/Documents/SMU/Courses/CS610 - Applied Machine Learning/Project/aml_project/.venv/lib/python3.12/site-packages/sklearn/utils/extmath.py:203: RuntimeWarning: divide by zero encountered in matmul\n",
      "  ret = a @ b\n",
      "/Users/yudhistiraonggowarsito/Documents/SMU/Courses/CS610 - Applied Machine Learning/Project/aml_project/.venv/lib/python3.12/site-packages/sklearn/utils/extmath.py:203: RuntimeWarning: overflow encountered in matmul\n",
      "  ret = a @ b\n",
      "/Users/yudhistiraonggowarsito/Documents/SMU/Courses/CS610 - Applied Machine Learning/Project/aml_project/.venv/lib/python3.12/site-packages/sklearn/utils/extmath.py:203: RuntimeWarning: invalid value encountered in matmul\n",
      "  ret = a @ b\n",
      "/Users/yudhistiraonggowarsito/Documents/SMU/Courses/CS610 - Applied Machine Learning/Project/aml_project/.venv/lib/python3.12/site-packages/sklearn/utils/extmath.py:203: RuntimeWarning: divide by zero encountered in matmul\n",
      "  ret = a @ b\n",
      "/Users/yudhistiraonggowarsito/Documents/SMU/Courses/CS610 - Applied Machine Learning/Project/aml_project/.venv/lib/python3.12/site-packages/sklearn/utils/extmath.py:203: RuntimeWarning: overflow encountered in matmul\n",
      "  ret = a @ b\n",
      "/Users/yudhistiraonggowarsito/Documents/SMU/Courses/CS610 - Applied Machine Learning/Project/aml_project/.venv/lib/python3.12/site-packages/sklearn/utils/extmath.py:203: RuntimeWarning: invalid value encountered in matmul\n",
      "  ret = a @ b\n"
     ]
    },
    {
     "name": "stdout",
     "output_type": "stream",
     "text": [
      "[Run 3] Iter 21 F1-illicit: 0.4285\n"
     ]
    },
    {
     "name": "stderr",
     "output_type": "stream",
     "text": [
      "/Users/yudhistiraonggowarsito/Documents/SMU/Courses/CS610 - Applied Machine Learning/Project/aml_project/.venv/lib/python3.12/site-packages/sklearn/utils/extmath.py:203: RuntimeWarning: divide by zero encountered in matmul\n",
      "  ret = a @ b\n",
      "/Users/yudhistiraonggowarsito/Documents/SMU/Courses/CS610 - Applied Machine Learning/Project/aml_project/.venv/lib/python3.12/site-packages/sklearn/utils/extmath.py:203: RuntimeWarning: overflow encountered in matmul\n",
      "  ret = a @ b\n",
      "/Users/yudhistiraonggowarsito/Documents/SMU/Courses/CS610 - Applied Machine Learning/Project/aml_project/.venv/lib/python3.12/site-packages/sklearn/utils/extmath.py:203: RuntimeWarning: invalid value encountered in matmul\n",
      "  ret = a @ b\n",
      "/Users/yudhistiraonggowarsito/Documents/SMU/Courses/CS610 - Applied Machine Learning/Project/aml_project/.venv/lib/python3.12/site-packages/sklearn/utils/extmath.py:203: RuntimeWarning: divide by zero encountered in matmul\n",
      "  ret = a @ b\n",
      "/Users/yudhistiraonggowarsito/Documents/SMU/Courses/CS610 - Applied Machine Learning/Project/aml_project/.venv/lib/python3.12/site-packages/sklearn/utils/extmath.py:203: RuntimeWarning: overflow encountered in matmul\n",
      "  ret = a @ b\n",
      "/Users/yudhistiraonggowarsito/Documents/SMU/Courses/CS610 - Applied Machine Learning/Project/aml_project/.venv/lib/python3.12/site-packages/sklearn/utils/extmath.py:203: RuntimeWarning: invalid value encountered in matmul\n",
      "  ret = a @ b\n"
     ]
    },
    {
     "name": "stdout",
     "output_type": "stream",
     "text": [
      "[Run 3] Iter 22 F1-illicit: 0.4288\n"
     ]
    },
    {
     "name": "stderr",
     "output_type": "stream",
     "text": [
      "/Users/yudhistiraonggowarsito/Documents/SMU/Courses/CS610 - Applied Machine Learning/Project/aml_project/.venv/lib/python3.12/site-packages/sklearn/utils/extmath.py:203: RuntimeWarning: divide by zero encountered in matmul\n",
      "  ret = a @ b\n",
      "/Users/yudhistiraonggowarsito/Documents/SMU/Courses/CS610 - Applied Machine Learning/Project/aml_project/.venv/lib/python3.12/site-packages/sklearn/utils/extmath.py:203: RuntimeWarning: overflow encountered in matmul\n",
      "  ret = a @ b\n",
      "/Users/yudhistiraonggowarsito/Documents/SMU/Courses/CS610 - Applied Machine Learning/Project/aml_project/.venv/lib/python3.12/site-packages/sklearn/utils/extmath.py:203: RuntimeWarning: invalid value encountered in matmul\n",
      "  ret = a @ b\n",
      "/Users/yudhistiraonggowarsito/Documents/SMU/Courses/CS610 - Applied Machine Learning/Project/aml_project/.venv/lib/python3.12/site-packages/sklearn/utils/extmath.py:203: RuntimeWarning: divide by zero encountered in matmul\n",
      "  ret = a @ b\n",
      "/Users/yudhistiraonggowarsito/Documents/SMU/Courses/CS610 - Applied Machine Learning/Project/aml_project/.venv/lib/python3.12/site-packages/sklearn/utils/extmath.py:203: RuntimeWarning: overflow encountered in matmul\n",
      "  ret = a @ b\n",
      "/Users/yudhistiraonggowarsito/Documents/SMU/Courses/CS610 - Applied Machine Learning/Project/aml_project/.venv/lib/python3.12/site-packages/sklearn/utils/extmath.py:203: RuntimeWarning: invalid value encountered in matmul\n",
      "  ret = a @ b\n"
     ]
    },
    {
     "name": "stdout",
     "output_type": "stream",
     "text": [
      "[Run 3] Iter 23 F1-illicit: 0.4278\n"
     ]
    },
    {
     "name": "stderr",
     "output_type": "stream",
     "text": [
      "/Users/yudhistiraonggowarsito/Documents/SMU/Courses/CS610 - Applied Machine Learning/Project/aml_project/.venv/lib/python3.12/site-packages/sklearn/utils/extmath.py:203: RuntimeWarning: divide by zero encountered in matmul\n",
      "  ret = a @ b\n",
      "/Users/yudhistiraonggowarsito/Documents/SMU/Courses/CS610 - Applied Machine Learning/Project/aml_project/.venv/lib/python3.12/site-packages/sklearn/utils/extmath.py:203: RuntimeWarning: overflow encountered in matmul\n",
      "  ret = a @ b\n",
      "/Users/yudhistiraonggowarsito/Documents/SMU/Courses/CS610 - Applied Machine Learning/Project/aml_project/.venv/lib/python3.12/site-packages/sklearn/utils/extmath.py:203: RuntimeWarning: invalid value encountered in matmul\n",
      "  ret = a @ b\n",
      "/Users/yudhistiraonggowarsito/Documents/SMU/Courses/CS610 - Applied Machine Learning/Project/aml_project/.venv/lib/python3.12/site-packages/sklearn/utils/extmath.py:203: RuntimeWarning: divide by zero encountered in matmul\n",
      "  ret = a @ b\n",
      "/Users/yudhistiraonggowarsito/Documents/SMU/Courses/CS610 - Applied Machine Learning/Project/aml_project/.venv/lib/python3.12/site-packages/sklearn/utils/extmath.py:203: RuntimeWarning: overflow encountered in matmul\n",
      "  ret = a @ b\n",
      "/Users/yudhistiraonggowarsito/Documents/SMU/Courses/CS610 - Applied Machine Learning/Project/aml_project/.venv/lib/python3.12/site-packages/sklearn/utils/extmath.py:203: RuntimeWarning: invalid value encountered in matmul\n",
      "  ret = a @ b\n"
     ]
    },
    {
     "name": "stdout",
     "output_type": "stream",
     "text": [
      "[Run 3] Iter 24 F1-illicit: 0.4233\n"
     ]
    },
    {
     "name": "stderr",
     "output_type": "stream",
     "text": [
      "/Users/yudhistiraonggowarsito/Documents/SMU/Courses/CS610 - Applied Machine Learning/Project/aml_project/.venv/lib/python3.12/site-packages/sklearn/utils/extmath.py:203: RuntimeWarning: divide by zero encountered in matmul\n",
      "  ret = a @ b\n",
      "/Users/yudhistiraonggowarsito/Documents/SMU/Courses/CS610 - Applied Machine Learning/Project/aml_project/.venv/lib/python3.12/site-packages/sklearn/utils/extmath.py:203: RuntimeWarning: overflow encountered in matmul\n",
      "  ret = a @ b\n",
      "/Users/yudhistiraonggowarsito/Documents/SMU/Courses/CS610 - Applied Machine Learning/Project/aml_project/.venv/lib/python3.12/site-packages/sklearn/utils/extmath.py:203: RuntimeWarning: invalid value encountered in matmul\n",
      "  ret = a @ b\n",
      "/Users/yudhistiraonggowarsito/Documents/SMU/Courses/CS610 - Applied Machine Learning/Project/aml_project/.venv/lib/python3.12/site-packages/sklearn/utils/extmath.py:203: RuntimeWarning: divide by zero encountered in matmul\n",
      "  ret = a @ b\n",
      "/Users/yudhistiraonggowarsito/Documents/SMU/Courses/CS610 - Applied Machine Learning/Project/aml_project/.venv/lib/python3.12/site-packages/sklearn/utils/extmath.py:203: RuntimeWarning: overflow encountered in matmul\n",
      "  ret = a @ b\n",
      "/Users/yudhistiraonggowarsito/Documents/SMU/Courses/CS610 - Applied Machine Learning/Project/aml_project/.venv/lib/python3.12/site-packages/sklearn/utils/extmath.py:203: RuntimeWarning: invalid value encountered in matmul\n",
      "  ret = a @ b\n"
     ]
    },
    {
     "name": "stdout",
     "output_type": "stream",
     "text": [
      "[Run 3] Iter 25 F1-illicit: 0.4177\n"
     ]
    },
    {
     "name": "stderr",
     "output_type": "stream",
     "text": [
      "/Users/yudhistiraonggowarsito/Documents/SMU/Courses/CS610 - Applied Machine Learning/Project/aml_project/.venv/lib/python3.12/site-packages/sklearn/utils/extmath.py:203: RuntimeWarning: divide by zero encountered in matmul\n",
      "  ret = a @ b\n",
      "/Users/yudhistiraonggowarsito/Documents/SMU/Courses/CS610 - Applied Machine Learning/Project/aml_project/.venv/lib/python3.12/site-packages/sklearn/utils/extmath.py:203: RuntimeWarning: overflow encountered in matmul\n",
      "  ret = a @ b\n",
      "/Users/yudhistiraonggowarsito/Documents/SMU/Courses/CS610 - Applied Machine Learning/Project/aml_project/.venv/lib/python3.12/site-packages/sklearn/utils/extmath.py:203: RuntimeWarning: invalid value encountered in matmul\n",
      "  ret = a @ b\n",
      "/Users/yudhistiraonggowarsito/Documents/SMU/Courses/CS610 - Applied Machine Learning/Project/aml_project/.venv/lib/python3.12/site-packages/sklearn/utils/extmath.py:203: RuntimeWarning: divide by zero encountered in matmul\n",
      "  ret = a @ b\n",
      "/Users/yudhistiraonggowarsito/Documents/SMU/Courses/CS610 - Applied Machine Learning/Project/aml_project/.venv/lib/python3.12/site-packages/sklearn/utils/extmath.py:203: RuntimeWarning: overflow encountered in matmul\n",
      "  ret = a @ b\n",
      "/Users/yudhistiraonggowarsito/Documents/SMU/Courses/CS610 - Applied Machine Learning/Project/aml_project/.venv/lib/python3.12/site-packages/sklearn/utils/extmath.py:203: RuntimeWarning: invalid value encountered in matmul\n",
      "  ret = a @ b\n"
     ]
    },
    {
     "name": "stdout",
     "output_type": "stream",
     "text": [
      "[Run 3] Iter 26 F1-illicit: 0.4181\n"
     ]
    },
    {
     "name": "stderr",
     "output_type": "stream",
     "text": [
      "/Users/yudhistiraonggowarsito/Documents/SMU/Courses/CS610 - Applied Machine Learning/Project/aml_project/.venv/lib/python3.12/site-packages/sklearn/utils/extmath.py:203: RuntimeWarning: divide by zero encountered in matmul\n",
      "  ret = a @ b\n",
      "/Users/yudhistiraonggowarsito/Documents/SMU/Courses/CS610 - Applied Machine Learning/Project/aml_project/.venv/lib/python3.12/site-packages/sklearn/utils/extmath.py:203: RuntimeWarning: overflow encountered in matmul\n",
      "  ret = a @ b\n",
      "/Users/yudhistiraonggowarsito/Documents/SMU/Courses/CS610 - Applied Machine Learning/Project/aml_project/.venv/lib/python3.12/site-packages/sklearn/utils/extmath.py:203: RuntimeWarning: invalid value encountered in matmul\n",
      "  ret = a @ b\n",
      "/Users/yudhistiraonggowarsito/Documents/SMU/Courses/CS610 - Applied Machine Learning/Project/aml_project/.venv/lib/python3.12/site-packages/sklearn/utils/extmath.py:203: RuntimeWarning: divide by zero encountered in matmul\n",
      "  ret = a @ b\n",
      "/Users/yudhistiraonggowarsito/Documents/SMU/Courses/CS610 - Applied Machine Learning/Project/aml_project/.venv/lib/python3.12/site-packages/sklearn/utils/extmath.py:203: RuntimeWarning: overflow encountered in matmul\n",
      "  ret = a @ b\n",
      "/Users/yudhistiraonggowarsito/Documents/SMU/Courses/CS610 - Applied Machine Learning/Project/aml_project/.venv/lib/python3.12/site-packages/sklearn/utils/extmath.py:203: RuntimeWarning: invalid value encountered in matmul\n",
      "  ret = a @ b\n"
     ]
    },
    {
     "name": "stdout",
     "output_type": "stream",
     "text": [
      "[Run 3] Iter 27 F1-illicit: 0.4165\n"
     ]
    },
    {
     "name": "stderr",
     "output_type": "stream",
     "text": [
      "/Users/yudhistiraonggowarsito/Documents/SMU/Courses/CS610 - Applied Machine Learning/Project/aml_project/.venv/lib/python3.12/site-packages/sklearn/utils/extmath.py:203: RuntimeWarning: divide by zero encountered in matmul\n",
      "  ret = a @ b\n",
      "/Users/yudhistiraonggowarsito/Documents/SMU/Courses/CS610 - Applied Machine Learning/Project/aml_project/.venv/lib/python3.12/site-packages/sklearn/utils/extmath.py:203: RuntimeWarning: overflow encountered in matmul\n",
      "  ret = a @ b\n",
      "/Users/yudhistiraonggowarsito/Documents/SMU/Courses/CS610 - Applied Machine Learning/Project/aml_project/.venv/lib/python3.12/site-packages/sklearn/utils/extmath.py:203: RuntimeWarning: invalid value encountered in matmul\n",
      "  ret = a @ b\n",
      "/Users/yudhistiraonggowarsito/Documents/SMU/Courses/CS610 - Applied Machine Learning/Project/aml_project/.venv/lib/python3.12/site-packages/sklearn/utils/extmath.py:203: RuntimeWarning: divide by zero encountered in matmul\n",
      "  ret = a @ b\n",
      "/Users/yudhistiraonggowarsito/Documents/SMU/Courses/CS610 - Applied Machine Learning/Project/aml_project/.venv/lib/python3.12/site-packages/sklearn/utils/extmath.py:203: RuntimeWarning: overflow encountered in matmul\n",
      "  ret = a @ b\n",
      "/Users/yudhistiraonggowarsito/Documents/SMU/Courses/CS610 - Applied Machine Learning/Project/aml_project/.venv/lib/python3.12/site-packages/sklearn/utils/extmath.py:203: RuntimeWarning: invalid value encountered in matmul\n",
      "  ret = a @ b\n"
     ]
    },
    {
     "name": "stdout",
     "output_type": "stream",
     "text": [
      "[Run 3] Iter 28 F1-illicit: 0.4156\n"
     ]
    },
    {
     "name": "stderr",
     "output_type": "stream",
     "text": [
      "/Users/yudhistiraonggowarsito/Documents/SMU/Courses/CS610 - Applied Machine Learning/Project/aml_project/.venv/lib/python3.12/site-packages/sklearn/utils/extmath.py:203: RuntimeWarning: divide by zero encountered in matmul\n",
      "  ret = a @ b\n",
      "/Users/yudhistiraonggowarsito/Documents/SMU/Courses/CS610 - Applied Machine Learning/Project/aml_project/.venv/lib/python3.12/site-packages/sklearn/utils/extmath.py:203: RuntimeWarning: overflow encountered in matmul\n",
      "  ret = a @ b\n",
      "/Users/yudhistiraonggowarsito/Documents/SMU/Courses/CS610 - Applied Machine Learning/Project/aml_project/.venv/lib/python3.12/site-packages/sklearn/utils/extmath.py:203: RuntimeWarning: invalid value encountered in matmul\n",
      "  ret = a @ b\n",
      "/Users/yudhistiraonggowarsito/Documents/SMU/Courses/CS610 - Applied Machine Learning/Project/aml_project/.venv/lib/python3.12/site-packages/sklearn/utils/extmath.py:203: RuntimeWarning: divide by zero encountered in matmul\n",
      "  ret = a @ b\n",
      "/Users/yudhistiraonggowarsito/Documents/SMU/Courses/CS610 - Applied Machine Learning/Project/aml_project/.venv/lib/python3.12/site-packages/sklearn/utils/extmath.py:203: RuntimeWarning: overflow encountered in matmul\n",
      "  ret = a @ b\n",
      "/Users/yudhistiraonggowarsito/Documents/SMU/Courses/CS610 - Applied Machine Learning/Project/aml_project/.venv/lib/python3.12/site-packages/sklearn/utils/extmath.py:203: RuntimeWarning: invalid value encountered in matmul\n",
      "  ret = a @ b\n"
     ]
    },
    {
     "name": "stdout",
     "output_type": "stream",
     "text": [
      "[Run 3] Iter 29 F1-illicit: 0.4211\n"
     ]
    },
    {
     "name": "stderr",
     "output_type": "stream",
     "text": [
      "/Users/yudhistiraonggowarsito/Documents/SMU/Courses/CS610 - Applied Machine Learning/Project/aml_project/.venv/lib/python3.12/site-packages/sklearn/utils/extmath.py:203: RuntimeWarning: divide by zero encountered in matmul\n",
      "  ret = a @ b\n",
      "/Users/yudhistiraonggowarsito/Documents/SMU/Courses/CS610 - Applied Machine Learning/Project/aml_project/.venv/lib/python3.12/site-packages/sklearn/utils/extmath.py:203: RuntimeWarning: overflow encountered in matmul\n",
      "  ret = a @ b\n",
      "/Users/yudhistiraonggowarsito/Documents/SMU/Courses/CS610 - Applied Machine Learning/Project/aml_project/.venv/lib/python3.12/site-packages/sklearn/utils/extmath.py:203: RuntimeWarning: invalid value encountered in matmul\n",
      "  ret = a @ b\n",
      "/Users/yudhistiraonggowarsito/Documents/SMU/Courses/CS610 - Applied Machine Learning/Project/aml_project/.venv/lib/python3.12/site-packages/sklearn/utils/extmath.py:203: RuntimeWarning: divide by zero encountered in matmul\n",
      "  ret = a @ b\n",
      "/Users/yudhistiraonggowarsito/Documents/SMU/Courses/CS610 - Applied Machine Learning/Project/aml_project/.venv/lib/python3.12/site-packages/sklearn/utils/extmath.py:203: RuntimeWarning: overflow encountered in matmul\n",
      "  ret = a @ b\n",
      "/Users/yudhistiraonggowarsito/Documents/SMU/Courses/CS610 - Applied Machine Learning/Project/aml_project/.venv/lib/python3.12/site-packages/sklearn/utils/extmath.py:203: RuntimeWarning: invalid value encountered in matmul\n",
      "  ret = a @ b\n",
      "/var/folders/2v/617m0pq96qq942zr8nbfyzch0000gn/T/ipykernel_29924/2909400616.py:51: FutureWarning: The behavior of DataFrame concatenation with empty or all-NA entries is deprecated. In a future version, this will no longer exclude empty or all-NA columns when determining the result dtypes. To retain the old behavior, exclude the relevant entries before the concat operation.\n",
      "  labeled_pool = pd.concat([labeled_pool, batch], ignore_index=True)\n",
      "/Users/yudhistiraonggowarsito/Documents/SMU/Courses/CS610 - Applied Machine Learning/Project/aml_project/.venv/lib/python3.12/site-packages/sklearn/utils/extmath.py:203: RuntimeWarning: divide by zero encountered in matmul\n",
      "  ret = a @ b\n",
      "/Users/yudhistiraonggowarsito/Documents/SMU/Courses/CS610 - Applied Machine Learning/Project/aml_project/.venv/lib/python3.12/site-packages/sklearn/utils/extmath.py:203: RuntimeWarning: overflow encountered in matmul\n",
      "  ret = a @ b\n",
      "/Users/yudhistiraonggowarsito/Documents/SMU/Courses/CS610 - Applied Machine Learning/Project/aml_project/.venv/lib/python3.12/site-packages/sklearn/utils/extmath.py:203: RuntimeWarning: invalid value encountered in matmul\n",
      "  ret = a @ b\n",
      "/Users/yudhistiraonggowarsito/Documents/SMU/Courses/CS610 - Applied Machine Learning/Project/aml_project/.venv/lib/python3.12/site-packages/sklearn/utils/extmath.py:203: RuntimeWarning: divide by zero encountered in matmul\n",
      "  ret = a @ b\n",
      "/Users/yudhistiraonggowarsito/Documents/SMU/Courses/CS610 - Applied Machine Learning/Project/aml_project/.venv/lib/python3.12/site-packages/sklearn/utils/extmath.py:203: RuntimeWarning: overflow encountered in matmul\n",
      "  ret = a @ b\n",
      "/Users/yudhistiraonggowarsito/Documents/SMU/Courses/CS610 - Applied Machine Learning/Project/aml_project/.venv/lib/python3.12/site-packages/sklearn/utils/extmath.py:203: RuntimeWarning: invalid value encountered in matmul\n",
      "  ret = a @ b\n",
      "/Users/yudhistiraonggowarsito/Documents/SMU/Courses/CS610 - Applied Machine Learning/Project/aml_project/.venv/lib/python3.12/site-packages/sklearn/utils/extmath.py:203: RuntimeWarning: divide by zero encountered in matmul\n",
      "  ret = a @ b\n",
      "/Users/yudhistiraonggowarsito/Documents/SMU/Courses/CS610 - Applied Machine Learning/Project/aml_project/.venv/lib/python3.12/site-packages/sklearn/utils/extmath.py:203: RuntimeWarning: overflow encountered in matmul\n",
      "  ret = a @ b\n",
      "/Users/yudhistiraonggowarsito/Documents/SMU/Courses/CS610 - Applied Machine Learning/Project/aml_project/.venv/lib/python3.12/site-packages/sklearn/utils/extmath.py:203: RuntimeWarning: invalid value encountered in matmul\n",
      "  ret = a @ b\n",
      "/Users/yudhistiraonggowarsito/Documents/SMU/Courses/CS610 - Applied Machine Learning/Project/aml_project/.venv/lib/python3.12/site-packages/sklearn/utils/extmath.py:203: RuntimeWarning: divide by zero encountered in matmul\n",
      "  ret = a @ b\n",
      "/Users/yudhistiraonggowarsito/Documents/SMU/Courses/CS610 - Applied Machine Learning/Project/aml_project/.venv/lib/python3.12/site-packages/sklearn/utils/extmath.py:203: RuntimeWarning: overflow encountered in matmul\n",
      "  ret = a @ b\n",
      "/Users/yudhistiraonggowarsito/Documents/SMU/Courses/CS610 - Applied Machine Learning/Project/aml_project/.venv/lib/python3.12/site-packages/sklearn/utils/extmath.py:203: RuntimeWarning: invalid value encountered in matmul\n",
      "  ret = a @ b\n"
     ]
    },
    {
     "name": "stdout",
     "output_type": "stream",
     "text": [
      "[Run 3] Iter 30 F1-illicit: 0.4276\n",
      "\n",
      "=== Run 4/5 ===\n",
      "[Run 4] Iter 1 F1-illicit: 0.1902\n",
      "[Run 4] Iter 2 F1-illicit: 0.2350\n"
     ]
    },
    {
     "name": "stderr",
     "output_type": "stream",
     "text": [
      "/Users/yudhistiraonggowarsito/Documents/SMU/Courses/CS610 - Applied Machine Learning/Project/aml_project/.venv/lib/python3.12/site-packages/sklearn/utils/extmath.py:203: RuntimeWarning: divide by zero encountered in matmul\n",
      "  ret = a @ b\n",
      "/Users/yudhistiraonggowarsito/Documents/SMU/Courses/CS610 - Applied Machine Learning/Project/aml_project/.venv/lib/python3.12/site-packages/sklearn/utils/extmath.py:203: RuntimeWarning: overflow encountered in matmul\n",
      "  ret = a @ b\n",
      "/Users/yudhistiraonggowarsito/Documents/SMU/Courses/CS610 - Applied Machine Learning/Project/aml_project/.venv/lib/python3.12/site-packages/sklearn/utils/extmath.py:203: RuntimeWarning: invalid value encountered in matmul\n",
      "  ret = a @ b\n",
      "/Users/yudhistiraonggowarsito/Documents/SMU/Courses/CS610 - Applied Machine Learning/Project/aml_project/.venv/lib/python3.12/site-packages/sklearn/utils/extmath.py:203: RuntimeWarning: divide by zero encountered in matmul\n",
      "  ret = a @ b\n",
      "/Users/yudhistiraonggowarsito/Documents/SMU/Courses/CS610 - Applied Machine Learning/Project/aml_project/.venv/lib/python3.12/site-packages/sklearn/utils/extmath.py:203: RuntimeWarning: overflow encountered in matmul\n",
      "  ret = a @ b\n",
      "/Users/yudhistiraonggowarsito/Documents/SMU/Courses/CS610 - Applied Machine Learning/Project/aml_project/.venv/lib/python3.12/site-packages/sklearn/utils/extmath.py:203: RuntimeWarning: invalid value encountered in matmul\n",
      "  ret = a @ b\n",
      "/Users/yudhistiraonggowarsito/Documents/SMU/Courses/CS610 - Applied Machine Learning/Project/aml_project/.venv/lib/python3.12/site-packages/sklearn/utils/extmath.py:203: RuntimeWarning: divide by zero encountered in matmul\n",
      "  ret = a @ b\n",
      "/Users/yudhistiraonggowarsito/Documents/SMU/Courses/CS610 - Applied Machine Learning/Project/aml_project/.venv/lib/python3.12/site-packages/sklearn/utils/extmath.py:203: RuntimeWarning: overflow encountered in matmul\n",
      "  ret = a @ b\n",
      "/Users/yudhistiraonggowarsito/Documents/SMU/Courses/CS610 - Applied Machine Learning/Project/aml_project/.venv/lib/python3.12/site-packages/sklearn/utils/extmath.py:203: RuntimeWarning: invalid value encountered in matmul\n",
      "  ret = a @ b\n",
      "/Users/yudhistiraonggowarsito/Documents/SMU/Courses/CS610 - Applied Machine Learning/Project/aml_project/.venv/lib/python3.12/site-packages/sklearn/utils/extmath.py:203: RuntimeWarning: divide by zero encountered in matmul\n",
      "  ret = a @ b\n",
      "/Users/yudhistiraonggowarsito/Documents/SMU/Courses/CS610 - Applied Machine Learning/Project/aml_project/.venv/lib/python3.12/site-packages/sklearn/utils/extmath.py:203: RuntimeWarning: overflow encountered in matmul\n",
      "  ret = a @ b\n",
      "/Users/yudhistiraonggowarsito/Documents/SMU/Courses/CS610 - Applied Machine Learning/Project/aml_project/.venv/lib/python3.12/site-packages/sklearn/utils/extmath.py:203: RuntimeWarning: invalid value encountered in matmul\n",
      "  ret = a @ b\n"
     ]
    },
    {
     "name": "stdout",
     "output_type": "stream",
     "text": [
      "[Run 4] Iter 3 F1-illicit: 0.3163\n",
      "[Run 4] Iter 4 F1-illicit: 0.4166\n"
     ]
    },
    {
     "name": "stderr",
     "output_type": "stream",
     "text": [
      "/Users/yudhistiraonggowarsito/Documents/SMU/Courses/CS610 - Applied Machine Learning/Project/aml_project/.venv/lib/python3.12/site-packages/sklearn/utils/extmath.py:203: RuntimeWarning: divide by zero encountered in matmul\n",
      "  ret = a @ b\n",
      "/Users/yudhistiraonggowarsito/Documents/SMU/Courses/CS610 - Applied Machine Learning/Project/aml_project/.venv/lib/python3.12/site-packages/sklearn/utils/extmath.py:203: RuntimeWarning: overflow encountered in matmul\n",
      "  ret = a @ b\n",
      "/Users/yudhistiraonggowarsito/Documents/SMU/Courses/CS610 - Applied Machine Learning/Project/aml_project/.venv/lib/python3.12/site-packages/sklearn/utils/extmath.py:203: RuntimeWarning: invalid value encountered in matmul\n",
      "  ret = a @ b\n",
      "/Users/yudhistiraonggowarsito/Documents/SMU/Courses/CS610 - Applied Machine Learning/Project/aml_project/.venv/lib/python3.12/site-packages/sklearn/utils/extmath.py:203: RuntimeWarning: divide by zero encountered in matmul\n",
      "  ret = a @ b\n",
      "/Users/yudhistiraonggowarsito/Documents/SMU/Courses/CS610 - Applied Machine Learning/Project/aml_project/.venv/lib/python3.12/site-packages/sklearn/utils/extmath.py:203: RuntimeWarning: overflow encountered in matmul\n",
      "  ret = a @ b\n",
      "/Users/yudhistiraonggowarsito/Documents/SMU/Courses/CS610 - Applied Machine Learning/Project/aml_project/.venv/lib/python3.12/site-packages/sklearn/utils/extmath.py:203: RuntimeWarning: invalid value encountered in matmul\n",
      "  ret = a @ b\n",
      "/Users/yudhistiraonggowarsito/Documents/SMU/Courses/CS610 - Applied Machine Learning/Project/aml_project/.venv/lib/python3.12/site-packages/sklearn/utils/extmath.py:203: RuntimeWarning: divide by zero encountered in matmul\n",
      "  ret = a @ b\n",
      "/Users/yudhistiraonggowarsito/Documents/SMU/Courses/CS610 - Applied Machine Learning/Project/aml_project/.venv/lib/python3.12/site-packages/sklearn/utils/extmath.py:203: RuntimeWarning: overflow encountered in matmul\n",
      "  ret = a @ b\n",
      "/Users/yudhistiraonggowarsito/Documents/SMU/Courses/CS610 - Applied Machine Learning/Project/aml_project/.venv/lib/python3.12/site-packages/sklearn/utils/extmath.py:203: RuntimeWarning: invalid value encountered in matmul\n",
      "  ret = a @ b\n",
      "/Users/yudhistiraonggowarsito/Documents/SMU/Courses/CS610 - Applied Machine Learning/Project/aml_project/.venv/lib/python3.12/site-packages/sklearn/utils/extmath.py:203: RuntimeWarning: divide by zero encountered in matmul\n",
      "  ret = a @ b\n",
      "/Users/yudhistiraonggowarsito/Documents/SMU/Courses/CS610 - Applied Machine Learning/Project/aml_project/.venv/lib/python3.12/site-packages/sklearn/utils/extmath.py:203: RuntimeWarning: overflow encountered in matmul\n",
      "  ret = a @ b\n",
      "/Users/yudhistiraonggowarsito/Documents/SMU/Courses/CS610 - Applied Machine Learning/Project/aml_project/.venv/lib/python3.12/site-packages/sklearn/utils/extmath.py:203: RuntimeWarning: invalid value encountered in matmul\n",
      "  ret = a @ b\n"
     ]
    },
    {
     "name": "stdout",
     "output_type": "stream",
     "text": [
      "[Run 4] Iter 5 F1-illicit: 0.4739\n",
      "[Run 4] Iter 6 F1-illicit: 0.4713\n"
     ]
    },
    {
     "name": "stderr",
     "output_type": "stream",
     "text": [
      "/Users/yudhistiraonggowarsito/Documents/SMU/Courses/CS610 - Applied Machine Learning/Project/aml_project/.venv/lib/python3.12/site-packages/sklearn/utils/extmath.py:203: RuntimeWarning: divide by zero encountered in matmul\n",
      "  ret = a @ b\n",
      "/Users/yudhistiraonggowarsito/Documents/SMU/Courses/CS610 - Applied Machine Learning/Project/aml_project/.venv/lib/python3.12/site-packages/sklearn/utils/extmath.py:203: RuntimeWarning: overflow encountered in matmul\n",
      "  ret = a @ b\n",
      "/Users/yudhistiraonggowarsito/Documents/SMU/Courses/CS610 - Applied Machine Learning/Project/aml_project/.venv/lib/python3.12/site-packages/sklearn/utils/extmath.py:203: RuntimeWarning: invalid value encountered in matmul\n",
      "  ret = a @ b\n",
      "/Users/yudhistiraonggowarsito/Documents/SMU/Courses/CS610 - Applied Machine Learning/Project/aml_project/.venv/lib/python3.12/site-packages/sklearn/utils/extmath.py:203: RuntimeWarning: divide by zero encountered in matmul\n",
      "  ret = a @ b\n",
      "/Users/yudhistiraonggowarsito/Documents/SMU/Courses/CS610 - Applied Machine Learning/Project/aml_project/.venv/lib/python3.12/site-packages/sklearn/utils/extmath.py:203: RuntimeWarning: overflow encountered in matmul\n",
      "  ret = a @ b\n",
      "/Users/yudhistiraonggowarsito/Documents/SMU/Courses/CS610 - Applied Machine Learning/Project/aml_project/.venv/lib/python3.12/site-packages/sklearn/utils/extmath.py:203: RuntimeWarning: invalid value encountered in matmul\n",
      "  ret = a @ b\n"
     ]
    },
    {
     "name": "stdout",
     "output_type": "stream",
     "text": [
      "[Run 4] Iter 7 F1-illicit: 0.4825\n"
     ]
    },
    {
     "name": "stderr",
     "output_type": "stream",
     "text": [
      "/Users/yudhistiraonggowarsito/Documents/SMU/Courses/CS610 - Applied Machine Learning/Project/aml_project/.venv/lib/python3.12/site-packages/sklearn/utils/extmath.py:203: RuntimeWarning: divide by zero encountered in matmul\n",
      "  ret = a @ b\n",
      "/Users/yudhistiraonggowarsito/Documents/SMU/Courses/CS610 - Applied Machine Learning/Project/aml_project/.venv/lib/python3.12/site-packages/sklearn/utils/extmath.py:203: RuntimeWarning: overflow encountered in matmul\n",
      "  ret = a @ b\n",
      "/Users/yudhistiraonggowarsito/Documents/SMU/Courses/CS610 - Applied Machine Learning/Project/aml_project/.venv/lib/python3.12/site-packages/sklearn/utils/extmath.py:203: RuntimeWarning: invalid value encountered in matmul\n",
      "  ret = a @ b\n",
      "/Users/yudhistiraonggowarsito/Documents/SMU/Courses/CS610 - Applied Machine Learning/Project/aml_project/.venv/lib/python3.12/site-packages/sklearn/utils/extmath.py:203: RuntimeWarning: divide by zero encountered in matmul\n",
      "  ret = a @ b\n",
      "/Users/yudhistiraonggowarsito/Documents/SMU/Courses/CS610 - Applied Machine Learning/Project/aml_project/.venv/lib/python3.12/site-packages/sklearn/utils/extmath.py:203: RuntimeWarning: overflow encountered in matmul\n",
      "  ret = a @ b\n",
      "/Users/yudhistiraonggowarsito/Documents/SMU/Courses/CS610 - Applied Machine Learning/Project/aml_project/.venv/lib/python3.12/site-packages/sklearn/utils/extmath.py:203: RuntimeWarning: invalid value encountered in matmul\n",
      "  ret = a @ b\n"
     ]
    },
    {
     "name": "stdout",
     "output_type": "stream",
     "text": [
      "[Run 4] Iter 8 F1-illicit: 0.4666\n"
     ]
    },
    {
     "name": "stderr",
     "output_type": "stream",
     "text": [
      "/Users/yudhistiraonggowarsito/Documents/SMU/Courses/CS610 - Applied Machine Learning/Project/aml_project/.venv/lib/python3.12/site-packages/sklearn/utils/extmath.py:203: RuntimeWarning: divide by zero encountered in matmul\n",
      "  ret = a @ b\n",
      "/Users/yudhistiraonggowarsito/Documents/SMU/Courses/CS610 - Applied Machine Learning/Project/aml_project/.venv/lib/python3.12/site-packages/sklearn/utils/extmath.py:203: RuntimeWarning: overflow encountered in matmul\n",
      "  ret = a @ b\n",
      "/Users/yudhistiraonggowarsito/Documents/SMU/Courses/CS610 - Applied Machine Learning/Project/aml_project/.venv/lib/python3.12/site-packages/sklearn/utils/extmath.py:203: RuntimeWarning: invalid value encountered in matmul\n",
      "  ret = a @ b\n",
      "/Users/yudhistiraonggowarsito/Documents/SMU/Courses/CS610 - Applied Machine Learning/Project/aml_project/.venv/lib/python3.12/site-packages/sklearn/utils/extmath.py:203: RuntimeWarning: divide by zero encountered in matmul\n",
      "  ret = a @ b\n",
      "/Users/yudhistiraonggowarsito/Documents/SMU/Courses/CS610 - Applied Machine Learning/Project/aml_project/.venv/lib/python3.12/site-packages/sklearn/utils/extmath.py:203: RuntimeWarning: overflow encountered in matmul\n",
      "  ret = a @ b\n",
      "/Users/yudhistiraonggowarsito/Documents/SMU/Courses/CS610 - Applied Machine Learning/Project/aml_project/.venv/lib/python3.12/site-packages/sklearn/utils/extmath.py:203: RuntimeWarning: invalid value encountered in matmul\n",
      "  ret = a @ b\n"
     ]
    },
    {
     "name": "stdout",
     "output_type": "stream",
     "text": [
      "[Run 4] Iter 9 F1-illicit: 0.4717\n"
     ]
    },
    {
     "name": "stderr",
     "output_type": "stream",
     "text": [
      "/Users/yudhistiraonggowarsito/Documents/SMU/Courses/CS610 - Applied Machine Learning/Project/aml_project/.venv/lib/python3.12/site-packages/sklearn/utils/extmath.py:203: RuntimeWarning: divide by zero encountered in matmul\n",
      "  ret = a @ b\n",
      "/Users/yudhistiraonggowarsito/Documents/SMU/Courses/CS610 - Applied Machine Learning/Project/aml_project/.venv/lib/python3.12/site-packages/sklearn/utils/extmath.py:203: RuntimeWarning: overflow encountered in matmul\n",
      "  ret = a @ b\n",
      "/Users/yudhistiraonggowarsito/Documents/SMU/Courses/CS610 - Applied Machine Learning/Project/aml_project/.venv/lib/python3.12/site-packages/sklearn/utils/extmath.py:203: RuntimeWarning: invalid value encountered in matmul\n",
      "  ret = a @ b\n",
      "/Users/yudhistiraonggowarsito/Documents/SMU/Courses/CS610 - Applied Machine Learning/Project/aml_project/.venv/lib/python3.12/site-packages/sklearn/utils/extmath.py:203: RuntimeWarning: divide by zero encountered in matmul\n",
      "  ret = a @ b\n",
      "/Users/yudhistiraonggowarsito/Documents/SMU/Courses/CS610 - Applied Machine Learning/Project/aml_project/.venv/lib/python3.12/site-packages/sklearn/utils/extmath.py:203: RuntimeWarning: overflow encountered in matmul\n",
      "  ret = a @ b\n",
      "/Users/yudhistiraonggowarsito/Documents/SMU/Courses/CS610 - Applied Machine Learning/Project/aml_project/.venv/lib/python3.12/site-packages/sklearn/utils/extmath.py:203: RuntimeWarning: invalid value encountered in matmul\n",
      "  ret = a @ b\n"
     ]
    },
    {
     "name": "stdout",
     "output_type": "stream",
     "text": [
      "[Run 4] Iter 10 F1-illicit: 0.4575\n"
     ]
    },
    {
     "name": "stderr",
     "output_type": "stream",
     "text": [
      "/Users/yudhistiraonggowarsito/Documents/SMU/Courses/CS610 - Applied Machine Learning/Project/aml_project/.venv/lib/python3.12/site-packages/sklearn/utils/extmath.py:203: RuntimeWarning: divide by zero encountered in matmul\n",
      "  ret = a @ b\n",
      "/Users/yudhistiraonggowarsito/Documents/SMU/Courses/CS610 - Applied Machine Learning/Project/aml_project/.venv/lib/python3.12/site-packages/sklearn/utils/extmath.py:203: RuntimeWarning: overflow encountered in matmul\n",
      "  ret = a @ b\n",
      "/Users/yudhistiraonggowarsito/Documents/SMU/Courses/CS610 - Applied Machine Learning/Project/aml_project/.venv/lib/python3.12/site-packages/sklearn/utils/extmath.py:203: RuntimeWarning: invalid value encountered in matmul\n",
      "  ret = a @ b\n",
      "/Users/yudhistiraonggowarsito/Documents/SMU/Courses/CS610 - Applied Machine Learning/Project/aml_project/.venv/lib/python3.12/site-packages/sklearn/utils/extmath.py:203: RuntimeWarning: divide by zero encountered in matmul\n",
      "  ret = a @ b\n",
      "/Users/yudhistiraonggowarsito/Documents/SMU/Courses/CS610 - Applied Machine Learning/Project/aml_project/.venv/lib/python3.12/site-packages/sklearn/utils/extmath.py:203: RuntimeWarning: overflow encountered in matmul\n",
      "  ret = a @ b\n",
      "/Users/yudhistiraonggowarsito/Documents/SMU/Courses/CS610 - Applied Machine Learning/Project/aml_project/.venv/lib/python3.12/site-packages/sklearn/utils/extmath.py:203: RuntimeWarning: invalid value encountered in matmul\n",
      "  ret = a @ b\n"
     ]
    },
    {
     "name": "stdout",
     "output_type": "stream",
     "text": [
      "[Run 4] Iter 11 F1-illicit: 0.4494\n"
     ]
    },
    {
     "name": "stderr",
     "output_type": "stream",
     "text": [
      "/Users/yudhistiraonggowarsito/Documents/SMU/Courses/CS610 - Applied Machine Learning/Project/aml_project/.venv/lib/python3.12/site-packages/sklearn/utils/extmath.py:203: RuntimeWarning: divide by zero encountered in matmul\n",
      "  ret = a @ b\n",
      "/Users/yudhistiraonggowarsito/Documents/SMU/Courses/CS610 - Applied Machine Learning/Project/aml_project/.venv/lib/python3.12/site-packages/sklearn/utils/extmath.py:203: RuntimeWarning: overflow encountered in matmul\n",
      "  ret = a @ b\n",
      "/Users/yudhistiraonggowarsito/Documents/SMU/Courses/CS610 - Applied Machine Learning/Project/aml_project/.venv/lib/python3.12/site-packages/sklearn/utils/extmath.py:203: RuntimeWarning: invalid value encountered in matmul\n",
      "  ret = a @ b\n",
      "/Users/yudhistiraonggowarsito/Documents/SMU/Courses/CS610 - Applied Machine Learning/Project/aml_project/.venv/lib/python3.12/site-packages/sklearn/utils/extmath.py:203: RuntimeWarning: divide by zero encountered in matmul\n",
      "  ret = a @ b\n",
      "/Users/yudhistiraonggowarsito/Documents/SMU/Courses/CS610 - Applied Machine Learning/Project/aml_project/.venv/lib/python3.12/site-packages/sklearn/utils/extmath.py:203: RuntimeWarning: overflow encountered in matmul\n",
      "  ret = a @ b\n",
      "/Users/yudhistiraonggowarsito/Documents/SMU/Courses/CS610 - Applied Machine Learning/Project/aml_project/.venv/lib/python3.12/site-packages/sklearn/utils/extmath.py:203: RuntimeWarning: invalid value encountered in matmul\n",
      "  ret = a @ b\n"
     ]
    },
    {
     "name": "stdout",
     "output_type": "stream",
     "text": [
      "[Run 4] Iter 12 F1-illicit: 0.4422\n"
     ]
    },
    {
     "name": "stderr",
     "output_type": "stream",
     "text": [
      "/Users/yudhistiraonggowarsito/Documents/SMU/Courses/CS610 - Applied Machine Learning/Project/aml_project/.venv/lib/python3.12/site-packages/sklearn/utils/extmath.py:203: RuntimeWarning: divide by zero encountered in matmul\n",
      "  ret = a @ b\n",
      "/Users/yudhistiraonggowarsito/Documents/SMU/Courses/CS610 - Applied Machine Learning/Project/aml_project/.venv/lib/python3.12/site-packages/sklearn/utils/extmath.py:203: RuntimeWarning: overflow encountered in matmul\n",
      "  ret = a @ b\n",
      "/Users/yudhistiraonggowarsito/Documents/SMU/Courses/CS610 - Applied Machine Learning/Project/aml_project/.venv/lib/python3.12/site-packages/sklearn/utils/extmath.py:203: RuntimeWarning: invalid value encountered in matmul\n",
      "  ret = a @ b\n",
      "/Users/yudhistiraonggowarsito/Documents/SMU/Courses/CS610 - Applied Machine Learning/Project/aml_project/.venv/lib/python3.12/site-packages/sklearn/utils/extmath.py:203: RuntimeWarning: divide by zero encountered in matmul\n",
      "  ret = a @ b\n",
      "/Users/yudhistiraonggowarsito/Documents/SMU/Courses/CS610 - Applied Machine Learning/Project/aml_project/.venv/lib/python3.12/site-packages/sklearn/utils/extmath.py:203: RuntimeWarning: overflow encountered in matmul\n",
      "  ret = a @ b\n",
      "/Users/yudhistiraonggowarsito/Documents/SMU/Courses/CS610 - Applied Machine Learning/Project/aml_project/.venv/lib/python3.12/site-packages/sklearn/utils/extmath.py:203: RuntimeWarning: invalid value encountered in matmul\n",
      "  ret = a @ b\n"
     ]
    },
    {
     "name": "stdout",
     "output_type": "stream",
     "text": [
      "[Run 4] Iter 13 F1-illicit: 0.4362\n"
     ]
    },
    {
     "name": "stderr",
     "output_type": "stream",
     "text": [
      "/Users/yudhistiraonggowarsito/Documents/SMU/Courses/CS610 - Applied Machine Learning/Project/aml_project/.venv/lib/python3.12/site-packages/sklearn/utils/extmath.py:203: RuntimeWarning: divide by zero encountered in matmul\n",
      "  ret = a @ b\n",
      "/Users/yudhistiraonggowarsito/Documents/SMU/Courses/CS610 - Applied Machine Learning/Project/aml_project/.venv/lib/python3.12/site-packages/sklearn/utils/extmath.py:203: RuntimeWarning: overflow encountered in matmul\n",
      "  ret = a @ b\n",
      "/Users/yudhistiraonggowarsito/Documents/SMU/Courses/CS610 - Applied Machine Learning/Project/aml_project/.venv/lib/python3.12/site-packages/sklearn/utils/extmath.py:203: RuntimeWarning: invalid value encountered in matmul\n",
      "  ret = a @ b\n",
      "/Users/yudhistiraonggowarsito/Documents/SMU/Courses/CS610 - Applied Machine Learning/Project/aml_project/.venv/lib/python3.12/site-packages/sklearn/utils/extmath.py:203: RuntimeWarning: divide by zero encountered in matmul\n",
      "  ret = a @ b\n",
      "/Users/yudhistiraonggowarsito/Documents/SMU/Courses/CS610 - Applied Machine Learning/Project/aml_project/.venv/lib/python3.12/site-packages/sklearn/utils/extmath.py:203: RuntimeWarning: overflow encountered in matmul\n",
      "  ret = a @ b\n",
      "/Users/yudhistiraonggowarsito/Documents/SMU/Courses/CS610 - Applied Machine Learning/Project/aml_project/.venv/lib/python3.12/site-packages/sklearn/utils/extmath.py:203: RuntimeWarning: invalid value encountered in matmul\n",
      "  ret = a @ b\n"
     ]
    },
    {
     "name": "stdout",
     "output_type": "stream",
     "text": [
      "[Run 4] Iter 14 F1-illicit: 0.4283\n"
     ]
    },
    {
     "name": "stderr",
     "output_type": "stream",
     "text": [
      "/Users/yudhistiraonggowarsito/Documents/SMU/Courses/CS610 - Applied Machine Learning/Project/aml_project/.venv/lib/python3.12/site-packages/sklearn/utils/extmath.py:203: RuntimeWarning: divide by zero encountered in matmul\n",
      "  ret = a @ b\n",
      "/Users/yudhistiraonggowarsito/Documents/SMU/Courses/CS610 - Applied Machine Learning/Project/aml_project/.venv/lib/python3.12/site-packages/sklearn/utils/extmath.py:203: RuntimeWarning: overflow encountered in matmul\n",
      "  ret = a @ b\n",
      "/Users/yudhistiraonggowarsito/Documents/SMU/Courses/CS610 - Applied Machine Learning/Project/aml_project/.venv/lib/python3.12/site-packages/sklearn/utils/extmath.py:203: RuntimeWarning: invalid value encountered in matmul\n",
      "  ret = a @ b\n",
      "/Users/yudhistiraonggowarsito/Documents/SMU/Courses/CS610 - Applied Machine Learning/Project/aml_project/.venv/lib/python3.12/site-packages/sklearn/utils/extmath.py:203: RuntimeWarning: divide by zero encountered in matmul\n",
      "  ret = a @ b\n",
      "/Users/yudhistiraonggowarsito/Documents/SMU/Courses/CS610 - Applied Machine Learning/Project/aml_project/.venv/lib/python3.12/site-packages/sklearn/utils/extmath.py:203: RuntimeWarning: overflow encountered in matmul\n",
      "  ret = a @ b\n",
      "/Users/yudhistiraonggowarsito/Documents/SMU/Courses/CS610 - Applied Machine Learning/Project/aml_project/.venv/lib/python3.12/site-packages/sklearn/utils/extmath.py:203: RuntimeWarning: invalid value encountered in matmul\n",
      "  ret = a @ b\n"
     ]
    },
    {
     "name": "stdout",
     "output_type": "stream",
     "text": [
      "[Run 4] Iter 15 F1-illicit: 0.4299\n"
     ]
    },
    {
     "name": "stderr",
     "output_type": "stream",
     "text": [
      "/Users/yudhistiraonggowarsito/Documents/SMU/Courses/CS610 - Applied Machine Learning/Project/aml_project/.venv/lib/python3.12/site-packages/sklearn/utils/extmath.py:203: RuntimeWarning: divide by zero encountered in matmul\n",
      "  ret = a @ b\n",
      "/Users/yudhistiraonggowarsito/Documents/SMU/Courses/CS610 - Applied Machine Learning/Project/aml_project/.venv/lib/python3.12/site-packages/sklearn/utils/extmath.py:203: RuntimeWarning: overflow encountered in matmul\n",
      "  ret = a @ b\n",
      "/Users/yudhistiraonggowarsito/Documents/SMU/Courses/CS610 - Applied Machine Learning/Project/aml_project/.venv/lib/python3.12/site-packages/sklearn/utils/extmath.py:203: RuntimeWarning: invalid value encountered in matmul\n",
      "  ret = a @ b\n",
      "/Users/yudhistiraonggowarsito/Documents/SMU/Courses/CS610 - Applied Machine Learning/Project/aml_project/.venv/lib/python3.12/site-packages/sklearn/utils/extmath.py:203: RuntimeWarning: divide by zero encountered in matmul\n",
      "  ret = a @ b\n",
      "/Users/yudhistiraonggowarsito/Documents/SMU/Courses/CS610 - Applied Machine Learning/Project/aml_project/.venv/lib/python3.12/site-packages/sklearn/utils/extmath.py:203: RuntimeWarning: overflow encountered in matmul\n",
      "  ret = a @ b\n",
      "/Users/yudhistiraonggowarsito/Documents/SMU/Courses/CS610 - Applied Machine Learning/Project/aml_project/.venv/lib/python3.12/site-packages/sklearn/utils/extmath.py:203: RuntimeWarning: invalid value encountered in matmul\n",
      "  ret = a @ b\n"
     ]
    },
    {
     "name": "stdout",
     "output_type": "stream",
     "text": [
      "[Run 4] Iter 16 F1-illicit: 0.4287\n"
     ]
    },
    {
     "name": "stderr",
     "output_type": "stream",
     "text": [
      "/Users/yudhistiraonggowarsito/Documents/SMU/Courses/CS610 - Applied Machine Learning/Project/aml_project/.venv/lib/python3.12/site-packages/sklearn/utils/extmath.py:203: RuntimeWarning: divide by zero encountered in matmul\n",
      "  ret = a @ b\n",
      "/Users/yudhistiraonggowarsito/Documents/SMU/Courses/CS610 - Applied Machine Learning/Project/aml_project/.venv/lib/python3.12/site-packages/sklearn/utils/extmath.py:203: RuntimeWarning: overflow encountered in matmul\n",
      "  ret = a @ b\n",
      "/Users/yudhistiraonggowarsito/Documents/SMU/Courses/CS610 - Applied Machine Learning/Project/aml_project/.venv/lib/python3.12/site-packages/sklearn/utils/extmath.py:203: RuntimeWarning: invalid value encountered in matmul\n",
      "  ret = a @ b\n",
      "/Users/yudhistiraonggowarsito/Documents/SMU/Courses/CS610 - Applied Machine Learning/Project/aml_project/.venv/lib/python3.12/site-packages/sklearn/utils/extmath.py:203: RuntimeWarning: divide by zero encountered in matmul\n",
      "  ret = a @ b\n",
      "/Users/yudhistiraonggowarsito/Documents/SMU/Courses/CS610 - Applied Machine Learning/Project/aml_project/.venv/lib/python3.12/site-packages/sklearn/utils/extmath.py:203: RuntimeWarning: overflow encountered in matmul\n",
      "  ret = a @ b\n",
      "/Users/yudhistiraonggowarsito/Documents/SMU/Courses/CS610 - Applied Machine Learning/Project/aml_project/.venv/lib/python3.12/site-packages/sklearn/utils/extmath.py:203: RuntimeWarning: invalid value encountered in matmul\n",
      "  ret = a @ b\n"
     ]
    },
    {
     "name": "stdout",
     "output_type": "stream",
     "text": [
      "[Run 4] Iter 17 F1-illicit: 0.4272\n"
     ]
    },
    {
     "name": "stderr",
     "output_type": "stream",
     "text": [
      "/Users/yudhistiraonggowarsito/Documents/SMU/Courses/CS610 - Applied Machine Learning/Project/aml_project/.venv/lib/python3.12/site-packages/sklearn/utils/extmath.py:203: RuntimeWarning: divide by zero encountered in matmul\n",
      "  ret = a @ b\n",
      "/Users/yudhistiraonggowarsito/Documents/SMU/Courses/CS610 - Applied Machine Learning/Project/aml_project/.venv/lib/python3.12/site-packages/sklearn/utils/extmath.py:203: RuntimeWarning: overflow encountered in matmul\n",
      "  ret = a @ b\n",
      "/Users/yudhistiraonggowarsito/Documents/SMU/Courses/CS610 - Applied Machine Learning/Project/aml_project/.venv/lib/python3.12/site-packages/sklearn/utils/extmath.py:203: RuntimeWarning: invalid value encountered in matmul\n",
      "  ret = a @ b\n",
      "/Users/yudhistiraonggowarsito/Documents/SMU/Courses/CS610 - Applied Machine Learning/Project/aml_project/.venv/lib/python3.12/site-packages/sklearn/utils/extmath.py:203: RuntimeWarning: divide by zero encountered in matmul\n",
      "  ret = a @ b\n",
      "/Users/yudhistiraonggowarsito/Documents/SMU/Courses/CS610 - Applied Machine Learning/Project/aml_project/.venv/lib/python3.12/site-packages/sklearn/utils/extmath.py:203: RuntimeWarning: overflow encountered in matmul\n",
      "  ret = a @ b\n",
      "/Users/yudhistiraonggowarsito/Documents/SMU/Courses/CS610 - Applied Machine Learning/Project/aml_project/.venv/lib/python3.12/site-packages/sklearn/utils/extmath.py:203: RuntimeWarning: invalid value encountered in matmul\n",
      "  ret = a @ b\n"
     ]
    },
    {
     "name": "stdout",
     "output_type": "stream",
     "text": [
      "[Run 4] Iter 18 F1-illicit: 0.4291\n"
     ]
    },
    {
     "name": "stderr",
     "output_type": "stream",
     "text": [
      "/Users/yudhistiraonggowarsito/Documents/SMU/Courses/CS610 - Applied Machine Learning/Project/aml_project/.venv/lib/python3.12/site-packages/sklearn/utils/extmath.py:203: RuntimeWarning: divide by zero encountered in matmul\n",
      "  ret = a @ b\n",
      "/Users/yudhistiraonggowarsito/Documents/SMU/Courses/CS610 - Applied Machine Learning/Project/aml_project/.venv/lib/python3.12/site-packages/sklearn/utils/extmath.py:203: RuntimeWarning: overflow encountered in matmul\n",
      "  ret = a @ b\n",
      "/Users/yudhistiraonggowarsito/Documents/SMU/Courses/CS610 - Applied Machine Learning/Project/aml_project/.venv/lib/python3.12/site-packages/sklearn/utils/extmath.py:203: RuntimeWarning: invalid value encountered in matmul\n",
      "  ret = a @ b\n",
      "/Users/yudhistiraonggowarsito/Documents/SMU/Courses/CS610 - Applied Machine Learning/Project/aml_project/.venv/lib/python3.12/site-packages/sklearn/utils/extmath.py:203: RuntimeWarning: divide by zero encountered in matmul\n",
      "  ret = a @ b\n",
      "/Users/yudhistiraonggowarsito/Documents/SMU/Courses/CS610 - Applied Machine Learning/Project/aml_project/.venv/lib/python3.12/site-packages/sklearn/utils/extmath.py:203: RuntimeWarning: overflow encountered in matmul\n",
      "  ret = a @ b\n",
      "/Users/yudhistiraonggowarsito/Documents/SMU/Courses/CS610 - Applied Machine Learning/Project/aml_project/.venv/lib/python3.12/site-packages/sklearn/utils/extmath.py:203: RuntimeWarning: invalid value encountered in matmul\n",
      "  ret = a @ b\n"
     ]
    },
    {
     "name": "stdout",
     "output_type": "stream",
     "text": [
      "[Run 4] Iter 19 F1-illicit: 0.4285\n"
     ]
    },
    {
     "name": "stderr",
     "output_type": "stream",
     "text": [
      "/Users/yudhistiraonggowarsito/Documents/SMU/Courses/CS610 - Applied Machine Learning/Project/aml_project/.venv/lib/python3.12/site-packages/sklearn/utils/extmath.py:203: RuntimeWarning: divide by zero encountered in matmul\n",
      "  ret = a @ b\n",
      "/Users/yudhistiraonggowarsito/Documents/SMU/Courses/CS610 - Applied Machine Learning/Project/aml_project/.venv/lib/python3.12/site-packages/sklearn/utils/extmath.py:203: RuntimeWarning: overflow encountered in matmul\n",
      "  ret = a @ b\n",
      "/Users/yudhistiraonggowarsito/Documents/SMU/Courses/CS610 - Applied Machine Learning/Project/aml_project/.venv/lib/python3.12/site-packages/sklearn/utils/extmath.py:203: RuntimeWarning: invalid value encountered in matmul\n",
      "  ret = a @ b\n",
      "/Users/yudhistiraonggowarsito/Documents/SMU/Courses/CS610 - Applied Machine Learning/Project/aml_project/.venv/lib/python3.12/site-packages/sklearn/utils/extmath.py:203: RuntimeWarning: divide by zero encountered in matmul\n",
      "  ret = a @ b\n",
      "/Users/yudhistiraonggowarsito/Documents/SMU/Courses/CS610 - Applied Machine Learning/Project/aml_project/.venv/lib/python3.12/site-packages/sklearn/utils/extmath.py:203: RuntimeWarning: overflow encountered in matmul\n",
      "  ret = a @ b\n",
      "/Users/yudhistiraonggowarsito/Documents/SMU/Courses/CS610 - Applied Machine Learning/Project/aml_project/.venv/lib/python3.12/site-packages/sklearn/utils/extmath.py:203: RuntimeWarning: invalid value encountered in matmul\n",
      "  ret = a @ b\n"
     ]
    },
    {
     "name": "stdout",
     "output_type": "stream",
     "text": [
      "[Run 4] Iter 20 F1-illicit: 0.4319\n"
     ]
    },
    {
     "name": "stderr",
     "output_type": "stream",
     "text": [
      "/Users/yudhistiraonggowarsito/Documents/SMU/Courses/CS610 - Applied Machine Learning/Project/aml_project/.venv/lib/python3.12/site-packages/sklearn/utils/extmath.py:203: RuntimeWarning: divide by zero encountered in matmul\n",
      "  ret = a @ b\n",
      "/Users/yudhistiraonggowarsito/Documents/SMU/Courses/CS610 - Applied Machine Learning/Project/aml_project/.venv/lib/python3.12/site-packages/sklearn/utils/extmath.py:203: RuntimeWarning: overflow encountered in matmul\n",
      "  ret = a @ b\n",
      "/Users/yudhistiraonggowarsito/Documents/SMU/Courses/CS610 - Applied Machine Learning/Project/aml_project/.venv/lib/python3.12/site-packages/sklearn/utils/extmath.py:203: RuntimeWarning: invalid value encountered in matmul\n",
      "  ret = a @ b\n",
      "/Users/yudhistiraonggowarsito/Documents/SMU/Courses/CS610 - Applied Machine Learning/Project/aml_project/.venv/lib/python3.12/site-packages/sklearn/utils/extmath.py:203: RuntimeWarning: divide by zero encountered in matmul\n",
      "  ret = a @ b\n",
      "/Users/yudhistiraonggowarsito/Documents/SMU/Courses/CS610 - Applied Machine Learning/Project/aml_project/.venv/lib/python3.12/site-packages/sklearn/utils/extmath.py:203: RuntimeWarning: overflow encountered in matmul\n",
      "  ret = a @ b\n",
      "/Users/yudhistiraonggowarsito/Documents/SMU/Courses/CS610 - Applied Machine Learning/Project/aml_project/.venv/lib/python3.12/site-packages/sklearn/utils/extmath.py:203: RuntimeWarning: invalid value encountered in matmul\n",
      "  ret = a @ b\n"
     ]
    },
    {
     "name": "stdout",
     "output_type": "stream",
     "text": [
      "[Run 4] Iter 21 F1-illicit: 0.4301\n"
     ]
    },
    {
     "name": "stderr",
     "output_type": "stream",
     "text": [
      "/Users/yudhistiraonggowarsito/Documents/SMU/Courses/CS610 - Applied Machine Learning/Project/aml_project/.venv/lib/python3.12/site-packages/sklearn/utils/extmath.py:203: RuntimeWarning: divide by zero encountered in matmul\n",
      "  ret = a @ b\n",
      "/Users/yudhistiraonggowarsito/Documents/SMU/Courses/CS610 - Applied Machine Learning/Project/aml_project/.venv/lib/python3.12/site-packages/sklearn/utils/extmath.py:203: RuntimeWarning: overflow encountered in matmul\n",
      "  ret = a @ b\n",
      "/Users/yudhistiraonggowarsito/Documents/SMU/Courses/CS610 - Applied Machine Learning/Project/aml_project/.venv/lib/python3.12/site-packages/sklearn/utils/extmath.py:203: RuntimeWarning: invalid value encountered in matmul\n",
      "  ret = a @ b\n",
      "/Users/yudhistiraonggowarsito/Documents/SMU/Courses/CS610 - Applied Machine Learning/Project/aml_project/.venv/lib/python3.12/site-packages/sklearn/utils/extmath.py:203: RuntimeWarning: divide by zero encountered in matmul\n",
      "  ret = a @ b\n",
      "/Users/yudhistiraonggowarsito/Documents/SMU/Courses/CS610 - Applied Machine Learning/Project/aml_project/.venv/lib/python3.12/site-packages/sklearn/utils/extmath.py:203: RuntimeWarning: overflow encountered in matmul\n",
      "  ret = a @ b\n",
      "/Users/yudhistiraonggowarsito/Documents/SMU/Courses/CS610 - Applied Machine Learning/Project/aml_project/.venv/lib/python3.12/site-packages/sklearn/utils/extmath.py:203: RuntimeWarning: invalid value encountered in matmul\n",
      "  ret = a @ b\n"
     ]
    },
    {
     "name": "stdout",
     "output_type": "stream",
     "text": [
      "[Run 4] Iter 22 F1-illicit: 0.4304\n"
     ]
    },
    {
     "name": "stderr",
     "output_type": "stream",
     "text": [
      "/Users/yudhistiraonggowarsito/Documents/SMU/Courses/CS610 - Applied Machine Learning/Project/aml_project/.venv/lib/python3.12/site-packages/sklearn/utils/extmath.py:203: RuntimeWarning: divide by zero encountered in matmul\n",
      "  ret = a @ b\n",
      "/Users/yudhistiraonggowarsito/Documents/SMU/Courses/CS610 - Applied Machine Learning/Project/aml_project/.venv/lib/python3.12/site-packages/sklearn/utils/extmath.py:203: RuntimeWarning: overflow encountered in matmul\n",
      "  ret = a @ b\n",
      "/Users/yudhistiraonggowarsito/Documents/SMU/Courses/CS610 - Applied Machine Learning/Project/aml_project/.venv/lib/python3.12/site-packages/sklearn/utils/extmath.py:203: RuntimeWarning: invalid value encountered in matmul\n",
      "  ret = a @ b\n",
      "/Users/yudhistiraonggowarsito/Documents/SMU/Courses/CS610 - Applied Machine Learning/Project/aml_project/.venv/lib/python3.12/site-packages/sklearn/utils/extmath.py:203: RuntimeWarning: divide by zero encountered in matmul\n",
      "  ret = a @ b\n",
      "/Users/yudhistiraonggowarsito/Documents/SMU/Courses/CS610 - Applied Machine Learning/Project/aml_project/.venv/lib/python3.12/site-packages/sklearn/utils/extmath.py:203: RuntimeWarning: overflow encountered in matmul\n",
      "  ret = a @ b\n",
      "/Users/yudhistiraonggowarsito/Documents/SMU/Courses/CS610 - Applied Machine Learning/Project/aml_project/.venv/lib/python3.12/site-packages/sklearn/utils/extmath.py:203: RuntimeWarning: invalid value encountered in matmul\n",
      "  ret = a @ b\n"
     ]
    },
    {
     "name": "stdout",
     "output_type": "stream",
     "text": [
      "[Run 4] Iter 23 F1-illicit: 0.4275\n"
     ]
    },
    {
     "name": "stderr",
     "output_type": "stream",
     "text": [
      "/Users/yudhistiraonggowarsito/Documents/SMU/Courses/CS610 - Applied Machine Learning/Project/aml_project/.venv/lib/python3.12/site-packages/sklearn/utils/extmath.py:203: RuntimeWarning: divide by zero encountered in matmul\n",
      "  ret = a @ b\n",
      "/Users/yudhistiraonggowarsito/Documents/SMU/Courses/CS610 - Applied Machine Learning/Project/aml_project/.venv/lib/python3.12/site-packages/sklearn/utils/extmath.py:203: RuntimeWarning: overflow encountered in matmul\n",
      "  ret = a @ b\n",
      "/Users/yudhistiraonggowarsito/Documents/SMU/Courses/CS610 - Applied Machine Learning/Project/aml_project/.venv/lib/python3.12/site-packages/sklearn/utils/extmath.py:203: RuntimeWarning: invalid value encountered in matmul\n",
      "  ret = a @ b\n",
      "/Users/yudhistiraonggowarsito/Documents/SMU/Courses/CS610 - Applied Machine Learning/Project/aml_project/.venv/lib/python3.12/site-packages/sklearn/utils/extmath.py:203: RuntimeWarning: divide by zero encountered in matmul\n",
      "  ret = a @ b\n",
      "/Users/yudhistiraonggowarsito/Documents/SMU/Courses/CS610 - Applied Machine Learning/Project/aml_project/.venv/lib/python3.12/site-packages/sklearn/utils/extmath.py:203: RuntimeWarning: overflow encountered in matmul\n",
      "  ret = a @ b\n",
      "/Users/yudhistiraonggowarsito/Documents/SMU/Courses/CS610 - Applied Machine Learning/Project/aml_project/.venv/lib/python3.12/site-packages/sklearn/utils/extmath.py:203: RuntimeWarning: invalid value encountered in matmul\n",
      "  ret = a @ b\n"
     ]
    },
    {
     "name": "stdout",
     "output_type": "stream",
     "text": [
      "[Run 4] Iter 24 F1-illicit: 0.4247\n"
     ]
    },
    {
     "name": "stderr",
     "output_type": "stream",
     "text": [
      "/Users/yudhistiraonggowarsito/Documents/SMU/Courses/CS610 - Applied Machine Learning/Project/aml_project/.venv/lib/python3.12/site-packages/sklearn/utils/extmath.py:203: RuntimeWarning: divide by zero encountered in matmul\n",
      "  ret = a @ b\n",
      "/Users/yudhistiraonggowarsito/Documents/SMU/Courses/CS610 - Applied Machine Learning/Project/aml_project/.venv/lib/python3.12/site-packages/sklearn/utils/extmath.py:203: RuntimeWarning: overflow encountered in matmul\n",
      "  ret = a @ b\n",
      "/Users/yudhistiraonggowarsito/Documents/SMU/Courses/CS610 - Applied Machine Learning/Project/aml_project/.venv/lib/python3.12/site-packages/sklearn/utils/extmath.py:203: RuntimeWarning: invalid value encountered in matmul\n",
      "  ret = a @ b\n",
      "/Users/yudhistiraonggowarsito/Documents/SMU/Courses/CS610 - Applied Machine Learning/Project/aml_project/.venv/lib/python3.12/site-packages/sklearn/utils/extmath.py:203: RuntimeWarning: divide by zero encountered in matmul\n",
      "  ret = a @ b\n",
      "/Users/yudhistiraonggowarsito/Documents/SMU/Courses/CS610 - Applied Machine Learning/Project/aml_project/.venv/lib/python3.12/site-packages/sklearn/utils/extmath.py:203: RuntimeWarning: overflow encountered in matmul\n",
      "  ret = a @ b\n",
      "/Users/yudhistiraonggowarsito/Documents/SMU/Courses/CS610 - Applied Machine Learning/Project/aml_project/.venv/lib/python3.12/site-packages/sklearn/utils/extmath.py:203: RuntimeWarning: invalid value encountered in matmul\n",
      "  ret = a @ b\n"
     ]
    },
    {
     "name": "stdout",
     "output_type": "stream",
     "text": [
      "[Run 4] Iter 25 F1-illicit: 0.4186\n"
     ]
    },
    {
     "name": "stderr",
     "output_type": "stream",
     "text": [
      "/Users/yudhistiraonggowarsito/Documents/SMU/Courses/CS610 - Applied Machine Learning/Project/aml_project/.venv/lib/python3.12/site-packages/sklearn/utils/extmath.py:203: RuntimeWarning: divide by zero encountered in matmul\n",
      "  ret = a @ b\n",
      "/Users/yudhistiraonggowarsito/Documents/SMU/Courses/CS610 - Applied Machine Learning/Project/aml_project/.venv/lib/python3.12/site-packages/sklearn/utils/extmath.py:203: RuntimeWarning: overflow encountered in matmul\n",
      "  ret = a @ b\n",
      "/Users/yudhistiraonggowarsito/Documents/SMU/Courses/CS610 - Applied Machine Learning/Project/aml_project/.venv/lib/python3.12/site-packages/sklearn/utils/extmath.py:203: RuntimeWarning: invalid value encountered in matmul\n",
      "  ret = a @ b\n",
      "/Users/yudhistiraonggowarsito/Documents/SMU/Courses/CS610 - Applied Machine Learning/Project/aml_project/.venv/lib/python3.12/site-packages/sklearn/utils/extmath.py:203: RuntimeWarning: divide by zero encountered in matmul\n",
      "  ret = a @ b\n",
      "/Users/yudhistiraonggowarsito/Documents/SMU/Courses/CS610 - Applied Machine Learning/Project/aml_project/.venv/lib/python3.12/site-packages/sklearn/utils/extmath.py:203: RuntimeWarning: overflow encountered in matmul\n",
      "  ret = a @ b\n",
      "/Users/yudhistiraonggowarsito/Documents/SMU/Courses/CS610 - Applied Machine Learning/Project/aml_project/.venv/lib/python3.12/site-packages/sklearn/utils/extmath.py:203: RuntimeWarning: invalid value encountered in matmul\n",
      "  ret = a @ b\n"
     ]
    },
    {
     "name": "stdout",
     "output_type": "stream",
     "text": [
      "[Run 4] Iter 26 F1-illicit: 0.4190\n"
     ]
    },
    {
     "name": "stderr",
     "output_type": "stream",
     "text": [
      "/Users/yudhistiraonggowarsito/Documents/SMU/Courses/CS610 - Applied Machine Learning/Project/aml_project/.venv/lib/python3.12/site-packages/sklearn/utils/extmath.py:203: RuntimeWarning: divide by zero encountered in matmul\n",
      "  ret = a @ b\n",
      "/Users/yudhistiraonggowarsito/Documents/SMU/Courses/CS610 - Applied Machine Learning/Project/aml_project/.venv/lib/python3.12/site-packages/sklearn/utils/extmath.py:203: RuntimeWarning: overflow encountered in matmul\n",
      "  ret = a @ b\n",
      "/Users/yudhistiraonggowarsito/Documents/SMU/Courses/CS610 - Applied Machine Learning/Project/aml_project/.venv/lib/python3.12/site-packages/sklearn/utils/extmath.py:203: RuntimeWarning: invalid value encountered in matmul\n",
      "  ret = a @ b\n",
      "/Users/yudhistiraonggowarsito/Documents/SMU/Courses/CS610 - Applied Machine Learning/Project/aml_project/.venv/lib/python3.12/site-packages/sklearn/utils/extmath.py:203: RuntimeWarning: divide by zero encountered in matmul\n",
      "  ret = a @ b\n",
      "/Users/yudhistiraonggowarsito/Documents/SMU/Courses/CS610 - Applied Machine Learning/Project/aml_project/.venv/lib/python3.12/site-packages/sklearn/utils/extmath.py:203: RuntimeWarning: overflow encountered in matmul\n",
      "  ret = a @ b\n",
      "/Users/yudhistiraonggowarsito/Documents/SMU/Courses/CS610 - Applied Machine Learning/Project/aml_project/.venv/lib/python3.12/site-packages/sklearn/utils/extmath.py:203: RuntimeWarning: invalid value encountered in matmul\n",
      "  ret = a @ b\n"
     ]
    },
    {
     "name": "stdout",
     "output_type": "stream",
     "text": [
      "[Run 4] Iter 27 F1-illicit: 0.4198\n"
     ]
    },
    {
     "name": "stderr",
     "output_type": "stream",
     "text": [
      "/Users/yudhistiraonggowarsito/Documents/SMU/Courses/CS610 - Applied Machine Learning/Project/aml_project/.venv/lib/python3.12/site-packages/sklearn/utils/extmath.py:203: RuntimeWarning: divide by zero encountered in matmul\n",
      "  ret = a @ b\n",
      "/Users/yudhistiraonggowarsito/Documents/SMU/Courses/CS610 - Applied Machine Learning/Project/aml_project/.venv/lib/python3.12/site-packages/sklearn/utils/extmath.py:203: RuntimeWarning: overflow encountered in matmul\n",
      "  ret = a @ b\n",
      "/Users/yudhistiraonggowarsito/Documents/SMU/Courses/CS610 - Applied Machine Learning/Project/aml_project/.venv/lib/python3.12/site-packages/sklearn/utils/extmath.py:203: RuntimeWarning: invalid value encountered in matmul\n",
      "  ret = a @ b\n",
      "/Users/yudhistiraonggowarsito/Documents/SMU/Courses/CS610 - Applied Machine Learning/Project/aml_project/.venv/lib/python3.12/site-packages/sklearn/utils/extmath.py:203: RuntimeWarning: divide by zero encountered in matmul\n",
      "  ret = a @ b\n",
      "/Users/yudhistiraonggowarsito/Documents/SMU/Courses/CS610 - Applied Machine Learning/Project/aml_project/.venv/lib/python3.12/site-packages/sklearn/utils/extmath.py:203: RuntimeWarning: overflow encountered in matmul\n",
      "  ret = a @ b\n",
      "/Users/yudhistiraonggowarsito/Documents/SMU/Courses/CS610 - Applied Machine Learning/Project/aml_project/.venv/lib/python3.12/site-packages/sklearn/utils/extmath.py:203: RuntimeWarning: invalid value encountered in matmul\n",
      "  ret = a @ b\n"
     ]
    },
    {
     "name": "stdout",
     "output_type": "stream",
     "text": [
      "[Run 4] Iter 28 F1-illicit: 0.4181\n"
     ]
    },
    {
     "name": "stderr",
     "output_type": "stream",
     "text": [
      "/Users/yudhistiraonggowarsito/Documents/SMU/Courses/CS610 - Applied Machine Learning/Project/aml_project/.venv/lib/python3.12/site-packages/sklearn/utils/extmath.py:203: RuntimeWarning: divide by zero encountered in matmul\n",
      "  ret = a @ b\n",
      "/Users/yudhistiraonggowarsito/Documents/SMU/Courses/CS610 - Applied Machine Learning/Project/aml_project/.venv/lib/python3.12/site-packages/sklearn/utils/extmath.py:203: RuntimeWarning: overflow encountered in matmul\n",
      "  ret = a @ b\n",
      "/Users/yudhistiraonggowarsito/Documents/SMU/Courses/CS610 - Applied Machine Learning/Project/aml_project/.venv/lib/python3.12/site-packages/sklearn/utils/extmath.py:203: RuntimeWarning: invalid value encountered in matmul\n",
      "  ret = a @ b\n",
      "/Users/yudhistiraonggowarsito/Documents/SMU/Courses/CS610 - Applied Machine Learning/Project/aml_project/.venv/lib/python3.12/site-packages/sklearn/utils/extmath.py:203: RuntimeWarning: divide by zero encountered in matmul\n",
      "  ret = a @ b\n",
      "/Users/yudhistiraonggowarsito/Documents/SMU/Courses/CS610 - Applied Machine Learning/Project/aml_project/.venv/lib/python3.12/site-packages/sklearn/utils/extmath.py:203: RuntimeWarning: overflow encountered in matmul\n",
      "  ret = a @ b\n",
      "/Users/yudhistiraonggowarsito/Documents/SMU/Courses/CS610 - Applied Machine Learning/Project/aml_project/.venv/lib/python3.12/site-packages/sklearn/utils/extmath.py:203: RuntimeWarning: invalid value encountered in matmul\n",
      "  ret = a @ b\n"
     ]
    },
    {
     "name": "stdout",
     "output_type": "stream",
     "text": [
      "[Run 4] Iter 29 F1-illicit: 0.4231\n"
     ]
    },
    {
     "name": "stderr",
     "output_type": "stream",
     "text": [
      "/Users/yudhistiraonggowarsito/Documents/SMU/Courses/CS610 - Applied Machine Learning/Project/aml_project/.venv/lib/python3.12/site-packages/sklearn/utils/extmath.py:203: RuntimeWarning: divide by zero encountered in matmul\n",
      "  ret = a @ b\n",
      "/Users/yudhistiraonggowarsito/Documents/SMU/Courses/CS610 - Applied Machine Learning/Project/aml_project/.venv/lib/python3.12/site-packages/sklearn/utils/extmath.py:203: RuntimeWarning: overflow encountered in matmul\n",
      "  ret = a @ b\n",
      "/Users/yudhistiraonggowarsito/Documents/SMU/Courses/CS610 - Applied Machine Learning/Project/aml_project/.venv/lib/python3.12/site-packages/sklearn/utils/extmath.py:203: RuntimeWarning: invalid value encountered in matmul\n",
      "  ret = a @ b\n",
      "/Users/yudhistiraonggowarsito/Documents/SMU/Courses/CS610 - Applied Machine Learning/Project/aml_project/.venv/lib/python3.12/site-packages/sklearn/utils/extmath.py:203: RuntimeWarning: divide by zero encountered in matmul\n",
      "  ret = a @ b\n",
      "/Users/yudhistiraonggowarsito/Documents/SMU/Courses/CS610 - Applied Machine Learning/Project/aml_project/.venv/lib/python3.12/site-packages/sklearn/utils/extmath.py:203: RuntimeWarning: overflow encountered in matmul\n",
      "  ret = a @ b\n",
      "/Users/yudhistiraonggowarsito/Documents/SMU/Courses/CS610 - Applied Machine Learning/Project/aml_project/.venv/lib/python3.12/site-packages/sklearn/utils/extmath.py:203: RuntimeWarning: invalid value encountered in matmul\n",
      "  ret = a @ b\n",
      "/var/folders/2v/617m0pq96qq942zr8nbfyzch0000gn/T/ipykernel_29924/2909400616.py:51: FutureWarning: The behavior of DataFrame concatenation with empty or all-NA entries is deprecated. In a future version, this will no longer exclude empty or all-NA columns when determining the result dtypes. To retain the old behavior, exclude the relevant entries before the concat operation.\n",
      "  labeled_pool = pd.concat([labeled_pool, batch], ignore_index=True)\n",
      "/Users/yudhistiraonggowarsito/Documents/SMU/Courses/CS610 - Applied Machine Learning/Project/aml_project/.venv/lib/python3.12/site-packages/sklearn/utils/extmath.py:203: RuntimeWarning: divide by zero encountered in matmul\n",
      "  ret = a @ b\n",
      "/Users/yudhistiraonggowarsito/Documents/SMU/Courses/CS610 - Applied Machine Learning/Project/aml_project/.venv/lib/python3.12/site-packages/sklearn/utils/extmath.py:203: RuntimeWarning: overflow encountered in matmul\n",
      "  ret = a @ b\n",
      "/Users/yudhistiraonggowarsito/Documents/SMU/Courses/CS610 - Applied Machine Learning/Project/aml_project/.venv/lib/python3.12/site-packages/sklearn/utils/extmath.py:203: RuntimeWarning: invalid value encountered in matmul\n",
      "  ret = a @ b\n",
      "/Users/yudhistiraonggowarsito/Documents/SMU/Courses/CS610 - Applied Machine Learning/Project/aml_project/.venv/lib/python3.12/site-packages/sklearn/utils/extmath.py:203: RuntimeWarning: divide by zero encountered in matmul\n",
      "  ret = a @ b\n",
      "/Users/yudhistiraonggowarsito/Documents/SMU/Courses/CS610 - Applied Machine Learning/Project/aml_project/.venv/lib/python3.12/site-packages/sklearn/utils/extmath.py:203: RuntimeWarning: overflow encountered in matmul\n",
      "  ret = a @ b\n",
      "/Users/yudhistiraonggowarsito/Documents/SMU/Courses/CS610 - Applied Machine Learning/Project/aml_project/.venv/lib/python3.12/site-packages/sklearn/utils/extmath.py:203: RuntimeWarning: invalid value encountered in matmul\n",
      "  ret = a @ b\n",
      "/Users/yudhistiraonggowarsito/Documents/SMU/Courses/CS610 - Applied Machine Learning/Project/aml_project/.venv/lib/python3.12/site-packages/sklearn/utils/extmath.py:203: RuntimeWarning: divide by zero encountered in matmul\n",
      "  ret = a @ b\n",
      "/Users/yudhistiraonggowarsito/Documents/SMU/Courses/CS610 - Applied Machine Learning/Project/aml_project/.venv/lib/python3.12/site-packages/sklearn/utils/extmath.py:203: RuntimeWarning: overflow encountered in matmul\n",
      "  ret = a @ b\n",
      "/Users/yudhistiraonggowarsito/Documents/SMU/Courses/CS610 - Applied Machine Learning/Project/aml_project/.venv/lib/python3.12/site-packages/sklearn/utils/extmath.py:203: RuntimeWarning: invalid value encountered in matmul\n",
      "  ret = a @ b\n",
      "/Users/yudhistiraonggowarsito/Documents/SMU/Courses/CS610 - Applied Machine Learning/Project/aml_project/.venv/lib/python3.12/site-packages/sklearn/utils/extmath.py:203: RuntimeWarning: divide by zero encountered in matmul\n",
      "  ret = a @ b\n",
      "/Users/yudhistiraonggowarsito/Documents/SMU/Courses/CS610 - Applied Machine Learning/Project/aml_project/.venv/lib/python3.12/site-packages/sklearn/utils/extmath.py:203: RuntimeWarning: overflow encountered in matmul\n",
      "  ret = a @ b\n",
      "/Users/yudhistiraonggowarsito/Documents/SMU/Courses/CS610 - Applied Machine Learning/Project/aml_project/.venv/lib/python3.12/site-packages/sklearn/utils/extmath.py:203: RuntimeWarning: invalid value encountered in matmul\n",
      "  ret = a @ b\n"
     ]
    },
    {
     "name": "stdout",
     "output_type": "stream",
     "text": [
      "[Run 4] Iter 30 F1-illicit: 0.4284\n",
      "\n",
      "=== Run 5/5 ===\n",
      "[Run 5] Iter 1 F1-illicit: 0.2240\n",
      "[Run 5] Iter 2 F1-illicit: 0.2823\n"
     ]
    },
    {
     "name": "stderr",
     "output_type": "stream",
     "text": [
      "/Users/yudhistiraonggowarsito/Documents/SMU/Courses/CS610 - Applied Machine Learning/Project/aml_project/.venv/lib/python3.12/site-packages/sklearn/utils/extmath.py:203: RuntimeWarning: divide by zero encountered in matmul\n",
      "  ret = a @ b\n",
      "/Users/yudhistiraonggowarsito/Documents/SMU/Courses/CS610 - Applied Machine Learning/Project/aml_project/.venv/lib/python3.12/site-packages/sklearn/utils/extmath.py:203: RuntimeWarning: overflow encountered in matmul\n",
      "  ret = a @ b\n",
      "/Users/yudhistiraonggowarsito/Documents/SMU/Courses/CS610 - Applied Machine Learning/Project/aml_project/.venv/lib/python3.12/site-packages/sklearn/utils/extmath.py:203: RuntimeWarning: invalid value encountered in matmul\n",
      "  ret = a @ b\n",
      "/Users/yudhistiraonggowarsito/Documents/SMU/Courses/CS610 - Applied Machine Learning/Project/aml_project/.venv/lib/python3.12/site-packages/sklearn/utils/extmath.py:203: RuntimeWarning: divide by zero encountered in matmul\n",
      "  ret = a @ b\n",
      "/Users/yudhistiraonggowarsito/Documents/SMU/Courses/CS610 - Applied Machine Learning/Project/aml_project/.venv/lib/python3.12/site-packages/sklearn/utils/extmath.py:203: RuntimeWarning: overflow encountered in matmul\n",
      "  ret = a @ b\n",
      "/Users/yudhistiraonggowarsito/Documents/SMU/Courses/CS610 - Applied Machine Learning/Project/aml_project/.venv/lib/python3.12/site-packages/sklearn/utils/extmath.py:203: RuntimeWarning: invalid value encountered in matmul\n",
      "  ret = a @ b\n",
      "/Users/yudhistiraonggowarsito/Documents/SMU/Courses/CS610 - Applied Machine Learning/Project/aml_project/.venv/lib/python3.12/site-packages/sklearn/utils/extmath.py:203: RuntimeWarning: divide by zero encountered in matmul\n",
      "  ret = a @ b\n",
      "/Users/yudhistiraonggowarsito/Documents/SMU/Courses/CS610 - Applied Machine Learning/Project/aml_project/.venv/lib/python3.12/site-packages/sklearn/utils/extmath.py:203: RuntimeWarning: overflow encountered in matmul\n",
      "  ret = a @ b\n",
      "/Users/yudhistiraonggowarsito/Documents/SMU/Courses/CS610 - Applied Machine Learning/Project/aml_project/.venv/lib/python3.12/site-packages/sklearn/utils/extmath.py:203: RuntimeWarning: invalid value encountered in matmul\n",
      "  ret = a @ b\n",
      "/Users/yudhistiraonggowarsito/Documents/SMU/Courses/CS610 - Applied Machine Learning/Project/aml_project/.venv/lib/python3.12/site-packages/sklearn/utils/extmath.py:203: RuntimeWarning: divide by zero encountered in matmul\n",
      "  ret = a @ b\n",
      "/Users/yudhistiraonggowarsito/Documents/SMU/Courses/CS610 - Applied Machine Learning/Project/aml_project/.venv/lib/python3.12/site-packages/sklearn/utils/extmath.py:203: RuntimeWarning: overflow encountered in matmul\n",
      "  ret = a @ b\n",
      "/Users/yudhistiraonggowarsito/Documents/SMU/Courses/CS610 - Applied Machine Learning/Project/aml_project/.venv/lib/python3.12/site-packages/sklearn/utils/extmath.py:203: RuntimeWarning: invalid value encountered in matmul\n",
      "  ret = a @ b\n"
     ]
    },
    {
     "name": "stdout",
     "output_type": "stream",
     "text": [
      "[Run 5] Iter 3 F1-illicit: 0.3156\n",
      "[Run 5] Iter 4 F1-illicit: 0.4182\n"
     ]
    },
    {
     "name": "stderr",
     "output_type": "stream",
     "text": [
      "/Users/yudhistiraonggowarsito/Documents/SMU/Courses/CS610 - Applied Machine Learning/Project/aml_project/.venv/lib/python3.12/site-packages/sklearn/utils/extmath.py:203: RuntimeWarning: divide by zero encountered in matmul\n",
      "  ret = a @ b\n",
      "/Users/yudhistiraonggowarsito/Documents/SMU/Courses/CS610 - Applied Machine Learning/Project/aml_project/.venv/lib/python3.12/site-packages/sklearn/utils/extmath.py:203: RuntimeWarning: overflow encountered in matmul\n",
      "  ret = a @ b\n",
      "/Users/yudhistiraonggowarsito/Documents/SMU/Courses/CS610 - Applied Machine Learning/Project/aml_project/.venv/lib/python3.12/site-packages/sklearn/utils/extmath.py:203: RuntimeWarning: invalid value encountered in matmul\n",
      "  ret = a @ b\n",
      "/Users/yudhistiraonggowarsito/Documents/SMU/Courses/CS610 - Applied Machine Learning/Project/aml_project/.venv/lib/python3.12/site-packages/sklearn/utils/extmath.py:203: RuntimeWarning: divide by zero encountered in matmul\n",
      "  ret = a @ b\n",
      "/Users/yudhistiraonggowarsito/Documents/SMU/Courses/CS610 - Applied Machine Learning/Project/aml_project/.venv/lib/python3.12/site-packages/sklearn/utils/extmath.py:203: RuntimeWarning: overflow encountered in matmul\n",
      "  ret = a @ b\n",
      "/Users/yudhistiraonggowarsito/Documents/SMU/Courses/CS610 - Applied Machine Learning/Project/aml_project/.venv/lib/python3.12/site-packages/sklearn/utils/extmath.py:203: RuntimeWarning: invalid value encountered in matmul\n",
      "  ret = a @ b\n"
     ]
    },
    {
     "name": "stdout",
     "output_type": "stream",
     "text": [
      "[Run 5] Iter 5 F1-illicit: 0.4442\n"
     ]
    },
    {
     "name": "stderr",
     "output_type": "stream",
     "text": [
      "/Users/yudhistiraonggowarsito/Documents/SMU/Courses/CS610 - Applied Machine Learning/Project/aml_project/.venv/lib/python3.12/site-packages/sklearn/utils/extmath.py:203: RuntimeWarning: divide by zero encountered in matmul\n",
      "  ret = a @ b\n",
      "/Users/yudhistiraonggowarsito/Documents/SMU/Courses/CS610 - Applied Machine Learning/Project/aml_project/.venv/lib/python3.12/site-packages/sklearn/utils/extmath.py:203: RuntimeWarning: overflow encountered in matmul\n",
      "  ret = a @ b\n",
      "/Users/yudhistiraonggowarsito/Documents/SMU/Courses/CS610 - Applied Machine Learning/Project/aml_project/.venv/lib/python3.12/site-packages/sklearn/utils/extmath.py:203: RuntimeWarning: invalid value encountered in matmul\n",
      "  ret = a @ b\n",
      "/Users/yudhistiraonggowarsito/Documents/SMU/Courses/CS610 - Applied Machine Learning/Project/aml_project/.venv/lib/python3.12/site-packages/sklearn/utils/extmath.py:203: RuntimeWarning: divide by zero encountered in matmul\n",
      "  ret = a @ b\n",
      "/Users/yudhistiraonggowarsito/Documents/SMU/Courses/CS610 - Applied Machine Learning/Project/aml_project/.venv/lib/python3.12/site-packages/sklearn/utils/extmath.py:203: RuntimeWarning: overflow encountered in matmul\n",
      "  ret = a @ b\n",
      "/Users/yudhistiraonggowarsito/Documents/SMU/Courses/CS610 - Applied Machine Learning/Project/aml_project/.venv/lib/python3.12/site-packages/sklearn/utils/extmath.py:203: RuntimeWarning: invalid value encountered in matmul\n",
      "  ret = a @ b\n"
     ]
    },
    {
     "name": "stdout",
     "output_type": "stream",
     "text": [
      "[Run 5] Iter 6 F1-illicit: 0.4671\n"
     ]
    },
    {
     "name": "stderr",
     "output_type": "stream",
     "text": [
      "/Users/yudhistiraonggowarsito/Documents/SMU/Courses/CS610 - Applied Machine Learning/Project/aml_project/.venv/lib/python3.12/site-packages/sklearn/utils/extmath.py:203: RuntimeWarning: divide by zero encountered in matmul\n",
      "  ret = a @ b\n",
      "/Users/yudhistiraonggowarsito/Documents/SMU/Courses/CS610 - Applied Machine Learning/Project/aml_project/.venv/lib/python3.12/site-packages/sklearn/utils/extmath.py:203: RuntimeWarning: overflow encountered in matmul\n",
      "  ret = a @ b\n",
      "/Users/yudhistiraonggowarsito/Documents/SMU/Courses/CS610 - Applied Machine Learning/Project/aml_project/.venv/lib/python3.12/site-packages/sklearn/utils/extmath.py:203: RuntimeWarning: invalid value encountered in matmul\n",
      "  ret = a @ b\n",
      "/Users/yudhistiraonggowarsito/Documents/SMU/Courses/CS610 - Applied Machine Learning/Project/aml_project/.venv/lib/python3.12/site-packages/sklearn/utils/extmath.py:203: RuntimeWarning: divide by zero encountered in matmul\n",
      "  ret = a @ b\n",
      "/Users/yudhistiraonggowarsito/Documents/SMU/Courses/CS610 - Applied Machine Learning/Project/aml_project/.venv/lib/python3.12/site-packages/sklearn/utils/extmath.py:203: RuntimeWarning: overflow encountered in matmul\n",
      "  ret = a @ b\n",
      "/Users/yudhistiraonggowarsito/Documents/SMU/Courses/CS610 - Applied Machine Learning/Project/aml_project/.venv/lib/python3.12/site-packages/sklearn/utils/extmath.py:203: RuntimeWarning: invalid value encountered in matmul\n",
      "  ret = a @ b\n"
     ]
    },
    {
     "name": "stdout",
     "output_type": "stream",
     "text": [
      "[Run 5] Iter 7 F1-illicit: 0.4703\n"
     ]
    },
    {
     "name": "stderr",
     "output_type": "stream",
     "text": [
      "/Users/yudhistiraonggowarsito/Documents/SMU/Courses/CS610 - Applied Machine Learning/Project/aml_project/.venv/lib/python3.12/site-packages/sklearn/utils/extmath.py:203: RuntimeWarning: divide by zero encountered in matmul\n",
      "  ret = a @ b\n",
      "/Users/yudhistiraonggowarsito/Documents/SMU/Courses/CS610 - Applied Machine Learning/Project/aml_project/.venv/lib/python3.12/site-packages/sklearn/utils/extmath.py:203: RuntimeWarning: overflow encountered in matmul\n",
      "  ret = a @ b\n",
      "/Users/yudhistiraonggowarsito/Documents/SMU/Courses/CS610 - Applied Machine Learning/Project/aml_project/.venv/lib/python3.12/site-packages/sklearn/utils/extmath.py:203: RuntimeWarning: invalid value encountered in matmul\n",
      "  ret = a @ b\n",
      "/Users/yudhistiraonggowarsito/Documents/SMU/Courses/CS610 - Applied Machine Learning/Project/aml_project/.venv/lib/python3.12/site-packages/sklearn/utils/extmath.py:203: RuntimeWarning: divide by zero encountered in matmul\n",
      "  ret = a @ b\n",
      "/Users/yudhistiraonggowarsito/Documents/SMU/Courses/CS610 - Applied Machine Learning/Project/aml_project/.venv/lib/python3.12/site-packages/sklearn/utils/extmath.py:203: RuntimeWarning: overflow encountered in matmul\n",
      "  ret = a @ b\n",
      "/Users/yudhistiraonggowarsito/Documents/SMU/Courses/CS610 - Applied Machine Learning/Project/aml_project/.venv/lib/python3.12/site-packages/sklearn/utils/extmath.py:203: RuntimeWarning: invalid value encountered in matmul\n",
      "  ret = a @ b\n"
     ]
    },
    {
     "name": "stdout",
     "output_type": "stream",
     "text": [
      "[Run 5] Iter 8 F1-illicit: 0.4780\n"
     ]
    },
    {
     "name": "stderr",
     "output_type": "stream",
     "text": [
      "/Users/yudhistiraonggowarsito/Documents/SMU/Courses/CS610 - Applied Machine Learning/Project/aml_project/.venv/lib/python3.12/site-packages/sklearn/utils/extmath.py:203: RuntimeWarning: divide by zero encountered in matmul\n",
      "  ret = a @ b\n",
      "/Users/yudhistiraonggowarsito/Documents/SMU/Courses/CS610 - Applied Machine Learning/Project/aml_project/.venv/lib/python3.12/site-packages/sklearn/utils/extmath.py:203: RuntimeWarning: overflow encountered in matmul\n",
      "  ret = a @ b\n",
      "/Users/yudhistiraonggowarsito/Documents/SMU/Courses/CS610 - Applied Machine Learning/Project/aml_project/.venv/lib/python3.12/site-packages/sklearn/utils/extmath.py:203: RuntimeWarning: invalid value encountered in matmul\n",
      "  ret = a @ b\n",
      "/Users/yudhistiraonggowarsito/Documents/SMU/Courses/CS610 - Applied Machine Learning/Project/aml_project/.venv/lib/python3.12/site-packages/sklearn/utils/extmath.py:203: RuntimeWarning: divide by zero encountered in matmul\n",
      "  ret = a @ b\n",
      "/Users/yudhistiraonggowarsito/Documents/SMU/Courses/CS610 - Applied Machine Learning/Project/aml_project/.venv/lib/python3.12/site-packages/sklearn/utils/extmath.py:203: RuntimeWarning: overflow encountered in matmul\n",
      "  ret = a @ b\n",
      "/Users/yudhistiraonggowarsito/Documents/SMU/Courses/CS610 - Applied Machine Learning/Project/aml_project/.venv/lib/python3.12/site-packages/sklearn/utils/extmath.py:203: RuntimeWarning: invalid value encountered in matmul\n",
      "  ret = a @ b\n"
     ]
    },
    {
     "name": "stdout",
     "output_type": "stream",
     "text": [
      "[Run 5] Iter 9 F1-illicit: 0.4671\n"
     ]
    },
    {
     "name": "stderr",
     "output_type": "stream",
     "text": [
      "/Users/yudhistiraonggowarsito/Documents/SMU/Courses/CS610 - Applied Machine Learning/Project/aml_project/.venv/lib/python3.12/site-packages/sklearn/utils/extmath.py:203: RuntimeWarning: divide by zero encountered in matmul\n",
      "  ret = a @ b\n",
      "/Users/yudhistiraonggowarsito/Documents/SMU/Courses/CS610 - Applied Machine Learning/Project/aml_project/.venv/lib/python3.12/site-packages/sklearn/utils/extmath.py:203: RuntimeWarning: overflow encountered in matmul\n",
      "  ret = a @ b\n",
      "/Users/yudhistiraonggowarsito/Documents/SMU/Courses/CS610 - Applied Machine Learning/Project/aml_project/.venv/lib/python3.12/site-packages/sklearn/utils/extmath.py:203: RuntimeWarning: invalid value encountered in matmul\n",
      "  ret = a @ b\n",
      "/Users/yudhistiraonggowarsito/Documents/SMU/Courses/CS610 - Applied Machine Learning/Project/aml_project/.venv/lib/python3.12/site-packages/sklearn/utils/extmath.py:203: RuntimeWarning: divide by zero encountered in matmul\n",
      "  ret = a @ b\n",
      "/Users/yudhistiraonggowarsito/Documents/SMU/Courses/CS610 - Applied Machine Learning/Project/aml_project/.venv/lib/python3.12/site-packages/sklearn/utils/extmath.py:203: RuntimeWarning: overflow encountered in matmul\n",
      "  ret = a @ b\n",
      "/Users/yudhistiraonggowarsito/Documents/SMU/Courses/CS610 - Applied Machine Learning/Project/aml_project/.venv/lib/python3.12/site-packages/sklearn/utils/extmath.py:203: RuntimeWarning: invalid value encountered in matmul\n",
      "  ret = a @ b\n"
     ]
    },
    {
     "name": "stdout",
     "output_type": "stream",
     "text": [
      "[Run 5] Iter 10 F1-illicit: 0.4626\n"
     ]
    },
    {
     "name": "stderr",
     "output_type": "stream",
     "text": [
      "/Users/yudhistiraonggowarsito/Documents/SMU/Courses/CS610 - Applied Machine Learning/Project/aml_project/.venv/lib/python3.12/site-packages/sklearn/utils/extmath.py:203: RuntimeWarning: divide by zero encountered in matmul\n",
      "  ret = a @ b\n",
      "/Users/yudhistiraonggowarsito/Documents/SMU/Courses/CS610 - Applied Machine Learning/Project/aml_project/.venv/lib/python3.12/site-packages/sklearn/utils/extmath.py:203: RuntimeWarning: overflow encountered in matmul\n",
      "  ret = a @ b\n",
      "/Users/yudhistiraonggowarsito/Documents/SMU/Courses/CS610 - Applied Machine Learning/Project/aml_project/.venv/lib/python3.12/site-packages/sklearn/utils/extmath.py:203: RuntimeWarning: invalid value encountered in matmul\n",
      "  ret = a @ b\n",
      "/Users/yudhistiraonggowarsito/Documents/SMU/Courses/CS610 - Applied Machine Learning/Project/aml_project/.venv/lib/python3.12/site-packages/sklearn/utils/extmath.py:203: RuntimeWarning: divide by zero encountered in matmul\n",
      "  ret = a @ b\n",
      "/Users/yudhistiraonggowarsito/Documents/SMU/Courses/CS610 - Applied Machine Learning/Project/aml_project/.venv/lib/python3.12/site-packages/sklearn/utils/extmath.py:203: RuntimeWarning: overflow encountered in matmul\n",
      "  ret = a @ b\n",
      "/Users/yudhistiraonggowarsito/Documents/SMU/Courses/CS610 - Applied Machine Learning/Project/aml_project/.venv/lib/python3.12/site-packages/sklearn/utils/extmath.py:203: RuntimeWarning: invalid value encountered in matmul\n",
      "  ret = a @ b\n"
     ]
    },
    {
     "name": "stdout",
     "output_type": "stream",
     "text": [
      "[Run 5] Iter 11 F1-illicit: 0.4517\n"
     ]
    },
    {
     "name": "stderr",
     "output_type": "stream",
     "text": [
      "/Users/yudhistiraonggowarsito/Documents/SMU/Courses/CS610 - Applied Machine Learning/Project/aml_project/.venv/lib/python3.12/site-packages/sklearn/utils/extmath.py:203: RuntimeWarning: divide by zero encountered in matmul\n",
      "  ret = a @ b\n",
      "/Users/yudhistiraonggowarsito/Documents/SMU/Courses/CS610 - Applied Machine Learning/Project/aml_project/.venv/lib/python3.12/site-packages/sklearn/utils/extmath.py:203: RuntimeWarning: overflow encountered in matmul\n",
      "  ret = a @ b\n",
      "/Users/yudhistiraonggowarsito/Documents/SMU/Courses/CS610 - Applied Machine Learning/Project/aml_project/.venv/lib/python3.12/site-packages/sklearn/utils/extmath.py:203: RuntimeWarning: invalid value encountered in matmul\n",
      "  ret = a @ b\n",
      "/Users/yudhistiraonggowarsito/Documents/SMU/Courses/CS610 - Applied Machine Learning/Project/aml_project/.venv/lib/python3.12/site-packages/sklearn/utils/extmath.py:203: RuntimeWarning: divide by zero encountered in matmul\n",
      "  ret = a @ b\n",
      "/Users/yudhistiraonggowarsito/Documents/SMU/Courses/CS610 - Applied Machine Learning/Project/aml_project/.venv/lib/python3.12/site-packages/sklearn/utils/extmath.py:203: RuntimeWarning: overflow encountered in matmul\n",
      "  ret = a @ b\n",
      "/Users/yudhistiraonggowarsito/Documents/SMU/Courses/CS610 - Applied Machine Learning/Project/aml_project/.venv/lib/python3.12/site-packages/sklearn/utils/extmath.py:203: RuntimeWarning: invalid value encountered in matmul\n",
      "  ret = a @ b\n"
     ]
    },
    {
     "name": "stdout",
     "output_type": "stream",
     "text": [
      "[Run 5] Iter 12 F1-illicit: 0.4450\n"
     ]
    },
    {
     "name": "stderr",
     "output_type": "stream",
     "text": [
      "/Users/yudhistiraonggowarsito/Documents/SMU/Courses/CS610 - Applied Machine Learning/Project/aml_project/.venv/lib/python3.12/site-packages/sklearn/utils/extmath.py:203: RuntimeWarning: divide by zero encountered in matmul\n",
      "  ret = a @ b\n",
      "/Users/yudhistiraonggowarsito/Documents/SMU/Courses/CS610 - Applied Machine Learning/Project/aml_project/.venv/lib/python3.12/site-packages/sklearn/utils/extmath.py:203: RuntimeWarning: overflow encountered in matmul\n",
      "  ret = a @ b\n",
      "/Users/yudhistiraonggowarsito/Documents/SMU/Courses/CS610 - Applied Machine Learning/Project/aml_project/.venv/lib/python3.12/site-packages/sklearn/utils/extmath.py:203: RuntimeWarning: invalid value encountered in matmul\n",
      "  ret = a @ b\n",
      "/Users/yudhistiraonggowarsito/Documents/SMU/Courses/CS610 - Applied Machine Learning/Project/aml_project/.venv/lib/python3.12/site-packages/sklearn/utils/extmath.py:203: RuntimeWarning: divide by zero encountered in matmul\n",
      "  ret = a @ b\n",
      "/Users/yudhistiraonggowarsito/Documents/SMU/Courses/CS610 - Applied Machine Learning/Project/aml_project/.venv/lib/python3.12/site-packages/sklearn/utils/extmath.py:203: RuntimeWarning: overflow encountered in matmul\n",
      "  ret = a @ b\n",
      "/Users/yudhistiraonggowarsito/Documents/SMU/Courses/CS610 - Applied Machine Learning/Project/aml_project/.venv/lib/python3.12/site-packages/sklearn/utils/extmath.py:203: RuntimeWarning: invalid value encountered in matmul\n",
      "  ret = a @ b\n"
     ]
    },
    {
     "name": "stdout",
     "output_type": "stream",
     "text": [
      "[Run 5] Iter 13 F1-illicit: 0.4400\n"
     ]
    },
    {
     "name": "stderr",
     "output_type": "stream",
     "text": [
      "/Users/yudhistiraonggowarsito/Documents/SMU/Courses/CS610 - Applied Machine Learning/Project/aml_project/.venv/lib/python3.12/site-packages/sklearn/utils/extmath.py:203: RuntimeWarning: divide by zero encountered in matmul\n",
      "  ret = a @ b\n",
      "/Users/yudhistiraonggowarsito/Documents/SMU/Courses/CS610 - Applied Machine Learning/Project/aml_project/.venv/lib/python3.12/site-packages/sklearn/utils/extmath.py:203: RuntimeWarning: overflow encountered in matmul\n",
      "  ret = a @ b\n",
      "/Users/yudhistiraonggowarsito/Documents/SMU/Courses/CS610 - Applied Machine Learning/Project/aml_project/.venv/lib/python3.12/site-packages/sklearn/utils/extmath.py:203: RuntimeWarning: invalid value encountered in matmul\n",
      "  ret = a @ b\n",
      "/Users/yudhistiraonggowarsito/Documents/SMU/Courses/CS610 - Applied Machine Learning/Project/aml_project/.venv/lib/python3.12/site-packages/sklearn/utils/extmath.py:203: RuntimeWarning: divide by zero encountered in matmul\n",
      "  ret = a @ b\n",
      "/Users/yudhistiraonggowarsito/Documents/SMU/Courses/CS610 - Applied Machine Learning/Project/aml_project/.venv/lib/python3.12/site-packages/sklearn/utils/extmath.py:203: RuntimeWarning: overflow encountered in matmul\n",
      "  ret = a @ b\n",
      "/Users/yudhistiraonggowarsito/Documents/SMU/Courses/CS610 - Applied Machine Learning/Project/aml_project/.venv/lib/python3.12/site-packages/sklearn/utils/extmath.py:203: RuntimeWarning: invalid value encountered in matmul\n",
      "  ret = a @ b\n"
     ]
    },
    {
     "name": "stdout",
     "output_type": "stream",
     "text": [
      "[Run 5] Iter 14 F1-illicit: 0.4413\n"
     ]
    },
    {
     "name": "stderr",
     "output_type": "stream",
     "text": [
      "/Users/yudhistiraonggowarsito/Documents/SMU/Courses/CS610 - Applied Machine Learning/Project/aml_project/.venv/lib/python3.12/site-packages/sklearn/utils/extmath.py:203: RuntimeWarning: divide by zero encountered in matmul\n",
      "  ret = a @ b\n",
      "/Users/yudhistiraonggowarsito/Documents/SMU/Courses/CS610 - Applied Machine Learning/Project/aml_project/.venv/lib/python3.12/site-packages/sklearn/utils/extmath.py:203: RuntimeWarning: overflow encountered in matmul\n",
      "  ret = a @ b\n",
      "/Users/yudhistiraonggowarsito/Documents/SMU/Courses/CS610 - Applied Machine Learning/Project/aml_project/.venv/lib/python3.12/site-packages/sklearn/utils/extmath.py:203: RuntimeWarning: invalid value encountered in matmul\n",
      "  ret = a @ b\n",
      "/Users/yudhistiraonggowarsito/Documents/SMU/Courses/CS610 - Applied Machine Learning/Project/aml_project/.venv/lib/python3.12/site-packages/sklearn/utils/extmath.py:203: RuntimeWarning: divide by zero encountered in matmul\n",
      "  ret = a @ b\n",
      "/Users/yudhistiraonggowarsito/Documents/SMU/Courses/CS610 - Applied Machine Learning/Project/aml_project/.venv/lib/python3.12/site-packages/sklearn/utils/extmath.py:203: RuntimeWarning: overflow encountered in matmul\n",
      "  ret = a @ b\n",
      "/Users/yudhistiraonggowarsito/Documents/SMU/Courses/CS610 - Applied Machine Learning/Project/aml_project/.venv/lib/python3.12/site-packages/sklearn/utils/extmath.py:203: RuntimeWarning: invalid value encountered in matmul\n",
      "  ret = a @ b\n"
     ]
    },
    {
     "name": "stdout",
     "output_type": "stream",
     "text": [
      "[Run 5] Iter 15 F1-illicit: 0.4417\n"
     ]
    },
    {
     "name": "stderr",
     "output_type": "stream",
     "text": [
      "/Users/yudhistiraonggowarsito/Documents/SMU/Courses/CS610 - Applied Machine Learning/Project/aml_project/.venv/lib/python3.12/site-packages/sklearn/utils/extmath.py:203: RuntimeWarning: divide by zero encountered in matmul\n",
      "  ret = a @ b\n",
      "/Users/yudhistiraonggowarsito/Documents/SMU/Courses/CS610 - Applied Machine Learning/Project/aml_project/.venv/lib/python3.12/site-packages/sklearn/utils/extmath.py:203: RuntimeWarning: overflow encountered in matmul\n",
      "  ret = a @ b\n",
      "/Users/yudhistiraonggowarsito/Documents/SMU/Courses/CS610 - Applied Machine Learning/Project/aml_project/.venv/lib/python3.12/site-packages/sklearn/utils/extmath.py:203: RuntimeWarning: invalid value encountered in matmul\n",
      "  ret = a @ b\n",
      "/Users/yudhistiraonggowarsito/Documents/SMU/Courses/CS610 - Applied Machine Learning/Project/aml_project/.venv/lib/python3.12/site-packages/sklearn/utils/extmath.py:203: RuntimeWarning: divide by zero encountered in matmul\n",
      "  ret = a @ b\n",
      "/Users/yudhistiraonggowarsito/Documents/SMU/Courses/CS610 - Applied Machine Learning/Project/aml_project/.venv/lib/python3.12/site-packages/sklearn/utils/extmath.py:203: RuntimeWarning: overflow encountered in matmul\n",
      "  ret = a @ b\n",
      "/Users/yudhistiraonggowarsito/Documents/SMU/Courses/CS610 - Applied Machine Learning/Project/aml_project/.venv/lib/python3.12/site-packages/sklearn/utils/extmath.py:203: RuntimeWarning: invalid value encountered in matmul\n",
      "  ret = a @ b\n"
     ]
    },
    {
     "name": "stdout",
     "output_type": "stream",
     "text": [
      "[Run 5] Iter 16 F1-illicit: 0.4395\n"
     ]
    },
    {
     "name": "stderr",
     "output_type": "stream",
     "text": [
      "/Users/yudhistiraonggowarsito/Documents/SMU/Courses/CS610 - Applied Machine Learning/Project/aml_project/.venv/lib/python3.12/site-packages/sklearn/utils/extmath.py:203: RuntimeWarning: divide by zero encountered in matmul\n",
      "  ret = a @ b\n",
      "/Users/yudhistiraonggowarsito/Documents/SMU/Courses/CS610 - Applied Machine Learning/Project/aml_project/.venv/lib/python3.12/site-packages/sklearn/utils/extmath.py:203: RuntimeWarning: overflow encountered in matmul\n",
      "  ret = a @ b\n",
      "/Users/yudhistiraonggowarsito/Documents/SMU/Courses/CS610 - Applied Machine Learning/Project/aml_project/.venv/lib/python3.12/site-packages/sklearn/utils/extmath.py:203: RuntimeWarning: invalid value encountered in matmul\n",
      "  ret = a @ b\n",
      "/Users/yudhistiraonggowarsito/Documents/SMU/Courses/CS610 - Applied Machine Learning/Project/aml_project/.venv/lib/python3.12/site-packages/sklearn/utils/extmath.py:203: RuntimeWarning: divide by zero encountered in matmul\n",
      "  ret = a @ b\n",
      "/Users/yudhistiraonggowarsito/Documents/SMU/Courses/CS610 - Applied Machine Learning/Project/aml_project/.venv/lib/python3.12/site-packages/sklearn/utils/extmath.py:203: RuntimeWarning: overflow encountered in matmul\n",
      "  ret = a @ b\n",
      "/Users/yudhistiraonggowarsito/Documents/SMU/Courses/CS610 - Applied Machine Learning/Project/aml_project/.venv/lib/python3.12/site-packages/sklearn/utils/extmath.py:203: RuntimeWarning: invalid value encountered in matmul\n",
      "  ret = a @ b\n"
     ]
    },
    {
     "name": "stdout",
     "output_type": "stream",
     "text": [
      "[Run 5] Iter 17 F1-illicit: 0.4374\n"
     ]
    },
    {
     "name": "stderr",
     "output_type": "stream",
     "text": [
      "/Users/yudhistiraonggowarsito/Documents/SMU/Courses/CS610 - Applied Machine Learning/Project/aml_project/.venv/lib/python3.12/site-packages/sklearn/utils/extmath.py:203: RuntimeWarning: divide by zero encountered in matmul\n",
      "  ret = a @ b\n",
      "/Users/yudhistiraonggowarsito/Documents/SMU/Courses/CS610 - Applied Machine Learning/Project/aml_project/.venv/lib/python3.12/site-packages/sklearn/utils/extmath.py:203: RuntimeWarning: overflow encountered in matmul\n",
      "  ret = a @ b\n",
      "/Users/yudhistiraonggowarsito/Documents/SMU/Courses/CS610 - Applied Machine Learning/Project/aml_project/.venv/lib/python3.12/site-packages/sklearn/utils/extmath.py:203: RuntimeWarning: invalid value encountered in matmul\n",
      "  ret = a @ b\n",
      "/Users/yudhistiraonggowarsito/Documents/SMU/Courses/CS610 - Applied Machine Learning/Project/aml_project/.venv/lib/python3.12/site-packages/sklearn/utils/extmath.py:203: RuntimeWarning: divide by zero encountered in matmul\n",
      "  ret = a @ b\n",
      "/Users/yudhistiraonggowarsito/Documents/SMU/Courses/CS610 - Applied Machine Learning/Project/aml_project/.venv/lib/python3.12/site-packages/sklearn/utils/extmath.py:203: RuntimeWarning: overflow encountered in matmul\n",
      "  ret = a @ b\n",
      "/Users/yudhistiraonggowarsito/Documents/SMU/Courses/CS610 - Applied Machine Learning/Project/aml_project/.venv/lib/python3.12/site-packages/sklearn/utils/extmath.py:203: RuntimeWarning: invalid value encountered in matmul\n",
      "  ret = a @ b\n"
     ]
    },
    {
     "name": "stdout",
     "output_type": "stream",
     "text": [
      "[Run 5] Iter 18 F1-illicit: 0.4366\n"
     ]
    },
    {
     "name": "stderr",
     "output_type": "stream",
     "text": [
      "/Users/yudhistiraonggowarsito/Documents/SMU/Courses/CS610 - Applied Machine Learning/Project/aml_project/.venv/lib/python3.12/site-packages/sklearn/utils/extmath.py:203: RuntimeWarning: divide by zero encountered in matmul\n",
      "  ret = a @ b\n",
      "/Users/yudhistiraonggowarsito/Documents/SMU/Courses/CS610 - Applied Machine Learning/Project/aml_project/.venv/lib/python3.12/site-packages/sklearn/utils/extmath.py:203: RuntimeWarning: overflow encountered in matmul\n",
      "  ret = a @ b\n",
      "/Users/yudhistiraonggowarsito/Documents/SMU/Courses/CS610 - Applied Machine Learning/Project/aml_project/.venv/lib/python3.12/site-packages/sklearn/utils/extmath.py:203: RuntimeWarning: invalid value encountered in matmul\n",
      "  ret = a @ b\n",
      "/Users/yudhistiraonggowarsito/Documents/SMU/Courses/CS610 - Applied Machine Learning/Project/aml_project/.venv/lib/python3.12/site-packages/sklearn/utils/extmath.py:203: RuntimeWarning: divide by zero encountered in matmul\n",
      "  ret = a @ b\n",
      "/Users/yudhistiraonggowarsito/Documents/SMU/Courses/CS610 - Applied Machine Learning/Project/aml_project/.venv/lib/python3.12/site-packages/sklearn/utils/extmath.py:203: RuntimeWarning: overflow encountered in matmul\n",
      "  ret = a @ b\n",
      "/Users/yudhistiraonggowarsito/Documents/SMU/Courses/CS610 - Applied Machine Learning/Project/aml_project/.venv/lib/python3.12/site-packages/sklearn/utils/extmath.py:203: RuntimeWarning: invalid value encountered in matmul\n",
      "  ret = a @ b\n"
     ]
    },
    {
     "name": "stdout",
     "output_type": "stream",
     "text": [
      "[Run 5] Iter 19 F1-illicit: 0.4319\n"
     ]
    },
    {
     "name": "stderr",
     "output_type": "stream",
     "text": [
      "/Users/yudhistiraonggowarsito/Documents/SMU/Courses/CS610 - Applied Machine Learning/Project/aml_project/.venv/lib/python3.12/site-packages/sklearn/utils/extmath.py:203: RuntimeWarning: divide by zero encountered in matmul\n",
      "  ret = a @ b\n",
      "/Users/yudhistiraonggowarsito/Documents/SMU/Courses/CS610 - Applied Machine Learning/Project/aml_project/.venv/lib/python3.12/site-packages/sklearn/utils/extmath.py:203: RuntimeWarning: overflow encountered in matmul\n",
      "  ret = a @ b\n",
      "/Users/yudhistiraonggowarsito/Documents/SMU/Courses/CS610 - Applied Machine Learning/Project/aml_project/.venv/lib/python3.12/site-packages/sklearn/utils/extmath.py:203: RuntimeWarning: invalid value encountered in matmul\n",
      "  ret = a @ b\n",
      "/Users/yudhistiraonggowarsito/Documents/SMU/Courses/CS610 - Applied Machine Learning/Project/aml_project/.venv/lib/python3.12/site-packages/sklearn/utils/extmath.py:203: RuntimeWarning: divide by zero encountered in matmul\n",
      "  ret = a @ b\n",
      "/Users/yudhistiraonggowarsito/Documents/SMU/Courses/CS610 - Applied Machine Learning/Project/aml_project/.venv/lib/python3.12/site-packages/sklearn/utils/extmath.py:203: RuntimeWarning: overflow encountered in matmul\n",
      "  ret = a @ b\n",
      "/Users/yudhistiraonggowarsito/Documents/SMU/Courses/CS610 - Applied Machine Learning/Project/aml_project/.venv/lib/python3.12/site-packages/sklearn/utils/extmath.py:203: RuntimeWarning: invalid value encountered in matmul\n",
      "  ret = a @ b\n"
     ]
    },
    {
     "name": "stdout",
     "output_type": "stream",
     "text": [
      "[Run 5] Iter 20 F1-illicit: 0.4289\n"
     ]
    },
    {
     "name": "stderr",
     "output_type": "stream",
     "text": [
      "/Users/yudhistiraonggowarsito/Documents/SMU/Courses/CS610 - Applied Machine Learning/Project/aml_project/.venv/lib/python3.12/site-packages/sklearn/utils/extmath.py:203: RuntimeWarning: divide by zero encountered in matmul\n",
      "  ret = a @ b\n",
      "/Users/yudhistiraonggowarsito/Documents/SMU/Courses/CS610 - Applied Machine Learning/Project/aml_project/.venv/lib/python3.12/site-packages/sklearn/utils/extmath.py:203: RuntimeWarning: overflow encountered in matmul\n",
      "  ret = a @ b\n",
      "/Users/yudhistiraonggowarsito/Documents/SMU/Courses/CS610 - Applied Machine Learning/Project/aml_project/.venv/lib/python3.12/site-packages/sklearn/utils/extmath.py:203: RuntimeWarning: invalid value encountered in matmul\n",
      "  ret = a @ b\n",
      "/Users/yudhistiraonggowarsito/Documents/SMU/Courses/CS610 - Applied Machine Learning/Project/aml_project/.venv/lib/python3.12/site-packages/sklearn/utils/extmath.py:203: RuntimeWarning: divide by zero encountered in matmul\n",
      "  ret = a @ b\n",
      "/Users/yudhistiraonggowarsito/Documents/SMU/Courses/CS610 - Applied Machine Learning/Project/aml_project/.venv/lib/python3.12/site-packages/sklearn/utils/extmath.py:203: RuntimeWarning: overflow encountered in matmul\n",
      "  ret = a @ b\n",
      "/Users/yudhistiraonggowarsito/Documents/SMU/Courses/CS610 - Applied Machine Learning/Project/aml_project/.venv/lib/python3.12/site-packages/sklearn/utils/extmath.py:203: RuntimeWarning: invalid value encountered in matmul\n",
      "  ret = a @ b\n"
     ]
    },
    {
     "name": "stdout",
     "output_type": "stream",
     "text": [
      "[Run 5] Iter 21 F1-illicit: 0.4303\n"
     ]
    },
    {
     "name": "stderr",
     "output_type": "stream",
     "text": [
      "/Users/yudhistiraonggowarsito/Documents/SMU/Courses/CS610 - Applied Machine Learning/Project/aml_project/.venv/lib/python3.12/site-packages/sklearn/utils/extmath.py:203: RuntimeWarning: divide by zero encountered in matmul\n",
      "  ret = a @ b\n",
      "/Users/yudhistiraonggowarsito/Documents/SMU/Courses/CS610 - Applied Machine Learning/Project/aml_project/.venv/lib/python3.12/site-packages/sklearn/utils/extmath.py:203: RuntimeWarning: overflow encountered in matmul\n",
      "  ret = a @ b\n",
      "/Users/yudhistiraonggowarsito/Documents/SMU/Courses/CS610 - Applied Machine Learning/Project/aml_project/.venv/lib/python3.12/site-packages/sklearn/utils/extmath.py:203: RuntimeWarning: invalid value encountered in matmul\n",
      "  ret = a @ b\n",
      "/Users/yudhistiraonggowarsito/Documents/SMU/Courses/CS610 - Applied Machine Learning/Project/aml_project/.venv/lib/python3.12/site-packages/sklearn/utils/extmath.py:203: RuntimeWarning: divide by zero encountered in matmul\n",
      "  ret = a @ b\n",
      "/Users/yudhistiraonggowarsito/Documents/SMU/Courses/CS610 - Applied Machine Learning/Project/aml_project/.venv/lib/python3.12/site-packages/sklearn/utils/extmath.py:203: RuntimeWarning: overflow encountered in matmul\n",
      "  ret = a @ b\n",
      "/Users/yudhistiraonggowarsito/Documents/SMU/Courses/CS610 - Applied Machine Learning/Project/aml_project/.venv/lib/python3.12/site-packages/sklearn/utils/extmath.py:203: RuntimeWarning: invalid value encountered in matmul\n",
      "  ret = a @ b\n"
     ]
    },
    {
     "name": "stdout",
     "output_type": "stream",
     "text": [
      "[Run 5] Iter 22 F1-illicit: 0.4290\n"
     ]
    },
    {
     "name": "stderr",
     "output_type": "stream",
     "text": [
      "/Users/yudhistiraonggowarsito/Documents/SMU/Courses/CS610 - Applied Machine Learning/Project/aml_project/.venv/lib/python3.12/site-packages/sklearn/utils/extmath.py:203: RuntimeWarning: divide by zero encountered in matmul\n",
      "  ret = a @ b\n",
      "/Users/yudhistiraonggowarsito/Documents/SMU/Courses/CS610 - Applied Machine Learning/Project/aml_project/.venv/lib/python3.12/site-packages/sklearn/utils/extmath.py:203: RuntimeWarning: overflow encountered in matmul\n",
      "  ret = a @ b\n",
      "/Users/yudhistiraonggowarsito/Documents/SMU/Courses/CS610 - Applied Machine Learning/Project/aml_project/.venv/lib/python3.12/site-packages/sklearn/utils/extmath.py:203: RuntimeWarning: invalid value encountered in matmul\n",
      "  ret = a @ b\n",
      "/Users/yudhistiraonggowarsito/Documents/SMU/Courses/CS610 - Applied Machine Learning/Project/aml_project/.venv/lib/python3.12/site-packages/sklearn/utils/extmath.py:203: RuntimeWarning: divide by zero encountered in matmul\n",
      "  ret = a @ b\n",
      "/Users/yudhistiraonggowarsito/Documents/SMU/Courses/CS610 - Applied Machine Learning/Project/aml_project/.venv/lib/python3.12/site-packages/sklearn/utils/extmath.py:203: RuntimeWarning: overflow encountered in matmul\n",
      "  ret = a @ b\n",
      "/Users/yudhistiraonggowarsito/Documents/SMU/Courses/CS610 - Applied Machine Learning/Project/aml_project/.venv/lib/python3.12/site-packages/sklearn/utils/extmath.py:203: RuntimeWarning: invalid value encountered in matmul\n",
      "  ret = a @ b\n"
     ]
    },
    {
     "name": "stdout",
     "output_type": "stream",
     "text": [
      "[Run 5] Iter 23 F1-illicit: 0.4257\n"
     ]
    },
    {
     "name": "stderr",
     "output_type": "stream",
     "text": [
      "/Users/yudhistiraonggowarsito/Documents/SMU/Courses/CS610 - Applied Machine Learning/Project/aml_project/.venv/lib/python3.12/site-packages/sklearn/utils/extmath.py:203: RuntimeWarning: divide by zero encountered in matmul\n",
      "  ret = a @ b\n",
      "/Users/yudhistiraonggowarsito/Documents/SMU/Courses/CS610 - Applied Machine Learning/Project/aml_project/.venv/lib/python3.12/site-packages/sklearn/utils/extmath.py:203: RuntimeWarning: overflow encountered in matmul\n",
      "  ret = a @ b\n",
      "/Users/yudhistiraonggowarsito/Documents/SMU/Courses/CS610 - Applied Machine Learning/Project/aml_project/.venv/lib/python3.12/site-packages/sklearn/utils/extmath.py:203: RuntimeWarning: invalid value encountered in matmul\n",
      "  ret = a @ b\n",
      "/Users/yudhistiraonggowarsito/Documents/SMU/Courses/CS610 - Applied Machine Learning/Project/aml_project/.venv/lib/python3.12/site-packages/sklearn/utils/extmath.py:203: RuntimeWarning: divide by zero encountered in matmul\n",
      "  ret = a @ b\n",
      "/Users/yudhistiraonggowarsito/Documents/SMU/Courses/CS610 - Applied Machine Learning/Project/aml_project/.venv/lib/python3.12/site-packages/sklearn/utils/extmath.py:203: RuntimeWarning: overflow encountered in matmul\n",
      "  ret = a @ b\n",
      "/Users/yudhistiraonggowarsito/Documents/SMU/Courses/CS610 - Applied Machine Learning/Project/aml_project/.venv/lib/python3.12/site-packages/sklearn/utils/extmath.py:203: RuntimeWarning: invalid value encountered in matmul\n",
      "  ret = a @ b\n"
     ]
    },
    {
     "name": "stdout",
     "output_type": "stream",
     "text": [
      "[Run 5] Iter 24 F1-illicit: 0.4240\n"
     ]
    },
    {
     "name": "stderr",
     "output_type": "stream",
     "text": [
      "/Users/yudhistiraonggowarsito/Documents/SMU/Courses/CS610 - Applied Machine Learning/Project/aml_project/.venv/lib/python3.12/site-packages/sklearn/utils/extmath.py:203: RuntimeWarning: divide by zero encountered in matmul\n",
      "  ret = a @ b\n",
      "/Users/yudhistiraonggowarsito/Documents/SMU/Courses/CS610 - Applied Machine Learning/Project/aml_project/.venv/lib/python3.12/site-packages/sklearn/utils/extmath.py:203: RuntimeWarning: overflow encountered in matmul\n",
      "  ret = a @ b\n",
      "/Users/yudhistiraonggowarsito/Documents/SMU/Courses/CS610 - Applied Machine Learning/Project/aml_project/.venv/lib/python3.12/site-packages/sklearn/utils/extmath.py:203: RuntimeWarning: invalid value encountered in matmul\n",
      "  ret = a @ b\n",
      "/Users/yudhistiraonggowarsito/Documents/SMU/Courses/CS610 - Applied Machine Learning/Project/aml_project/.venv/lib/python3.12/site-packages/sklearn/utils/extmath.py:203: RuntimeWarning: divide by zero encountered in matmul\n",
      "  ret = a @ b\n",
      "/Users/yudhistiraonggowarsito/Documents/SMU/Courses/CS610 - Applied Machine Learning/Project/aml_project/.venv/lib/python3.12/site-packages/sklearn/utils/extmath.py:203: RuntimeWarning: overflow encountered in matmul\n",
      "  ret = a @ b\n",
      "/Users/yudhistiraonggowarsito/Documents/SMU/Courses/CS610 - Applied Machine Learning/Project/aml_project/.venv/lib/python3.12/site-packages/sklearn/utils/extmath.py:203: RuntimeWarning: invalid value encountered in matmul\n",
      "  ret = a @ b\n"
     ]
    },
    {
     "name": "stdout",
     "output_type": "stream",
     "text": [
      "[Run 5] Iter 25 F1-illicit: 0.4222\n"
     ]
    },
    {
     "name": "stderr",
     "output_type": "stream",
     "text": [
      "/Users/yudhistiraonggowarsito/Documents/SMU/Courses/CS610 - Applied Machine Learning/Project/aml_project/.venv/lib/python3.12/site-packages/sklearn/utils/extmath.py:203: RuntimeWarning: divide by zero encountered in matmul\n",
      "  ret = a @ b\n",
      "/Users/yudhistiraonggowarsito/Documents/SMU/Courses/CS610 - Applied Machine Learning/Project/aml_project/.venv/lib/python3.12/site-packages/sklearn/utils/extmath.py:203: RuntimeWarning: overflow encountered in matmul\n",
      "  ret = a @ b\n",
      "/Users/yudhistiraonggowarsito/Documents/SMU/Courses/CS610 - Applied Machine Learning/Project/aml_project/.venv/lib/python3.12/site-packages/sklearn/utils/extmath.py:203: RuntimeWarning: invalid value encountered in matmul\n",
      "  ret = a @ b\n",
      "/Users/yudhistiraonggowarsito/Documents/SMU/Courses/CS610 - Applied Machine Learning/Project/aml_project/.venv/lib/python3.12/site-packages/sklearn/utils/extmath.py:203: RuntimeWarning: divide by zero encountered in matmul\n",
      "  ret = a @ b\n",
      "/Users/yudhistiraonggowarsito/Documents/SMU/Courses/CS610 - Applied Machine Learning/Project/aml_project/.venv/lib/python3.12/site-packages/sklearn/utils/extmath.py:203: RuntimeWarning: overflow encountered in matmul\n",
      "  ret = a @ b\n",
      "/Users/yudhistiraonggowarsito/Documents/SMU/Courses/CS610 - Applied Machine Learning/Project/aml_project/.venv/lib/python3.12/site-packages/sklearn/utils/extmath.py:203: RuntimeWarning: invalid value encountered in matmul\n",
      "  ret = a @ b\n"
     ]
    },
    {
     "name": "stdout",
     "output_type": "stream",
     "text": [
      "[Run 5] Iter 26 F1-illicit: 0.4273\n"
     ]
    },
    {
     "name": "stderr",
     "output_type": "stream",
     "text": [
      "/Users/yudhistiraonggowarsito/Documents/SMU/Courses/CS610 - Applied Machine Learning/Project/aml_project/.venv/lib/python3.12/site-packages/sklearn/utils/extmath.py:203: RuntimeWarning: divide by zero encountered in matmul\n",
      "  ret = a @ b\n",
      "/Users/yudhistiraonggowarsito/Documents/SMU/Courses/CS610 - Applied Machine Learning/Project/aml_project/.venv/lib/python3.12/site-packages/sklearn/utils/extmath.py:203: RuntimeWarning: overflow encountered in matmul\n",
      "  ret = a @ b\n",
      "/Users/yudhistiraonggowarsito/Documents/SMU/Courses/CS610 - Applied Machine Learning/Project/aml_project/.venv/lib/python3.12/site-packages/sklearn/utils/extmath.py:203: RuntimeWarning: invalid value encountered in matmul\n",
      "  ret = a @ b\n",
      "/Users/yudhistiraonggowarsito/Documents/SMU/Courses/CS610 - Applied Machine Learning/Project/aml_project/.venv/lib/python3.12/site-packages/sklearn/utils/extmath.py:203: RuntimeWarning: divide by zero encountered in matmul\n",
      "  ret = a @ b\n",
      "/Users/yudhistiraonggowarsito/Documents/SMU/Courses/CS610 - Applied Machine Learning/Project/aml_project/.venv/lib/python3.12/site-packages/sklearn/utils/extmath.py:203: RuntimeWarning: overflow encountered in matmul\n",
      "  ret = a @ b\n",
      "/Users/yudhistiraonggowarsito/Documents/SMU/Courses/CS610 - Applied Machine Learning/Project/aml_project/.venv/lib/python3.12/site-packages/sklearn/utils/extmath.py:203: RuntimeWarning: invalid value encountered in matmul\n",
      "  ret = a @ b\n"
     ]
    },
    {
     "name": "stdout",
     "output_type": "stream",
     "text": [
      "[Run 5] Iter 27 F1-illicit: 0.4275\n"
     ]
    },
    {
     "name": "stderr",
     "output_type": "stream",
     "text": [
      "/Users/yudhistiraonggowarsito/Documents/SMU/Courses/CS610 - Applied Machine Learning/Project/aml_project/.venv/lib/python3.12/site-packages/sklearn/utils/extmath.py:203: RuntimeWarning: divide by zero encountered in matmul\n",
      "  ret = a @ b\n",
      "/Users/yudhistiraonggowarsito/Documents/SMU/Courses/CS610 - Applied Machine Learning/Project/aml_project/.venv/lib/python3.12/site-packages/sklearn/utils/extmath.py:203: RuntimeWarning: overflow encountered in matmul\n",
      "  ret = a @ b\n",
      "/Users/yudhistiraonggowarsito/Documents/SMU/Courses/CS610 - Applied Machine Learning/Project/aml_project/.venv/lib/python3.12/site-packages/sklearn/utils/extmath.py:203: RuntimeWarning: invalid value encountered in matmul\n",
      "  ret = a @ b\n",
      "/Users/yudhistiraonggowarsito/Documents/SMU/Courses/CS610 - Applied Machine Learning/Project/aml_project/.venv/lib/python3.12/site-packages/sklearn/utils/extmath.py:203: RuntimeWarning: divide by zero encountered in matmul\n",
      "  ret = a @ b\n",
      "/Users/yudhistiraonggowarsito/Documents/SMU/Courses/CS610 - Applied Machine Learning/Project/aml_project/.venv/lib/python3.12/site-packages/sklearn/utils/extmath.py:203: RuntimeWarning: overflow encountered in matmul\n",
      "  ret = a @ b\n",
      "/Users/yudhistiraonggowarsito/Documents/SMU/Courses/CS610 - Applied Machine Learning/Project/aml_project/.venv/lib/python3.12/site-packages/sklearn/utils/extmath.py:203: RuntimeWarning: invalid value encountered in matmul\n",
      "  ret = a @ b\n"
     ]
    },
    {
     "name": "stdout",
     "output_type": "stream",
     "text": [
      "[Run 5] Iter 28 F1-illicit: 0.4263\n"
     ]
    },
    {
     "ename": "KeyboardInterrupt",
     "evalue": "",
     "output_type": "error",
     "traceback": [
      "\u001b[31m---------------------------------------------------------------------------\u001b[39m",
      "\u001b[31mKeyboardInterrupt\u001b[39m                         Traceback (most recent call last)",
      "\u001b[36mCell\u001b[39m\u001b[36m \u001b[39m\u001b[32mIn[4]\u001b[39m\u001b[32m, line 66\u001b[39m\n\u001b[32m     63\u001b[39m y_train = (labeled_pool[\u001b[33m'\u001b[39m\u001b[33mclass\u001b[39m\u001b[33m'\u001b[39m] == \u001b[32m1\u001b[39m).astype(\u001b[38;5;28mint\u001b[39m)\n\u001b[32m     65\u001b[39m model = LogisticRegression(max_iter=\u001b[32m300\u001b[39m, solver=\u001b[33m'\u001b[39m\u001b[33mliblinear\u001b[39m\u001b[33m'\u001b[39m, random_state=seed)\n\u001b[32m---> \u001b[39m\u001b[32m66\u001b[39m \u001b[43mmodel\u001b[49m\u001b[43m.\u001b[49m\u001b[43mfit\u001b[49m\u001b[43m(\u001b[49m\u001b[43mX_train\u001b[49m\u001b[43m,\u001b[49m\u001b[43m \u001b[49m\u001b[43my_train\u001b[49m\u001b[43m)\u001b[49m\n\u001b[32m     68\u001b[39m y_pred = model.predict(X_test)\n\u001b[32m     69\u001b[39m f1 = f1_score(y_test, y_pred, pos_label=\u001b[32m1\u001b[39m)\n",
      "\u001b[36mFile \u001b[39m\u001b[32m~/Documents/SMU/Courses/CS610 - Applied Machine Learning/Project/aml_project/.venv/lib/python3.12/site-packages/sklearn/base.py:1363\u001b[39m, in \u001b[36m_fit_context.<locals>.decorator.<locals>.wrapper\u001b[39m\u001b[34m(estimator, *args, **kwargs)\u001b[39m\n\u001b[32m   1356\u001b[39m     estimator._validate_params()\n\u001b[32m   1358\u001b[39m \u001b[38;5;28;01mwith\u001b[39;00m config_context(\n\u001b[32m   1359\u001b[39m     skip_parameter_validation=(\n\u001b[32m   1360\u001b[39m         prefer_skip_nested_validation \u001b[38;5;129;01mor\u001b[39;00m global_skip_validation\n\u001b[32m   1361\u001b[39m     )\n\u001b[32m   1362\u001b[39m ):\n\u001b[32m-> \u001b[39m\u001b[32m1363\u001b[39m     \u001b[38;5;28;01mreturn\u001b[39;00m \u001b[43mfit_method\u001b[49m\u001b[43m(\u001b[49m\u001b[43mestimator\u001b[49m\u001b[43m,\u001b[49m\u001b[43m \u001b[49m\u001b[43m*\u001b[49m\u001b[43margs\u001b[49m\u001b[43m,\u001b[49m\u001b[43m \u001b[49m\u001b[43m*\u001b[49m\u001b[43m*\u001b[49m\u001b[43mkwargs\u001b[49m\u001b[43m)\u001b[49m\n",
      "\u001b[36mFile \u001b[39m\u001b[32m~/Documents/SMU/Courses/CS610 - Applied Machine Learning/Project/aml_project/.venv/lib/python3.12/site-packages/sklearn/linear_model/_logistic.py:1302\u001b[39m, in \u001b[36mLogisticRegression.fit\u001b[39m\u001b[34m(self, X, y, sample_weight)\u001b[39m\n\u001b[32m   1296\u001b[39m     \u001b[38;5;28;01mif\u001b[39;00m effective_n_jobs(\u001b[38;5;28mself\u001b[39m.n_jobs) != \u001b[32m1\u001b[39m:\n\u001b[32m   1297\u001b[39m         warnings.warn(\n\u001b[32m   1298\u001b[39m             \u001b[33m\"\u001b[39m\u001b[33m'\u001b[39m\u001b[33mn_jobs\u001b[39m\u001b[33m'\u001b[39m\u001b[33m > 1 does not have any effect when\u001b[39m\u001b[33m\"\u001b[39m\n\u001b[32m   1299\u001b[39m             \u001b[33m\"\u001b[39m\u001b[33m \u001b[39m\u001b[33m'\u001b[39m\u001b[33msolver\u001b[39m\u001b[33m'\u001b[39m\u001b[33m is set to \u001b[39m\u001b[33m'\u001b[39m\u001b[33mliblinear\u001b[39m\u001b[33m'\u001b[39m\u001b[33m. Got \u001b[39m\u001b[33m'\u001b[39m\u001b[33mn_jobs\u001b[39m\u001b[33m'\u001b[39m\u001b[33m\"\u001b[39m\n\u001b[32m   1300\u001b[39m             \u001b[33m\"\u001b[39m\u001b[33m = \u001b[39m\u001b[38;5;132;01m{}\u001b[39;00m\u001b[33m.\u001b[39m\u001b[33m\"\u001b[39m.format(effective_n_jobs(\u001b[38;5;28mself\u001b[39m.n_jobs))\n\u001b[32m   1301\u001b[39m         )\n\u001b[32m-> \u001b[39m\u001b[32m1302\u001b[39m     \u001b[38;5;28mself\u001b[39m.coef_, \u001b[38;5;28mself\u001b[39m.intercept_, \u001b[38;5;28mself\u001b[39m.n_iter_ = \u001b[43m_fit_liblinear\u001b[49m\u001b[43m(\u001b[49m\n\u001b[32m   1303\u001b[39m \u001b[43m        \u001b[49m\u001b[43mX\u001b[49m\u001b[43m,\u001b[49m\n\u001b[32m   1304\u001b[39m \u001b[43m        \u001b[49m\u001b[43my\u001b[49m\u001b[43m,\u001b[49m\n\u001b[32m   1305\u001b[39m \u001b[43m        \u001b[49m\u001b[38;5;28;43mself\u001b[39;49m\u001b[43m.\u001b[49m\u001b[43mC\u001b[49m\u001b[43m,\u001b[49m\n\u001b[32m   1306\u001b[39m \u001b[43m        \u001b[49m\u001b[38;5;28;43mself\u001b[39;49m\u001b[43m.\u001b[49m\u001b[43mfit_intercept\u001b[49m\u001b[43m,\u001b[49m\n\u001b[32m   1307\u001b[39m \u001b[43m        \u001b[49m\u001b[38;5;28;43mself\u001b[39;49m\u001b[43m.\u001b[49m\u001b[43mintercept_scaling\u001b[49m\u001b[43m,\u001b[49m\n\u001b[32m   1308\u001b[39m \u001b[43m        \u001b[49m\u001b[38;5;28;43mself\u001b[39;49m\u001b[43m.\u001b[49m\u001b[43mclass_weight\u001b[49m\u001b[43m,\u001b[49m\n\u001b[32m   1309\u001b[39m \u001b[43m        \u001b[49m\u001b[38;5;28;43mself\u001b[39;49m\u001b[43m.\u001b[49m\u001b[43mpenalty\u001b[49m\u001b[43m,\u001b[49m\n\u001b[32m   1310\u001b[39m \u001b[43m        \u001b[49m\u001b[38;5;28;43mself\u001b[39;49m\u001b[43m.\u001b[49m\u001b[43mdual\u001b[49m\u001b[43m,\u001b[49m\n\u001b[32m   1311\u001b[39m \u001b[43m        \u001b[49m\u001b[38;5;28;43mself\u001b[39;49m\u001b[43m.\u001b[49m\u001b[43mverbose\u001b[49m\u001b[43m,\u001b[49m\n\u001b[32m   1312\u001b[39m \u001b[43m        \u001b[49m\u001b[38;5;28;43mself\u001b[39;49m\u001b[43m.\u001b[49m\u001b[43mmax_iter\u001b[49m\u001b[43m,\u001b[49m\n\u001b[32m   1313\u001b[39m \u001b[43m        \u001b[49m\u001b[38;5;28;43mself\u001b[39;49m\u001b[43m.\u001b[49m\u001b[43mtol\u001b[49m\u001b[43m,\u001b[49m\n\u001b[32m   1314\u001b[39m \u001b[43m        \u001b[49m\u001b[38;5;28;43mself\u001b[39;49m\u001b[43m.\u001b[49m\u001b[43mrandom_state\u001b[49m\u001b[43m,\u001b[49m\n\u001b[32m   1315\u001b[39m \u001b[43m        \u001b[49m\u001b[43msample_weight\u001b[49m\u001b[43m=\u001b[49m\u001b[43msample_weight\u001b[49m\u001b[43m,\u001b[49m\n\u001b[32m   1316\u001b[39m \u001b[43m    \u001b[49m\u001b[43m)\u001b[49m\n\u001b[32m   1317\u001b[39m     \u001b[38;5;28;01mreturn\u001b[39;00m \u001b[38;5;28mself\u001b[39m\n\u001b[32m   1319\u001b[39m \u001b[38;5;28;01mif\u001b[39;00m solver \u001b[38;5;129;01min\u001b[39;00m [\u001b[33m\"\u001b[39m\u001b[33msag\u001b[39m\u001b[33m\"\u001b[39m, \u001b[33m\"\u001b[39m\u001b[33msaga\u001b[39m\u001b[33m\"\u001b[39m]:\n",
      "\u001b[36mFile \u001b[39m\u001b[32m~/Documents/SMU/Courses/CS610 - Applied Machine Learning/Project/aml_project/.venv/lib/python3.12/site-packages/sklearn/svm/_base.py:1230\u001b[39m, in \u001b[36m_fit_liblinear\u001b[39m\u001b[34m(X, y, C, fit_intercept, intercept_scaling, class_weight, penalty, dual, verbose, max_iter, tol, random_state, multi_class, loss, epsilon, sample_weight)\u001b[39m\n\u001b[32m   1227\u001b[39m sample_weight = _check_sample_weight(sample_weight, X, dtype=np.float64)\n\u001b[32m   1229\u001b[39m solver_type = _get_liblinear_solver_type(multi_class, penalty, loss, dual)\n\u001b[32m-> \u001b[39m\u001b[32m1230\u001b[39m raw_coef_, n_iter_ = \u001b[43mliblinear\u001b[49m\u001b[43m.\u001b[49m\u001b[43mtrain_wrap\u001b[49m\u001b[43m(\u001b[49m\n\u001b[32m   1231\u001b[39m \u001b[43m    \u001b[49m\u001b[43mX\u001b[49m\u001b[43m,\u001b[49m\n\u001b[32m   1232\u001b[39m \u001b[43m    \u001b[49m\u001b[43my_ind\u001b[49m\u001b[43m,\u001b[49m\n\u001b[32m   1233\u001b[39m \u001b[43m    \u001b[49m\u001b[43msp\u001b[49m\u001b[43m.\u001b[49m\u001b[43missparse\u001b[49m\u001b[43m(\u001b[49m\u001b[43mX\u001b[49m\u001b[43m)\u001b[49m\u001b[43m,\u001b[49m\n\u001b[32m   1234\u001b[39m \u001b[43m    \u001b[49m\u001b[43msolver_type\u001b[49m\u001b[43m,\u001b[49m\n\u001b[32m   1235\u001b[39m \u001b[43m    \u001b[49m\u001b[43mtol\u001b[49m\u001b[43m,\u001b[49m\n\u001b[32m   1236\u001b[39m \u001b[43m    \u001b[49m\u001b[43mbias\u001b[49m\u001b[43m,\u001b[49m\n\u001b[32m   1237\u001b[39m \u001b[43m    \u001b[49m\u001b[43mC\u001b[49m\u001b[43m,\u001b[49m\n\u001b[32m   1238\u001b[39m \u001b[43m    \u001b[49m\u001b[43mclass_weight_\u001b[49m\u001b[43m,\u001b[49m\n\u001b[32m   1239\u001b[39m \u001b[43m    \u001b[49m\u001b[43mmax_iter\u001b[49m\u001b[43m,\u001b[49m\n\u001b[32m   1240\u001b[39m \u001b[43m    \u001b[49m\u001b[43mrnd\u001b[49m\u001b[43m.\u001b[49m\u001b[43mrandint\u001b[49m\u001b[43m(\u001b[49m\u001b[43mnp\u001b[49m\u001b[43m.\u001b[49m\u001b[43miinfo\u001b[49m\u001b[43m(\u001b[49m\u001b[33;43m\"\u001b[39;49m\u001b[33;43mi\u001b[39;49m\u001b[33;43m\"\u001b[39;49m\u001b[43m)\u001b[49m\u001b[43m.\u001b[49m\u001b[43mmax\u001b[49m\u001b[43m)\u001b[49m\u001b[43m,\u001b[49m\n\u001b[32m   1241\u001b[39m \u001b[43m    \u001b[49m\u001b[43mepsilon\u001b[49m\u001b[43m,\u001b[49m\n\u001b[32m   1242\u001b[39m \u001b[43m    \u001b[49m\u001b[43msample_weight\u001b[49m\u001b[43m,\u001b[49m\n\u001b[32m   1243\u001b[39m \u001b[43m\u001b[49m\u001b[43m)\u001b[49m\n\u001b[32m   1244\u001b[39m \u001b[38;5;66;03m# Regarding rnd.randint(..) in the above signature:\u001b[39;00m\n\u001b[32m   1245\u001b[39m \u001b[38;5;66;03m# seed for srand in range [0..INT_MAX); due to limitations in Numpy\u001b[39;00m\n\u001b[32m   1246\u001b[39m \u001b[38;5;66;03m# on 32-bit platforms, we can't get to the UINT_MAX limit that\u001b[39;00m\n\u001b[32m   1247\u001b[39m \u001b[38;5;66;03m# srand supports\u001b[39;00m\n\u001b[32m   1248\u001b[39m n_iter_max = \u001b[38;5;28mmax\u001b[39m(n_iter_)\n",
      "\u001b[31mKeyboardInterrupt\u001b[39m: "
     ]
    }
   ],
   "source": [
    "import pandas as pd\n",
    "import numpy as np\n",
    "from sklearn.ensemble import IsolationForest\n",
    "from sklearn.linear_model import LogisticRegression\n",
    "from sklearn.metrics import f1_score\n",
    "import matplotlib.pyplot as plt\n",
    "\n",
    "# Load data\n",
    "labeled_df = pd.read_csv(\"data/elliptic_txs_features_labeled.csv\")\n",
    "\n",
    "# Split train/test by time_step\n",
    "train_df = labeled_df[labeled_df['time_step'] <= 34].reset_index(drop=True)\n",
    "test_df = labeled_df[labeled_df['time_step'] >= 35].reset_index(drop=True)\n",
    "\n",
    "X_test = test_df.drop(columns=['txId', 'time_step', 'class'])\n",
    "y_test = (test_df['class'] == 1).astype(int)\n",
    "\n",
    "feature_columns = [col for col in train_df.columns if col.startswith('feature_') or col.startswith('f')]\n",
    "\n",
    "# Config\n",
    "batch_size = 50\n",
    "max_iterations = 30\n",
    "N_runs = len(SEEDS)\n",
    "all_f1_scores = []\n",
    "warmup_sizes = []\n",
    "active_sizes = []\n",
    "\n",
    "batch_size_scores = {}\n",
    "\n",
    "for batch_size in batch_sizes:\n",
    "    all_f1_scores = []\n",
    "    for run in range(N_runs):\n",
    "        seed = SEEDS[run]\n",
    "        np.random.seed(seed)\n",
    "        print(f\"\\n=== Run {run+1}/{N_runs} ===\")\n",
    "        unlabeled_pool = train_df.copy()\n",
    "        labeled_pool = pd.DataFrame(columns=train_df.columns)\n",
    "        f1_scores = []\n",
    "\n",
    "        # Warm-up via Isolation Forest\n",
    "        iso_forest = IsolationForest(n_estimators=25, random_state=seed)\n",
    "        iso_forest.fit(unlabeled_pool[feature_columns])\n",
    "        scores = -iso_forest.score_samples(unlabeled_pool[feature_columns])\n",
    "        unlabeled_pool['anomaly_score'] = scores\n",
    "        unlabeled_pool = unlabeled_pool.sort_values(by='anomaly_score', ascending=False).reset_index(drop=True)\n",
    "\n",
    "        found_illicit = False\n",
    "        pointer = 0\n",
    "        while not found_illicit and pointer < len(unlabeled_pool):\n",
    "            batch = unlabeled_pool.iloc[pointer:pointer + batch_size]\n",
    "            labeled_pool = pd.concat([labeled_pool, batch], ignore_index=True)\n",
    "            pointer += batch_size\n",
    "            found_illicit = (labeled_pool['class'] == 1).sum() > 0\n",
    "\n",
    "        warmup_size = len(labeled_pool)\n",
    "        warmup_sizes.append(warmup_size)\n",
    "        unlabeled_pool = unlabeled_pool.iloc[pointer:].drop(columns='anomaly_score').reset_index(drop=True)\n",
    "\n",
    "        # Active Learning Loop\n",
    "        iteration = 1\n",
    "        while len(unlabeled_pool) > 0 and iteration <= max_iterations:\n",
    "            X_train = labeled_pool[feature_columns]\n",
    "            y_train = (labeled_pool['class'] == 1).astype(int)\n",
    "\n",
    "            model = LogisticRegression(max_iter=300, solver='liblinear', random_state=seed)\n",
    "            model.fit(X_train, y_train)\n",
    "\n",
    "            y_pred = model.predict(X_test)\n",
    "            f1 = f1_score(y_test, y_pred, pos_label=1)\n",
    "            f1_scores.append(f1)\n",
    "            print(f\"[Run {run+1}] Iter {iteration} F1-illicit: {f1:.4f}\")\n",
    "\n",
    "            proba = model.predict_proba(unlabeled_pool[feature_columns])[:, 1]\n",
    "            uncertainty = np.abs(proba - 0.5)\n",
    "            select_idx = np.argsort(uncertainty)[:batch_size]\n",
    "\n",
    "            new_batch = unlabeled_pool.iloc[select_idx]\n",
    "            labeled_pool = pd.concat([labeled_pool, new_batch], ignore_index=True)\n",
    "            unlabeled_pool = unlabeled_pool.drop(unlabeled_pool.index[select_idx]).reset_index(drop=True)\n",
    "\n",
    "            iteration += 1\n",
    "\n",
    "        all_f1_scores.append(f1_scores)\n",
    "        active_sizes.append(len(f1_scores) * batch_size)\n",
    "\n",
    "    # --- Evaluation ---\n",
    "    max_len = max(len(scores) for scores in all_f1_scores)\n",
    "    f1_matrix = np.full((N_runs, max_len), np.nan)\n",
    "    for i, scores in enumerate(all_f1_scores):\n",
    "        f1_matrix[i, :len(scores)] = scores\n",
    "\n",
    "    mean_f1_per_iter = np.nanmean(f1_matrix, axis=0)\n",
    "    median_f1_per_iter = np.nanmedian(f1_matrix, axis=0)\n",
    "    final_median_f1 = np.nanmedian([scores[-1] for scores in all_f1_scores if len(scores) == max_len])\n",
    "\n",
    "    print(\"\\n=== Summary ===\")\n",
    "    print(\"Mean F1 per Iteration:\", np.round(mean_f1_per_iter, 4))\n",
    "    print(\"Final Median F1 (illicit):\", round(final_median_f1, 4))\n",
    "    print(\"Average Warm-up size:\", int(np.mean(warmup_sizes)))\n",
    "    print(\"Average Active Learning size:\", int(np.mean(active_sizes)))\n",
    "    print(\"Average Final Training set size:\", int(np.mean(np.array(warmup_sizes) + np.array(active_sizes))))\n",
    "\n",
    "    # --- Plot ---\n",
    "    import matplotlib.pyplot as plt\n",
    "    plt.figure(figsize=(8, 5))\n",
    "    plt.plot(np.arange(1, len(median_f1_per_iter)+1)*batch_size, median_f1_per_iter, label='Median F1')\n",
    "    plt.plot(np.arange(1, len(mean_f1_per_iter)+1)*batch_size, mean_f1_per_iter, label='Mean F1', linestyle='--')\n",
    "    plt.xlabel(\"Number of Labeled Samples\")\n",
    "    plt.ylabel(\"Illicit F1-score\")\n",
    "    plt.title(\"Active Learning: IF + Uncertainty Sampling + Logistic Regression\")\n",
    "    plt.grid(True)\n",
    "    plt.legend()\n",
    "    plt.tight_layout()\n",
    "    plt.show()\n",
    "    \n",
    "    # Store results for this batch size\n",
    "    batch_size_scores[batch_size] = np.mean(mean_f1_per_iter)\n",
    "    \n",
    "print(\"\\nBatch Size Scores:\")\n",
    "for size, scores in batch_size_scores.items():\n",
    "    print(f\"Batch Size {size}: Mean F1 = {scores['mean_f1']:.4f}\")\n"
   ]
  },
  {
   "cell_type": "code",
   "execution_count": null,
   "id": "8fc48678",
   "metadata": {},
   "outputs": [],
   "source": [
    "import json\n",
    "\n",
    "import json\n",
    "\n",
    "with open('results.json', 'r') as f:\n",
    "    json_input = json.load(f)\n",
    "    \n",
    "json_input[\"IF + Uncertainty Sampling + Logistic Regression\"] = {}\n",
    "for k, v in batch_size_scores.items():\n",
    "    json_input[\"IF + Uncertainty Sampling + Logistic Regression\"][str(k)] = v\n",
    "    \n",
    "with open('results.json', 'w') as f:\n",
    "    json.dump(json_input, f, indent=4)"
   ]
  },
  {
   "cell_type": "code",
   "execution_count": null,
   "id": "8c666d53-91de-4d91-a16e-bcfd3f9b87b4",
   "metadata": {},
   "outputs": [],
   "source": [
    "# Active Learning: IF + Expected Model Change + Logistic Regression"
   ]
  },
  {
   "cell_type": "code",
   "execution_count": 8,
   "id": "6a5458da-4358-4d5d-9fd6-ca27a7914cdc",
   "metadata": {},
   "outputs": [
    {
     "name": "stdout",
     "output_type": "stream",
     "text": [
      "\n",
      "=== Run 1/5 ===\n"
     ]
    },
    {
     "name": "stderr",
     "output_type": "stream",
     "text": [
      "C:\\Users\\frank\\AppData\\Local\\Temp\\ipykernel_12748\\914965595.py:45: FutureWarning: The behavior of DataFrame concatenation with empty or all-NA entries is deprecated. In a future version, this will no longer exclude empty or all-NA columns when determining the result dtypes. To retain the old behavior, exclude the relevant entries before the concat operation.\n",
      "  labeled_pool = pd.concat([labeled_pool, batch], ignore_index=True)\n"
     ]
    },
    {
     "name": "stdout",
     "output_type": "stream",
     "text": [
      "Warm-up selected 2150 samples. Found illicit: 1\n",
      "[Run 1] Iteration 01 - F1 illicit: 0.0036\n",
      "[Run 1] Iteration 02 - F1 illicit: 0.0053\n",
      "[Run 1] Iteration 03 - F1 illicit: 0.0000\n",
      "[Run 1] Iteration 04 - F1 illicit: 0.0018\n",
      "[Run 1] Iteration 05 - F1 illicit: 0.0036\n",
      "[Run 1] Iteration 06 - F1 illicit: 0.0152\n",
      "[Run 1] Iteration 07 - F1 illicit: 0.0154\n",
      "[Run 1] Iteration 08 - F1 illicit: 0.0203\n",
      "[Run 1] Iteration 09 - F1 illicit: 0.0304\n",
      "[Run 1] Iteration 10 - F1 illicit: 0.0257\n",
      "[Run 1] Iteration 11 - F1 illicit: 0.1285\n",
      "[Run 1] Iteration 12 - F1 illicit: 0.2685\n",
      "[Run 1] Iteration 13 - F1 illicit: 0.2784\n",
      "[Run 1] Iteration 14 - F1 illicit: 0.3562\n",
      "[Run 1] Iteration 15 - F1 illicit: 0.3851\n",
      "[Run 1] Iteration 16 - F1 illicit: 0.3716\n",
      "[Run 1] Iteration 17 - F1 illicit: 0.3155\n",
      "[Run 1] Iteration 18 - F1 illicit: 0.3048\n",
      "[Run 1] Iteration 19 - F1 illicit: 0.3823\n",
      "[Run 1] Iteration 20 - F1 illicit: 0.3928\n",
      "[Run 1] Iteration 21 - F1 illicit: 0.4814\n",
      "[Run 1] Iteration 22 - F1 illicit: 0.5272\n",
      "[Run 1] Iteration 23 - F1 illicit: 0.5217\n",
      "[Run 1] Iteration 24 - F1 illicit: 0.5205\n",
      "[Run 1] Iteration 25 - F1 illicit: 0.5155\n",
      "[Run 1] Iteration 26 - F1 illicit: 0.5196\n",
      "[Run 1] Iteration 27 - F1 illicit: 0.5265\n",
      "[Run 1] Iteration 28 - F1 illicit: 0.5279\n",
      "[Run 1] Iteration 29 - F1 illicit: 0.5225\n",
      "[Run 1] Iteration 30 - F1 illicit: 0.5317\n",
      "[Run 1] Median F1 illicit: 0.3359\n",
      "[Run 1] Active Learning selected 1500 samples.\n",
      "[Run 1] Final training set size: 3650 samples.\n",
      "\n",
      "=== Run 2/5 ===\n"
     ]
    },
    {
     "name": "stderr",
     "output_type": "stream",
     "text": [
      "C:\\Users\\frank\\AppData\\Local\\Temp\\ipykernel_12748\\914965595.py:45: FutureWarning: The behavior of DataFrame concatenation with empty or all-NA entries is deprecated. In a future version, this will no longer exclude empty or all-NA columns when determining the result dtypes. To retain the old behavior, exclude the relevant entries before the concat operation.\n",
      "  labeled_pool = pd.concat([labeled_pool, batch], ignore_index=True)\n"
     ]
    },
    {
     "name": "stdout",
     "output_type": "stream",
     "text": [
      "Warm-up selected 3250 samples. Found illicit: 1\n",
      "[Run 2] Iteration 01 - F1 illicit: 0.0000\n",
      "[Run 2] Iteration 02 - F1 illicit: 0.0000\n",
      "[Run 2] Iteration 03 - F1 illicit: 0.0018\n",
      "[Run 2] Iteration 04 - F1 illicit: 0.0018\n",
      "[Run 2] Iteration 05 - F1 illicit: 0.0055\n",
      "[Run 2] Iteration 06 - F1 illicit: 0.0158\n",
      "[Run 2] Iteration 07 - F1 illicit: 0.0731\n",
      "[Run 2] Iteration 08 - F1 illicit: 0.0670\n",
      "[Run 2] Iteration 09 - F1 illicit: 0.1265\n",
      "[Run 2] Iteration 10 - F1 illicit: 0.2937\n",
      "[Run 2] Iteration 11 - F1 illicit: 0.3561\n",
      "[Run 2] Iteration 12 - F1 illicit: 0.4352\n",
      "[Run 2] Iteration 13 - F1 illicit: 0.4199\n",
      "[Run 2] Iteration 14 - F1 illicit: 0.4620\n",
      "[Run 2] Iteration 15 - F1 illicit: 0.4784\n",
      "[Run 2] Iteration 16 - F1 illicit: 0.4932\n",
      "[Run 2] Iteration 17 - F1 illicit: 0.5319\n",
      "[Run 2] Iteration 18 - F1 illicit: 0.5586\n",
      "[Run 2] Iteration 19 - F1 illicit: 0.5414\n",
      "[Run 2] Iteration 20 - F1 illicit: 0.5829\n",
      "[Run 2] Iteration 21 - F1 illicit: 0.5861\n",
      "[Run 2] Iteration 22 - F1 illicit: 0.5991\n",
      "[Run 2] Iteration 23 - F1 illicit: 0.6225\n",
      "[Run 2] Iteration 24 - F1 illicit: 0.6356\n",
      "[Run 2] Iteration 25 - F1 illicit: 0.6471\n",
      "[Run 2] Iteration 26 - F1 illicit: 0.6376\n",
      "[Run 2] Iteration 27 - F1 illicit: 0.6388\n",
      "[Run 2] Iteration 28 - F1 illicit: 0.6540\n",
      "[Run 2] Iteration 29 - F1 illicit: 0.6511\n",
      "[Run 2] Iteration 30 - F1 illicit: 0.6519\n",
      "[Run 2] Median F1 illicit: 0.4858\n",
      "[Run 2] Active Learning selected 1500 samples.\n",
      "[Run 2] Final training set size: 4750 samples.\n",
      "\n",
      "=== Run 3/5 ===\n"
     ]
    },
    {
     "name": "stderr",
     "output_type": "stream",
     "text": [
      "C:\\Users\\frank\\AppData\\Local\\Temp\\ipykernel_12748\\914965595.py:45: FutureWarning: The behavior of DataFrame concatenation with empty or all-NA entries is deprecated. In a future version, this will no longer exclude empty or all-NA columns when determining the result dtypes. To retain the old behavior, exclude the relevant entries before the concat operation.\n",
      "  labeled_pool = pd.concat([labeled_pool, batch], ignore_index=True)\n"
     ]
    },
    {
     "name": "stdout",
     "output_type": "stream",
     "text": [
      "Warm-up selected 1400 samples. Found illicit: 1\n",
      "[Run 3] Iteration 01 - F1 illicit: 0.0018\n",
      "[Run 3] Iteration 02 - F1 illicit: 0.0070\n",
      "[Run 3] Iteration 03 - F1 illicit: 0.0018\n",
      "[Run 3] Iteration 04 - F1 illicit: 0.0116\n",
      "[Run 3] Iteration 05 - F1 illicit: 0.0198\n",
      "[Run 3] Iteration 06 - F1 illicit: 0.0335\n",
      "[Run 3] Iteration 07 - F1 illicit: 0.0418\n",
      "[Run 3] Iteration 08 - F1 illicit: 0.0750\n",
      "[Run 3] Iteration 09 - F1 illicit: 0.0926\n",
      "[Run 3] Iteration 10 - F1 illicit: 0.1088\n",
      "[Run 3] Iteration 11 - F1 illicit: 0.1629\n",
      "[Run 3] Iteration 12 - F1 illicit: 0.1722\n",
      "[Run 3] Iteration 13 - F1 illicit: 0.1733\n",
      "[Run 3] Iteration 14 - F1 illicit: 0.1994\n",
      "[Run 3] Iteration 15 - F1 illicit: 0.2614\n",
      "[Run 3] Iteration 16 - F1 illicit: 0.3823\n",
      "[Run 3] Iteration 17 - F1 illicit: 0.4216\n",
      "[Run 3] Iteration 18 - F1 illicit: 0.3513\n",
      "[Run 3] Iteration 19 - F1 illicit: 0.3603\n",
      "[Run 3] Iteration 20 - F1 illicit: 0.3793\n",
      "[Run 3] Iteration 21 - F1 illicit: 0.4354\n",
      "[Run 3] Iteration 22 - F1 illicit: 0.4431\n",
      "[Run 3] Iteration 23 - F1 illicit: 0.5020\n",
      "[Run 3] Iteration 24 - F1 illicit: 0.5156\n",
      "[Run 3] Iteration 25 - F1 illicit: 0.5652\n",
      "[Run 3] Iteration 26 - F1 illicit: 0.5625\n",
      "[Run 3] Iteration 27 - F1 illicit: 0.5623\n",
      "[Run 3] Iteration 28 - F1 illicit: 0.5556\n",
      "[Run 3] Iteration 29 - F1 illicit: 0.5379\n",
      "[Run 3] Iteration 30 - F1 illicit: 0.5648\n",
      "[Run 3] Median F1 illicit: 0.3064\n",
      "[Run 3] Active Learning selected 1500 samples.\n",
      "[Run 3] Final training set size: 2900 samples.\n",
      "\n",
      "=== Run 4/5 ===\n"
     ]
    },
    {
     "name": "stderr",
     "output_type": "stream",
     "text": [
      "C:\\Users\\frank\\AppData\\Local\\Temp\\ipykernel_12748\\914965595.py:45: FutureWarning: The behavior of DataFrame concatenation with empty or all-NA entries is deprecated. In a future version, this will no longer exclude empty or all-NA columns when determining the result dtypes. To retain the old behavior, exclude the relevant entries before the concat operation.\n",
      "  labeled_pool = pd.concat([labeled_pool, batch], ignore_index=True)\n"
     ]
    },
    {
     "name": "stdout",
     "output_type": "stream",
     "text": [
      "Warm-up selected 550 samples. Found illicit: 1\n",
      "[Run 4] Iteration 01 - F1 illicit: 0.0018\n",
      "[Run 4] Iteration 02 - F1 illicit: 0.0053\n",
      "[Run 4] Iteration 03 - F1 illicit: 0.0036\n",
      "[Run 4] Iteration 04 - F1 illicit: 0.0128\n",
      "[Run 4] Iteration 05 - F1 illicit: 0.0181\n",
      "[Run 4] Iteration 06 - F1 illicit: 0.0163\n",
      "[Run 4] Iteration 07 - F1 illicit: 0.0176\n",
      "[Run 4] Iteration 08 - F1 illicit: 0.0364\n",
      "[Run 4] Iteration 09 - F1 illicit: 0.0520\n",
      "[Run 4] Iteration 10 - F1 illicit: 0.0813\n",
      "[Run 4] Iteration 11 - F1 illicit: 0.1301\n",
      "[Run 4] Iteration 12 - F1 illicit: 0.1419\n",
      "[Run 4] Iteration 13 - F1 illicit: 0.1401\n",
      "[Run 4] Iteration 14 - F1 illicit: 0.1426\n",
      "[Run 4] Iteration 15 - F1 illicit: 0.1502\n",
      "[Run 4] Iteration 16 - F1 illicit: 0.1276\n",
      "[Run 4] Iteration 17 - F1 illicit: 0.1319\n",
      "[Run 4] Iteration 18 - F1 illicit: 0.1306\n",
      "[Run 4] Iteration 19 - F1 illicit: 0.1306\n",
      "[Run 4] Iteration 20 - F1 illicit: 0.1332\n",
      "[Run 4] Iteration 21 - F1 illicit: 0.2000\n",
      "[Run 4] Iteration 22 - F1 illicit: 0.3790\n",
      "[Run 4] Iteration 23 - F1 illicit: 0.4542\n",
      "[Run 4] Iteration 24 - F1 illicit: 0.4998\n",
      "[Run 4] Iteration 25 - F1 illicit: 0.5647\n",
      "[Run 4] Iteration 26 - F1 illicit: 0.5670\n",
      "[Run 4] Iteration 27 - F1 illicit: 0.5334\n",
      "[Run 4] Iteration 28 - F1 illicit: 0.5826\n",
      "[Run 4] Iteration 29 - F1 illicit: 0.5850\n",
      "[Run 4] Iteration 30 - F1 illicit: 0.5743\n",
      "[Run 4] Median F1 illicit: 0.1325\n",
      "[Run 4] Active Learning selected 1500 samples.\n",
      "[Run 4] Final training set size: 2050 samples.\n",
      "\n",
      "=== Run 5/5 ===\n"
     ]
    },
    {
     "name": "stderr",
     "output_type": "stream",
     "text": [
      "C:\\Users\\frank\\AppData\\Local\\Temp\\ipykernel_12748\\914965595.py:45: FutureWarning: The behavior of DataFrame concatenation with empty or all-NA entries is deprecated. In a future version, this will no longer exclude empty or all-NA columns when determining the result dtypes. To retain the old behavior, exclude the relevant entries before the concat operation.\n",
      "  labeled_pool = pd.concat([labeled_pool, batch], ignore_index=True)\n"
     ]
    },
    {
     "name": "stdout",
     "output_type": "stream",
     "text": [
      "Warm-up selected 2900 samples. Found illicit: 1\n",
      "[Run 5] Iteration 01 - F1 illicit: 0.0018\n",
      "[Run 5] Iteration 02 - F1 illicit: 0.0018\n",
      "[Run 5] Iteration 03 - F1 illicit: 0.0035\n",
      "[Run 5] Iteration 04 - F1 illicit: 0.0078\n",
      "[Run 5] Iteration 05 - F1 illicit: 0.0094\n",
      "[Run 5] Iteration 06 - F1 illicit: 0.0131\n",
      "[Run 5] Iteration 07 - F1 illicit: 0.0209\n",
      "[Run 5] Iteration 08 - F1 illicit: 0.0592\n",
      "[Run 5] Iteration 09 - F1 illicit: 0.0786\n",
      "[Run 5] Iteration 10 - F1 illicit: 0.0918\n",
      "[Run 5] Iteration 11 - F1 illicit: 0.1154\n",
      "[Run 5] Iteration 12 - F1 illicit: 0.1669\n",
      "[Run 5] Iteration 13 - F1 illicit: 0.2182\n",
      "[Run 5] Iteration 14 - F1 illicit: 0.2634\n",
      "[Run 5] Iteration 15 - F1 illicit: 0.2930\n",
      "[Run 5] Iteration 16 - F1 illicit: 0.3411\n",
      "[Run 5] Iteration 17 - F1 illicit: 0.3565\n",
      "[Run 5] Iteration 18 - F1 illicit: 0.3840\n",
      "[Run 5] Iteration 19 - F1 illicit: 0.4035\n",
      "[Run 5] Iteration 20 - F1 illicit: 0.4065\n",
      "[Run 5] Iteration 21 - F1 illicit: 0.4136\n",
      "[Run 5] Iteration 22 - F1 illicit: 0.4013\n",
      "[Run 5] Iteration 23 - F1 illicit: 0.4097\n",
      "[Run 5] Iteration 24 - F1 illicit: 0.4209\n",
      "[Run 5] Iteration 25 - F1 illicit: 0.4204\n",
      "[Run 5] Iteration 26 - F1 illicit: 0.4494\n",
      "[Run 5] Iteration 27 - F1 illicit: 0.4370\n",
      "[Run 5] Iteration 28 - F1 illicit: 0.4740\n",
      "[Run 5] Iteration 29 - F1 illicit: 0.4879\n",
      "[Run 5] Iteration 30 - F1 illicit: 0.4958\n",
      "[Run 5] Median F1 illicit: 0.3171\n",
      "[Run 5] Active Learning selected 1500 samples.\n",
      "[Run 5] Final training set size: 4400 samples.\n",
      "\n",
      "=== Mean F1 illicit across 5 runs ===\n",
      "Iteration 01 (50 samples): Mean F1 = 0.0018\n",
      "Iteration 02 (100 samples): Mean F1 = 0.0039\n",
      "Iteration 03 (150 samples): Mean F1 = 0.0022\n",
      "Iteration 04 (200 samples): Mean F1 = 0.0072\n",
      "Iteration 05 (250 samples): Mean F1 = 0.0113\n",
      "Iteration 06 (300 samples): Mean F1 = 0.0188\n",
      "Iteration 07 (350 samples): Mean F1 = 0.0338\n",
      "Iteration 08 (400 samples): Mean F1 = 0.0516\n",
      "Iteration 09 (450 samples): Mean F1 = 0.0760\n",
      "Iteration 10 (500 samples): Mean F1 = 0.1203\n",
      "Iteration 11 (550 samples): Mean F1 = 0.1786\n",
      "Iteration 12 (600 samples): Mean F1 = 0.2369\n",
      "Iteration 13 (650 samples): Mean F1 = 0.2460\n",
      "Iteration 14 (700 samples): Mean F1 = 0.2847\n",
      "Iteration 15 (750 samples): Mean F1 = 0.3136\n",
      "Iteration 16 (800 samples): Mean F1 = 0.3432\n",
      "Iteration 17 (850 samples): Mean F1 = 0.3515\n",
      "Iteration 18 (900 samples): Mean F1 = 0.3459\n",
      "Iteration 19 (950 samples): Mean F1 = 0.3636\n",
      "Iteration 20 (1000 samples): Mean F1 = 0.3790\n",
      "Iteration 21 (1050 samples): Mean F1 = 0.4233\n",
      "Iteration 22 (1100 samples): Mean F1 = 0.4699\n",
      "Iteration 23 (1150 samples): Mean F1 = 0.5020\n",
      "Iteration 24 (1200 samples): Mean F1 = 0.5185\n",
      "Iteration 25 (1250 samples): Mean F1 = 0.5426\n",
      "Iteration 26 (1300 samples): Mean F1 = 0.5472\n",
      "Iteration 27 (1350 samples): Mean F1 = 0.5396\n",
      "Iteration 28 (1400 samples): Mean F1 = 0.5588\n",
      "Iteration 29 (1450 samples): Mean F1 = 0.5569\n",
      "Iteration 30 (1500 samples): Mean F1 = 0.5637\n",
      "\n",
      "===== Final Evaluation (Paper style) =====\n",
      "Median Final F1 illicit (last iteration): 0.5648\n",
      "~95% Confidence Interval: ±0.0365\n"
     ]
    },
    {
     "data": {
      "image/png": "[encoded data removed]",
      "text/plain": [
       "<Figure size 800x500 with 1 Axes>"
      ]
     },
     "metadata": {},
     "output_type": "display_data"
    }
   ],
   "source": [
    "import pandas as pd\n",
    "import numpy as np\n",
    "from sklearn.ensemble import IsolationForest\n",
    "from sklearn.linear_model import LogisticRegression\n",
    "from sklearn.metrics import f1_score\n",
    "import matplotlib.pyplot as plt\n",
    "\n",
    "# Step 1: Load labeled data\n",
    "labeled_df = pd.read_csv('elliptic_txs_features_labeled.csv')\n",
    "\n",
    "# Step 2: Split data\n",
    "train_df = labeled_df[labeled_df['time_step'] <= 34].reset_index(drop=True)\n",
    "test_df = labeled_df[labeled_df['time_step'] >= 35].reset_index(drop=True)\n",
    "\n",
    "X_test = test_df.drop(columns=['txId', 'time_step', 'class'])\n",
    "y_test = (test_df['class'] == 1).astype(int)\n",
    "\n",
    "feature_columns = [col for col in train_df.columns if col.startswith('feature_') or col.startswith('f')]\n",
    "\n",
    "# Step 3: Config\n",
    "batch_size = 50\n",
    "max_iterations = 30\n",
    "N_runs = 5\n",
    "all_f1_scores = []\n",
    "\n",
    "# Step 4: Active Learning across N runs\n",
    "for run in range(N_runs):\n",
    "    print(f\"\\n=== Run {run+1}/{N_runs} ===\")\n",
    "\n",
    "    unlabeled_pool = train_df.copy()\n",
    "    labeled_pool = pd.DataFrame(columns=train_df.columns)\n",
    "    f1_scores = []\n",
    "\n",
    "    # Warm-up via Isolation Forest\n",
    "    iso_forest = IsolationForest(random_state=run+1)\n",
    "    iso_forest.fit(unlabeled_pool[feature_columns])\n",
    "    scores = -iso_forest.score_samples(unlabeled_pool[feature_columns])\n",
    "    unlabeled_pool['anomaly_score'] = scores\n",
    "    unlabeled_pool = unlabeled_pool.sort_values(by='anomaly_score', ascending=False).reset_index(drop=True)\n",
    "\n",
    "    pointer = 0\n",
    "    found_illicit = False\n",
    "    while not found_illicit and pointer < len(unlabeled_pool):\n",
    "        batch = unlabeled_pool.iloc[pointer:pointer+batch_size]\n",
    "        labeled_pool = pd.concat([labeled_pool, batch], ignore_index=True)\n",
    "        pointer += batch_size\n",
    "        found_illicit = (labeled_pool['class'] == 1).sum() > 0\n",
    "\n",
    "    warmup_count = len(labeled_pool)\n",
    "    print(f\"Warm-up selected {warmup_count} samples. Found illicit: {(labeled_pool['class'] == 1).sum()}\")\n",
    "\n",
    "    unlabeled_pool = unlabeled_pool.iloc[pointer:].drop(columns='anomaly_score').reset_index(drop=True)\n",
    "\n",
    "    # Active Learning loop\n",
    "    iteration = 1\n",
    "    active_selected = 0\n",
    "    while len(unlabeled_pool) > 0 and iteration <= max_iterations:\n",
    "        X_train = labeled_pool[feature_columns]\n",
    "        y_train = (labeled_pool['class'] == 1).astype(int)\n",
    "\n",
    "        lr_model = LogisticRegression(max_iter=1000, solver='lbfgs', random_state=run+1)\n",
    "        lr_model.fit(X_train, y_train)\n",
    "\n",
    "        y_pred = lr_model.predict(X_test)\n",
    "        f1 = f1_score(y_test, y_pred, pos_label=1)\n",
    "        f1_scores.append(f1)\n",
    "        print(f\"[Run {run+1}] Iteration {iteration:02d} - F1 illicit: {f1:.4f}\")\n",
    "\n",
    "        # Expected Model Change strategy\n",
    "        probs = lr_model.predict_proba(unlabeled_pool[feature_columns])\n",
    "        grads = probs[:, 1] * (1 - probs[:, 1])  # ∂L approx\n",
    "        emc_score = grads\n",
    "\n",
    "        select_idx = np.argsort(emc_score)[-batch_size:]\n",
    "        new_batch = unlabeled_pool.iloc[select_idx]\n",
    "\n",
    "        labeled_pool = pd.concat([labeled_pool, new_batch], ignore_index=True)\n",
    "        unlabeled_pool = unlabeled_pool.drop(unlabeled_pool.index[select_idx]).reset_index(drop=True)\n",
    "\n",
    "        active_selected += len(new_batch)\n",
    "        iteration += 1\n",
    "\n",
    "    total_final_train = len(labeled_pool)\n",
    "    all_f1_scores.append(f1_scores)\n",
    "\n",
    "    run_median = np.median(f1_scores)\n",
    "    print(f\"[Run {run+1}] Median F1 illicit: {run_median:.4f}\")\n",
    "    print(f\"[Run {run+1}] Active Learning selected {active_selected} samples.\")\n",
    "    print(f\"[Run {run+1}] Final training set size: {total_final_train} samples.\")\n",
    "\n",
    "# Step 5: Convert to matrix\n",
    "f1_matrix = np.full((N_runs, max_iterations), np.nan)\n",
    "for i, scores in enumerate(all_f1_scores):\n",
    "    f1_matrix[i, :len(scores)] = scores\n",
    "\n",
    "# Step 6: Print each iteration's average across 5 runs\n",
    "mean_f1_by_iteration = np.nanmean(f1_matrix, axis=0)\n",
    "print(\"\\n=== Mean F1 illicit across 5 runs ===\")\n",
    "for i, mean_f1 in enumerate(mean_f1_by_iteration):\n",
    "    print(f\"Iteration {i+1:02d} ({(i+1)*batch_size} samples): Mean F1 = {mean_f1:.4f}\")\n",
    "\n",
    "# Step 7: Final evaluation per paper\n",
    "final_f1s = f1_matrix[:, -1]\n",
    "median_final_f1 = np.nanmedian(final_f1s)\n",
    "std_final_f1 = np.nanstd(final_f1s)\n",
    "ci_95 = 1.57 * std_final_f1 / np.sqrt(N_runs)\n",
    "\n",
    "print(f\"\\n===== Final Evaluation (Paper style) =====\")\n",
    "print(f\"Median Final F1 illicit (last iteration): {median_final_f1:.4f}\")\n",
    "print(f\"~95% Confidence Interval: ±{ci_95:.4f}\")\n",
    "\n",
    "# Step 8: Plot\n",
    "median_curve = np.nanmedian(f1_matrix, axis=0)\n",
    "std_curve = np.nanstd(f1_matrix, axis=0)\n",
    "ci_95_curve = 1.57 * std_curve / np.sqrt(N_runs)\n",
    "x_axis = np.arange(1, len(median_curve)+1) * batch_size\n",
    "\n",
    "plt.figure(figsize=(8, 5))\n",
    "plt.plot(x_axis, median_curve, marker='o', label='Median F1 (N=5 runs)')\n",
    "plt.fill_between(x_axis, median_curve - ci_95_curve, median_curve + ci_95_curve, alpha=0.2, label='~95% CI')\n",
    "plt.title(\"Active Learning (Expected Model Change + Logistic Regression)\")\n",
    "plt.xlabel(\"Number of Labeled Samples\")\n",
    "plt.ylabel(\"Illicit F1-score\")\n",
    "plt.legend()\n",
    "plt.grid(True)\n",
    "plt.show()\n"
   ]
  },
  {
   "cell_type": "code",
   "execution_count": null,
   "id": "be1af370-01de-4a1e-b121-9199d83cee36",
   "metadata": {},
   "outputs": [],
   "source": [
    "# Active Learning: Random Sampling + Uncertainty Sampling + Logistic Regression"
   ]
  },
  {
   "cell_type": "code",
   "execution_count": 12,
   "id": "77c9d8d0-6f8e-4d15-a020-42ffda60ef2b",
   "metadata": {},
   "outputs": [
    {
     "name": "stdout",
     "output_type": "stream",
     "text": [
      "\n",
      "=== Run 1/5 ===\n",
      "[Run 1] Iter 1 F1-illicit: 0.2294\n",
      "[Run 1] Iter 2 F1-illicit: 0.2165\n",
      "[Run 1] Iter 3 F1-illicit: 0.2436\n",
      "[Run 1] Iter 4 F1-illicit: 0.2685\n",
      "[Run 1] Iter 5 F1-illicit: 0.2837\n",
      "[Run 1] Iter 6 F1-illicit: 0.3092\n",
      "[Run 1] Iter 7 F1-illicit: 0.2900\n",
      "[Run 1] Iter 8 F1-illicit: 0.3059\n",
      "[Run 1] Iter 9 F1-illicit: 0.3238\n",
      "[Run 1] Iter 10 F1-illicit: 0.3264\n",
      "[Run 1] Iter 11 F1-illicit: 0.3849\n",
      "[Run 1] Iter 12 F1-illicit: 0.3933\n",
      "[Run 1] Iter 13 F1-illicit: 0.4115\n",
      "[Run 1] Iter 14 F1-illicit: 0.4115\n",
      "[Run 1] Iter 15 F1-illicit: 0.3995\n",
      "[Run 1] Iter 16 F1-illicit: 0.4757\n",
      "[Run 1] Iter 17 F1-illicit: 0.5149\n",
      "[Run 1] Iter 18 F1-illicit: 0.5210\n",
      "[Run 1] Iter 19 F1-illicit: 0.5352\n",
      "[Run 1] Iter 20 F1-illicit: 0.5109\n",
      "[Run 1] Iter 21 F1-illicit: 0.5072\n",
      "[Run 1] Iter 22 F1-illicit: 0.5154\n",
      "[Run 1] Iter 23 F1-illicit: 0.5218\n",
      "[Run 1] Iter 24 F1-illicit: 0.5212\n",
      "[Run 1] Iter 25 F1-illicit: 0.5163\n",
      "[Run 1] Iter 26 F1-illicit: 0.5013\n",
      "[Run 1] Iter 27 F1-illicit: 0.5117\n",
      "[Run 1] Iter 28 F1-illicit: 0.5172\n",
      "[Run 1] Iter 29 F1-illicit: 0.5139\n",
      "[Run 1] Iter 30 F1-illicit: 0.5197\n",
      "\n",
      "=== Run 2/5 ===\n",
      "[Run 2] Iter 1 F1-illicit: 0.1746\n",
      "[Run 2] Iter 2 F1-illicit: 0.2246\n",
      "[Run 2] Iter 3 F1-illicit: 0.2302\n",
      "[Run 2] Iter 4 F1-illicit: 0.2533\n",
      "[Run 2] Iter 5 F1-illicit: 0.2678\n",
      "[Run 2] Iter 6 F1-illicit: 0.2719\n",
      "[Run 2] Iter 7 F1-illicit: 0.2741\n",
      "[Run 2] Iter 8 F1-illicit: 0.2916\n",
      "[Run 2] Iter 9 F1-illicit: 0.3039\n",
      "[Run 2] Iter 10 F1-illicit: 0.3113\n",
      "[Run 2] Iter 11 F1-illicit: 0.3087\n",
      "[Run 2] Iter 12 F1-illicit: 0.3213\n",
      "[Run 2] Iter 13 F1-illicit: 0.3408\n",
      "[Run 2] Iter 14 F1-illicit: 0.3654\n",
      "[Run 2] Iter 15 F1-illicit: 0.3764\n",
      "[Run 2] Iter 16 F1-illicit: 0.3827\n",
      "[Run 2] Iter 17 F1-illicit: 0.3819\n",
      "[Run 2] Iter 18 F1-illicit: 0.3883\n",
      "[Run 2] Iter 19 F1-illicit: 0.3925\n",
      "[Run 2] Iter 20 F1-illicit: 0.4036\n",
      "[Run 2] Iter 21 F1-illicit: 0.4027\n",
      "[Run 2] Iter 22 F1-illicit: 0.4010\n",
      "[Run 2] Iter 23 F1-illicit: 0.4080\n",
      "[Run 2] Iter 24 F1-illicit: 0.4085\n",
      "[Run 2] Iter 25 F1-illicit: 0.4145\n",
      "[Run 2] Iter 26 F1-illicit: 0.4155\n",
      "[Run 2] Iter 27 F1-illicit: 0.4047\n",
      "[Run 2] Iter 28 F1-illicit: 0.3979\n",
      "[Run 2] Iter 29 F1-illicit: 0.3997\n",
      "[Run 2] Iter 30 F1-illicit: 0.4334\n",
      "\n",
      "=== Run 3/5 ===\n",
      "[Run 3] Iter 1 F1-illicit: 0.1575\n",
      "[Run 3] Iter 2 F1-illicit: 0.2544\n",
      "[Run 3] Iter 3 F1-illicit: 0.2656\n",
      "[Run 3] Iter 4 F1-illicit: 0.3265\n",
      "[Run 3] Iter 5 F1-illicit: 0.3869\n",
      "[Run 3] Iter 6 F1-illicit: 0.4371\n",
      "[Run 3] Iter 7 F1-illicit: 0.4623\n",
      "[Run 3] Iter 8 F1-illicit: 0.5516\n",
      "[Run 3] Iter 9 F1-illicit: 0.5626\n",
      "[Run 3] Iter 10 F1-illicit: 0.5863\n",
      "[Run 3] Iter 11 F1-illicit: 0.6050\n",
      "[Run 3] Iter 12 F1-illicit: 0.6199\n",
      "[Run 3] Iter 13 F1-illicit: 0.6370\n",
      "[Run 3] Iter 14 F1-illicit: 0.6239\n",
      "[Run 3] Iter 15 F1-illicit: 0.6207\n",
      "[Run 3] Iter 16 F1-illicit: 0.6060\n",
      "[Run 3] Iter 17 F1-illicit: 0.6051\n",
      "[Run 3] Iter 18 F1-illicit: 0.6247\n",
      "[Run 3] Iter 19 F1-illicit: 0.6156\n",
      "[Run 3] Iter 20 F1-illicit: 0.6128\n",
      "[Run 3] Iter 21 F1-illicit: 0.6172\n",
      "[Run 3] Iter 22 F1-illicit: 0.6416\n",
      "[Run 3] Iter 23 F1-illicit: 0.6481\n",
      "[Run 3] Iter 24 F1-illicit: 0.6335\n",
      "[Run 3] Iter 25 F1-illicit: 0.6258\n",
      "[Run 3] Iter 26 F1-illicit: 0.6315\n",
      "[Run 3] Iter 27 F1-illicit: 0.6422\n",
      "[Run 3] Iter 28 F1-illicit: 0.6232\n",
      "[Run 3] Iter 29 F1-illicit: 0.6256\n",
      "[Run 3] Iter 30 F1-illicit: 0.6209\n",
      "\n",
      "=== Run 4/5 ===\n",
      "[Run 4] Iter 1 F1-illicit: 0.2180\n",
      "[Run 4] Iter 2 F1-illicit: 0.2516\n",
      "[Run 4] Iter 3 F1-illicit: 0.2798\n",
      "[Run 4] Iter 4 F1-illicit: 0.2768\n",
      "[Run 4] Iter 5 F1-illicit: 0.3237\n",
      "[Run 4] Iter 6 F1-illicit: 0.3781\n",
      "[Run 4] Iter 7 F1-illicit: 0.3972\n",
      "[Run 4] Iter 8 F1-illicit: 0.4233\n",
      "[Run 4] Iter 9 F1-illicit: 0.4352\n",
      "[Run 4] Iter 10 F1-illicit: 0.4433\n",
      "[Run 4] Iter 11 F1-illicit: 0.4418\n",
      "[Run 4] Iter 12 F1-illicit: 0.4549\n",
      "[Run 4] Iter 13 F1-illicit: 0.4711\n",
      "[Run 4] Iter 14 F1-illicit: 0.4482\n",
      "[Run 4] Iter 15 F1-illicit: 0.4791\n",
      "[Run 4] Iter 16 F1-illicit: 0.4928\n",
      "[Run 4] Iter 17 F1-illicit: 0.5324\n",
      "[Run 4] Iter 18 F1-illicit: 0.5254\n",
      "[Run 4] Iter 19 F1-illicit: 0.5162\n",
      "[Run 4] Iter 20 F1-illicit: 0.5344\n",
      "[Run 4] Iter 21 F1-illicit: 0.4190\n",
      "[Run 4] Iter 22 F1-illicit: 0.5114\n",
      "[Run 4] Iter 23 F1-illicit: 0.5337\n",
      "[Run 4] Iter 24 F1-illicit: 0.5478\n",
      "[Run 4] Iter 25 F1-illicit: 0.5447\n",
      "[Run 4] Iter 26 F1-illicit: 0.5514\n",
      "[Run 4] Iter 27 F1-illicit: 0.5459\n",
      "[Run 4] Iter 28 F1-illicit: 0.5444\n",
      "[Run 4] Iter 29 F1-illicit: 0.5320\n",
      "[Run 4] Iter 30 F1-illicit: 0.5227\n",
      "\n",
      "=== Run 5/5 ===\n",
      "[Run 5] Iter 1 F1-illicit: 0.1747\n",
      "[Run 5] Iter 2 F1-illicit: 0.1755\n",
      "[Run 5] Iter 3 F1-illicit: 0.2235\n",
      "[Run 5] Iter 4 F1-illicit: 0.2490\n",
      "[Run 5] Iter 5 F1-illicit: 0.3151\n",
      "[Run 5] Iter 6 F1-illicit: 0.3896\n",
      "[Run 5] Iter 7 F1-illicit: 0.4241\n",
      "[Run 5] Iter 8 F1-illicit: 0.4153\n",
      "[Run 5] Iter 9 F1-illicit: 0.4508\n",
      "[Run 5] Iter 10 F1-illicit: 0.4436\n",
      "[Run 5] Iter 11 F1-illicit: 0.4618\n",
      "[Run 5] Iter 12 F1-illicit: 0.4747\n",
      "[Run 5] Iter 13 F1-illicit: 0.4522\n",
      "[Run 5] Iter 14 F1-illicit: 0.4606\n",
      "[Run 5] Iter 15 F1-illicit: 0.4492\n",
      "[Run 5] Iter 16 F1-illicit: 0.4575\n",
      "[Run 5] Iter 17 F1-illicit: 0.4712\n",
      "[Run 5] Iter 18 F1-illicit: 0.4832\n",
      "[Run 5] Iter 19 F1-illicit: 0.4956\n",
      "[Run 5] Iter 20 F1-illicit: 0.4712\n",
      "[Run 5] Iter 21 F1-illicit: 0.4791\n",
      "[Run 5] Iter 22 F1-illicit: 0.5218\n",
      "[Run 5] Iter 23 F1-illicit: 0.5072\n",
      "[Run 5] Iter 24 F1-illicit: 0.4835\n",
      "[Run 5] Iter 25 F1-illicit: 0.4934\n",
      "[Run 5] Iter 26 F1-illicit: 0.4967\n",
      "[Run 5] Iter 27 F1-illicit: 0.4942\n",
      "[Run 5] Iter 28 F1-illicit: 0.4872\n",
      "[Run 5] Iter 29 F1-illicit: 0.4990\n",
      "[Run 5] Iter 30 F1-illicit: 0.5051\n",
      "\n",
      "=== Summary ===\n",
      "Mean F1 per Iteration: [0.1908 0.2245 0.2485 0.2748 0.3155 0.3572 0.3696 0.3975 0.4153 0.4222\n",
      " 0.4404 0.4528 0.4625 0.4619 0.465  0.4829 0.5011 0.5085 0.511  0.5066\n",
      " 0.4851 0.5182 0.5238 0.5189 0.519  0.5193 0.5198 0.514  0.514  0.5204]\n",
      "Final Median F1 (illicit): 0.5197\n",
      "Avg Random Init size: 50\n",
      "Avg Active Learning size: 1500\n",
      "Avg Final Training set size: 1550\n"
     ]
    },
    {
     "data": {
      "image/png": "[encoded data removed]",
      "text/plain": [
       "<Figure size 800x500 with 1 Axes>"
      ]
     },
     "metadata": {},
     "output_type": "display_data"
    }
   ],
   "source": [
    "import pandas as pd\n",
    "import numpy as np\n",
    "from sklearn.linear_model import LogisticRegression\n",
    "from sklearn.metrics import f1_score\n",
    "import matplotlib.pyplot as plt\n",
    "\n",
    "# Load data\n",
    "labeled_df = pd.read_csv(\"elliptic_txs_features_labeled.csv\")\n",
    "\n",
    "# Split train/test by time_step\n",
    "train_df = labeled_df[labeled_df['time_step'] <= 34].reset_index(drop=True)\n",
    "test_df = labeled_df[labeled_df['time_step'] >= 35].reset_index(drop=True)\n",
    "\n",
    "X_test = test_df.drop(columns=['txId', 'time_step', 'class'])\n",
    "y_test = (test_df['class'] == 1).astype(int)\n",
    "\n",
    "feature_columns = [col for col in train_df.columns if col.startswith('feature_') or col.startswith('f')]\n",
    "\n",
    "# Config\n",
    "batch_size = 50\n",
    "max_iterations = 30\n",
    "N_runs = 5\n",
    "all_f1_scores = []\n",
    "random_sizes = []\n",
    "active_sizes = []\n",
    "\n",
    "for run in range(N_runs):\n",
    "    print(f\"\\n=== Run {run+1}/{N_runs} ===\")\n",
    "    unlabeled_pool = train_df.copy()\n",
    "    labeled_pool = unlabeled_pool.sample(n=batch_size, random_state=run).copy()\n",
    "    unlabeled_pool = unlabeled_pool.drop(labeled_pool.index).reset_index(drop=True)\n",
    "    labeled_pool = labeled_pool.reset_index(drop=True)\n",
    "\n",
    "    f1_scores = []\n",
    "\n",
    "    # Active Learning Loop (Uncertainty Sampling)\n",
    "    iteration = 1\n",
    "    while len(unlabeled_pool) > 0 and iteration <= max_iterations:\n",
    "        X_train = labeled_pool[feature_columns]\n",
    "        y_train = (labeled_pool['class'] == 1).astype(int)\n",
    "\n",
    "        model = LogisticRegression(max_iter=300, solver='liblinear', random_state=run)\n",
    "        model.fit(X_train, y_train)\n",
    "\n",
    "        y_pred = model.predict(X_test)\n",
    "        f1 = f1_score(y_test, y_pred, pos_label=1)\n",
    "        f1_scores.append(f1)\n",
    "        print(f\"[Run {run+1}] Iter {iteration} F1-illicit: {f1:.4f}\")\n",
    "\n",
    "        # Uncertainty sampling\n",
    "        proba = model.predict_proba(unlabeled_pool[feature_columns])[:, 1]\n",
    "        uncertainty = np.abs(proba - 0.5)\n",
    "        select_idx = np.argsort(uncertainty)[:batch_size]\n",
    "\n",
    "        new_batch = unlabeled_pool.iloc[select_idx]\n",
    "        labeled_pool = pd.concat([labeled_pool, new_batch], ignore_index=True)\n",
    "        unlabeled_pool = unlabeled_pool.drop(unlabeled_pool.index[select_idx]).reset_index(drop=True)\n",
    "\n",
    "        iteration += 1\n",
    "\n",
    "    all_f1_scores.append(f1_scores)\n",
    "    random_sizes.append(batch_size)\n",
    "    active_sizes.append(len(f1_scores) * batch_size)\n",
    "\n",
    "# --- Evaluation ---\n",
    "max_len = max(len(scores) for scores in all_f1_scores)\n",
    "f1_matrix = np.full((N_runs, max_len), np.nan)\n",
    "for i, scores in enumerate(all_f1_scores):\n",
    "    f1_matrix[i, :len(scores)] = scores\n",
    "\n",
    "mean_f1_per_iter = np.nanmean(f1_matrix, axis=0)\n",
    "median_f1_per_iter = np.nanmedian(f1_matrix, axis=0)\n",
    "final_median_f1 = np.nanmedian([scores[-1] for scores in all_f1_scores if len(scores) == max_len])\n",
    "\n",
    "print(\"\\n=== Summary ===\")\n",
    "print(\"Mean F1 per Iteration:\", np.round(mean_f1_per_iter, 4))\n",
    "print(\"Final Median F1 (illicit):\", round(final_median_f1, 4))\n",
    "print(\"Avg Random Init size:\", int(np.mean(random_sizes)))\n",
    "print(\"Avg Active Learning size:\", int(np.mean(active_sizes)))\n",
    "print(\"Avg Final Training set size:\", int(np.mean(np.array(random_sizes) + np.array(active_sizes))))\n",
    "\n",
    "# --- Plot ---\n",
    "plt.figure(figsize=(8, 5))\n",
    "plt.plot(np.arange(1, len(median_f1_per_iter)+1)*batch_size, median_f1_per_iter, label='Median F1')\n",
    "plt.plot(np.arange(1, len(mean_f1_per_iter)+1)*batch_size, mean_f1_per_iter, label='Mean F1', linestyle='--')\n",
    "plt.xlabel(\"Number of Labeled Samples\")\n",
    "plt.ylabel(\"Illicit F1-score\")\n",
    "plt.title(\"Active Learning: Random Init + Uncertainty Sampling + Logistic Regression\")\n",
    "plt.grid(True)\n",
    "plt.legend()\n",
    "plt.tight_layout()\n",
    "plt.show()\n"
   ]
  },
  {
   "cell_type": "code",
   "execution_count": 14,
   "id": "cda747c2-6ad6-439c-9697-f01055d20252",
   "metadata": {},
   "outputs": [
    {
     "name": "stdout",
     "output_type": "stream",
     "text": [
      "\n",
      "=== Run 1/5 ===\n",
      "[Run 1] Iteration 01 - F1 illicit: 0.2232\n",
      "[Run 1] Iteration 02 - F1 illicit: 0.3021\n",
      "[Run 1] Iteration 03 - F1 illicit: 0.3684\n",
      "[Run 1] Iteration 04 - F1 illicit: 0.4217\n",
      "[Run 1] Iteration 05 - F1 illicit: 0.4484\n",
      "[Run 1] Iteration 06 - F1 illicit: 0.4491\n",
      "[Run 1] Iteration 07 - F1 illicit: 0.4967\n",
      "[Run 1] Iteration 08 - F1 illicit: 0.5205\n",
      "[Run 1] Iteration 09 - F1 illicit: 0.4848\n",
      "[Run 1] Iteration 10 - F1 illicit: 0.4965\n",
      "[Run 1] Iteration 11 - F1 illicit: 0.5166\n",
      "[Run 1] Iteration 12 - F1 illicit: 0.5308\n",
      "[Run 1] Iteration 13 - F1 illicit: 0.5130\n",
      "[Run 1] Iteration 14 - F1 illicit: 0.5286\n",
      "[Run 1] Iteration 15 - F1 illicit: 0.5213\n",
      "[Run 1] Iteration 16 - F1 illicit: 0.5115\n",
      "[Run 1] Iteration 17 - F1 illicit: 0.5135\n",
      "[Run 1] Iteration 18 - F1 illicit: 0.5233\n",
      "[Run 1] Iteration 19 - F1 illicit: 0.5396\n",
      "[Run 1] Iteration 20 - F1 illicit: 0.5443\n",
      "[Run 1] Iteration 21 - F1 illicit: 0.5514\n",
      "[Run 1] Iteration 22 - F1 illicit: 0.5464\n",
      "[Run 1] Iteration 23 - F1 illicit: 0.5338\n",
      "[Run 1] Iteration 24 - F1 illicit: 0.5174\n",
      "[Run 1] Iteration 25 - F1 illicit: 0.5131\n",
      "[Run 1] Iteration 26 - F1 illicit: 0.5015\n",
      "[Run 1] Iteration 27 - F1 illicit: 0.5403\n",
      "[Run 1] Iteration 28 - F1 illicit: 0.5220\n",
      "[Run 1] Iteration 29 - F1 illicit: 0.5456\n",
      "[Run 1] Iteration 30 - F1 illicit: 0.5330\n",
      "[Run 1] Median F1 illicit: 0.5170\n",
      "[Run 1] Active Learning selected 1500 samples.\n",
      "[Run 1] Final training set size: 1550 samples.\n",
      "\n",
      "=== Run 2/5 ===\n",
      "[Run 2] Iteration 01 - F1 illicit: 0.2244\n",
      "[Run 2] Iteration 02 - F1 illicit: 0.4143\n",
      "[Run 2] Iteration 03 - F1 illicit: 0.4570\n",
      "[Run 2] Iteration 04 - F1 illicit: 0.4317\n",
      "[Run 2] Iteration 05 - F1 illicit: 0.4434\n",
      "[Run 2] Iteration 06 - F1 illicit: 0.4877\n",
      "[Run 2] Iteration 07 - F1 illicit: 0.5535\n",
      "[Run 2] Iteration 08 - F1 illicit: 0.5892\n",
      "[Run 2] Iteration 09 - F1 illicit: 0.5871\n",
      "[Run 2] Iteration 10 - F1 illicit: 0.6360\n",
      "[Run 2] Iteration 11 - F1 illicit: 0.6511\n",
      "[Run 2] Iteration 12 - F1 illicit: 0.6805\n",
      "[Run 2] Iteration 13 - F1 illicit: 0.6800\n",
      "[Run 2] Iteration 14 - F1 illicit: 0.6746\n",
      "[Run 2] Iteration 15 - F1 illicit: 0.6878\n",
      "[Run 2] Iteration 16 - F1 illicit: 0.7235\n",
      "[Run 2] Iteration 17 - F1 illicit: 0.7277\n",
      "[Run 2] Iteration 18 - F1 illicit: 0.7247\n",
      "[Run 2] Iteration 19 - F1 illicit: 0.6908\n",
      "[Run 2] Iteration 20 - F1 illicit: 0.6923\n",
      "[Run 2] Iteration 21 - F1 illicit: 0.7026\n",
      "[Run 2] Iteration 22 - F1 illicit: 0.7115\n",
      "[Run 2] Iteration 23 - F1 illicit: 0.7049\n",
      "[Run 2] Iteration 24 - F1 illicit: 0.6973\n",
      "[Run 2] Iteration 25 - F1 illicit: 0.6970\n",
      "[Run 2] Iteration 26 - F1 illicit: 0.6957\n",
      "[Run 2] Iteration 27 - F1 illicit: 0.6834\n",
      "[Run 2] Iteration 28 - F1 illicit: 0.6991\n",
      "[Run 2] Iteration 29 - F1 illicit: 0.6936\n",
      "[Run 2] Iteration 30 - F1 illicit: 0.6995\n",
      "[Run 2] Median F1 illicit: 0.6856\n",
      "[Run 2] Active Learning selected 1500 samples.\n",
      "[Run 2] Final training set size: 1550 samples.\n",
      "\n",
      "=== Run 3/5 ===\n",
      "[Run 3] Iteration 01 - F1 illicit: 0.2737\n",
      "[Run 3] Iteration 02 - F1 illicit: 0.3185\n",
      "[Run 3] Iteration 03 - F1 illicit: 0.3739\n",
      "[Run 3] Iteration 04 - F1 illicit: 0.4065\n",
      "[Run 3] Iteration 05 - F1 illicit: 0.4244\n",
      "[Run 3] Iteration 06 - F1 illicit: 0.4483\n",
      "[Run 3] Iteration 07 - F1 illicit: 0.4613\n",
      "[Run 3] Iteration 08 - F1 illicit: 0.4771\n",
      "[Run 3] Iteration 09 - F1 illicit: 0.5237\n",
      "[Run 3] Iteration 10 - F1 illicit: 0.5533\n",
      "[Run 3] Iteration 11 - F1 illicit: 0.5662\n",
      "[Run 3] Iteration 12 - F1 illicit: 0.5786\n",
      "[Run 3] Iteration 13 - F1 illicit: 0.5929\n",
      "[Run 3] Iteration 14 - F1 illicit: 0.5749\n",
      "[Run 3] Iteration 15 - F1 illicit: 0.5679\n",
      "[Run 3] Iteration 16 - F1 illicit: 0.5610\n",
      "[Run 3] Iteration 17 - F1 illicit: 0.5636\n",
      "[Run 3] Iteration 18 - F1 illicit: 0.5429\n",
      "[Run 3] Iteration 19 - F1 illicit: 0.5414\n",
      "[Run 3] Iteration 20 - F1 illicit: 0.5358\n",
      "[Run 3] Iteration 21 - F1 illicit: 0.5214\n",
      "[Run 3] Iteration 22 - F1 illicit: 0.5395\n",
      "[Run 3] Iteration 23 - F1 illicit: 0.5299\n",
      "[Run 3] Iteration 24 - F1 illicit: 0.5240\n",
      "[Run 3] Iteration 25 - F1 illicit: 0.5292\n",
      "[Run 3] Iteration 26 - F1 illicit: 0.5317\n",
      "[Run 3] Iteration 27 - F1 illicit: 0.4875\n",
      "[Run 3] Iteration 28 - F1 illicit: 0.4496\n",
      "[Run 3] Iteration 29 - F1 illicit: 0.5408\n",
      "[Run 3] Iteration 30 - F1 illicit: 0.5617\n",
      "[Run 3] Median F1 illicit: 0.5308\n",
      "[Run 3] Active Learning selected 1500 samples.\n",
      "[Run 3] Final training set size: 1550 samples.\n",
      "\n",
      "=== Run 4/5 ===\n",
      "[Run 4] Iteration 01 - F1 illicit: 0.2563\n",
      "[Run 4] Iteration 02 - F1 illicit: 0.3166\n",
      "[Run 4] Iteration 03 - F1 illicit: 0.3391\n",
      "[Run 4] Iteration 04 - F1 illicit: 0.3797\n",
      "[Run 4] Iteration 05 - F1 illicit: 0.4127\n",
      "[Run 4] Iteration 06 - F1 illicit: 0.4274\n",
      "[Run 4] Iteration 07 - F1 illicit: 0.4405\n",
      "[Run 4] Iteration 08 - F1 illicit: 0.4674\n",
      "[Run 4] Iteration 09 - F1 illicit: 0.4387\n",
      "[Run 4] Iteration 10 - F1 illicit: 0.4503\n",
      "[Run 4] Iteration 11 - F1 illicit: 0.4945\n",
      "[Run 4] Iteration 12 - F1 illicit: 0.5183\n",
      "[Run 4] Iteration 13 - F1 illicit: 0.5170\n",
      "[Run 4] Iteration 14 - F1 illicit: 0.5195\n",
      "[Run 4] Iteration 15 - F1 illicit: 0.5349\n",
      "[Run 4] Iteration 16 - F1 illicit: 0.5252\n",
      "[Run 4] Iteration 17 - F1 illicit: 0.4774\n",
      "[Run 4] Iteration 18 - F1 illicit: 0.5077\n",
      "[Run 4] Iteration 19 - F1 illicit: 0.5398\n",
      "[Run 4] Iteration 20 - F1 illicit: 0.5430\n",
      "[Run 4] Iteration 21 - F1 illicit: 0.5233\n",
      "[Run 4] Iteration 22 - F1 illicit: 0.5157\n",
      "[Run 4] Iteration 23 - F1 illicit: 0.5416\n",
      "[Run 4] Iteration 24 - F1 illicit: 0.5562\n",
      "[Run 4] Iteration 25 - F1 illicit: 0.5372\n",
      "[Run 4] Iteration 26 - F1 illicit: 0.5265\n",
      "[Run 4] Iteration 27 - F1 illicit: 0.5194\n",
      "[Run 4] Iteration 28 - F1 illicit: 0.5315\n",
      "[Run 4] Iteration 29 - F1 illicit: 0.5218\n",
      "[Run 4] Iteration 30 - F1 illicit: 0.5401\n",
      "[Run 4] Median F1 illicit: 0.5176\n",
      "[Run 4] Active Learning selected 1500 samples.\n",
      "[Run 4] Final training set size: 1550 samples.\n",
      "\n",
      "=== Run 5/5 ===\n",
      "[Run 5] Iteration 01 - F1 illicit: 0.0307\n",
      "[Run 5] Iteration 02 - F1 illicit: 0.0265\n",
      "[Run 5] Iteration 03 - F1 illicit: 0.0859\n",
      "[Run 5] Iteration 04 - F1 illicit: 0.1687\n",
      "[Run 5] Iteration 05 - F1 illicit: 0.2494\n",
      "[Run 5] Iteration 06 - F1 illicit: 0.3162\n",
      "[Run 5] Iteration 07 - F1 illicit: 0.4249\n",
      "[Run 5] Iteration 08 - F1 illicit: 0.4979\n",
      "[Run 5] Iteration 09 - F1 illicit: 0.5217\n",
      "[Run 5] Iteration 10 - F1 illicit: 0.5667\n",
      "[Run 5] Iteration 11 - F1 illicit: 0.5795\n",
      "[Run 5] Iteration 12 - F1 illicit: 0.5922\n",
      "[Run 5] Iteration 13 - F1 illicit: 0.5861\n",
      "[Run 5] Iteration 14 - F1 illicit: 0.5927\n",
      "[Run 5] Iteration 15 - F1 illicit: 0.6299\n",
      "[Run 5] Iteration 16 - F1 illicit: 0.6405\n",
      "[Run 5] Iteration 17 - F1 illicit: 0.6418\n",
      "[Run 5] Iteration 18 - F1 illicit: 0.6340\n",
      "[Run 5] Iteration 19 - F1 illicit: 0.6281\n",
      "[Run 5] Iteration 20 - F1 illicit: 0.6288\n",
      "[Run 5] Iteration 21 - F1 illicit: 0.6351\n",
      "[Run 5] Iteration 22 - F1 illicit: 0.6208\n",
      "[Run 5] Iteration 23 - F1 illicit: 0.5967\n",
      "[Run 5] Iteration 24 - F1 illicit: 0.5695\n",
      "[Run 5] Iteration 25 - F1 illicit: 0.5254\n",
      "[Run 5] Iteration 26 - F1 illicit: 0.5185\n",
      "[Run 5] Iteration 27 - F1 illicit: 0.5002\n",
      "[Run 5] Iteration 28 - F1 illicit: 0.5105\n",
      "[Run 5] Iteration 29 - F1 illicit: 0.5150\n",
      "[Run 5] Iteration 30 - F1 illicit: 0.5165\n",
      "[Run 5] Median F1 illicit: 0.5461\n",
      "[Run 5] Active Learning selected 1500 samples.\n",
      "[Run 5] Final training set size: 1550 samples.\n",
      "\n",
      "=== Mean F1 illicit across 5 runs ===\n",
      "Iteration 01 (50 samples): Mean F1 = 0.2017\n",
      "Iteration 02 (100 samples): Mean F1 = 0.2756\n",
      "Iteration 03 (150 samples): Mean F1 = 0.3248\n",
      "Iteration 04 (200 samples): Mean F1 = 0.3617\n",
      "Iteration 05 (250 samples): Mean F1 = 0.3957\n",
      "Iteration 06 (300 samples): Mean F1 = 0.4257\n",
      "Iteration 07 (350 samples): Mean F1 = 0.4754\n",
      "Iteration 08 (400 samples): Mean F1 = 0.5104\n",
      "Iteration 09 (450 samples): Mean F1 = 0.5112\n",
      "Iteration 10 (500 samples): Mean F1 = 0.5406\n",
      "Iteration 11 (550 samples): Mean F1 = 0.5616\n",
      "Iteration 12 (600 samples): Mean F1 = 0.5801\n",
      "Iteration 13 (650 samples): Mean F1 = 0.5778\n",
      "Iteration 14 (700 samples): Mean F1 = 0.5781\n",
      "Iteration 15 (750 samples): Mean F1 = 0.5883\n",
      "Iteration 16 (800 samples): Mean F1 = 0.5923\n",
      "Iteration 17 (850 samples): Mean F1 = 0.5848\n",
      "Iteration 18 (900 samples): Mean F1 = 0.5865\n",
      "Iteration 19 (950 samples): Mean F1 = 0.5879\n",
      "Iteration 20 (1000 samples): Mean F1 = 0.5888\n",
      "Iteration 21 (1050 samples): Mean F1 = 0.5868\n",
      "Iteration 22 (1100 samples): Mean F1 = 0.5868\n",
      "Iteration 23 (1150 samples): Mean F1 = 0.5814\n",
      "Iteration 24 (1200 samples): Mean F1 = 0.5729\n",
      "Iteration 25 (1250 samples): Mean F1 = 0.5604\n",
      "Iteration 26 (1300 samples): Mean F1 = 0.5548\n",
      "Iteration 27 (1350 samples): Mean F1 = 0.5462\n",
      "Iteration 28 (1400 samples): Mean F1 = 0.5426\n",
      "Iteration 29 (1450 samples): Mean F1 = 0.5634\n",
      "Iteration 30 (1500 samples): Mean F1 = 0.5702\n",
      "\n",
      "===== Final Evaluation (Paper style) =====\n",
      "Median Final F1 illicit (last iteration): 0.5401\n",
      "~95% Confidence Interval: ±0.0465\n"
     ]
    },
    {
     "data": {
      "image/png": "[encoded data removed]",
      "text/plain": [
       "<Figure size 800x500 with 1 Axes>"
      ]
     },
     "metadata": {},
     "output_type": "display_data"
    }
   ],
   "source": [
    "# Active Learning: Random Sampling + Expected Model Change + Logistic Regression\n",
    "\n",
    "import pandas as pd\n",
    "import numpy as np\n",
    "from sklearn.linear_model import LogisticRegression\n",
    "from sklearn.metrics import f1_score\n",
    "import matplotlib.pyplot as plt\n",
    "\n",
    "# Load data\n",
    "labeled_df = pd.read_csv('elliptic_txs_features_labeled.csv')\n",
    "train_df = labeled_df[labeled_df['time_step'] <= 34].reset_index(drop=True)\n",
    "test_df = labeled_df[labeled_df['time_step'] >= 35].reset_index(drop=True)\n",
    "\n",
    "X_test = test_df.drop(columns=['txId', 'time_step', 'class'])\n",
    "y_test = (test_df['class'] == 1).astype(int)\n",
    "\n",
    "feature_columns = [col for col in train_df.columns if col.startswith('feature_') or col.startswith('f')]\n",
    "\n",
    "# Config\n",
    "batch_size = 50\n",
    "max_iterations = 30\n",
    "N_runs = 5\n",
    "all_f1_scores = []\n",
    "\n",
    "# Active Learning with Random Init + EMC Loop\n",
    "for run in range(N_runs):\n",
    "    print(f\"\\n=== Run {run+1}/{N_runs} ===\")\n",
    "    np.random.seed(run+1)\n",
    "\n",
    "    unlabeled_pool = train_df.copy()\n",
    "    labeled_pool = unlabeled_pool.sample(n=batch_size, random_state=run+1)\n",
    "    unlabeled_pool = unlabeled_pool.drop(labeled_pool.index).reset_index(drop=True)\n",
    "    labeled_pool = labeled_pool.reset_index(drop=True)\n",
    "\n",
    "    f1_scores = []\n",
    "    active_selected = 0\n",
    "\n",
    "    for iteration in range(1, max_iterations + 1):\n",
    "        X_train = labeled_pool[feature_columns]\n",
    "        y_train = (labeled_pool['class'] == 1).astype(int)\n",
    "\n",
    "        lr_model = LogisticRegression(max_iter=1000, solver='lbfgs', random_state=run+1)\n",
    "        lr_model.fit(X_train, y_train)\n",
    "\n",
    "        y_pred = lr_model.predict(X_test)\n",
    "        f1 = f1_score(y_test, y_pred, pos_label=1)\n",
    "        f1_scores.append(f1)\n",
    "        print(f\"[Run {run+1}] Iteration {iteration:02d} - F1 illicit: {f1:.4f}\")\n",
    "\n",
    "        probs = lr_model.predict_proba(unlabeled_pool[feature_columns])\n",
    "        grads = probs[:, 1] * (1 - probs[:, 1])\n",
    "        emc_score = grads\n",
    "\n",
    "        select_idx = np.argsort(emc_score)[-batch_size:]\n",
    "        new_batch = unlabeled_pool.iloc[select_idx]\n",
    "\n",
    "        labeled_pool = pd.concat([labeled_pool, new_batch], ignore_index=True)\n",
    "        unlabeled_pool = unlabeled_pool.drop(unlabeled_pool.index[select_idx]).reset_index(drop=True)\n",
    "        active_selected += len(new_batch)\n",
    "\n",
    "    total_final_train = len(labeled_pool)\n",
    "    all_f1_scores.append(f1_scores)\n",
    "\n",
    "    run_median = np.median(f1_scores)\n",
    "    print(f\"[Run {run+1}] Median F1 illicit: {run_median:.4f}\")\n",
    "    print(f\"[Run {run+1}] Active Learning selected {active_selected} samples.\")\n",
    "    print(f\"[Run {run+1}] Final training set size: {total_final_train} samples.\")\n",
    "\n",
    "# Results Summary\n",
    "f1_matrix = np.full((N_runs, max_iterations), np.nan)\n",
    "for i, scores in enumerate(all_f1_scores):\n",
    "    f1_matrix[i, :len(scores)] = scores\n",
    "\n",
    "mean_f1_by_iteration = np.nanmean(f1_matrix, axis=0)\n",
    "print(\"\\n=== Mean F1 illicit across 5 runs ===\")\n",
    "for i, mean_f1 in enumerate(mean_f1_by_iteration):\n",
    "    print(f\"Iteration {i+1:02d} ({(i+1)*batch_size} samples): Mean F1 = {mean_f1:.4f}\")\n",
    "\n",
    "final_f1s = f1_matrix[:, -1]\n",
    "median_final_f1 = np.nanmedian(final_f1s)\n",
    "std_final_f1 = np.nanstd(final_f1s)\n",
    "ci_95 = 1.57 * std_final_f1 / np.sqrt(N_runs)\n",
    "\n",
    "print(f\"\\n===== Final Evaluation (Paper style) =====\")\n",
    "print(f\"Median Final F1 illicit (last iteration): {median_final_f1:.4f}\")\n",
    "print(f\"~95% Confidence Interval: ±{ci_95:.4f}\")\n",
    "\n",
    "# Plot\n",
    "median_curve = np.nanmedian(f1_matrix, axis=0)\n",
    "std_curve = np.nanstd(f1_matrix, axis=0)\n",
    "ci_95_curve = 1.57 * std_curve / np.sqrt(N_runs)\n",
    "x_axis = np.arange(1, len(median_curve)+1) * batch_size\n",
    "\n",
    "plt.figure(figsize=(8, 5))\n",
    "plt.plot(x_axis, median_curve, marker='o', label='Median F1 (N=5 runs)')\n",
    "plt.fill_between(x_axis, median_curve - ci_95_curve, median_curve + ci_95_curve, alpha=0.2, label='~95% CI')\n",
    "plt.title(\"Active Learning (Random Init + EMC + Logistic Regression)\")\n",
    "plt.xlabel(\"Number of Labeled Samples\")\n",
    "plt.ylabel(\"Illicit F1-score\")\n",
    "plt.legend()\n",
    "plt.grid(True)\n",
    "plt.show()\n"
   ]
  }
 ],
 "metadata": {
  "kernelspec": {
   "display_name": ".venv",
   "language": "python",
   "name": "python3"
  },
  "language_info": {
   "codemirror_mode": {
    "name": "ipython",
    "version": 3
   },
   "file_extension": ".py",
   "mimetype": "text/x-python",
   "name": "python",
   "nbconvert_exporter": "python",
   "pygments_lexer": "ipython3",
   "version": "3.12.7"
  }
 },
 "nbformat": 4,
 "nbformat_minor": 5
}
